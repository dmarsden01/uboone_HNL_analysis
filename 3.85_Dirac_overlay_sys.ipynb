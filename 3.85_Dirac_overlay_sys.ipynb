{
 "cells": [
  {
   "cell_type": "code",
   "execution_count": 4,
   "id": "ced5e536-c413-4447-b2d4-8b0ed1c50021",
   "metadata": {},
   "outputs": [
    {
     "name": "stdout",
     "output_type": "stream",
     "text": [
      "Success\n"
     ]
    }
   ],
   "source": [
    "import os,sys,string, time\n",
    "import matplotlib.pyplot as plt\n",
    "import numpy as np\n",
    "import uproot\n",
    "import pandas as pd\n",
    "from platform import python_version\n",
    "import scipy\n",
    "from scipy import stats\n",
    "import uproot3\n",
    "import math\n",
    "from matplotlib.patches import Rectangle\n",
    "import pickle\n",
    "\n",
    "import Utilities.Plotter as PT\n",
    "import Utilities.Constants as Constants\n",
    "import Utilities.Variables_list as Variables\n",
    "import Utilities.Functions as Functions\n",
    "from Utilities.ipython_exit import exit\n",
    "\n",
    "print ('Success')\n"
   ]
  },
  {
   "cell_type": "markdown",
   "id": "ce878578-1431-44ef-937e-f139e58caf9b",
   "metadata": {},
   "source": [
    "# Loading in the equivalent Majorana uncertainties"
   ]
  },
  {
   "cell_type": "code",
   "execution_count": 5,
   "id": "16a5f612-8b8c-427d-9201-adbecb1b2a8b",
   "metadata": {},
   "outputs": [
    {
     "name": "stdout",
     "output_type": "stream",
     "text": [
      "_full_Finished_10\n"
     ]
    }
   ],
   "source": [
    "Params = {\"Run\":\"run1\", #Only have Dirac samples for Run1\n",
    "          \"Load_lepton_dirac\":False,\n",
    "          \"Load_pi0_dirac\":True} \n",
    "\n",
    "Run = \"run1\"\n",
    "\n",
    "loc_hists = \"Uncertainties/\"\n",
    "\n",
    "if Params[\"Load_lepton_dirac\"] == True: \n",
    "    HNL_masses = Constants.HNL_ee_dirac_mass_samples\n",
    "    name_type = \"ee\"\n",
    "if Params[\"Load_pi0_dirac\"] == True: \n",
    "    HNL_masses = Constants.HNL_pi0_dirac_mass_samples\n",
    "    name_type = \"pi0\"\n",
    "    loc_hists += \"pi0/\"\n",
    "\n",
    "BDT_name = \"_full_Finished_10\"\n",
    "filename = BDT_name\n",
    "print(filename)\n",
    "\n",
    "uncertainties_dict = {}\n",
    "\n",
    "root_filename = name_type+filename\n",
    "bins_dict, bin_cents = {}, {}\n",
    "for HNL_mass in HNL_masses:\n",
    "    hist_placeholder = uproot.open(loc_hists+f'{Run}_{HNL_mass}_'+root_filename+\".root\")\n",
    "    bins_dict[HNL_mass] = hist_placeholder['bkg_overlay'].to_numpy()[1] #A tuple of bin edges\n",
    "    bin_cents[HNL_mass]=(bins_dict[HNL_mass][:-1]+bins_dict[HNL_mass][1:])/2\n",
    "    \n",
    "    uncertainties_placeholder = {'ppfx_uncertainty_frac': hist_placeholder['ppfx_uncertainty_frac'],\n",
    "                                 'Genie_uncertainty_frac': hist_placeholder['Genie_uncertainty_frac'],\n",
    "                                 'Reinteraction_uncertainty_frac': hist_placeholder['Reinteraction_uncertainty_frac'],\n",
    "                                 \"overlay_DetVar_uncertainty_frac\": hist_placeholder[\"overlay_DetVar_uncertainty_frac\"],\n",
    "                                 \"signal_DetVar_uncertainty_frac\": hist_placeholder[\"signal_DetVar_uncertainty_frac\"]}\n",
    "    \n",
    "    uncertainties_dict[HNL_mass] = uncertainties_placeholder\n",
    "    "
   ]
  },
  {
   "cell_type": "markdown",
   "id": "f3494dd8-3e2d-4d54-82f2-db5043f566e7",
   "metadata": {
    "tags": []
   },
   "source": [
    "## Writing the Majorana uncertainties to the Dirac files"
   ]
  },
  {
   "cell_type": "code",
   "execution_count": 6,
   "id": "681fde01-6720-4d22-add1-c961fc044310",
   "metadata": {},
   "outputs": [
    {
     "name": "stdout",
     "output_type": "stream",
     "text": [
      "Done\n"
     ]
    }
   ],
   "source": [
    "# run1_245_pi0_dirac_full_Finished_10.root\n",
    "Dirac_name_type = name_type + \"_dirac\"\n",
    "Dirac_filename = Dirac_name_type+filename\n",
    "for HNL_mass in HNL_masses:\n",
    "    \n",
    "    hist_samples = uncertainties_dict[HNL_mass]\n",
    "    \n",
    "    stop_writing = False\n",
    "    dont_save = []\n",
    "    with uproot.open(loc_hists+Run+f'_{HNL_mass}_{Dirac_filename}.root') as file: #Check what is already in the file (read-only)\n",
    "        for name in hist_samples:\n",
    "            if str(name)+\";1\" in file.keys():\n",
    "                # print(str(name) + f\" ALREADY EXISTS in {HNL_mass}MeV file, not re-saving\")\n",
    "                dont_save.append(name)\n",
    "\n",
    "    with uproot.update(loc_hists+f'{Run}_{HNL_mass}_{Dirac_filename}.root') as file: #Add new hists into the file\n",
    "        # del file['ppfx_uncertainty']\n",
    "        for name in hist_samples:\n",
    "            # if stop_writing == True:\n",
    "            #     print(\"Not saving hist\")\n",
    "            #     break\n",
    "            if name in dont_save:\n",
    "                # print(f\"Not saving {name}\")\n",
    "                continue\n",
    "            else:\n",
    "                file[name] = hist_samples[name]\n",
    "                \n",
    "print(\"Done\")"
   ]
  },
  {
   "cell_type": "code",
   "execution_count": null,
   "id": "350bc117-2cfb-4b76-9ebf-bb26a628d518",
   "metadata": {},
   "outputs": [],
   "source": [
    "for HNL_mass in HNL_masses:\n",
    "    with uproot.open(loc_hists+Run+f'_{HNL_mass}_{Dirac_filename}.root') as file:\n",
    "    # with uproot.open(loc_hists+f'{Run}_{HNL_mass}MeV_{filename}.root') as file: #Check what is already in the file (read-only)\n",
    "        print(file.keys())\n",
    "        print(file['signal_DetVar_uncertainty_frac;1'].values())\n",
    "        "
   ]
  },
  {
   "cell_type": "code",
   "execution_count": null,
   "id": "83fe6ac9-57d4-4107-9628-0c6937f0f588",
   "metadata": {},
   "outputs": [],
   "source": [
    "def make_overflow_bin(bins_dict, bins_cents_dict):\n",
    "    \"\"\"\n",
    "    For making the final \"overflow\" bin the same size as the previous bins, i.e one integer in width.\n",
    "    \"\"\"\n",
    "    bins_overflow, bins_cent_overflow = {}, {}\n",
    "    for HNL_mass in bins_dict:\n",
    "        overflow_bin = bins_cents_dict[HNL_mass][-2]+1 #Just adding one to the penultimate bin centre val. \n",
    "        bins_cent_overflow[HNL_mass] = bins_cents_dict[HNL_mass].copy()\n",
    "        bins_cent_overflow[HNL_mass][-1] = overflow_bin\n",
    "        bins_overflow[HNL_mass] = bins_dict[HNL_mass].copy()\n",
    "        bins_overflow[HNL_mass][-1] = bins_dict[HNL_mass][-2]+1 #Just adding one to the penultimate bin end val. \n",
    "    return bins_overflow, bins_cent_overflow\n",
    "\n",
    "bins_overflow, bins_cents_overflow = make_overflow_bin(bins_dict, bin_cents)\n",
    "\n",
    "def make_xlims_dict(bins_dict, spacing, lower = None):\n",
    "    \"\"\"\n",
    "    Making a dict of xlims for plotting several mass points at once.\n",
    "    Also returns a dict of xticks for the purpose of indicating the overflow.\n",
    "    \"\"\"\n",
    "    xlims_adjusted, xticks_adjusted = {}, {}\n",
    "    vals_dict={}\n",
    "    for HNL_mass in bins_dict:\n",
    "        if isinstance(lower,(int, float)): lower_val = lower\n",
    "        else: lower_val = bins_dict[HNL_mass][0]\n",
    "        xlims_adjusted[HNL_mass] = [lower_val,bins_dict[HNL_mass][-1]]\n",
    "        ticks = np.arange(bins_dict[HNL_mass][0], bins_dict[HNL_mass][-1], spacing)\n",
    "        if ticks[-1] != bins_dict[HNL_mass][-2]: ticks = np.append(ticks, bins_dict[HNL_mass][-1]-1)\n",
    "        ticks_strings = []\n",
    "        vals = []\n",
    "        for val in ticks:\n",
    "            ticks_strings.append(str(int(val)))\n",
    "            vals.append(val)\n",
    "        ticks_strings[-1] = str(ticks_strings[-1])+\"+\"\n",
    "        xticks_adjusted[HNL_mass] = ticks_strings\n",
    "        vals_dict[HNL_mass] = vals\n",
    "        \n",
    "    return xlims_adjusted, xticks_adjusted, vals_dict\n",
    "\n",
    "xlims_dict, xticks_dict, vals_dict = make_xlims_dict(bins_overflow, 2)"
   ]
  },
  {
   "cell_type": "code",
   "execution_count": null,
   "id": "6c65b95e-e6a7-4d67-a8e3-84222bbaf6af",
   "metadata": {},
   "outputs": [],
   "source": [
    "mass = 150\n",
    "plt.hist(Functions.logit(final_merged[f'BDT_output_{mass}MeV']),bins=bins_dict[mass])"
   ]
  },
  {
   "cell_type": "markdown",
   "id": "98785248-cd13-45e8-b5f1-2e4aa371380b",
   "metadata": {},
   "source": [
    "## End of code"
   ]
  },
  {
   "cell_type": "code",
   "execution_count": null,
   "id": "5a5d654f-30f1-4910-b3e3-267965143be6",
   "metadata": {},
   "outputs": [],
   "source": []
  }
 ],
 "metadata": {
  "kernelspec": {
   "display_name": "Python 3 (ipykernel)",
   "language": "python",
   "name": "python3"
  },
  "language_info": {
   "codemirror_mode": {
    "name": "ipython",
    "version": 3
   },
   "file_extension": ".py",
   "mimetype": "text/x-python",
   "name": "python",
   "nbconvert_exporter": "python",
   "pygments_lexer": "ipython3",
   "version": "3.11.3"
  }
 },
 "nbformat": 4,
 "nbformat_minor": 5
}
