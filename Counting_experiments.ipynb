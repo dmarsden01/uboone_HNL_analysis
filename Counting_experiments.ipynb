{
 "cells": [
  {
   "cell_type": "code",
   "execution_count": 1,
   "id": "637345bc-5f34-4570-955e-0c844824e5af",
   "metadata": {},
   "outputs": [
    {
     "name": "stdout",
     "output_type": "stream",
     "text": [
      "Success\n"
     ]
    }
   ],
   "source": [
    "import scipy.special as sp\n",
    "import numpy as np\n",
    "import uproot\n",
    "import csv\n",
    "\n",
    "import Utilities.Constants as Constants\n",
    "import Utilities.Functions as Functions\n",
    "from Utilities.ipython_exit import exit\n",
    "\n",
    "print(\"Success\")"
   ]
  },
  {
   "cell_type": "markdown",
   "id": "49f4c916",
   "metadata": {},
   "source": [
    "## Purpose\n",
    "\n",
    "This notebook was written to try and calculate a very rough \"back of the envelope\" observed limit just using a one-bin counting experiment. <br>\n",
    "As it stands, I was not able to add the signal uncertainty into this and so it gives a very optimistic limit. "
   ]
  },
  {
   "cell_type": "code",
   "execution_count": 3,
   "id": "a6ada7e2-01e1-4db1-921e-c328f9414c7c",
   "metadata": {},
   "outputs": [
    {
     "name": "stdout",
     "output_type": "stream",
     "text": [
      "2.3025850929940455\n",
      "1.1488535051048565\n"
     ]
    }
   ],
   "source": [
    "frac = 0.1\n",
    "frac_1_sig = 0.317\n",
    "upper = -1*np.log(frac)\n",
    "upper_1_sig = -1*np.log(frac_1_sig)\n",
    "print(upper)\n",
    "print(upper_1_sig)"
   ]
  },
  {
   "cell_type": "markdown",
   "id": "d7e6a978-3ac6-4d46-b228-8e3b24633518",
   "metadata": {},
   "source": [
    "## Loading histograms"
   ]
  },
  {
   "cell_type": "code",
   "execution_count": 3,
   "id": "508ec46c-5358-49d9-9621-78ccc8f307c0",
   "metadata": {},
   "outputs": [
    {
     "name": "stdout",
     "output_type": "stream",
     "text": [
      "Using FLAT systematic uncertainty on background\n",
      "With 50.0% on overlay, and 100.0% on dirt.\n",
      "Using FLAT systematic uncertainty on signal\n",
      "With 50.0% on all signal\n"
     ]
    }
   ],
   "source": [
    "Params = {\"Use_flat_sys_bkg\":True,\n",
    "               \"Use_flat_sys_signal\":True,\n",
    "               \"Stats_only\":False,\n",
    "               \"Use_second_half_only\":True,\n",
    "               \"Load_logit_hists\":True,\n",
    "               \"Use_toys\":True,\n",
    "               \"Num_toys\":100,\n",
    "               \"Load_lepton_hists\":True,\n",
    "               \"Load_pi0_hists\":False,\n",
    "               \"Flat_overlay_bkg_frac\":0.5,\n",
    "               \"Flat_dirt_bkg_frac\":1.0,\n",
    "               \"Flat_sig_frac\":0.5,\n",
    "               \"Signal_flux_error\":0.3}\n",
    "\n",
    "Functions.pyhf_params(Params)"
   ]
  },
  {
   "cell_type": "code",
   "execution_count": 15,
   "id": "fea5c068-2e40-4761-9c33-60c1cedafdff",
   "metadata": {},
   "outputs": [
    {
     "name": "stdout",
     "output_type": "stream",
     "text": [
      "Theta squared is 1e-08\n"
     ]
    }
   ],
   "source": [
    "HNL_mass = 150\n",
    "hist_file = uproot.open(f'bdt_output/pi0/run1_{HNL_mass}MeV_logit_test1.root')\n",
    "theta_squared = Constants.theta_mu_4*Constants.theta_mu_4\n",
    "print(\"Theta squared is \" + str(theta_squared))\n",
    "\n",
    "signal_hist = hist_file['signal']\n",
    "overlay_hist = hist_file['bkg_overlay']\n",
    "EXT_hist = hist_file['bkg_EXT']\n",
    "dirt_hist = hist_file['bkg_dirt']\n",
    "bkg_hists = [overlay_hist, EXT_hist, dirt_hist]\n",
    "\n",
    "total_bkg = Functions.add_hists_vals(bkg_hists)\n",
    "\n",
    "#Errors, should have this saved in the initial .root file (i.e do at the end of 3.5)\n",
    "bkg_stat_err_list = [overlay_hist.errors(), \n",
    "                     EXT_hist.errors(), \n",
    "                     dirt_hist.errors()]\n",
    "\n",
    "bkg_sys_err_list = [overlay_hist.values()*Params[\"Flat_overlay_bkg_frac\"], \n",
    "                    np.zeros_like(EXT_hist.errors()), #No systematic error on the EXT sample\n",
    "                    dirt_hist.values()*Params[\"Flat_dirt_bkg_frac\"]]\n",
    "\n",
    "bkg_err_list = [Functions.add_all_errors([bkg_stat_err_list[0],bkg_sys_err_list[0]]), #adding the sys and stat error in quadrature for each bkg type\n",
    "                Functions.add_all_errors([bkg_stat_err_list[1],bkg_sys_err_list[1]]),\n",
    "                Functions.add_all_errors([bkg_stat_err_list[2],bkg_sys_err_list[2]])]\n",
    "\n",
    "total_bkg_err = Functions.add_all_errors(bkg_err_list)\n",
    "\n"
   ]
  },
  {
   "cell_type": "code",
   "execution_count": 13,
   "id": "322fce79-e931-46ef-a4b1-079c84160f52",
   "metadata": {},
   "outputs": [
    {
     "name": "stdout",
     "output_type": "stream",
     "text": [
      "Number of events in final bin is 0.27213806\n",
      "Error on that is 0.31010061702930525\n",
      "Number of signal events is 0.0037438546\n"
     ]
    }
   ],
   "source": [
    "Num_bkg = total_bkg[-1]\n",
    "Err_bkg = total_bkg_err[-1]\n",
    "Num_signal = signal_hist.values()[-1]\n",
    "\n",
    "print(\"Number of events in final bin is \" + str(Num_bkg))\n",
    "print(\"Error on that is \" + str(Err_bkg))\n",
    "print(\"Number of signal events is \" + str(Num_signal))"
   ]
  },
  {
   "cell_type": "code",
   "execution_count": 16,
   "id": "e5c1fd95-8d51-4884-81ce-b703d965cf9b",
   "metadata": {},
   "outputs": [
    {
     "name": "stdout",
     "output_type": "stream",
     "text": [
      "Number of signal events allowed at 90% CL is 0.39740993123025276\n",
      "Need to scale signal number by 106.1499377968244\n",
      "Expected limit is 1.0302909190943323e-07\n"
     ]
    }
   ],
   "source": [
    "CL = 0.9 #0.9 for 90% CL\n",
    "\n",
    "Num_signal_allowed = sp.erfinv(2*(CL-0.5))*np.sqrt(2)*(Err_bkg)\n",
    "print(\"Number of signal events allowed at 90% CL is \" + str(Num_signal_allowed))\n",
    "\n",
    "scaling = Num_signal_allowed/Num_signal\n",
    "\n",
    "print(\"Need to scale signal number by \" + str(scaling))\n",
    "\n",
    "EXP_LIMIT = np.sqrt(scaling)*theta_squared\n",
    "\n",
    "print(\"Expected limit is \" + str(EXP_LIMIT))"
   ]
  },
  {
   "cell_type": "code",
   "execution_count": null,
   "id": "b2ffb94d-814d-4c7a-b321-9f0c41b8cb4a",
   "metadata": {},
   "outputs": [],
   "source": []
  }
 ],
 "metadata": {
  "kernelspec": {
   "display_name": "Python 3 (ipykernel)",
   "language": "python",
   "name": "python3"
  },
  "language_info": {
   "codemirror_mode": {
    "name": "ipython",
    "version": 3
   },
   "file_extension": ".py",
   "mimetype": "text/x-python",
   "name": "python",
   "nbconvert_exporter": "python",
   "pygments_lexer": "ipython3",
   "version": "3.11.3"
  }
 },
 "nbformat": 4,
 "nbformat_minor": 5
}
