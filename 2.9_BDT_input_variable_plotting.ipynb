{
 "cells": [
  {
   "cell_type": "code",
   "execution_count": 1,
   "id": "8ab81f70",
   "metadata": {},
   "outputs": [
    {
     "name": "stdout",
     "output_type": "stream",
     "text": [
      "Success\n"
     ]
    }
   ],
   "source": [
    "import os,sys,string, time\n",
    "from array import array\n",
    "import matplotlib.pyplot as plt\n",
    "import numpy as np\n",
    "import uproot\n",
    "import pandas as pd\n",
    "from platform import python_version\n",
    "import scipy\n",
    "from scipy import stats\n",
    "import uproot3\n",
    "import math\n",
    "from matplotlib.patches import Rectangle\n",
    "from importlib import reload\n",
    "import pickle\n",
    "\n",
    "import Utilities.Plotter as PT\n",
    "import Utilities.Constants as Constants\n",
    "import Utilities.Variables_list as Variables\n",
    "import Utilities.Functions as Functions\n",
    "import Utilities.Sys_unc_variables as Sys_unc\n",
    "import Utilities.Variables_bins as Variables_bins\n",
    "from Utilities.ipython_exit import exit\n",
    "\n",
    "print ('Success')\n"
   ]
  },
  {
   "cell_type": "markdown",
   "id": "775a3504-392d-4b23-a225-0db439fcb0f5",
   "metadata": {},
   "source": [
    "# Reading in .pkl files"
   ]
  },
  {
   "cell_type": "code",
   "execution_count": 2,
   "id": "fd6a5c09-f380-4529-bc11-c0eb39e8efe3",
   "metadata": {},
   "outputs": [
    {
     "name": "stdout",
     "output_type": "stream",
     "text": [
      "Loading these run3 samples: \n",
      "['overlay', 'dirtoverlay', 'beamoff', 'beamgood', '2_ee', '10_ee', '20_ee', '50_ee', '100_ee', '150_ee', '150_pi0', '180_pi0', '200_pi0', '220_pi0', '240_pi0', '245_pi0']\n"
     ]
    }
   ],
   "source": [
    "Params = {\"Run\":\"run3\", #The run number, so far either \"run1\" or \"run3\"\n",
    "          \"Load_single_file\":False, #This will override everything else, put the desired file in the \"single_file\" line\n",
    "          \"single_file\":\"overlay\",\n",
    "          \"Load_standard_bkgs\":True,\n",
    "          \"Load_DetVars\":False,\n",
    "          \"Only_keep_common_DetVar_evs\":True,\n",
    "          \"Load_Signal_DetVars\":False,\n",
    "          \"Load_pi0_signal_DetVars\":False,\n",
    "          \"Load_data\":True,\n",
    "          \"FLATTEN\":True, #Have one row per reconstructed object in the analysis dataframe\n",
    "          \"only_presel\":False, #Create small files containing only variables necessary for pre-selection, for making pre-selection plots\n",
    "          \"Load_truth_vars\":False,\n",
    "          \"Load_lepton_signal\":True,\n",
    "          \"Load_lepton_dirac\":False,\n",
    "          \"Load_pi0_signal\":True,\n",
    "          \"Load_pi0_dirac\":False}\n",
    "\n",
    "# Params, samples = Functions.create_sample_list(Params)\n",
    "Params, samples = Functions.new_create_sample_list(Params)\n",
    "loc_pkls = \"pkl_files/\"+Params[\"Run\"]+\"/current_files/\"+Params[\"variables_string\"]+\"/\"\n",
    "# end_string = \"_FINAL\"\n",
    "end_string = \"_full_Finished\""
   ]
  },
  {
   "cell_type": "code",
   "execution_count": 3,
   "id": "fbf0ef33-dd16-4360-9f29-ce05386d4081",
   "metadata": {},
   "outputs": [],
   "source": [
    "def Load_preselected_pkls(samples, Params, loc_pkls, filename):\n",
    "    \"\"\"\n",
    "    For loading in preselected pkl files. \n",
    "    \"\"\"\n",
    "    sample_test_dict = {}\n",
    "    sig_names_list = Constants.HNL_ee_samples_names+Constants.HNL_mass_pi0_samples_names+Constants.HNL_ee_dirac_names+Constants.HNL_pi0_dirac_names\n",
    "    if Params[\"Load_DetVars\"] == True: loc_pkls += \"DetVars/\"\n",
    "    elif Params[\"Load_Signal_DetVars\"] == True: loc_pkls += \"Signal_DetVars/\"\n",
    "    elif Params['Load_pi0_signal_DetVars'] == True: loc_pkls += \"Signal_DetVars/pi0/\"\n",
    "    for sample in samples:\n",
    "        if \"_pi0\" in sample: start_str = loc_pkls + \"pi0_selection/Preselected_\"\n",
    "        # elif (sample == \"beamoff\") and (Params[\"EXT_in_training\"] == True: start_str = loc_pkls + \"BDT_Test_dfs/Test_overlay_\"\n",
    "        else: start_str = loc_pkls + \"Preselected_\"\n",
    "        # sample_test_dict[sample] = pd.read_pickle(loc_pkls+f\"Preselected_{sample}_\"+Params[\"Run\"]+f\"_flattened{filename}.pkl\")\n",
    "        sample_test_dict[sample] = pd.read_pickle(start_str+f\"{sample}_\"+Params[\"Run\"]+f\"_flattened{filename}.pkl\")\n",
    "    \n",
    "    return sample_test_dict"
   ]
  },
  {
   "cell_type": "code",
   "execution_count": 4,
   "id": "73351fa6-6f60-4c21-92c9-97837f7d7617",
   "metadata": {},
   "outputs": [],
   "source": [
    "samples_dict = Load_preselected_pkls(samples, Params, loc_pkls, end_string)"
   ]
  },
  {
   "cell_type": "code",
   "execution_count": 5,
   "id": "bbfb97f2-8b98-42e0-b05e-0b5d1ba4362b",
   "metadata": {},
   "outputs": [
    {
     "data": {
      "text/plain": [
       "dict_keys(['overlay', 'dirtoverlay', 'beamoff', 'beamgood', '2_ee', '10_ee', '20_ee', '50_ee', '100_ee', '150_ee', '150_pi0', '180_pi0', '200_pi0', '220_pi0', '240_pi0', '245_pi0'])"
      ]
     },
     "execution_count": 5,
     "metadata": {},
     "output_type": "execute_result"
    }
   ],
   "source": [
    "samples_dict.keys()"
   ]
  },
  {
   "cell_type": "code",
   "execution_count": 6,
   "id": "b5a8c288-be40-46c4-91d2-a4d7e46c8f81",
   "metadata": {},
   "outputs": [
    {
     "name": "stdout",
     "output_type": "stream",
     "text": [
      "['n_pfps', 'n_tracks', 'shr_theta_v', 'shr_phi_v', 'shr_pz_v', 'shrclusdir2', 'shr_energy_tot', 'trk_theta_v', 'trk_phi_v', 'trk_dir_z_v', 'trk_energy', 'trk_energy_tot', 'trk_score_v', 'pfnplanehits_U', 'pfnplanehits_V', 'pfnplanehits_Y', 'NeutrinoEnergy2', 'shr_tkfit_dedx_max', 'topological_score', 'nu_flashmatch_score']\n",
      "\n",
      "['Object multiplicity', 'Track multiplicity', 'Shower theta [radians]', 'Shower $\\\\phi$ [radians]', 'Shower z-momentum fraction', 'Shower cluster direction [degrees]', 'Total shower energy [GeV]', 'Track $\\\\theta$ [radians]', 'Track $\\\\phi$ [radians]', 'Track z-momentum fraction', 'Highest track energy [GeV]', 'Total track energy [GeV]', 'Track score', 'U plane hits', 'V plane hits', 'Y plane hits', 'Energy in slice [MeV]', 'Shower dEdx [MeV/cm]', 'Topological score', 'Flashmatch score']\n"
     ]
    }
   ],
   "source": [
    "loc = \"bdts/\"\n",
    "BDT_name = \"_full_Finished_10\"\n",
    "\n",
    "with open(loc+f\"input_vars/{BDT_name}_\"+Params[\"Run\"], \"rb\") as fp:   # Unpickling\n",
    "    saved_variables = pickle.load(fp)\n",
    "\n",
    "print(saved_variables)\n",
    "\n",
    "converted_names = []\n",
    "for var in saved_variables:\n",
    "    converted_names.append(Constants.variable_names_dict[var])\n",
    "    \n",
    "print()\n",
    "print(converted_names)"
   ]
  },
  {
   "cell_type": "code",
   "execution_count": 7,
   "id": "d2be0e9c-0a2d-4310-a652-55b1b5572c83",
   "metadata": {},
   "outputs": [
    {
     "name": "stdout",
     "output_type": "stream",
     "text": [
      "overlay length is 29905\n",
      "dirtoverlay length is 3095\n",
      "beamoff length is 12184\n",
      "beamgood length is 11771\n",
      "2_ee length is 18396\n",
      "10_ee length is 15765\n",
      "20_ee length is 17057\n",
      "50_ee length is 15635\n",
      "100_ee length is 15820\n",
      "150_ee length is 15620\n",
      "150_pi0 length is 16720\n",
      "180_pi0 length is 16153\n",
      "200_pi0 length is 15850\n",
      "220_pi0 length is 15689\n",
      "240_pi0 length is 15998\n",
      "245_pi0 length is 15304\n"
     ]
    }
   ],
   "source": [
    "for sample in samples_dict:\n",
    "    print(f\"{sample} length is \" + str(len(samples_dict[sample])))"
   ]
  },
  {
   "cell_type": "markdown",
   "id": "9d309e3d-2b11-4d3d-bb36-ef85e16417c0",
   "metadata": {},
   "source": [
    "# Make plotting dictionaries"
   ]
  },
  {
   "cell_type": "code",
   "execution_count": 8,
   "id": "837d5b44-7f5f-4e66-9e90-ef52693eb0f8",
   "metadata": {},
   "outputs": [
    {
     "name": "stdout",
     "output_type": "stream",
     "text": [
      "The ratio of overlay to HNL events is 26359623\n",
      "\n",
      "The ratio of all bkgs to HNL events is 42064214\n",
      "\n"
     ]
    }
   ],
   "source": [
    "HNL_mass = 100\n",
    "HNL_mass_pi0 = 200\n",
    "\n",
    "if (Params[\"Load_pi0_signal\"]): HNL_mass_pi0 = f\"{HNL_mass_pi0}_pi0\" \n",
    "if (Params[\"Load_lepton_signal\"]): HNL_mass = f\"{HNL_mass}_ee\" \n",
    "\n",
    "samples_plotting = {\"overlay\":samples_dict[\"overlay\"],\n",
    "                    \"dirtoverlay\":samples_dict[\"dirtoverlay\"],\n",
    "                    \"beamoff\":samples_dict[\"beamoff\"]}\n",
    "                    # \"signal\":samples_dict[HNL_mass]}\n",
    "    \n",
    "if (Params[\"Load_lepton_signal\"]): samples_plotting.update({\"signal\":samples_dict[HNL_mass]})\n",
    "if (Params[\"Load_pi0_signal\"]): samples_plotting.update({\"signal_pi0\":samples_dict[HNL_mass_pi0]})\n",
    "\n",
    "if Params[\"Run\"] == \"run1\":\n",
    "    sample_norms = {\"overlay\":Constants.SF_overlay_run1,\n",
    "                    \"dirtoverlay\":Constants.SF_dirt_run1,\n",
    "                    \"beamoff\":Constants.SF_EXT_run1}\n",
    "                    # \"signal\":Constants.run1_POT_scaling_dict[HNL_mass]}\n",
    "    flat_sys_vars_dict = Sys_unc.run1_Sys_unc\n",
    "    if (Params[\"Load_lepton_signal\"]): sample_norms.update({\"signal\":Constants.run1_POT_scaling_dict[HNL_mass]})\n",
    "    if (Params[\"Load_pi0_signal\"]): sample_norms.update({\"signal_pi0\":Constants.run1_POT_scaling_dict[HNL_mass_pi0]})\n",
    "elif Params[\"Run\"] == \"run3\":\n",
    "    sample_norms = {\"overlay\":Constants.SF_overlay_run3,\n",
    "                    \"dirtoverlay\":Constants.SF_dirt_run3,\n",
    "                    \"beamoff\":Constants.SF_EXT_run3}\n",
    "                    # \"signal\":Constants.run3_POT_scaling_dict[HNL_mass]}\n",
    "    flat_sys_vars_dict = Sys_unc.run3_Sys_unc\n",
    "    if (Params[\"Load_lepton_signal\"]): sample_norms.update({\"signal\":Constants.run3_POT_scaling_dict[HNL_mass]})\n",
    "    if (Params[\"Load_pi0_signal\"]): sample_norms.update({\"signal_pi0\":Constants.run3_POT_scaling_dict[HNL_mass_pi0]})\n",
    "\n",
    "if Params[\"Load_data\"] == True:\n",
    "    data_dict = {\"beamgood\":samples_dict[\"beamgood\"]}\n",
    "    data_norm = {\"beamgood\":1.0} #No scaling as this is data, should have scaled MC to this POT.\n",
    "    samples_plotting.update(data_dict)\n",
    "    sample_norms.update(data_norm)\n",
    "    \n",
    "PT.HNL_scaling_calculator(samples_plotting,sample_norms)\n"
   ]
  },
  {
   "cell_type": "markdown",
   "id": "ae68e46a-54a4-4216-8b78-6b55f7c886fc",
   "metadata": {},
   "source": [
    "## Plot data"
   ]
  },
  {
   "cell_type": "code",
   "execution_count": 9,
   "id": "d7ccb222-374c-488c-8416-5100fcd950a5",
   "metadata": {},
   "outputs": [
    {
     "data": {
      "text/plain": [
       "Index(['run', 'sub', 'evt', 'nslice', 'n_pfps', 'n_tracks', 'n_showers',\n",
       "       'swtrig_pre', 'swtrig_post', 'trk_sce_start_x_v', 'trk_sce_start_y_v',\n",
       "       'trk_sce_start_z_v', 'trk_sce_end_x_v', 'trk_sce_end_y_v',\n",
       "       'trk_sce_end_z_v', 'shr_theta_v', 'shr_phi_v', 'shr_px_v', 'shr_py_v',\n",
       "       'shr_pz_v', 'shrclusdir0', 'shrclusdir1', 'shrclusdir2',\n",
       "       'shr_energy_tot', 'trk_theta_v', 'trk_phi_v', 'trk_dir_x_v',\n",
       "       'trk_dir_y_v', 'trk_dir_z_v', 'trk_energy', 'trk_energy_hits_tot',\n",
       "       'trk_energy_tot', 'trk_score_v', 'trk_calo_energy_u_v', 'trk_end_x_v',\n",
       "       'trk_chipr_best', 'pfnplanehits_U', 'pfnplanehits_V', 'pfnplanehits_Y',\n",
       "       'NeutrinoEnergy2', 'SliceCaloEnergy2', 'nu_flashmatch_score',\n",
       "       'contained_sps_ratio', 'flash_time', 'contained_fraction', 'trk_score',\n",
       "       'crtveto', 'shr_tkfit_dedx_U', 'shr_tkfit_dedx_V', 'shr_tkfit_dedx_Y',\n",
       "       'shr_tkfit_dedx_max', 'shr_tkfit_2cm_dedx_Y', 'shr_chipr',\n",
       "       'trk_bragg_p', 'trk_bragg_p_v', 'trk_chipr', 'subcluster',\n",
       "       'shr_moliere_avg_v', 'shrmoliereavg', 'topological_score',\n",
       "       'weightSplineTimesTune', 'ppfx_cv', 'npi0', 'min_x', 'max_x', 'min_y',\n",
       "       'max_y', 'min_z', 'max_z', 'weight', 'rse_id', 'highest_E'],\n",
       "      dtype='object')"
      ]
     },
     "execution_count": 9,
     "metadata": {},
     "output_type": "execute_result"
    }
   ],
   "source": [
    "samples_dict[\"overlay\"].keys()"
   ]
  },
  {
   "cell_type": "code",
   "execution_count": 10,
   "id": "639a108d-9e62-40fb-a31c-ae89b8a6f8f2",
   "metadata": {},
   "outputs": [
    {
     "name": "stdout",
     "output_type": "stream",
     "text": [
      "['shr_tkfit_dedx_U', 'shr_tkfit_dedx_V', 'shr_tkfit_dedx_Y', 'shr_tkfit_dedx_max', 'shr_tkfit_2cm_dedx_Y', 'shr_chipr', 'trk_bragg_p', 'trk_bragg_p_v', 'trk_chipr', 'subcluster', 'shr_moliere_avg_v', 'shrmoliereavg', 'topological_score']\n"
     ]
    }
   ],
   "source": [
    "New_feature_list = ['shrclusdir2', 'n_tracks', 'trk_energy', 'shr_theta_v', 'contained_sps_ratio', 'trk_chipr_best', 'shr_px_v',\n",
    "                    'trk_end_x_v', 'n_pfps', 'pfnplanehits_V', 'pfnplanehits_U', 'trk_calo_energy_u_v', 'nu_flashmatch_score', 'trk_score_v',\n",
    "                    'NeutrinoEnergy2', 'shr_phi_v', 'pfnplanehits_Y', 'shr_pz_v', 'trk_theta_v', 'trk_phi_v', 'trk_energy_hits_tot',\n",
    "                    'trk_dir_z_v', 'SliceCaloEnergy2']\n",
    "var_list_save = ['shrclusdir2', 'n_tracks', 'trk_energy',\n",
    "       'shr_theta_v', 'contained_sps_ratio', 'trk_chipr_best', 'shr_px_v',\n",
    "       'trk_end_x_v', 'n_pfps', 'pfnplanehits_V', 'pfnplanehits_U',\n",
    "       'trk_calo_energy_u_v', 'nu_flashmatch_score', 'trk_score_v',\n",
    "       'NeutrinoEnergy2', 'shr_phi_v', 'pfnplanehits_Y', 'shr_pz_v',\n",
    "       'trk_theta_v', 'trk_phi_v', 'trk_energy_hits_tot', 'trk_dir_z_v',\n",
    "       'SliceCaloEnergy2', 'trk_score', 'shr_energy_tot', 'trk_energy_tot', 'n_showers']\n",
    "count = 0\n",
    "\n",
    "print(Variables.other_potential_vars)\n"
   ]
  },
  {
   "cell_type": "code",
   "execution_count": 11,
   "id": "8317b65b-d0dc-4f74-9b69-114cf9f0c3c6",
   "metadata": {},
   "outputs": [
    {
     "name": "stdout",
     "output_type": "stream",
     "text": [
      "['n_pfps', 'n_tracks', 'shr_theta_v', 'shr_phi_v', 'shr_pz_v', 'shrclusdir2', 'shr_energy_tot', 'trk_theta_v', 'trk_phi_v', 'trk_dir_z_v', 'trk_energy', 'trk_energy_tot', 'trk_score_v', 'pfnplanehits_U', 'pfnplanehits_V', 'pfnplanehits_Y', 'NeutrinoEnergy2', 'shr_tkfit_dedx_max', 'topological_score', 'nu_flashmatch_score']\n"
     ]
    }
   ],
   "source": [
    "print(saved_variables)"
   ]
  },
  {
   "cell_type": "code",
   "execution_count": 11,
   "id": "9459cd4b-529d-4774-8069-773781311704",
   "metadata": {},
   "outputs": [
    {
     "name": "stdout",
     "output_type": "stream",
     "text": [
      "'shrclusdir2'\n",
      "Maximum value in overlay is 360.00238\n",
      "Maximum value in signal is 359.99478\n",
      "Manimum value in signal is -9999.0\n"
     ]
    },
    {
     "data": {
      "text/plain": [
       "dict_keys(['overlay', 'dirtoverlay', 'beamoff', 'signal', 'signal_pi0', 'beamgood'])"
      ]
     },
     "execution_count": 11,
     "metadata": {},
     "output_type": "execute_result"
    }
   ],
   "source": [
    "#Calculate sys\n",
    "# variable = var_list_save[count]\n",
    "# count+=1\n",
    "\n",
    "Calculate_sys = True\n",
    "variable = 'shrclusdir2'\n",
    "\n",
    "\n",
    "print(\"\\'\"+variable+\"\\'\")\n",
    "\n",
    "reload(PT)\n",
    "reload(Functions)\n",
    "reload(Constants)\n",
    "reload(Sys_unc)\n",
    "reload(Variables_bins)\n",
    "\n",
    "if Params[\"Run\"] == \"run1\": flat_sys_vars_dict = Sys_unc.run1_Sys_unc\n",
    "if Params[\"Run\"] == \"run3\": flat_sys_vars_dict = Sys_unc.run3_Sys_unc\n",
    "\n",
    "print(\"Maximum value in overlay is \" + str(max(samples_plotting[\"overlay\"][variable].to_numpy())))    \n",
    "print(\"Maximum value in signal is \" + str(max(samples_plotting[\"signal\"][variable].to_numpy()))) \n",
    "print(\"Manimum value in signal is \" + str(min(samples_plotting[\"signal\"][variable].to_numpy()))) \n",
    "samples_plotting.keys()"
   ]
  },
  {
   "cell_type": "code",
   "execution_count": 15,
   "id": "e880ae71-5c5c-4612-b3af-5e223db72893",
   "metadata": {},
   "outputs": [
    {
     "name": "stdout",
     "output_type": "stream",
     "text": [
      "Plotting shrclusdir2 for run3\n",
      "[  0.  18.  36.  54.  72.  90. 108. 126. 144. 162. 180. 198. 216. 234.\n",
      " 252. 270. 288. 306. 324. 342. 360.]\n",
      "[0.0, 360.0]\n"
     ]
    },
    {
     "name": "stdin",
     "output_type": "stream",
     "text": [
      "Do you want to save this figure? y/n  y\n"
     ]
    },
    {
     "data": {
      "image/png": "[encoded data removed]",
      "text/plain": [
       "<Figure size 1000x1000 with 2 Axes>"
      ]
     },
     "metadata": {},
     "output_type": "display_data"
    }
   ],
   "source": [
    "savefig = False\n",
    "\n",
    "print(f\"Plotting {variable} for \" + Params[\"Run\"])\n",
    "\n",
    "if variable in Constants.variable_names_dict: xlabel = Constants.variable_names_dict[variable]\n",
    "else: xlabel = variable\n",
    "\n",
    "if variable in Variables_bins.BDT_vars_bins: bins = Variables_bins.BDT_vars_bins[variable]\n",
    "else: bins = np.linspace(0, 10, 21)\n",
    "xlims = [bins[0],bins[-1]]\n",
    "print(bins)\n",
    "print(xlims)\n",
    "\n",
    "if Params[\"Run\"]==\"run1\": Run = \"Run 1\"\n",
    "if Params[\"Run\"]==\"run3\": Run = \"Run 3\"\n",
    "\n",
    "save_figures = input(\"Do you want to save this figure? y/n \")\n",
    "\n",
    "# xlabel = \"Shower angle [degrees]\"\n",
    "\n",
    "#Set legsize=None to not show legend!\n",
    "PT.Plot_preselection_variable_data(variable, samples_plotting, sample_norms, xlabel=xlabel, xlims=xlims, bins=bins, \n",
    "                                   HNL_mass=100, HNL_mass_pi0=200,\n",
    "                                   HNLplotscale=5000000, HNL_pi0_plotscale=1000, cutline=[], legloc=\"best\", show_ev_nums=False, \n",
    "                                   CalcSys=Calculate_sys, logy=False, \n",
    "                                   xticks=[], sys_dict=flat_sys_vars_dict, centre_bins=False, hatch=False, ylabel=\"Events\", \n",
    "                                   arrow_place=[], ylimit=None, legsize=16, dropdupes=False, err_print=False, Run=Run, chi_squared=False, \n",
    "                                   dirt_frac_error=0.75, HNL_scale_label=True, plot_ee=True, plot_pi0=True, ncols=2)\n",
    "\n",
    "# if variable == \"n_pfps\":plt.xlim([0.5, 8.5])\n",
    "\n",
    "# plt.axvline(x=16.5, lw=3, color='green', linestyle = 'dashed')\n",
    "Name = \"\"\n",
    "if Params[\"Load_pi0_signal\"] == True: Name = \"pi0/\"\n",
    "if Calculate_sys==True: Sys_name = \"with_sys\"\n",
    "if Calculate_sys==False: Sys_name = \"no_sys\"\n",
    "\n",
    "if save_figures == \"y\":\n",
    "    plt.savefig(f\"plots/Data_MC_comparison/BDT_input_variables/{Name}{variable}_\" + Params[\"Run\"] + f\"_{HNL_mass}MeV_{Sys_name}.png\")\n",
    "    plt.savefig(f\"plots/Data_MC_comparison/BDT_input_variables/{Name}{variable}_\" + Params[\"Run\"] + f\"_{HNL_mass}MeV_{Sys_name}.pdf\")"
   ]
  },
  {
   "cell_type": "markdown",
   "id": "17f09cd0-945c-4cd1-b771-2d5ee721678a",
   "metadata": {},
   "source": [
    "## Making legend-only plot"
   ]
  },
  {
   "cell_type": "code",
   "execution_count": null,
   "id": "add32490-4e62-4245-bb13-b113b3eb885d",
   "metadata": {},
   "outputs": [],
   "source": [
    "fig, ax = plt.subplots()\n",
    "# colors=['sandybrown','seagreen',\"darkgreen\"]\n",
    "data_label = f\"{Run} NuMI Data\"\n",
    "# labels=[f\"Beam-Off\",fr\"In-Cryo $\\nu$\",fr\"Out-Cryo $\\nu$\"] \n",
    "ax.errorbar([1],[1],yerr=[1],fmt='.',color='black',lw=3,capsize=8, capthick=2,elinewidth=4, ms=15,label=data_label)\n",
    "# plt.errorbar(bin_center,dat_val,yerr=dat_err,fmt='.',color='black',lw=5,capsize=5,elinewidth=3,label=data_label)\n",
    "colours_sample = {'overlay':Constants.sample_colours['overlay'],\n",
    "                  'dirtoverlay':Constants.sample_colours['dirtoverlay'],\n",
    "                  'beamoff':Constants.sample_colours['beamoff'],\n",
    "                  'signal':Constants.sample_colours['signal']}\n",
    "\n",
    "HNL_mass_number = HNL_mass.split(\"_\")[0]\n",
    "\n",
    "HNL_label = f\"{HNL_mass_number} MeV HNL\"\n",
    "labels_sample = {'overlay':fr\"In-Cryo $\\nu$\",\n",
    "                 'dirtoverlay':fr\"Out-Cryo $\\nu$\",\n",
    "                 'beamoff':f\"Beam-Off\",\n",
    "                 'signal':HNL_label}\n",
    "\n",
    "labels, colors = [], []\n",
    "for sample in colours_sample:\n",
    "    if sample == \"signal\": continue\n",
    "    labels.append(labels_sample[sample])\n",
    "    colors.append(colours_sample[sample])\n",
    "\n",
    "ax.hist([[1],[1],[1]],histtype=\"stepfilled\",stacked=True,linewidth=5,edgecolor=\"black\", color=colors,label=labels)\n",
    "\n",
    "plt.hist([1],label=[labels_sample[\"signal\"]],color=colours_sample[\"signal\"],lw=6,histtype=\"step\")\n",
    "ax.legend()\n",
    "ax.legend(loc=\"best\")\n",
    "\n",
    "\n",
    "# get handles and labels for reuse\n",
    "label_params = ax.get_legend_handles_labels() \n",
    "handles, labels=ax.get_legend_handles_labels() \n",
    "figl, axl = plt.subplots(figsize=[10,10])\n",
    "axl.axis(\"Off\")\n",
    "order = [1, 2, 0, 3, 4]\n",
    "#order = [3,0,2,1,4]\n",
    "axl.legend([handles[idx] for idx in order],[labels[idx] for idx in order], loc=\"center\", bbox_to_anchor=(0.5, 0.5), prop={\"size\":50},frameon=False)\n",
    "\n",
    "label_params = ax.get_legend_handles_labels() \n",
    "handles, labels=ax.get_legend_handles_labels()\n",
    "order = [1, 2, 0, 3, 4]\n",
    "axl.legend([handles[idx] for idx in order],[labels[idx] for idx in order], loc=\"center\", bbox_to_anchor=(0.5, 0.5), prop={\"size\":50},frameon=False)\n",
    "# plt.text(-0.15,1.1,'MicroBooNE NuMI Data \\n'+ r\"POT:$5.01\\times 10^{20}$ (RHC)\",fontsize=50,color='black',alpha=1,verticalalignment='top',horizontalalignment='left',transform=plt.gca().transAxes)\n",
    "\n",
    "figl.savefig(\"plots/Data_MC_comparison/Labels_fig.pdf\")\n",
    "figl.savefig(\"plots/Data_MC_comparison/Labels_fig.png\")\n"
   ]
  },
  {
   "cell_type": "markdown",
   "id": "e8fe999e-e025-42f3-a432-eff4e5f7aeea",
   "metadata": {},
   "source": [
    "## Make all BDT input plots (broken? don't know why)"
   ]
  },
  {
   "cell_type": "code",
   "execution_count": null,
   "id": "7c7265a6-7f65-4fae-993f-f6bb286e0e5b",
   "metadata": {},
   "outputs": [],
   "source": [
    "np.seterr(divide='ignore', invalid='ignore') # to stop annoying output about dividing by zeros or Nans\n",
    "vars_to_plot = ['shrclusdir2', 'n_tracks', 'trk_energy', 'shr_theta_v', 'contained_sps_ratio', 'trk_chipr_best', 'shr_px_v',\n",
    "                'trk_end_x_v', 'n_pfps', 'pfnplanehits_V', 'pfnplanehits_U', 'trk_calo_energy_u_v', 'nu_flashmatch_score', 'trk_score_v',\n",
    "                'NeutrinoEnergy2', 'shr_phi_v', 'pfnplanehits_Y', 'shr_pz_v', 'trk_theta_v', 'trk_phi_v', 'trk_energy_hits_tot',\n",
    "                'trk_dir_z_v', 'SliceCaloEnergy2', 'trk_energy_tot', 'shr_energy_tot', 'trk_calo_energy_u_v', 'trk_score_v', 'n_showers']\n",
    "\n",
    "Calculate_sys = True\n",
    "Name = \"\"\n",
    "if Params[\"Load_pi0_signal\"] == True: Name = \"pi0/\"\n",
    "loc = f\"plots/Data_MC_comparison/BDT_input_variables/\"\n",
    "if Calculate_sys==True: Sys_name = \"with_sys\"\n",
    "#Need to add in savefig and savename in argument of plotting function, also make name better.\n",
    "for var in vars_to_plot:\n",
    "    print(var)\n",
    "    savename = f\"{Name}{var}_\" + Params[\"Run\"] + f\"_{HNL_mass}MeV_{Sys_name}\"\n",
    "    xlabel = Constants.variable_names_dict[var]\n",
    "    full_bins = Variables_bins.bins_var[var]\n",
    "    bins = len(full_bins)-1\n",
    "    xlims = [full_bins[0],full_bins[-1]]\n",
    "    print(full_bins)\n",
    "    PT.Plot_preselection_variable_data(variable, samples_plotting, sample_norms, xlabel=xlabel, xlims=xlims, bins=bins, HNL_mass=HNL_mass,\n",
    "                                       HNLplotscale=2000000,cutline=0.0,legloc=\"best\", show_ev_nums=False, CalcSys=Calculate_sys, xticks = [], \n",
    "                                       sys_dict=flat_sys_vars_dict, centre_bins=False, hatch=False, ylimit=None, legsize=22, logy=False, display=False,\n",
    "                                       savefig=False, savename=loc+savename)\n",
    "    "
   ]
  },
  {
   "cell_type": "markdown",
   "id": "b9cefcb2-65f2-4969-bbf8-10de7abfd559",
   "metadata": {},
   "source": [
    "## Plotting just signal"
   ]
  },
  {
   "cell_type": "code",
   "execution_count": null,
   "id": "5a618283-6b9b-4372-ba78-101f7db7c51a",
   "metadata": {},
   "outputs": [],
   "source": [
    "plt.figure(figsize=[10,10])\n",
    "\n",
    "for HNL_mass in Constants.HNL_mass_samples:\n",
    "    plt.plot(np.array(range(1, len(Efficiency_dict[effic])+1)),Efficiency_dict[HNL_mass],label=f\"{HNL_mass} MeV HNL\",lw=4,markersize=15)\n",
    "    \n",
    "plt.ylabel(\"Fraction Selected\")\n",
    "plt.xticks(np.array(range(1, len(Efficiency_dict[effic])+1)),[\"Full sample\"]+list(Preselection_dict.keys()),rotation=80)\n",
    "# plt.yscale(\"log\")\n",
    "plt.legend()\n",
    "\n",
    "plt.savefig(\"plots/Preselection_efficiencies/Signal_only_\"+Params[\"Run\"]+\"_\"+Params[\"Flat_state\"]+\".png\")"
   ]
  },
  {
   "cell_type": "markdown",
   "id": "48699806-e055-4a8d-86cb-b31fb89b838d",
   "metadata": {},
   "source": [
    "# End of code"
   ]
  },
  {
   "cell_type": "code",
   "execution_count": null,
   "id": "2572d97e-c86d-4cf7-bbc1-e9b2866fad48",
   "metadata": {},
   "outputs": [],
   "source": []
  }
 ],
 "metadata": {
  "kernelspec": {
   "display_name": "Python 3 (ipykernel)",
   "language": "python",
   "name": "python3"
  },
  "language_info": {
   "codemirror_mode": {
    "name": "ipython",
    "version": 3
   },
   "file_extension": ".py",
   "mimetype": "text/x-python",
   "name": "python",
   "nbconvert_exporter": "python",
   "pygments_lexer": "ipython3",
   "version": "3.11.3"
  }
 },
 "nbformat": 4,
 "nbformat_minor": 5
}
