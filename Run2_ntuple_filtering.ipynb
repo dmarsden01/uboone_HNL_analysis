{
 "cells": [
  {
   "cell_type": "code",
   "execution_count": 1,
   "id": "8ab81f70",
   "metadata": {},
   "outputs": [
    {
     "name": "stdout",
     "output_type": "stream",
     "text": [
      "Success\n"
     ]
    }
   ],
   "source": [
    "import os,sys,string, time\n",
    "from array import array\n",
    "import matplotlib.pyplot as plt\n",
    "import numpy as np\n",
    "import uproot\n",
    "import pandas as pd\n",
    "from platform import python_version\n",
    "import scipy\n",
    "from scipy import stats\n",
    "import uproot3\n",
    "import math\n",
    "from matplotlib.patches import Rectangle\n",
    "import pickle\n",
    "import functools\n",
    "from importlib import reload\n",
    "\n",
    "import Utilities.Plotter as PT\n",
    "import Utilities.Constants as Constants\n",
    "import Utilities.Variables_list as Variables\n",
    "import Utilities.Functions as Functions\n",
    "from Utilities.ipython_exit import exit\n",
    "\n",
    "print ('Success')\n"
   ]
  },
  {
   "cell_type": "markdown",
   "id": "12f4c729-3cd1-4a22-b794-8af44dfddf07",
   "metadata": {},
   "source": [
    "## Getting runs in goodrun list"
   ]
  },
  {
   "cell_type": "code",
   "execution_count": 16,
   "id": "12015772-053a-4cff-8932-fa51222ea13a",
   "metadata": {},
   "outputs": [],
   "source": [
    "def Get_runs_in_goodruns(root_file_path, goodruns_list):\n",
    "    \"\"\"\n",
    "    Input .root file and \\\"goodrun\\\" list.\n",
    "    Return lists of runs in list and runs not in list.\n",
    "    \"\"\"\n",
    "    root_file = uproot3.open(root_file_path)['nuselection/NeutrinoSelectionFilter']\n",
    "    df_file = root_file.pandas.df(['run'], flatten=False)\n",
    "    \n",
    "    with open(goodruns_list, \"r\") as file:\n",
    "        goodruns = [int(line.strip()) for line in file]\n",
    "        \n",
    "    unique_values = list(set(goodruns))\n",
    "    unique_file_subruns = list(set(np.array(df_file['run'])))\n",
    "    \n",
    "    runs_in_goodruns, runs_not_in_goodruns = [], []\n",
    "    \n",
    "    for run in unique_file_subruns:\n",
    "        if run in unique_values: runs_in_goodruns.append(run)\n",
    "        if run not in unique_values: runs_not_in_goodruns.append(run)\n",
    "        \n",
    "    return runs_in_goodruns, runs_not_in_goodruns\n",
    "\n",
    "def Get_runs_in_horncurrent(root_file_path, run_range):\n",
    "    \"\"\"\n",
    "    Input root file and a list for the run range.\n",
    "    \"\"\"\n",
    "    root_file = uproot3.open(root_file_path)['nuselection/NeutrinoSelectionFilter']\n",
    "    df_file = root_file.pandas.df(['run'], flatten=False)\n",
    "    \n",
    "    runs_in_range = np.arange(run_range[0], run_range[-1]+1)\n",
    "    \n",
    "    unique_file_runs = list(set(np.array(df_file['run'])))\n",
    "    \n",
    "    runs_in_goodruns, runs_not_in_goodruns = [], []\n",
    "    \n",
    "    for run in unique_file_runs:\n",
    "        if run in runs_in_range: runs_in_goodruns.append(run)\n",
    "        if run not in runs_in_range: runs_not_in_goodruns.append(run)\n",
    "        \n",
    "    return runs_in_goodruns, runs_not_in_goodruns\n",
    "\n",
    "def Filter_df_runs(df, goodruns_list):\n",
    "    \"\"\"\n",
    "    Input dataframe and goodruns list.\n",
    "    Return the filtered dataframe, with only the goodruns included.\n",
    "    \"\"\"\n",
    "    filtered = df.loc[(df['run'].isin(goodruns_list))]\n",
    "    \n",
    "    return filtered\n",
    "    \n",
    "def Return_runs_subruns(df):\n",
    "    \"\"\"\n",
    "    Input filtered df.\n",
    "    Return lists of runs and subruns.\n",
    "    \"\"\"\n",
    "    # if pd.Series(['run', 'sub']).isin(df.columns).all():\n",
    "    #     run_sub_list = []\n",
    "    #     for entry in df.index: #Looping over all events in the dataframe\n",
    "    #         run_sub = str(df['run'][entry]) + \"_\" + str(df['sub'][entry])\n",
    "    #         run_sub_list.append(run_sub)\n",
    "    #     unique_run_subrun = list(set(run_sub_list))\n",
    "    #     return df.copy()\n",
    "    # else:\n",
    "    #     print(\"Dataframe needs \\\"run\\\", \\\"sub\\\" columns.\")\n",
    "    #     return 0\n",
    "    placeholder=df.drop_duplicates(subset=[\"run\",\"sub\"]).copy()\n",
    "    runs_list = placeholder[\"run\"]\n",
    "    subruns_list = placeholder[\"sub\"]\n",
    "    \n",
    "    return runs_list, subruns_list\n",
    "\n",
    "def Save_runs_subruns_as_txt(runs_list, subruns_list, savename):\n",
    "    \"\"\"\n",
    "    Input list of runs and subruns.\n",
    "    Saves runs subruns file as savename.\n",
    "    \"\"\"\n",
    "    with open(savename, \"w\") as file:\n",
    "        for val1, val2 in zip(runs_list, subruns_list):\n",
    "            file.write(str(val1) + \" \" + str(val2) + \"\\n\")\n",
    "    "
   ]
  },
  {
   "cell_type": "code",
   "execution_count": 17,
   "id": "aa71f604-614c-488b-959a-396642e0fba0",
   "metadata": {},
   "outputs": [],
   "source": [
    "#FHC: 14 Nov 2016 - 20 Feb 2017 | run 8784 - 10139\n",
    "#RHC: 20 Feb 2017 - 7 July 2017 | run 10140 - 11949\n",
    "FHC_runs = [8784, 10139]\n",
    "RHC_runs = [10140, 11949]"
   ]
  },
  {
   "cell_type": "code",
   "execution_count": 18,
   "id": "e5e5e9dd-804a-4776-9e01-e07e19967ca5",
   "metadata": {},
   "outputs": [],
   "source": [
    "runs_in_range = np.arange(FHC_runs[0], FHC_runs[-1]+1)\n"
   ]
  },
  {
   "cell_type": "code",
   "execution_count": 19,
   "id": "435c5de2-3b1e-46e9-a320-c72a97196e8e",
   "metadata": {},
   "outputs": [],
   "source": [
    "FHC_r2a, not_FHC_r2a = Get_runs_in_horncurrent(\"../NuMI_data/neutrinoselection_filt_run2a_beamon.root\", FHC_runs)\n",
    "RHC_r2b, not_RHC_r2b = Get_runs_in_horncurrent(\"../NuMI_data/neutrinoselection_filt_run2a_beamon.root\", RHC_runs)"
   ]
  },
  {
   "cell_type": "code",
   "execution_count": 21,
   "id": "7f19d0d8-f8d9-4667-ab7b-e951c0a0636e",
   "metadata": {},
   "outputs": [
    {
     "name": "stdout",
     "output_type": "stream",
     "text": [
      "684 502\n",
      "478 708\n"
     ]
    }
   ],
   "source": [
    "print(len(FHC_r2a), len(not_FHC_r2a))\n",
    "print(len(RHC_r2b), len(not_RHC_r2b))"
   ]
  },
  {
   "cell_type": "code",
   "execution_count": null,
   "id": "2b364af8-1957-4f3d-b78c-5550111032ac",
   "metadata": {},
   "outputs": [],
   "source": [
    "runs_in_goodruns_2a, not_in_goodruns_2a = Get_runs_in_goodruns(\"../NuMI_data/neutrinoselection_filt_run2a_beamoff.root\", \"../NuMI_data/run2_goodruns.txt\")\n",
    "runs_in_goodruns_2b, not_in_goodruns_2b = Get_runs_in_goodruns(\"../NuMI_data/neutrinoselection_filt_run2b_beamoff.root\", \"../NuMI_data/run2_goodruns.txt\")\n",
    "\n",
    "print(len(runs_in_goodruns_2a), len(not_in_goodruns_2a))\n",
    "print(len(runs_in_goodruns_2b), len(not_in_goodruns_2b))\n",
    "\n",
    "print(type(runs_in_goodruns_2a))"
   ]
  },
  {
   "cell_type": "code",
   "execution_count": null,
   "id": "05e97b55-ddff-4412-ad11-44dd5aff4220",
   "metadata": {},
   "outputs": [],
   "source": [
    "r2a_file = uproot3.open(\"../NuMI_data/neutrinoselection_filt_run2a_beamon.root\")['nuselection/NeutrinoSelectionFilter']\n",
    "full_run2a_df = r2a_file.pandas.df(['run', 'sub'], flatten=False)\n",
    "r2b_file = uproot3.open(\"../NuMI_data/neutrinoselection_filt_run2b_beamon.root\")['nuselection/NeutrinoSelectionFilter']\n",
    "full_run2b_df = r2b_file.pandas.df(['run', 'sub'], flatten=False)\n",
    "\n",
    "print(\"run2a beamon length: \" + str(len(full_run2a_df)))\n",
    "print(\"run2b beamon length: \" + str(len(full_run2b_df)))\n",
    "\n",
    "all_run2a_runs = list(set(np.array(full_run2a_df['run'])))\n",
    "all_run2b_runs = list(set(np.array(full_run2b_df['run'])))\n",
    "\n",
    "print(\"run2a beamon all runs: \" + str(len(all_run2a_runs)))\n",
    "print(\"run2b beamon all runs: \" + str(len(all_run2b_runs)))\n",
    "\n",
    "run2a_filtered = Filter_df_runs(full_run2a_df, all_run2a_runs)\n",
    "run2b_filtered = Filter_df_runs(full_run2b_df, all_run2b_runs)\n",
    "\n",
    "print(\"run2a beamon length: \" + str(len(run2a_filtered)))\n",
    "print(\"run2b beamon length: \" + str(len(run2b_filtered)))\n",
    "\n",
    "run2a_runs, run2a_subruns = Return_runs_subruns(run2a_filtered)\n",
    "run2b_runs, run2b_subruns = Return_runs_subruns(run2b_filtered)\n",
    "\n",
    "print(\"run2a\")\n",
    "print(len(run2a_runs), len(run2a_subruns))\n",
    "print(\"run2b\")\n",
    "print(len(run2b_runs), len(run2b_subruns))"
   ]
  },
  {
   "cell_type": "code",
   "execution_count": null,
   "id": "a2160d39-4bfd-4ddf-a714-c16c1332a93a",
   "metadata": {},
   "outputs": [],
   "source": [
    "Save_runs_subruns_as_txt(run2a_runs, run2a_subruns, \"../NuMI_data/FULL_beamon_run2a_run_sub.txt\")\n",
    "Save_runs_subruns_as_txt(run2b_runs, run2b_subruns, \"../NuMI_data/FULL_beamon_run2b_run_sub.txt\")"
   ]
  },
  {
   "cell_type": "code",
   "execution_count": null,
   "id": "e44ca590-33b4-4471-a558-dce0dead3450",
   "metadata": {},
   "outputs": [],
   "source": [
    "r2a_file = uproot3.open(\"../NuMI_data/neutrinoselection_filt_run2a_beamoff.root\")['nuselection/NeutrinoSelectionFilter']\n",
    "full_run2a_df = r2a_file.pandas.df(['run', 'sub'], flatten=False)\n",
    "r2b_file = uproot3.open(\"../NuMI_data/neutrinoselection_filt_run2b_beamoff.root\")['nuselection/NeutrinoSelectionFilter']\n",
    "full_run2b_df = r2b_file.pandas.df(['run', 'sub'], flatten=False)\n",
    "\n",
    "print(\"run2a beamon length: \" + str(len(full_run2a_df)))\n",
    "print(\"run2b beamon length: \" + str(len(full_run2b_df)))\n",
    "\n",
    "all_run2a_runs = list(set(np.array(full_run2a_df['run'])))\n",
    "all_run2b_runs = list(set(np.array(full_run2b_df['run'])))\n",
    "\n",
    "print(\"run2a beamoff all runs: \" + str(len(all_run2a_runs)))\n",
    "print(\"run2b beamoff all runs: \" + str(len(all_run2b_runs)))\n",
    "\n",
    "run2a_filtered = Filter_df_runs(full_run2a_df, all_run2a_runs)\n",
    "run2b_filtered = Filter_df_runs(full_run2b_df, all_run2b_runs)\n",
    "\n",
    "print(\"run2a beamon length: \" + str(len(run2a_filtered)))\n",
    "print(\"run2b beamon length: \" + str(len(run2b_filtered)))\n",
    "\n",
    "run2a_runs, run2a_subruns = Return_runs_subruns(run2a_filtered)\n",
    "run2b_runs, run2b_subruns = Return_runs_subruns(run2b_filtered)\n",
    "\n",
    "print(\"run2a\")\n",
    "print(len(run2a_runs), len(run2a_subruns))\n",
    "print(\"run2b\")\n",
    "print(len(run2b_runs), len(run2b_subruns))"
   ]
  },
  {
   "cell_type": "code",
   "execution_count": null,
   "id": "41cf53ff-e064-464e-a1eb-1aee11ab12b7",
   "metadata": {},
   "outputs": [],
   "source": [
    "Save_runs_subruns_as_txt(run2a_runs, run2a_subruns, \"../NuMI_data/FULL_beamoff_run2a_run_sub.txt\")\n",
    "Save_runs_subruns_as_txt(run2b_runs, run2b_subruns, \"../NuMI_data/FULL_beamoff_run2b_run_sub.txt\")"
   ]
  },
  {
   "cell_type": "code",
   "execution_count": null,
   "id": "e7dacddf-685c-4f36-9541-c0448247aea5",
   "metadata": {},
   "outputs": [],
   "source": [
    "run2a_file = uproot3.open(\"../NuMI_data/neutrinoselection_filt_run2a_beamoff.root\")['nuselection/NeutrinoSelectionFilter']\n",
    "run2b_file = uproot3.open(\"../NuMI_data/neutrinoselection_filt_run2b_beamoff.root\")['nuselection/NeutrinoSelectionFilter']\n",
    "\n",
    "run2a_df = run2a_file.pandas.df(['run', 'sub', 'evt'], flatten=False)\n",
    "run2b_df = run2b_file.pandas.df(['run', 'sub', 'evt'], flatten=False)\n",
    "\n",
    "run2a_filtered = Filter_df_runs(run2a_df, runs_in_goodruns_2a)\n",
    "run2b_filtered = Filter_df_runs(run2b_df, runs_in_goodruns_2b)\n",
    "\n",
    "run2a_runs, run2a_subruns = Return_runs_subruns(run2a_filtered)\n",
    "run2b_runs, run2b_subruns = Return_runs_subruns(run2b_filtered)\n",
    "\n",
    "print(len(run2a_runs), len(run2a_subruns))\n",
    "print(len(run2b_runs), len(run2b_subruns))\n"
   ]
  },
  {
   "cell_type": "code",
   "execution_count": null,
   "id": "b7153a8f-0379-4d9b-9cb0-1b1f4ef6a109",
   "metadata": {},
   "outputs": [],
   "source": [
    "Save_runs_subruns_as_txt(run2a_runs, run2a_subruns, \"../NuMI_data/beamoff_run2a_run_sub.txt\")\n",
    "Save_runs_subruns_as_txt(run2b_runs, run2b_subruns, \"../NuMI_data/beamoff_run2b_run_sub.txt\")"
   ]
  },
  {
   "cell_type": "code",
   "execution_count": null,
   "id": "c151459b-d31e-4d70-b4c8-560cefec8b37",
   "metadata": {},
   "outputs": [],
   "source": [
    "file_locs = Functions.Get_all_sample_locs(Params)"
   ]
  },
  {
   "cell_type": "code",
   "execution_count": null,
   "id": "837dac2d-21d4-46de-8fb1-32e8323c5ef2",
   "metadata": {},
   "outputs": [],
   "source": [
    "root_file_loc = file_locs[\"beamgood\"]\n",
    "print(root_file_loc)"
   ]
  },
  {
   "cell_type": "code",
   "execution_count": null,
   "id": "282157e7-5a72-4328-85c4-5e200630f7f7",
   "metadata": {},
   "outputs": [],
   "source": [
    "file_path = \"../NuMI_data/run2_goodruns.txt\"  \n",
    "\n",
    "with open(file_path, \"r\") as file:\n",
    "    values = [int(line.strip()) for line in file]\n",
    "    \n",
    "root_file = uproot3.open(root_file_loc)['nuselection/NeutrinoSelectionFilter']\n",
    "\n",
    "df_file = root_file.pandas.df(['run', 'sub', 'evt'], flatten=False)\n"
   ]
  },
  {
   "cell_type": "code",
   "execution_count": null,
   "id": "895e5d2c-4574-4e2d-8d21-e38964472190",
   "metadata": {},
   "outputs": [],
   "source": [
    "unique_values = list(set(values))\n",
    "unique_file_subruns = list(set(np.array(df_file['run'])))\n",
    "\n",
    "runs_in_goodruns = []\n",
    "runs_not_in_goodruns = []\n",
    "\n",
    "for run in unique_file_subruns:\n",
    "    if run in unique_values: runs_in_goodruns.append(run)\n",
    "    if run not in unique_values: runs_not_in_goodruns.append(run)\n",
    "    \n",
    "print(\"Total runs in run2a file is \" + str(len(unique_file_subruns)))\n",
    "print(\"runs in goodrun list: \" + str(len(runs_in_goodruns)))\n",
    "print(\"runs NOT in goodrun list: \" + str(len(runs_not_in_goodruns)))"
   ]
  },
  {
   "cell_type": "code",
   "execution_count": null,
   "id": "88ee3660-2fce-4cc4-a99a-873fcefe2f9a",
   "metadata": {},
   "outputs": [],
   "source": [
    "file_path = \"../NuMI_data/run2_goodruns.txt\"  \n",
    "\n",
    "with open(file_path, \"r\") as file:\n",
    "    values = [int(line.strip()) for line in file]\n",
    "    \n",
    "root_file = uproot3.open(\"../NuMI_data/neutrinoselection_filt_run2b_beamon.root\")['nuselection/NeutrinoSelectionFilter']\n",
    "\n",
    "df_file = root_file.pandas.df(['run', 'sub', 'evt'], flatten=False)"
   ]
  },
  {
   "cell_type": "code",
   "execution_count": null,
   "id": "3a7c285f-ed77-426d-ba9f-68155896d678",
   "metadata": {},
   "outputs": [],
   "source": [
    "unique_values = list(set(values))\n",
    "unique_file_subruns = list(set(np.array(df_file['run'])))\n",
    "\n",
    "runs_in_goodruns = []\n",
    "runs_not_in_goodruns = []\n",
    "\n",
    "for run in unique_file_subruns:\n",
    "    if run in unique_values: runs_in_goodruns.append(run)\n",
    "    if run not in unique_values: runs_not_in_goodruns.append(run)\n",
    "    \n",
    "print(\"Total runs in run2b file is \")\n",
    "print(\"runs in goodrun list: \" + str(len(runs_in_goodruns)))\n",
    "print(\"runs NOT in goodrun list: \" + str(len(runs_not_in_goodruns)))"
   ]
  },
  {
   "cell_type": "markdown",
   "id": "85ac905b-8750-4d3c-8e18-58877a2bc887",
   "metadata": {},
   "source": [
    "## End of code"
   ]
  },
  {
   "cell_type": "code",
   "execution_count": null,
   "id": "b4bd9a0a-a821-46a6-944f-2450e56a9520",
   "metadata": {},
   "outputs": [],
   "source": []
  }
 ],
 "metadata": {
  "kernelspec": {
   "display_name": "Python 3 (ipykernel)",
   "language": "python",
   "name": "python3"
  },
  "language_info": {
   "codemirror_mode": {
    "name": "ipython",
    "version": 3
   },
   "file_extension": ".py",
   "mimetype": "text/x-python",
   "name": "python",
   "nbconvert_exporter": "python",
   "pygments_lexer": "ipython3",
   "version": "3.11.3"
  }
 },
 "nbformat": 4,
 "nbformat_minor": 5
}
