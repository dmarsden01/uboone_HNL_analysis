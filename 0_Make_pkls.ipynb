{
 "cells": [
  {
   "cell_type": "code",
   "execution_count": null,
   "id": "8ab81f70",
   "metadata": {},
   "outputs": [],
   "source": [
    "import os,sys,string, time\n",
    "from array import array\n",
    "import matplotlib.pyplot as plt\n",
    "import numpy as np\n",
    "import uproot\n",
    "import pandas as pd\n",
    "from platform import python_version\n",
    "import scipy\n",
    "from scipy import stats\n",
    "import uproot3\n",
    "import math\n",
    "from matplotlib.patches import Rectangle\n",
    "import pickle\n",
    "import functools\n",
    "from importlib import reload\n",
    "\n",
    "import Utilities.Plotter as PT\n",
    "import Utilities.Constants as Constants\n",
    "import Utilities.Variables_list as Variables\n",
    "import Utilities.Functions as Functions\n",
    "from Utilities.ipython_exit import exit\n",
    "\n",
    "print ('Success')\n"
   ]
  },
  {
   "cell_type": "markdown",
   "id": "796f7c44",
   "metadata": {},
   "source": [
    "## Purpose\n",
    "This notebook takes the input .root file ntuples and creates .pkl files that are used for the rest of the analysis chain.<br> \n",
    "These .pkl files are much smaller and easier to deal with in python.<br> \n",
    "Which samples will be made into .pkls are defined by the Params dictionary.<br>\n",
    "This notebook will need to be run at least twice to create all necessary files for the analysis chain; once for \"run1\" and once for \"run3\". Always check the names of the samples that are printed and ensure they are what you want to save."
   ]
  },
  {
   "cell_type": "markdown",
   "id": "8ec8c084-e0ee-4f9a-9a99-c25ee62304d9",
   "metadata": {},
   "source": [
    "# Setting which samples to pickle"
   ]
  },
  {
   "cell_type": "code",
   "execution_count": null,
   "id": "e3bfdae0-160d-4f43-bc28-aa18b62013f6",
   "metadata": {},
   "outputs": [],
   "source": [
    "Params = {\"Run\":\"run1\", #The run number, so far either \"run1\" or \"run3\"\n",
    "          \"Load_lepton_signal\":True, #Just e+e- samples, Majorana\n",
    "          \"Load_pi0_signal\":False, #Just pi0 samples, Majorana\n",
    "          \"Load_lepton_dirac\":False, #Just e+e-, Dirac\n",
    "          \"Load_pi0_dirac\":False, #Just pi0, Dirac\n",
    "          \"Load_standard_bkgs\":True, #Backgrounds, 'overlay', 'dirtoverlay' and 'beamoff'\n",
    "          \"Load_data\":True, #'beamgood' sample\n",
    "          \"Load_DetVars\":False, #overlay Detector variations\n",
    "          \"Load_Signal_DetVars\":False, #e+e- Detector variation samples\n",
    "          \"Load_pi0_signal_DetVars\":False, #pi0 Detector variation samples\n",
    "          \"Only_keep_common_DetVar_evs\":True, #For DetVar samples, only keep events common between samples, True is standard\n",
    "          \"FLATTEN\":True, #Have one row per reconstructed object in the dataframe, if True this will effectively make the nslice==1 cut.\n",
    "          \"only_presel\":False, #Create small files containing only variables necessary for pre-selection, for making UNFLATTENED pre-selection plots\n",
    "          \"Load_truth_vars\":False, #Load the \"mc_\" type variables for signal, may be useful for truth studies\n",
    "          \"Load_single_file\":False, #This will override everything else, put the desired file in the \"single_file\" line\n",
    "          \"single_file\":'beamgood'} \n",
    "\n",
    "Params, samples = Functions.new_create_sample_list(Params)\n",
    "sample_locs_new = Functions.Get_all_sample_locs(Params)\n",
    "\n",
    "print(\"Saving these variables: \\n\" + str(Params[\"variables_MC\"]))\n"
   ]
  },
  {
   "cell_type": "markdown",
   "id": "5103bfa1-5b16-484c-bfc0-fda62c2b7524",
   "metadata": {},
   "source": [
    "## Loading and pickling files"
   ]
  },
  {
   "cell_type": "code",
   "execution_count": null,
   "id": "68fb0d30-19a9-4a11-b11e-21bfb393be26",
   "metadata": {},
   "outputs": [],
   "source": [
    "common_evs = Functions.Make_common_evs(samples, sample_locs_new, Params)\n",
    "loc_pkls = \"pkl_files/\"+Params[\"Run\"]+\"/current_files/\"+Params[\"variables_string\"]+\"/\"\n",
    "\n",
    "Functions.New_load_and_pkl(samples, sample_locs_new, loc_pkls, common_evs, Params, save_str=\"_full_Finished\")"
   ]
  },
  {
   "cell_type": "markdown",
   "id": "85ac905b-8750-4d3c-8e18-58877a2bc887",
   "metadata": {},
   "source": [
    "## End of code"
   ]
  }
 ],
 "metadata": {
  "kernelspec": {
   "display_name": "Python 3 (ipykernel)",
   "language": "python",
   "name": "python3"
  },
  "language_info": {
   "codemirror_mode": {
    "name": "ipython",
    "version": 3
   },
   "file_extension": ".py",
   "mimetype": "text/x-python",
   "name": "python",
   "nbconvert_exporter": "python",
   "pygments_lexer": "ipython3",
   "version": "3.11.3"
  }
 },
 "nbformat": 4,
 "nbformat_minor": 5
}
