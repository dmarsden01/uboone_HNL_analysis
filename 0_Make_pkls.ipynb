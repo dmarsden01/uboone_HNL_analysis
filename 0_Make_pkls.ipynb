{
 "cells": [
  {
   "cell_type": "code",
   "execution_count": 1,
   "id": "8ab81f70",
   "metadata": {},
   "outputs": [
    {
     "name": "stdout",
     "output_type": "stream",
     "text": [
      "Welcome to JupyROOT 6.24/06\n",
      "Success\n"
     ]
    }
   ],
   "source": [
    "import os,sys,string, time\n",
    "import ROOT\n",
    "from math import *\n",
    "from ROOT import gPad, TTree, TObject, TFile, gDirectory, TH1D, TH2D, TH3D, TCanvas, gROOT, TGaxis, gStyle, TColor, TLegend, THStack, TChain, TLatex, TText, TCollection, kRed, kBlue\n",
    "from array import array\n",
    "import matplotlib.pyplot as plt\n",
    "import numpy as np\n",
    "import uproot\n",
    "import pandas as pd\n",
    "from root_pandas import read_root\n",
    "from platform import python_version\n",
    "import scipy\n",
    "from scipy import stats\n",
    "import uproot3\n",
    "import math\n",
    "from matplotlib.patches import Rectangle\n",
    "import pickle\n",
    "\n",
    "import Utilities.Plotter as PT\n",
    "import Utilities.Constants as Constants\n",
    "import Utilities.Variables_list as Variables\n",
    "\n",
    "print ('Success')\n",
    "\n"
   ]
  },
  {
   "cell_type": "markdown",
   "id": "775a3504-392d-4b23-a225-0db439fcb0f5",
   "metadata": {},
   "source": [
    "## Functions"
   ]
  },
  {
   "cell_type": "code",
   "execution_count": 2,
   "id": "591c0fda-b513-4c36-addf-c0a74b77d8e0",
   "metadata": {},
   "outputs": [],
   "source": [
    "#Defining functions\n",
    "def Preselection_with_list(df_cut, cut_dict, Efficiency_list): #This only works for a conditional with one variable, NOT TRUE, key name doesn't matter?\n",
    "    NumEvs = len(df_cut)\n",
    "    for cut in cut_dict.keys():\n",
    "        df_cut=df_cut.query(cut_dict[cut])\n",
    "        Efficiency_list.append(len(df_cut)/NumEvs)\n",
    "        \n",
    "def Edit_Weight_Tune(df_to_Tune): #This is taken from Aditya's code, Owen also has the same in his for overlay and dirt, there is the same block in PELEE code\n",
    "    df_to_Tune.loc[ df_to_Tune['weightSplineTimesTune'] <= 0, 'weightSplineTimesTune' ] = 1.\n",
    "    df_to_Tune.loc[ df_to_Tune['weightSplineTimesTune'] == np.inf, 'weightSplineTimesTune' ] = 1.\n",
    "    df_to_Tune.loc[ df_to_Tune['weightSplineTimesTune'] > 50, 'weightSplineTimesTune' ] = 1.\n",
    "    df_to_Tune.loc[ np.isnan(df_to_Tune['weightSplineTimesTune']) == True, 'weightSplineTimesTune' ] = 1.\n",
    "    return df_to_Tune\n",
    "\n",
    "def MC_weight_branch(df_MC): #Writes a new branch called \"weight\" including, ppfx, weightSplineTimesTune AND if pi0 are present, scales by pi0 factor\n",
    "    df_MC[\"weight\"] = df_MC[\"ppfx_cv\"]*df_MC[\"weightSplineTimesTune\"] \n",
    "    df_MC.loc[df_MC[\"npi0\"]>0,\"weight\"] = df_MC[\"weight\"][df_MC[\"npi0\"]>0]*Constants.pi0_scaling_factor #If MC event contains pi0, need to scale down, derived from BNB data\n",
    "    \n",
    "def Plot_one_variable(signal, background, variable_name, numbins, range_lims=None, loghist=False):\n",
    "    plt.figure(figsize=(12,8),facecolor='white')\n",
    "    plot1 = plt.figure(1)\n",
    "    plt.hist(signal[variable_name],bins=numbins,label=\"Signal\",alpha=0.5, range=range_lims)\n",
    "    plt.hist(background[variable_name],bins=numbins,label=\"Background\",alpha=0.5, range=range_lims)\n",
    "    if loghist == True:\n",
    "        plt.yscale(\"log\")\n",
    "    else:\n",
    "        plt.yscale(\"linear\")\n",
    "    plt.xlabel(variable_name)\n",
    "    plt.ylabel('Number of events')\n",
    "    plt.legend()\n",
    "    \n",
    "def Make_pkl(df_pkl, name):\n",
    "    df_pkl.to_pickle(name)\n",
    "    \n",
    "def check_is_truth(df_MC, df_EXT, var):\n",
    "    vals_MC = []\n",
    "    vals_EXT = []\n",
    "    for i in range(100):\n",
    "        vals_MC.append(df_MC[var][i])\n",
    "        vals_EXT.append(df_EXT[var][i])\n",
    "    unique_MC = set(vals_MC)\n",
    "    unique_EXT = set(vals_EXT)\n",
    "    print(\"For the variable \\\"\" + str(var) + \"\\\"\" + \"\\n\")\n",
    "\n",
    "    print(\"There are \" + str(len(unique_MC)) + \" unique values in MC.\")\n",
    "    print(\"There are \" + str(len(unique_EXT))+ \" unique values in EXT.\" + \"\\n\")\n",
    "\n",
    "    print_vals = input(\"Do you want to see the values of vars? y/n \")\n",
    "    if print_vals == \"y\":\n",
    "        print(\"MC values are : \" + str(unique_MC))\n",
    "        print(\"EXT values are: \" + str(unique_EXT))\n",
    "    return 0"
   ]
  },
  {
   "cell_type": "code",
   "execution_count": 3,
   "id": "7a5f191f-9b89-41b0-a508-be3c1f2e160c",
   "metadata": {},
   "outputs": [
    {
     "name": "stdout",
     "output_type": "stream",
     "text": [
      "Number of variables for data:\n",
      "118\n",
      "Number of variables for MC:\n",
      "121\n"
     ]
    }
   ],
   "source": [
    "First_pass_vars = Variables.First_pass_vars\n",
    "First_pass_vars_MC = Variables.First_pass_vars_MC\n",
    "\n",
    "variables_run1 = Variables.Preselection_vars\n",
    "variables_run3 = Variables.Preselection_vars_CRT\n",
    "variables_run1_MC = Variables.Preselection_vars_MC\n",
    "variables_run3_MC = Variables.Preselection_vars_CRT_MC\n",
    "\n",
    "print(\"Number of variables for data:\")\n",
    "print(len(First_pass_vars))\n",
    "print(\"Number of variables for MC:\")\n",
    "print(len(First_pass_vars_MC))"
   ]
  },
  {
   "cell_type": "markdown",
   "id": "8ec8c084-e0ee-4f9a-9a99-c25ee62304d9",
   "metadata": {},
   "source": [
    "# Reading in and pickling files"
   ]
  },
  {
   "cell_type": "code",
   "execution_count": 7,
   "id": "2d368690",
   "metadata": {},
   "outputs": [
    {
     "name": "stdout",
     "output_type": "stream",
     "text": [
      "Loading signal files with uproot\n",
      "Pickling run3 20MeV file\n",
      "Pickling run3 50MeV file\n",
      "Pickling run3 100MeV file\n",
      "Pickling run3 150MeV file\n",
      "Pickling run3 180MeV file\n",
      "Pickling run3 200MeV file\n",
      "Success\n"
     ]
    }
   ],
   "source": [
    "HNL_masses = Constants.HNL_mass_samples #in MeV\n",
    "\n",
    "Run = \"run3\" #so far either \"run1\" or \"run3\"\n",
    "\n",
    "filetype = \"signal\" #can be overlay, dirt, EXT or signal\n",
    "\n",
    "only_presel = True\n",
    "\n",
    "FLATTEN = False\n",
    "\n",
    "chunksize = 10000 #For saving pkls in chunks, not yet implemented\n",
    "\n",
    "if Run == \"run1\":\n",
    "    current = \"FHC\"\n",
    "    if only_presel == True:\n",
    "        variables = variables_run1\n",
    "        variables_MC = variables_run1_MC\n",
    "    else:\n",
    "        variables = First_pass_vars\n",
    "        variables_MC = First_pass_vars_MC\n",
    "elif Run == \"run3\":\n",
    "    current = \"RHC\"\n",
    "    if only_presel == True:\n",
    "        variables = variables_run3\n",
    "        variables_MC = variables_run3_MC\n",
    "    else:\n",
    "        variables = First_pass_vars\n",
    "        variables_MC = First_pass_vars_MC\n",
    "else:\n",
    "    print(\"Need to choose either \\\"run1\\\" or \\\"run3\\\"\")\n",
    "    \n",
    "if FLATTEN == True:\n",
    "    Flat_state = \"flattened\"\n",
    "else:\n",
    "    Flat_state = \"unflattened\"\n",
    "    \n",
    "if only_presel:\n",
    "    variables_string = \"Presel_vars\"\n",
    "else:\n",
    "    variables_string = \"my_vars\"\n",
    "\n",
    "root_dir = 'nuselection'\n",
    "main_tree = 'NeutrinoSelectionFilter'\n",
    "MC_samples_dir = '../NuMI_MC/'\n",
    "data_samples_dir = '../NuMI_data/'\n",
    "signal_samples_dir = '../NuMI_signal/KDAR_dump/sfnues/'\n",
    "\n",
    "loc_overlay_run1 = MC_samples_dir+'SLIMMED_neutrinoselection_filt_run1_overlay.root'#NuMI Run1 MC WITHOUT systematics weights\n",
    "loc_dirt_run1 = MC_samples_dir+'prodgenie_numi_uboone_overlay_dirt_fhc_mcc9_run1_v28_all_snapshot.root'\n",
    "loc_EXT_run1 = data_samples_dir+'neutrinoselection_filt_run1_beamoff.root'\n",
    "\n",
    "loc_overlay_run3 = MC_samples_dir+'SLIMMED_neutrinoselection_filt_run3b_overlay.root' #NuMI Run3 MC WITHOUT systematics weights\n",
    "loc_dirt_run3 = MC_samples_dir+'neutrinoselection_filt_run3b_dirt_overlay.root'\n",
    "loc_EXT_run3 = data_samples_dir+'neutrinoselection_filt_run3b_beamoff.root'\n",
    "\n",
    "loc_pkls = f\"pkl_files/{Run}/current_files/{variables_string}/\"\n",
    "\n",
    "if filetype == \"overlay\":\n",
    "    print(\"Loading overlay with uproot\")\n",
    "    if Run == \"run1\":\n",
    "        NuMI_MC_overlay = uproot3.open(loc_overlay_run1)[root_dir+'/'+main_tree]\n",
    "    elif Run == \"run3\":\n",
    "        NuMI_MC_overlay = uproot3.open(loc_overlay_run3)[root_dir+'/'+main_tree]\n",
    "    df_overlay = NuMI_MC_overlay.pandas.df(variables_MC, flatten=FLATTEN)\n",
    "    file = df_overlay\n",
    "    Edit_Weight_Tune(file)\n",
    "    MC_weight_branch(file)\n",
    "    new_overlay = file.copy()\n",
    "    del(file)\n",
    "    print(f\"Pickling {Run} overlay file\")\n",
    "    new_overlay.to_pickle(loc_pkls+f\"overlay_{Run}_{variables_string}_\"+Flat_state+\".pkl\")\n",
    "    del(new_overlay)\n",
    "elif filetype == \"dirt\":\n",
    "    print(\"Loading dirt with uproot\")\n",
    "    if Run == \"run1\":\n",
    "        NuMI_MC_dirt = uproot3.open(loc_dirt_run1)[root_dir+'/'+main_tree]\n",
    "    elif Run == \"run3\":\n",
    "        NuMI_MC_dirt = uproot3.open(loc_dirt_run3)[root_dir+'/'+main_tree]\n",
    "    df_dirt = NuMI_MC_dirt.pandas.df(variables_MC, flatten=FLATTEN)\n",
    "    file = df_dirt\n",
    "    Edit_Weight_Tune(file)\n",
    "    MC_weight_branch(file)\n",
    "    new_dirt = file.copy()\n",
    "    del(file)\n",
    "    print(f\"Pickling {Run} dirt file\")\n",
    "    new_dirt.to_pickle(loc_pkls+f\"dirt_{Run}_{variables_string}_\"+Flat_state+\".pkl\")\n",
    "    del(new_dirt)\n",
    "elif filetype == \"EXT\":\n",
    "    print(\"Loading EXT with uproot\")\n",
    "    if Run == \"run1\":\n",
    "        NuMI_EXT = uproot3.open(loc_EXT_run1)[root_dir+'/'+main_tree]\n",
    "    elif Run == \"run3\":\n",
    "        NuMI_EXT = uproot3.open(loc_EXT_run3)[root_dir+'/'+main_tree]\n",
    "    df_EXT = NuMI_EXT.pandas.df(variables, flatten=FLATTEN)\n",
    "    file = df_EXT\n",
    "    new_EXT = file.copy()\n",
    "    del(file)\n",
    "    print(f\"Pickling {Run} EXT file\")\n",
    "    new_EXT.to_pickle(loc_pkls+f\"EXT_{Run}_{variables_string}_\"+Flat_state+\".pkl\")\n",
    "    del(new_EXT)\n",
    "elif filetype == \"signal\":\n",
    "    print(\"Loading signal files with uproot\")\n",
    "    for HNL_mass in HNL_masses:\n",
    "        loc_signal_run1 = signal_samples_dir+f'sfnues_KDAR_dump_{HNL_mass}_Umu4_majorana_numi_{current}.root'\n",
    "        Signal_run1 = uproot3.open(loc_signal_run1)[root_dir+'/'+main_tree]\n",
    "        df_signal_run1 = Signal_run1.pandas.df(variables, flatten=FLATTEN)\n",
    "        file = df_signal_run1\n",
    "        new_signal = file.copy()\n",
    "        del(file)\n",
    "        print(f\"Pickling {Run} {HNL_mass}MeV file\")\n",
    "        new_signal.to_pickle(loc_pkls+f\"signal_{HNL_mass}MeV_{Run}_{variables_string}_\"+Flat_state+\".pkl\")\n",
    "        del(new_signal)\n",
    "else:\n",
    "    print(\"Not a valid filetype\")\n",
    "\n",
    "print(\"Success\")"
   ]
  },
  {
   "cell_type": "code",
   "execution_count": 17,
   "id": "a8e0568f-cb79-4674-9813-ad73fd773c06",
   "metadata": {},
   "outputs": [],
   "source": [
    "overlay_from_pkl = pd.read_pickle(loc_pkls+\"overlay_run1_my_vars_flattened.pkl\")\n",
    "\n",
    "Preselection_efficiency_signal = [1.0]\n",
    "\n",
    "Preselection_with_list(overlay_from_pkl, Constants.Preselection_dict, Preselection_efficiency_signal)"
   ]
  },
  {
   "cell_type": "code",
   "execution_count": 9,
   "id": "70324d4d-940e-4fd6-b046-2a464d5ec72d",
   "metadata": {},
   "outputs": [
    {
     "name": "stdout",
     "output_type": "stream",
     "text": [
      "987945\n"
     ]
    }
   ],
   "source": [
    "print(len(overlay_from_pkl))"
   ]
  },
  {
   "cell_type": "markdown",
   "id": "d1961b90-a667-4c17-814d-f8b9ff09a853",
   "metadata": {},
   "source": [
    "# Plotting Variables before preselection"
   ]
  },
  {
   "cell_type": "code",
   "execution_count": 13,
   "id": "1bc881b1-8578-4383-8a68-84dda5266f1c",
   "metadata": {},
   "outputs": [],
   "source": [
    "My_vars = Variables.First_pass_vars\n",
    "My_vars_MC = Variables.First_pass_vars_MC\n",
    "\n",
    "overlay_from_pkl = pd.read_pickle(loc_pkls+\"overlay_run1_my_vars1_flattened.pkl\")\n",
    "dirt_from_pkl = pd.read_pickle(loc_pkls+\"dirt_run1_my_vars1_flattened.pkl\")\n",
    "EXT_from_pkl = pd.read_pickle(loc_pkls+\"EXT_run1_my_vars1_flattened.pkl\")\n",
    "signal_from_pkl = pd.read_pickle(loc_pkls+f\"signal_100MeV_run1_my_vars1_flattened.pkl\")"
   ]
  },
  {
   "cell_type": "code",
   "execution_count": 19,
   "id": "837d5b44-7f5f-4e66-9e90-ef52693eb0f8",
   "metadata": {},
   "outputs": [
    {
     "data": {
      "image/png": "[encoded data removed]",
      "text/plain": [
       "<Figure size 800x800 with 1 Axes>"
      ]
     },
     "metadata": {
      "needs_background": "light"
     },
     "output_type": "display_data"
    }
   ],
   "source": [
    "samples = {\"overlay\":overlay_from_pkl,\n",
    "           \"dirtoverlay\":dirt_from_pkl,\n",
    "           \"beamoff\":EXT_from_pkl,\n",
    "           \"signal\":signal_from_pkl}\n",
    "sample_norms = {\"overlay\":SF_overlay_run1,\n",
    "           \"dirtoverlay\":SF_dirt_run1,\n",
    "           \"beamoff\":SF_EXT_run1,\n",
    "           \"signal\":SF_signal_run1}\n",
    "\n",
    "PT.Plot_preselection_variable(\"n_pfps\", samples, sample_norms, xlabel=[],xlims=[1,8],bins=7,figsize=[8,8],HNLplotscale=10000000,logy=\"False\")"
   ]
  },
  {
   "cell_type": "markdown",
   "id": "1c7ef9d7-7746-4137-9ac5-c2b7fa3aa38f",
   "metadata": {},
   "source": [
    "## Load in all branches for small number of events"
   ]
  },
  {
   "cell_type": "code",
   "execution_count": null,
   "id": "3366238c-f1f4-4f58-b627-c36fa72f073e",
   "metadata": {},
   "outputs": [],
   "source": [
    "NuMI_MC_dirt_run1 = uproot3.open(loc_dirt_run1)[root_dir+'/'+main_tree]\n",
    "NuMI_EXT_run1 = uproot3.open(loc_EXT_run1)[root_dir+'/'+main_tree]\n",
    "#NuMI_beamgood_run1 = uproot3.open(loc_beamgood_run1)[root_dir+'/'+main_tree]\n",
    "Signal_run1 = uproot3.open(loc_signal_run1)[root_dir+'/'+main_tree]\n",
    "\n",
    "print(\"----MC OVERLAY BACKGROUND----\")\n",
    "print(\"Number of branches is \" + str(len(NuMI_MC_overlay_run1.keys()))) \n",
    "print(\"Number of events is \" + str(NuMI_MC_overlay_run1.numentries))\n",
    "print(\"----MC DIRT BACKGROUND----\")\n",
    "print(\"Number of branches is \" + str(len(NuMI_MC_dirt_run1.keys()))) \n",
    "print(\"Number of events is \" + str(NuMI_MC_dirt_run1.numentries))\n",
    "print(\"----EXT BACKGROUND----\")\n",
    "print(\"Number of branches is \" + str(len(NuMI_EXT_run1.keys()))) \n",
    "print(\"Number of events is \" + str(NuMI_EXT_run1.numentries))\n",
    "# print(\"----DATA----\")\n",
    "# print(\"Number of branches is \" + str(len(NuMI_beamgood_run1.keys()))) \n",
    "# print(\"Number of events is \" + str(NuMI_beamgood_run1.numentries))\n",
    "print(\"----SIGNAL----\")\n",
    "print(\"Number of branches is \" + str(len(Signal_run1.keys()))) \n",
    "print(\"Number of events is \" + str(Signal_run1.numentries))\n",
    "\n",
    "NumEvents = 10\n",
    "FLATTEN = False\n",
    "\n",
    "df_overlay_run1 = NuMI_MC_overlay_run1.pandas.df(\"*\", entrystop=NumEvents, flatten=FLATTEN)\n",
    "df_dirt_run1 = NuMI_MC_dirt_run1.pandas.df(\"*\", entrystop=NumEvents, flatten=FLATTEN)\n",
    "df_EXT_run1 = NuMI_EXT_run1.pandas.df(\"*\", entrystop=NumEvents, flatten=FLATTEN)\n",
    "df_signal_run1 = Signal_run1.pandas.df(\"*\", entrystop=NumEvents, flatten=FLATTEN)\n",
    "\n",
    "overlay_vars = df_overlay_run1.keys()\n",
    "dirt_vars = df_dirt_run1.keys()\n",
    "EXT_vars = df_EXT_run1.keys()\n",
    "signal_vars = df_signal_run1.keys()"
   ]
  },
  {
   "cell_type": "code",
   "execution_count": null,
   "id": "48dada42-73c8-4a7a-b440-984e3c61bb85",
   "metadata": {},
   "outputs": [],
   "source": [
    "# for i in overlay_vars:\n",
    "#     print(i)\n",
    "    \n",
    "overlay_no_truth_vars = []\n",
    "    \n",
    "for j in overlay_vars:\n",
    "    if 'true' in j:\n",
    "        continue\n",
    "    if 'truth' in j:\n",
    "        continue\n",
    "    if 'mc_' in j:\n",
    "        continue\n",
    "    overlay_no_truth_vars.append(j)\n",
    "    #print(j)\n",
    "\n",
    "print(len(overlay_no_truth_vars))"
   ]
  },
  {
   "cell_type": "markdown",
   "id": "6a2689b2-77d1-41cd-ac56-a176c0af2079",
   "metadata": {},
   "source": [
    "# Testing other ways of saving .pkls"
   ]
  },
  {
   "cell_type": "code",
   "execution_count": null,
   "id": "0f2cd767-4fba-4020-b4e6-a8e200d02f9e",
   "metadata": {},
   "outputs": [],
   "source": [
    "# run1_samples = [overlay_from_pkl, dirt_from_pkl, EXT_from_pkl, signal_from_pkl]\n",
    "# run1_sample_names = [\"df_overlay_run1\", \"df_dirt_run1\", \"df_EXT_run1\", \"df_signal_run1\"] #Better way to do this, dictionary?\n",
    "\n",
    "# loc_pkls = \"pkl_files/\"\n",
    "# i = 0\n",
    "\n",
    "# for sample in run1_samples:\n",
    "#     sample.to_pickle(loc_pkls+run1_sample_names[i]+\"_full.pkl\")\n",
    "#     i+=1"
   ]
  },
  {
   "cell_type": "code",
   "execution_count": null,
   "id": "4fa9d314-2e43-4346-a802-1096c4f2f0fe",
   "metadata": {},
   "outputs": [],
   "source": [
    "# flattened_overlay_from_pkl = pd.read_pickle(loc_pkls+\"overlay_run1_Aditya_vars_flattened.pkl\")\n",
    "\n",
    "# NumEvs_overlay_run1 = 914728 #Should have this saved somewhere, or perhaps accessed direcly from uproot? \n",
    "\n",
    "# print(flattened_overlay_from_pkl['nslice'])\n",
    "# print(flattened_overlay_from_pkl['nslice'][0])\n",
    "\n",
    "# number_evs_removed = 0\n",
    "# number_evs_kept = 0\n",
    "# for entry in range(NumEvs_overlay_run1):\n",
    "#     #if entry in flattened_overlay_from_pkl['nslice']:\n",
    "#     if entry in flattened_overlay_from_pkl.index:\n",
    "#         number_evs_kept += 1\n",
    "#     else:\n",
    "#         number_evs_removed += 1\n",
    "\n",
    "# print(\"Number of events kept is \" + str(number_evs_kept))\n",
    "# print(\"Number of events removed is \" + str(number_evs_removed))\n",
    "\n"
   ]
  },
  {
   "cell_type": "code",
   "execution_count": null,
   "id": "5be57b8d-f7f9-4194-be18-cbae304f988c",
   "metadata": {},
   "outputs": [],
   "source": [
    "#Fraction with nslice of 1 is 0.41223401929316694\n",
    "fraction_reco = number_evs_kept/(number_evs_kept+number_evs_removed)\n",
    "print(\"Fraction with nslice of 1 is \" + str(fraction_reco))"
   ]
  },
  {
   "cell_type": "code",
   "execution_count": null,
   "id": "b4bd9a0a-a821-46a6-944f-2450e56a9520",
   "metadata": {},
   "outputs": [],
   "source": []
  }
 ],
 "metadata": {
  "kernelspec": {
   "display_name": "Python 3 (ipykernel)",
   "language": "python",
   "name": "python3"
  },
  "language_info": {
   "codemirror_mode": {
    "name": "ipython",
    "version": 3
   },
   "file_extension": ".py",
   "mimetype": "text/x-python",
   "name": "python",
   "nbconvert_exporter": "python",
   "pygments_lexer": "ipython3",
   "version": "3.7.12"
  }
 },
 "nbformat": 4,
 "nbformat_minor": 5
}
