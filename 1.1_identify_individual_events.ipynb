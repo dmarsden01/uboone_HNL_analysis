{
 "cells": [
  {
   "cell_type": "code",
   "execution_count": 22,
   "id": "8ab81f70",
   "metadata": {},
   "outputs": [
    {
     "name": "stdout",
     "output_type": "stream",
     "text": [
      "Success\n"
     ]
    }
   ],
   "source": [
    "import os, sys, string, time\n",
    "import matplotlib.pyplot as plt\n",
    "import numpy as np\n",
    "import uproot\n",
    "import pandas as pd\n",
    "from platform import python_version\n",
    "import scipy\n",
    "from scipy import stats\n",
    "import uproot3\n",
    "import math\n",
    "import csv\n",
    "from particle import Particle\n",
    "# from matplotlib.patches import Rectangle\n",
    "\n",
    "import Utilities.Plotter as PT\n",
    "import Utilities.Constants as Constants\n",
    "import Utilities.Variables_list as Variables\n",
    "import Utilities.Functions as Functions\n",
    "from Utilities.ipython_exit import exit\n",
    "\n",
    "print('Success')"
   ]
  },
  {
   "cell_type": "markdown",
   "id": "1f013d62-7799-46a8-9bf7-afd8620ad5fb",
   "metadata": {},
   "source": [
    "## Reading in single file"
   ]
  },
  {
   "cell_type": "code",
   "execution_count": 80,
   "id": "30b3ece8-0ef2-4db1-982a-4011d1f10abc",
   "metadata": {},
   "outputs": [
    {
     "name": "stdout",
     "output_type": "stream",
     "text": [
      "Loaded run3 files.\n"
     ]
    },
    {
     "data": {
      "text/plain": [
       "Index(['run', 'sub', 'evt', 'nslice', 'n_pfps', 'n_tracks', 'n_showers',\n",
       "       'swtrig_pre', 'swtrig_post', 'trk_sce_start_x_v', 'trk_sce_start_y_v',\n",
       "       'trk_sce_start_z_v', 'trk_sce_end_x_v', 'trk_sce_end_y_v',\n",
       "       'trk_sce_end_z_v', 'shr_theta_v', 'shr_phi_v', 'shr_px_v', 'shr_py_v',\n",
       "       'shr_pz_v', 'shrclusdir0', 'shrclusdir1', 'shrclusdir2',\n",
       "       'shr_energy_tot', 'trk_theta_v', 'trk_phi_v', 'trk_dir_x_v',\n",
       "       'trk_dir_y_v', 'trk_dir_z_v', 'trk_energy', 'trk_energy_hits_tot',\n",
       "       'trk_energy_tot', 'trk_score_v', 'trk_calo_energy_u_v', 'trk_end_x_v',\n",
       "       'trk_chipr_best', 'pfnplanehits_U', 'pfnplanehits_V', 'pfnplanehits_Y',\n",
       "       'NeutrinoEnergy2', 'SliceCaloEnergy2', 'nu_flashmatch_score',\n",
       "       'contained_sps_ratio', 'flash_time', 'contained_fraction', 'trk_score',\n",
       "       'crtveto', 'shr_tkfit_dedx_U', 'shr_tkfit_dedx_V', 'shr_tkfit_dedx_Y',\n",
       "       'shr_tkfit_dedx_max', 'shr_tkfit_2cm_dedx_Y', 'shr_chipr',\n",
       "       'trk_bragg_p', 'trk_bragg_p_v', 'trk_chipr', 'subcluster',\n",
       "       'shr_moliere_avg_v', 'shrmoliereavg', 'topological_score', 'mc_pdg',\n",
       "       'mc_E', 'mc_vx', 'mc_vy', 'mc_vz', 'mc_endx', 'mc_endy', 'mc_endz',\n",
       "       'mc_px', 'mc_py', 'mc_pz', 'nu_pdg', 'ccnc', 'npi0', 'rse_id'],\n",
       "      dtype='object')"
      ]
     },
     "execution_count": 80,
     "metadata": {},
     "output_type": "execute_result"
    }
   ],
   "source": [
    "\n",
    "def Make_dataframes(file_loc):\n",
    "    \"\"\"\n",
    "    Make dataframes given a .root file location.\n",
    "    \"\"\"\n",
    "    interaction_truth_vars = [\"nu_pdg\", \"ccnc\", \"npi0\"]\n",
    "    Vars_to_load = Variables.Final_variable_list + Variables.Truth_vars + interaction_truth_vars\n",
    "    root_file = uproot3.open(file_loc)['nuselection/NeutrinoSelectionFilter']\n",
    "    df_file = root_file.pandas.df(Vars_to_load, flatten=False)\n",
    "    \n",
    "    return df_file\n",
    "\n",
    "Run = \"run3\"\n",
    "df_to_test = Make_dataframes(f'../NuMI_MC/SLIMMED_neutrinoselection_filt_{Run}_overlay.root')\n",
    "    \n",
    "Functions.make_unique_ev_id(df_to_test)\n",
    "\n",
    "print(f\"Loaded {Run} files.\")\n",
    "\n",
    "df_to_test.keys()"
   ]
  },
  {
   "cell_type": "code",
   "execution_count": 88,
   "id": "b3cc796a-336b-49be-8a67-c6fab2bc9014",
   "metadata": {},
   "outputs": [
    {
     "name": "stdout",
     "output_type": "stream",
     "text": [
      "16219_10_513\n"
     ]
    }
   ],
   "source": [
    "#Set these\n",
    "Run = 16219\n",
    "SubRun = 10\n",
    "Event = 513\n",
    "\n",
    "converted_rse = str(Run) + \"_\" + str(SubRun) + \"_\" + str(Event)\n",
    "\n",
    "print(converted_rse)\n",
    "\n",
    "isolated_event = df_to_test.loc[(df_to_test['rse_id'].isin([converted_rse]))]\n",
    "\n",
    "# print(isolated_event)\n"
   ]
  },
  {
   "cell_type": "code",
   "execution_count": 89,
   "id": "efa578f6-9a0c-4165-997d-8a2c1d503e14",
   "metadata": {},
   "outputs": [
    {
     "name": "stdout",
     "output_type": "stream",
     "text": [
      "Truth pdgs are: \n",
      "entry\n",
      "587538    [14, 2112, 2212, -211, 2212]\n",
      "Name: mc_pdg, dtype: object\n",
      "Particles are: \n",
      "nu(mu)\n",
      "n\n",
      "p\n",
      "pi-\n",
      "p\n"
     ]
    }
   ],
   "source": [
    "print(\"Truth pdgs are: \")\n",
    "\n",
    "print(isolated_event[\"mc_pdg\"])\n",
    "\n",
    "entry = isolated_event.index[0]\n",
    "truth_particles = []\n",
    "\n",
    "print(\"Particles are: \")\n",
    "for pdg in isolated_event[\"mc_pdg\"][entry]:\n",
    "    print(Particle.from_pdgid(int(pdg)))\n",
    "    truth_particles.append(str(Particle.from_pdgid(int(pdg))))"
   ]
  },
  {
   "cell_type": "code",
   "execution_count": 90,
   "id": "6f4cf967-75e4-4af6-bf17-4bfec828ba41",
   "metadata": {},
   "outputs": [
    {
     "name": "stdout",
     "output_type": "stream",
     "text": [
      "Interaction type is: \n",
      "Code: 14\n",
      "ccnc is: 1\n",
      "$\\nu_{\\mu}$ NC $0\\pi^{0}$\n"
     ]
    }
   ],
   "source": [
    "print(\"Interaction type is: \")\n",
    "nu_pdg = isolated_event[\"nu_pdg\"][entry]\n",
    "ccnc = isolated_event[\"ccnc\"][entry]\n",
    "npi0 = isolated_event[\"npi0\"][entry]\n",
    "print(\"Code: \"+str(isolated_event[\"nu_pdg\"][entry]))\n",
    "print(\"ccnc is: \" + str(ccnc))\n",
    "\n",
    "r\"$\\nu_{\\mu}$ CC $0\\pi^{0}$\", r\"$\\nu_{\\mu}$ NC $n\\pi^{0}$\", r\"$\\nu_{\\mu}$ NC $0\\pi^{0}$\", r\"$\\nu_{e}$\"\n",
    "\n",
    "if (nu_pdg==14 or nu_pdg==-14) and ccnc==0 and npi0>=1: interaction_type = r\"$\\nu_{\\mu}$ CC $n\\pi^{0}$\"\n",
    "elif (nu_pdg==14 or nu_pdg==-14) and ccnc==0 and npi0>=1: interaction_type = r\"$\\nu_{\\mu}$ CC $0\\pi^{0}$\"\n",
    "elif (nu_pdg==14 or nu_pdg==-14) and ccnc==1 and npi0>=1: interaction_type = r\"$\\nu_{\\mu}$ NC $n\\pi^{0}$\"\n",
    "elif (nu_pdg==14 or nu_pdg==-14) and ccnc==1 and npi0==0: interaction_type = r\"$\\nu_{\\mu}$ NC $0\\pi^{0}$\"\n",
    "elif (nu_pdg==12 or nu_pdg==-12): interaction_type = r\"$\\nu_{e}$\"\n",
    "\n",
    "print(interaction_type)"
   ]
  },
  {
   "cell_type": "code",
   "execution_count": 91,
   "id": "4e463ac2-de68-43e8-9de5-7e49fc022a19",
   "metadata": {},
   "outputs": [
    {
     "name": "stdout",
     "output_type": "stream",
     "text": [
      "Total Energies are: \n",
      "nu(mu): 0.75277126 GeV\n",
      "n: 0.97791857 GeV\n",
      "p: 0.98876715 GeV\n",
      "pi-: 0.3183972 GeV\n",
      "p: 0.9394203 GeV\n"
     ]
    }
   ],
   "source": [
    "print(\"Total Energies are: \")\n",
    "\n",
    "for i, Energy in enumerate(isolated_event[\"mc_E\"][entry]):\n",
    "    print(truth_particles[i]+\": \"+str(Energy)+ \" GeV\")"
   ]
  },
  {
   "cell_type": "code",
   "execution_count": 100,
   "id": "e271d7de-67b7-4811-acc6-81d3fabd4f77",
   "metadata": {},
   "outputs": [
    {
     "name": "stdout",
     "output_type": "stream",
     "text": [
      "Magnitude of momenta are: \n",
      "nu(mu): 0.7527712686908294 GeV\n",
      "n: 0.271185701518239 GeV\n",
      "p: 0.31193919295009015 GeV\n",
      "pi-: 0.2861764362666339 GeV\n",
      "p: 0.04643371392024028 GeV\n"
     ]
    }
   ],
   "source": [
    "magnitude_momenta = []\n",
    "direction_particle = []\n",
    "\n",
    "def Get_magnitude_mom(px, py, pz):\n",
    "    \"\"\"\n",
    "    Given individual components of momenta, returns the magnitude of momentum.\n",
    "    \"\"\"\n",
    "    squared_sum = px**2 + py**2 + pz**2\n",
    "    magnitude = np.sqrt(squared_sum)\n",
    "    return magnitude\n",
    "\n",
    "def Get_direction(mom_1, mom_2, direction):\n",
    "    \"\"\"\n",
    "    Provide 2 lists of px, py, pz.\n",
    "    Returns their angles wrt \\\"direction\\\" vector provided.\n",
    "    Also returns the opening angle between the two momenta lists. \n",
    "    \"\"\"\n",
    "    dot_1 = direction[0]*mom_1[0] + direction[1]*mom_1[1] + direction[2]*mom_1[2] # a dot b\n",
    "    dot_2 = direction[0]*mom_2[0] + direction[1]*mom_2[1] + direction[2]*mom_2[2] # a dot b\n",
    "    mag_1 = np.sqrt(mom_1[0]**2 + mom_1[1]**2 + mom_1[2]**2)\n",
    "    mag_2 = np.sqrt(mom_2[0]**2 + mom_2[1]**2 + mom_2[2]**2)\n",
    "    mag_dir = np.sqrt(direction[0]**2 + direction[1]**2 + direction[2]**2)\n",
    "\n",
    "    p_sum = [mom_1[0]+mom_2[0], mom_1[1]+mom_2[1], mom_1[2]+mom_2[2]]\n",
    "    p_sum_dot_dir = p_sum[0]*direction[0] + p_sum[1]*direction[1] + p_sum[2]*direction[2]\n",
    "    p_sum_mag = np.sqrt((mom_1[0]+mom_2[0])**2+(mom_1[1]+mom_2[1])**2+(mom_1[2]+mom_2[2])**2) # magnitude 1 plus 2\n",
    "\n",
    "    direction_1 = np.arccos(dot_1/(mag_1*mag_dir))\n",
    "    direction_2 = np.arccos(dot_2/(mag_2*mag_dir))\n",
    "    combined_angle = np.arccos(p_sum_dot_dir/(p_sum_mag*mag_dir))\n",
    "        \n",
    "    return direction_1, direction_2, combined_angle\n",
    "\n",
    "def Convert_radians_to_deg(radians):\n",
    "    \"\"\"\n",
    "    Input radians, returns degrees\n",
    "    \"\"\"\n",
    "    degrees = radians*180/np.pi\n",
    "    return degrees\n",
    "    \n",
    "    \n",
    "print(\"Magnitude of momenta are: \")\n",
    "for i, Energy in enumerate(isolated_event[\"mc_E\"][entry]):\n",
    "    px = isolated_event[\"mc_px\"][entry][i]\n",
    "    py = isolated_event[\"mc_py\"][entry][i]\n",
    "    pz = isolated_event[\"mc_pz\"][entry][i]\n",
    "    \n",
    "    mag_p = Get_magnitude_mom(px, py, pz)\n",
    "    \n",
    "    print(truth_particles[i]+\": \"+str(mag_p)+ \" GeV\")\n",
    "    \n",
    "interest_p1 = 3\n",
    "interest_p2 = 4\n",
    "mom_1 = [isolated_event[\"mc_px\"][entry][interest_p1], isolated_event[\"mc_py\"][entry][interest_p1], isolated_event[\"mc_pz\"][entry][interest_p1]]\n",
    "mom_2 = [isolated_event[\"mc_px\"][entry][interest_p2], isolated_event[\"mc_py\"][entry][interest_p2], isolated_event[\"mc_pz\"][entry][interest_p2]]\n"
   ]
  },
  {
   "cell_type": "code",
   "execution_count": 101,
   "id": "8b476509-6034-4b19-87c0-029e05ffc960",
   "metadata": {},
   "outputs": [
    {
     "name": "stdout",
     "output_type": "stream",
     "text": [
      "Angles wrt. z dir. are: \n",
      "pi-: 0.9457082196277758 radians\n",
      "p: 1.2108968258427284 radians\n",
      "Combined: 0.937686304076121 radians\n",
      "pi-: 54.185089635502685 degrees\n",
      "p: 69.3792775465762 degrees\n",
      "Combined: 53.72546773078249 degrees\n",
      "\n",
      "Angles wrt. absorber are: \n",
      "pi-: 2.087570347896273 radians\n",
      "p: 2.847540483303912 radians\n",
      "Combined: 2.2119938298920023 radians\n",
      "pi-: 119.60897037111341 degrees\n",
      "p: 163.1520516859568 degrees\n",
      "Combined: 126.73791076179069 degrees\n"
     ]
    }
   ],
   "source": [
    "z_dir = [0,0,1]\n",
    "av_HNL_dir = [0.324,0.738,-0.591]\n",
    "\n",
    "uboone_angle_1, uboone_angle_2, uboone_combined_angle = Get_direction(mom_1, mom_2, z_dir)\n",
    "absorber_angle_1, absorber_angle_2, absorber_combined_angle = Get_direction(mom_1, mom_2, av_HNL_dir)\n",
    "\n",
    "print(\"Angles wrt. z dir. are: \")\n",
    "\n",
    "print(truth_particles[interest_p1]+\": \"+str(uboone_angle_1)+ \" radians\")\n",
    "print(truth_particles[interest_p2]+\": \"+str(uboone_angle_2)+ \" radians\")\n",
    "print(\"Combined: \" + str(uboone_combined_angle)+ \" radians\")\n",
    "\n",
    "print(truth_particles[interest_p1]+\": \"+str(Convert_radians_to_deg(uboone_angle_1))+ \" degrees\")\n",
    "print(truth_particles[interest_p2]+\": \"+str(Convert_radians_to_deg(uboone_angle_2))+ \" degrees\")\n",
    "print(\"Combined: \" + str(Convert_radians_to_deg(uboone_combined_angle))+ \" degrees\")\n",
    "\n",
    "print()\n",
    "print(\"Angles wrt. absorber are: \")\n",
    "\n",
    "print(truth_particles[interest_p1]+\": \"+str(absorber_angle_1)+ \" radians\")\n",
    "print(truth_particles[interest_p2]+\": \"+str(absorber_angle_2)+ \" radians\")\n",
    "print(\"Combined: \" + str(absorber_combined_angle)+ \" radians\")\n",
    "\n",
    "print(truth_particles[interest_p1]+\": \"+str(Convert_radians_to_deg(absorber_angle_1))+ \" degrees\")\n",
    "print(truth_particles[interest_p2]+\": \"+str(Convert_radians_to_deg(absorber_angle_2))+ \" degrees\")\n",
    "print(\"Combined: \" + str(Convert_radians_to_deg(absorber_combined_angle))+ \" degrees\")\n"
   ]
  },
  {
   "cell_type": "markdown",
   "id": "a2c8719e-994b-42d9-a91d-6aff9042e36a",
   "metadata": {},
   "source": [
    "# Finished code"
   ]
  },
  {
   "cell_type": "code",
   "execution_count": null,
   "id": "bd164e00-3b56-4b7a-a55f-0418866e45c9",
   "metadata": {},
   "outputs": [],
   "source": []
  }
 ],
 "metadata": {
  "kernelspec": {
   "display_name": "Python 3 (ipykernel)",
   "language": "python",
   "name": "python3"
  },
  "language_info": {
   "codemirror_mode": {
    "name": "ipython",
    "version": 3
   },
   "file_extension": ".py",
   "mimetype": "text/x-python",
   "name": "python",
   "nbconvert_exporter": "python",
   "pygments_lexer": "ipython3",
   "version": "3.11.3"
  }
 },
 "nbformat": 4,
 "nbformat_minor": 5
}
