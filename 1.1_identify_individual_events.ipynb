{
 "cells": [
  {
   "cell_type": "code",
   "execution_count": 2,
   "id": "8ab81f70",
   "metadata": {},
   "outputs": [
    {
     "name": "stdout",
     "output_type": "stream",
     "text": [
      "Success\n"
     ]
    }
   ],
   "source": [
    "import os, sys, string, time\n",
    "import matplotlib.pyplot as plt\n",
    "import numpy as np\n",
    "import uproot\n",
    "import pandas as pd\n",
    "from platform import python_version\n",
    "import scipy\n",
    "from scipy import stats\n",
    "import uproot3\n",
    "import math\n",
    "import csv\n",
    "from particle import Particle\n",
    "# from matplotlib.patches import Rectangle\n",
    "\n",
    "import Utilities.Plotter as PT\n",
    "import Utilities.Constants as Constants\n",
    "import Utilities.Variables_list as Variables\n",
    "import Utilities.Functions as Functions\n",
    "from Utilities.ipython_exit import exit\n",
    "\n",
    "print('Success')"
   ]
  },
  {
   "cell_type": "markdown",
   "id": "6e0e168b",
   "metadata": {},
   "source": [
    "## Purpose\n",
    "\n",
    "This notebook is for isolating specific events in any sample by the run, subrun and event numbers. <br>\n",
    "In particular, this is useful when event displays are being made, since we can look at the true pdg and momenta of particles. <br>\n",
    "This notebook is not required for the analysis chain."
   ]
  },
  {
   "cell_type": "markdown",
   "id": "1f013d62-7799-46a8-9bf7-afd8620ad5fb",
   "metadata": {},
   "source": [
    "## Reading in single file"
   ]
  },
  {
   "cell_type": "code",
   "execution_count": 3,
   "id": "30b3ece8-0ef2-4db1-982a-4011d1f10abc",
   "metadata": {},
   "outputs": [
    {
     "name": "stdout",
     "output_type": "stream",
     "text": [
      "Loaded run3 files.\n"
     ]
    },
    {
     "data": {
      "text/plain": [
       "Index(['run', 'sub', 'evt', 'nslice', 'n_pfps', 'n_tracks', 'n_showers',\n",
       "       'swtrig_pre', 'swtrig_post', 'trk_sce_start_x_v', 'trk_sce_start_y_v',\n",
       "       'trk_sce_start_z_v', 'trk_sce_end_x_v', 'trk_sce_end_y_v',\n",
       "       'trk_sce_end_z_v', 'shr_theta_v', 'shr_phi_v', 'shr_px_v', 'shr_py_v',\n",
       "       'shr_pz_v', 'shrclusdir0', 'shrclusdir1', 'shrclusdir2',\n",
       "       'shr_energy_tot', 'trk_theta_v', 'trk_phi_v', 'trk_dir_x_v',\n",
       "       'trk_dir_y_v', 'trk_dir_z_v', 'trk_energy', 'trk_energy_hits_tot',\n",
       "       'trk_energy_tot', 'trk_score_v', 'trk_calo_energy_u_v', 'trk_end_x_v',\n",
       "       'trk_chipr_best', 'pfnplanehits_U', 'pfnplanehits_V', 'pfnplanehits_Y',\n",
       "       'NeutrinoEnergy2', 'SliceCaloEnergy2', 'nu_flashmatch_score',\n",
       "       'contained_sps_ratio', 'flash_time', 'contained_fraction', 'trk_score',\n",
       "       'crtveto', 'shr_tkfit_dedx_U', 'shr_tkfit_dedx_V', 'shr_tkfit_dedx_Y',\n",
       "       'shr_tkfit_dedx_max', 'shr_tkfit_2cm_dedx_Y', 'shr_chipr',\n",
       "       'trk_bragg_p', 'trk_bragg_p_v', 'trk_chipr', 'subcluster',\n",
       "       'shr_moliere_avg_v', 'shrmoliereavg', 'topological_score', 'mc_pdg',\n",
       "       'mc_E', 'mc_vx', 'mc_vy', 'mc_vz', 'mc_endx', 'mc_endy', 'mc_endz',\n",
       "       'mc_px', 'mc_py', 'mc_pz', 'nu_pdg', 'ccnc', 'npi0', 'rse_id'],\n",
       "      dtype='object')"
      ]
     },
     "execution_count": 3,
     "metadata": {},
     "output_type": "execute_result"
    }
   ],
   "source": [
    "\n",
    "def Make_dataframes(file_loc):\n",
    "    \"\"\"\n",
    "    Make dataframes given a .root file location.\n",
    "    \"\"\"\n",
    "    interaction_truth_vars = [\"nu_pdg\", \"ccnc\", \"npi0\"]\n",
    "    Vars_to_load = Variables.Final_variable_list + Variables.Truth_vars + interaction_truth_vars\n",
    "    root_file = uproot3.open(file_loc)['nuselection/NeutrinoSelectionFilter']\n",
    "    df_file = root_file.pandas.df(Vars_to_load, flatten=False)\n",
    "    \n",
    "    return df_file\n",
    "\n",
    "Run = \"run3\"\n",
    "df_to_test = Make_dataframes(f'../NuMI_MC/SLIMMED_neutrinoselection_filt_{Run}_overlay.root')\n",
    "# df_to_test = Make_dataframes(f'../NuMI_data/neutrinoselection_filt_{Run}_beamon_beamgood.root')\n",
    "    \n",
    "Functions.make_unique_ev_id(df_to_test)\n",
    "\n",
    "print(f\"Loaded {Run} files.\")\n",
    "\n",
    "df_to_test.keys()"
   ]
  },
  {
   "cell_type": "markdown",
   "id": "8b270688-b743-4aa4-8915-53678f8611c0",
   "metadata": {},
   "source": [
    "## Just looking at dfs"
   ]
  },
  {
   "cell_type": "code",
   "execution_count": 4,
   "id": "e9d16293-0da6-48bb-b42a-8ba8e2670c1a",
   "metadata": {},
   "outputs": [
    {
     "name": "stdout",
     "output_type": "stream",
     "text": [
      "748702\n",
      "323744\n",
      "Index(['run', 'sub', 'evt', 'nslice', 'n_pfps', 'n_tracks', 'n_showers',\n",
      "       'swtrig_pre', 'swtrig_post', 'trk_sce_start_x_v', 'trk_sce_start_y_v',\n",
      "       'trk_sce_start_z_v', 'trk_sce_end_x_v', 'trk_sce_end_y_v',\n",
      "       'trk_sce_end_z_v', 'shr_theta_v', 'shr_phi_v', 'shr_px_v', 'shr_py_v',\n",
      "       'shr_pz_v', 'shrclusdir0', 'shrclusdir1', 'shrclusdir2',\n",
      "       'shr_energy_tot', 'trk_theta_v', 'trk_phi_v', 'trk_dir_x_v',\n",
      "       'trk_dir_y_v', 'trk_dir_z_v', 'trk_energy', 'trk_energy_hits_tot',\n",
      "       'trk_energy_tot', 'trk_score_v', 'trk_calo_energy_u_v', 'trk_end_x_v',\n",
      "       'trk_chipr_best', 'pfnplanehits_U', 'pfnplanehits_V', 'pfnplanehits_Y',\n",
      "       'NeutrinoEnergy2', 'SliceCaloEnergy2', 'nu_flashmatch_score',\n",
      "       'contained_sps_ratio', 'flash_time', 'contained_fraction', 'trk_score',\n",
      "       'crtveto', 'shr_tkfit_dedx_U', 'shr_tkfit_dedx_V', 'shr_tkfit_dedx_Y',\n",
      "       'shr_tkfit_dedx_max', 'shr_tkfit_2cm_dedx_Y', 'shr_chipr',\n",
      "       'trk_bragg_p', 'trk_bragg_p_v', 'trk_chipr', 'subcluster',\n",
      "       'shr_moliere_avg_v', 'shrmoliereavg', 'topological_score', 'mc_pdg',\n",
      "       'mc_E', 'mc_vx', 'mc_vy', 'mc_vz', 'mc_endx', 'mc_endy', 'mc_endz',\n",
      "       'mc_px', 'mc_py', 'mc_pz', 'nu_pdg', 'ccnc', 'npi0', 'rse_id'],\n",
      "      dtype='object')\n"
     ]
    }
   ],
   "source": [
    "# Just looking at the dataframe\n",
    "nslice_df = df_to_test.query('nslice==1')\n",
    "print(len(df_to_test))\n",
    "print(len(nslice_df))\n",
    "print(df_to_test.keys())\n",
    "# df_to_test.head(20)"
   ]
  },
  {
   "cell_type": "code",
   "execution_count": 20,
   "id": "2df6c661-4d1e-4245-9da6-c01b35fca7e8",
   "metadata": {},
   "outputs": [
    {
     "name": "stdout",
     "output_type": "stream",
     "text": [
      "entry\n",
      "0                  [0.561943]\n",
      "1                          []\n",
      "2                          []\n",
      "3    [0.60488117, 0.36775658]\n",
      "4     [2.1951094, 0.56213015]\n",
      "Name: shr_theta_v, dtype: object\n",
      "entry\n",
      "0                  [0.561943]\n",
      "3    [0.60488117, 0.36775658]\n",
      "4     [2.1951094, 0.56213015]\n",
      "5                [0.67865294]\n",
      "7                 [2.1232917]\n",
      "Name: shr_theta_v, dtype: object\n",
      "entry\n",
      "0    0\n",
      "3    0\n",
      "4    1\n",
      "5    0\n",
      "7    0\n",
      "Name: n_showers, dtype: int32\n",
      "entry\n",
      "0    1\n",
      "3    2\n",
      "4    2\n",
      "5    1\n",
      "7    1\n",
      "Name: n_pfps, dtype: int32\n",
      "entry\n",
      "0                 [0.9768751]\n",
      "3    [0.99995583, 0.96434164]\n",
      "4    [0.30477512, 0.97554344]\n",
      "5                 [0.9997782]\n",
      "7                  [0.971405]\n",
      "Name: trk_score_v, dtype: object\n"
     ]
    }
   ],
   "source": [
    "print(df_to_test['shr_theta_v'].head())\n",
    "print(nslice_df['shr_theta_v'].head())\n",
    "print(nslice_df['n_showers'].head()) \n",
    "print(nslice_df['n_pfps'].head()) #'trk_score_v'\n",
    "print(nslice_df['trk_score_v'].head())"
   ]
  },
  {
   "cell_type": "code",
   "execution_count": 24,
   "id": "e913ff36-745b-4133-b6be-f5bc4647d8e4",
   "metadata": {},
   "outputs": [
    {
     "name": "stdout",
     "output_type": "stream",
     "text": [
      "entry\n",
      "0                  [0.561943]\n",
      "1                          []\n",
      "2                          []\n",
      "3    [0.60488117, 0.36775658]\n",
      "4     [2.1951094, 0.56213015]\n",
      "Name: shr_theta_v, dtype: object\n",
      "entry\n",
      "0                [0.6049781]\n",
      "1                         []\n",
      "2                         []\n",
      "3     [0.6132897, 0.3603795]\n",
      "4    [2.1852891, 0.56132424]\n",
      "Name: trk_theta_v, dtype: object\n",
      "entry\n",
      "0                 [3.010025]\n",
      "1                         []\n",
      "2                         []\n",
      "3     [0.5531805, -1.792935]\n",
      "4    [-2.28682, -0.19758977]\n",
      "Name: shr_phi_v, dtype: object\n",
      "entry\n",
      "0                 [2.9254634]\n",
      "1                          []\n",
      "2                          []\n",
      "3    [0.57154614, -1.5239161]\n",
      "4    [-2.324747, -0.19320598]\n",
      "Name: trk_phi_v, dtype: object\n",
      "entry\n",
      "0    -3.402823e+38\n",
      "1    -3.402823e+38\n",
      "2    -3.402823e+38\n",
      "3    -3.402823e+38\n",
      "4    -3.402823e+38\n",
      "5    -3.402823e+38\n",
      "6    -3.402823e+38\n",
      "7    -3.402823e+38\n",
      "8    -3.402823e+38\n",
      "9    -3.402823e+38\n",
      "10   -3.402823e+38\n",
      "11    4.504192e+00\n",
      "12   -3.402823e+38\n",
      "13   -3.402823e+38\n",
      "14    4.875774e+00\n",
      "15   -3.402823e+38\n",
      "16   -3.402823e+38\n",
      "17    5.642366e+00\n",
      "18   -3.402823e+38\n",
      "19   -3.402823e+38\n",
      "Name: shr_tkfit_dedx_max, dtype: float32\n"
     ]
    }
   ],
   "source": [
    "print(df_to_test['shr_theta_v'].head())\n",
    "print(df_to_test['trk_theta_v'].head())\n",
    "print(df_to_test['shr_phi_v'].head())\n",
    "print(df_to_test['trk_phi_v'].head()) \n",
    "print(df_to_test['shr_tkfit_dedx_max'].head(20))"
   ]
  },
  {
   "cell_type": "markdown",
   "id": "75367ef3-6975-4b8b-9bac-7eabcbd09cd7",
   "metadata": {},
   "source": [
    "## Picking event"
   ]
  },
  {
   "cell_type": "code",
   "execution_count": 42,
   "id": "b3cc796a-336b-49be-8a67-c6fab2bc9014",
   "metadata": {},
   "outputs": [
    {
     "name": "stdout",
     "output_type": "stream",
     "text": [
      "16112_345_17273\n"
     ]
    }
   ],
   "source": [
    "#Set these\n",
    "# Run = 16219\n",
    "# SubRun = 10\n",
    "# Event = 513\n",
    "\n",
    "# Run = 16333\n",
    "# SubRun = 24\n",
    "# Event = 1224\n",
    "\n",
    "#beamgood\n",
    "# Run = 14902\n",
    "# SubRun = 291\n",
    "# Event = 14555\n",
    "\n",
    "#overlay\n",
    "Run = 16112\n",
    "SubRun = 345\n",
    "Event = 17273\n",
    "\n",
    "converted_rse = str(Run) + \"_\" + str(SubRun) + \"_\" + str(Event)\n",
    "\n",
    "print(converted_rse)\n",
    "\n",
    "isolated_event = df_to_test.loc[(df_to_test['rse_id'].isin([converted_rse]))]\n",
    "\n",
    "# print(isolated_event)\n"
   ]
  },
  {
   "cell_type": "code",
   "execution_count": 43,
   "id": "3359f1dc-009a-47c5-9864-44900d4fa965",
   "metadata": {},
   "outputs": [
    {
     "name": "stdout",
     "output_type": "stream",
     "text": [
      "Total reconstructed slice energy is: \n",
      "entry\n",
      "732117    203.138748\n",
      "Name: NeutrinoEnergy2, dtype: float32\n"
     ]
    }
   ],
   "source": [
    "print(\"Total reconstructed slice energy is: \")\n",
    "\n",
    "print(isolated_event[\"NeutrinoEnergy2\"])\n"
   ]
  },
  {
   "cell_type": "code",
   "execution_count": 44,
   "id": "efa578f6-9a0c-4165-997d-8a2c1d503e14",
   "metadata": {},
   "outputs": [
    {
     "name": "stdout",
     "output_type": "stream",
     "text": [
      "Truth pdgs are: \n",
      "entry\n",
      "732117    [14, 2112, 111]\n",
      "Name: mc_pdg, dtype: object\n",
      "Particles are: \n",
      "nu(mu)\n",
      "n\n",
      "pi0\n"
     ]
    }
   ],
   "source": [
    "print(\"Truth pdgs are: \")\n",
    "\n",
    "print(isolated_event[\"mc_pdg\"])\n",
    "\n",
    "entry = isolated_event.index[0]\n",
    "truth_particles = []\n",
    "\n",
    "print(\"Particles are: \")\n",
    "for pdg in isolated_event[\"mc_pdg\"][entry]:\n",
    "    print(Particle.from_pdgid(int(pdg)))\n",
    "    truth_particles.append(str(Particle.from_pdgid(int(pdg))))"
   ]
  },
  {
   "cell_type": "code",
   "execution_count": 45,
   "id": "6f4cf967-75e4-4af6-bf17-4bfec828ba41",
   "metadata": {},
   "outputs": [
    {
     "name": "stdout",
     "output_type": "stream",
     "text": [
      "Interaction type is: \n",
      "Code: 14\n",
      "ccnc is: 1\n",
      "$\\nu_{\\mu}$ NC $n\\pi^{0}$\n"
     ]
    }
   ],
   "source": [
    "print(\"Interaction type is: \")\n",
    "nu_pdg = isolated_event[\"nu_pdg\"][entry]\n",
    "ccnc = isolated_event[\"ccnc\"][entry]\n",
    "npi0 = isolated_event[\"npi0\"][entry]\n",
    "print(\"Code: \"+str(isolated_event[\"nu_pdg\"][entry]))\n",
    "print(\"ccnc is: \" + str(ccnc))\n",
    "\n",
    "r\"$\\nu_{\\mu}$ CC $0\\pi^{0}$\", r\"$\\nu_{\\mu}$ NC $n\\pi^{0}$\", r\"$\\nu_{\\mu}$ NC $0\\pi^{0}$\", r\"$\\nu_{e}$\"\n",
    "\n",
    "if (nu_pdg==14 or nu_pdg==-14) and ccnc==0 and npi0>=1: interaction_type = r\"$\\nu_{\\mu}$ CC $n\\pi^{0}$\"\n",
    "elif (nu_pdg==14 or nu_pdg==-14) and ccnc==0 and npi0>=1: interaction_type = r\"$\\nu_{\\mu}$ CC $0\\pi^{0}$\"\n",
    "elif (nu_pdg==14 or nu_pdg==-14) and ccnc==1 and npi0>=1: interaction_type = r\"$\\nu_{\\mu}$ NC $n\\pi^{0}$\"\n",
    "elif (nu_pdg==14 or nu_pdg==-14) and ccnc==1 and npi0==0: interaction_type = r\"$\\nu_{\\mu}$ NC $0\\pi^{0}$\"\n",
    "elif (nu_pdg==12 or nu_pdg==-12): interaction_type = r\"$\\nu_{e}$\"\n",
    "\n",
    "print(interaction_type)"
   ]
  },
  {
   "cell_type": "code",
   "execution_count": 46,
   "id": "4e463ac2-de68-43e8-9de5-7e49fc022a19",
   "metadata": {},
   "outputs": [
    {
     "name": "stdout",
     "output_type": "stream",
     "text": [
      "Total Energies are: \n",
      "nu(mu): 0.60541946 GeV\n",
      "n: 1.2546296 GeV\n",
      "pi0: 0.22652754 GeV\n",
      "Non-neutrino particles: 1.4811571538448334 GeV\n"
     ]
    }
   ],
   "source": [
    "print(\"Total Energies are: \")\n",
    "\n",
    "non_nu_Energy = 0\n",
    "\n",
    "for i, Energy in enumerate(isolated_event[\"mc_E\"][entry]):\n",
    "    print(truth_particles[i]+\": \"+str(Energy)+ \" GeV\")\n",
    "    if i != 0: non_nu_Energy += Energy\n",
    "\n",
    "print(\"Non-neutrino particles: \" + str(non_nu_Energy) + \" GeV\")"
   ]
  },
  {
   "cell_type": "code",
   "execution_count": 47,
   "id": "e271d7de-67b7-4811-acc6-81d3fabd4f77",
   "metadata": {},
   "outputs": [
    {
     "name": "stdout",
     "output_type": "stream",
     "text": [
      "Magnitude of momenta are: \n",
      "nu(mu): 0.6054194428325462 GeV\n",
      "n: 0.8314520209472815 GeV\n",
      "pi0: 0.18192318476443475 GeV\n"
     ]
    }
   ],
   "source": [
    "magnitude_momenta = []\n",
    "direction_particle = []\n",
    "\n",
    "def Get_magnitude_mom(px, py, pz):\n",
    "    \"\"\"\n",
    "    Given individual components of momenta, returns the magnitude of momentum.\n",
    "    \"\"\"\n",
    "    squared_sum = px**2 + py**2 + pz**2\n",
    "    magnitude = np.sqrt(squared_sum)\n",
    "    return magnitude\n",
    "\n",
    "def Get_direction(mom_1, mom_2, direction):\n",
    "    \"\"\"\n",
    "    Provide 2 lists of px, py, pz.\n",
    "    Returns their angles wrt \\\"direction\\\" vector provided.\n",
    "    Also returns the opening angle between the two momenta lists. \n",
    "    \"\"\"\n",
    "    dot_1 = direction[0]*mom_1[0] + direction[1]*mom_1[1] + direction[2]*mom_1[2] # a dot b\n",
    "    dot_2 = direction[0]*mom_2[0] + direction[1]*mom_2[1] + direction[2]*mom_2[2] # a dot b\n",
    "    mag_1 = np.sqrt(mom_1[0]**2 + mom_1[1]**2 + mom_1[2]**2)\n",
    "    mag_2 = np.sqrt(mom_2[0]**2 + mom_2[1]**2 + mom_2[2]**2)\n",
    "    mag_dir = np.sqrt(direction[0]**2 + direction[1]**2 + direction[2]**2)\n",
    "\n",
    "    p_sum = [mom_1[0]+mom_2[0], mom_1[1]+mom_2[1], mom_1[2]+mom_2[2]]\n",
    "    p_sum_dot_dir = p_sum[0]*direction[0] + p_sum[1]*direction[1] + p_sum[2]*direction[2]\n",
    "    p_sum_mag = np.sqrt((mom_1[0]+mom_2[0])**2+(mom_1[1]+mom_2[1])**2+(mom_1[2]+mom_2[2])**2) # magnitude 1 plus 2\n",
    "\n",
    "    direction_1 = np.arccos(dot_1/(mag_1*mag_dir))\n",
    "    direction_2 = np.arccos(dot_2/(mag_2*mag_dir))\n",
    "    combined_angle = np.arccos(p_sum_dot_dir/(p_sum_mag*mag_dir))\n",
    "        \n",
    "    return direction_1, direction_2, combined_angle\n",
    "\n",
    "def Convert_radians_to_deg(radians):\n",
    "    \"\"\"\n",
    "    Input radians, returns degrees\n",
    "    \"\"\"\n",
    "    degrees = radians*180/np.pi\n",
    "    return degrees\n",
    "    \n",
    "    \n",
    "print(\"Magnitude of momenta are: \")\n",
    "for i, Energy in enumerate(isolated_event[\"mc_E\"][entry]):\n",
    "    px = isolated_event[\"mc_px\"][entry][i]\n",
    "    py = isolated_event[\"mc_py\"][entry][i]\n",
    "    pz = isolated_event[\"mc_pz\"][entry][i]\n",
    "    \n",
    "    mag_p = Get_magnitude_mom(px, py, pz)\n",
    "    \n",
    "    print(truth_particles[i]+\": \"+str(mag_p)+ \" GeV\")\n",
    "    \n",
    "interest_p1 = 0\n",
    "interest_p2 = 2\n",
    "\n",
    "mom_1 = [isolated_event[\"mc_px\"][entry][interest_p1], isolated_event[\"mc_py\"][entry][interest_p1], isolated_event[\"mc_pz\"][entry][interest_p1]]\n",
    "mom_2 = [isolated_event[\"mc_px\"][entry][interest_p2], isolated_event[\"mc_py\"][entry][interest_p2], isolated_event[\"mc_pz\"][entry][interest_p2]]\n",
    "\n",
    "pos_1 = [isolated_event['mc_vx'][entry][interest_p1], isolated_event['mc_vy'][entry][interest_p1], isolated_event['mc_vz'][entry][interest_p1]]\n",
    "pos_2 = [isolated_event['mc_vx'][entry][interest_p2], isolated_event['mc_vy'][entry][interest_p2], isolated_event['mc_vz'][entry][interest_p2]]\n",
    "\n",
    "end_1 = [isolated_event['mc_endx'][entry][interest_p1], isolated_event['mc_endy'][entry][interest_p1], isolated_event['mc_endz'][entry][interest_p1]]\n",
    "end_2 = [isolated_event['mc_endx'][entry][interest_p2], isolated_event['mc_endy'][entry][interest_p2], isolated_event['mc_endz'][entry][interest_p2]]\n"
   ]
  },
  {
   "cell_type": "code",
   "execution_count": 48,
   "id": "f12436fc-68a8-48c8-b342-463d8a56c269",
   "metadata": {},
   "outputs": [
    {
     "name": "stdout",
     "output_type": "stream",
     "text": [
      "Vertex positions:\n",
      "nu(mu): [188.2462, -39.294384, 736.35095]\n",
      "pi0: [188.2462, -39.294384, 736.35095]\n",
      "\n",
      "End positions:\n",
      "nu(mu): [4346.905, 4378.0137, 74163.0]\n",
      "pi0: [188.2462, -39.294384, 736.35095]\n",
      "\n",
      "Momenta:\n",
      "nu(mu): [0.03417264, 0.03629802, 0.6033634]\n",
      "pi0: [-0.08462792, -0.13161922, 0.09279301]\n"
     ]
    }
   ],
   "source": [
    "print(\"Vertex positions:\")\n",
    "print(str(truth_particles[interest_p1]) + \": \" + str(pos_1))\n",
    "print(str(truth_particles[interest_p2]) + \": \" + str(pos_2))\n",
    "\n",
    "print(\"\\nEnd positions:\")\n",
    "print(str(truth_particles[interest_p1]) + \": \" + str(end_1))\n",
    "print(str(truth_particles[interest_p2]) + \": \" + str(end_2))\n",
    "\n",
    "print(\"\\nMomenta:\")\n",
    "print(str(truth_particles[interest_p1]) + \": \" + str(mom_1))\n",
    "print(str(truth_particles[interest_p2]) + \": \" + str(mom_2))\n"
   ]
  },
  {
   "cell_type": "code",
   "execution_count": 49,
   "id": "8b476509-6034-4b19-87c0-029e05ffc960",
   "metadata": {},
   "outputs": [
    {
     "name": "stdout",
     "output_type": "stream",
     "text": [
      "Angles wrt. z dir. are: \n",
      "nu(mu): 0.08243780792737805 radians\n",
      "pi0: 1.035533662123611 radians\n",
      "Combined: 0.1537017926446185 radians\n",
      "nu(mu): 4.723338466548883 degrees\n",
      "pi0: 59.33170838340911 degrees\n",
      "Combined: 8.80646402213156 degrees\n",
      "\n",
      "Angles wrt. absorber are: \n",
      "nu(mu): 2.1255659605182156 radians\n",
      "pi0: 2.9779834631626487 radians\n",
      "Combined: 2.35673190534207 radians\n",
      "nu(mu): 121.78595861436473 degrees\n",
      "pi0: 170.62588389897243 degrees\n",
      "Combined: 135.03079161992565 degrees\n"
     ]
    }
   ],
   "source": [
    "z_dir = [0,0,1]\n",
    "av_HNL_dir = [0.324,0.738,-0.591]\n",
    "\n",
    "uboone_angle_1, uboone_angle_2, uboone_combined_angle = Get_direction(mom_1, mom_2, z_dir)\n",
    "absorber_angle_1, absorber_angle_2, absorber_combined_angle = Get_direction(mom_1, mom_2, av_HNL_dir)\n",
    "\n",
    "print(\"Angles wrt. z dir. are: \")\n",
    "\n",
    "print(truth_particles[interest_p1]+\": \"+str(uboone_angle_1)+ \" radians\")\n",
    "print(truth_particles[interest_p2]+\": \"+str(uboone_angle_2)+ \" radians\")\n",
    "print(\"Combined: \" + str(uboone_combined_angle)+ \" radians\")\n",
    "\n",
    "print(truth_particles[interest_p1]+\": \"+str(Convert_radians_to_deg(uboone_angle_1))+ \" degrees\")\n",
    "print(truth_particles[interest_p2]+\": \"+str(Convert_radians_to_deg(uboone_angle_2))+ \" degrees\")\n",
    "print(\"Combined: \" + str(Convert_radians_to_deg(uboone_combined_angle))+ \" degrees\")\n",
    "\n",
    "print()\n",
    "print(\"Angles wrt. absorber are: \")\n",
    "\n",
    "print(truth_particles[interest_p1]+\": \"+str(absorber_angle_1)+ \" radians\")\n",
    "print(truth_particles[interest_p2]+\": \"+str(absorber_angle_2)+ \" radians\")\n",
    "print(\"Combined: \" + str(absorber_combined_angle)+ \" radians\")\n",
    "\n",
    "print(truth_particles[interest_p1]+\": \"+str(Convert_radians_to_deg(absorber_angle_1))+ \" degrees\")\n",
    "print(truth_particles[interest_p2]+\": \"+str(Convert_radians_to_deg(absorber_angle_2))+ \" degrees\")\n",
    "print(\"Combined: \" + str(Convert_radians_to_deg(absorber_combined_angle))+ \" degrees\")\n"
   ]
  },
  {
   "cell_type": "code",
   "execution_count": 50,
   "id": "9bfe1c1b-6336-485e-8570-e5f4a4a6c698",
   "metadata": {},
   "outputs": [
    {
     "name": "stdout",
     "output_type": "stream",
     "text": [
      "126.25109229442924 66.29735404903376\n"
     ]
    }
   ],
   "source": [
    "#Getting theta and phi of a vector\n",
    "\n",
    "def Get_uboone_angles(mom_1):\n",
    "    \"\"\"\n",
    "    Provide list of px, py, pz.\n",
    "    Returns the theta and phi angles in uboone coordinates. \n",
    "    \"\"\"\n",
    "    mag_mom = Get_magnitude_mom(mom_1[0], mom_1[1], mom_1[2])\n",
    "    \n",
    "    z_dir = [0, 0, 1]\n",
    "    transverse_z = [1,1,0]\n",
    "    \n",
    "    dot_1 = z_dir[0]*mom_1[0] + z_dir[1]*mom_1[1] + z_dir[2]*mom_1[2] # a dot b\n",
    "    \n",
    "    # dot_transverse = np.sqrt(mom_1[0]**2 + mom_1[1]**2) #/mag_mom\n",
    "    pt = np.sqrt(mom_1[0]**2 + mom_1[1]**2) #/mag_mom\n",
    "    \n",
    "    theta = np.arctan2(pt, mom_1[2])\n",
    "    phi = np.arctan2(mom_1[1], mom_1[0])\n",
    "    \n",
    "#     dot_2 = direction[0]*mom_2[0] + direction[1]*mom_2[1] + direction[2]*mom_2[2] # a dot b\n",
    "#     mag_1 = np.sqrt(mom_1[0]**2 + mom_1[1]**2 + mom_1[2]**2)\n",
    "#     mag_2 = np.sqrt(mom_2[0]**2 + mom_2[1]**2 + mom_2[2]**2)\n",
    "#     mag_dir = np.sqrt(direction[0]**2 + direction[1]**2 + direction[2]**2)\n",
    "\n",
    "#     p_sum = [mom_1[0]+mom_2[0], mom_1[1]+mom_2[1], mom_1[2]+mom_2[2]]\n",
    "#     p_sum_dot_dir = p_sum[0]*direction[0] + p_sum[1]*direction[1] + p_sum[2]*direction[2]\n",
    "#     p_sum_mag = np.sqrt((mom_1[0]+mom_2[0])**2+(mom_1[1]+mom_2[1])**2+(mom_1[2]+mom_2[2])**2) # magnitude 1 plus 2\n",
    "\n",
    "#     direction_1 = np.arccos(dot_1/(mag_1*mag_dir))\n",
    "#     direction_2 = np.arccos(dot_2/(mag_2*mag_dir))\n",
    "#     combined_angle = np.arccos(p_sum_dot_dir/(p_sum_mag*mag_dir))\n",
    "        \n",
    "    return theta, phi\n",
    "\n",
    "theta_abs, phi_abs = Get_uboone_angles(av_HNL_dir)\n",
    "theta_1, phi_1 = Get_uboone_angles(mom_1)\n",
    "\n",
    "print(Convert_radians_to_deg(theta_abs), Convert_radians_to_deg(phi_abs))"
   ]
  },
  {
   "cell_type": "code",
   "execution_count": 51,
   "id": "949c7b14-1ea3-481a-ac4b-5e46479c00b4",
   "metadata": {},
   "outputs": [
    {
     "data": {
      "image/png": "[encoded data removed]",
      "text/plain": [
       "<Figure size 1500x500 with 1 Axes>"
      ]
     },
     "metadata": {},
     "output_type": "display_data"
    }
   ],
   "source": [
    "#Plotting momentum vectors\n",
    "from matplotlib.patches import Patch\n",
    "\n",
    "V = np.array([[mom_1[2],mom_1[0]], [mom_2[2],mom_2[0]]])\n",
    "origin = np.array([[0, 0],[0, 0]]) # origin point\n",
    "\n",
    "# plt.quiver(*origin, V[:,0], V[:,1], color=['r','b'], scale=21)\n",
    "plt.quiver(*origin, V[:,0], V[:,1], color=['r','b'], scale=2)\n",
    "\n",
    "plt.xlabel(r\"$z$-momentum\")\n",
    "plt.ylabel(r\"$x$-momentum\")\n",
    "\n",
    "leg = [Patch(facecolor='r', edgecolor='r',label=truth_particles[interest_p1]),\n",
    "       Patch(facecolor='b', edgecolor='b',label=truth_particles[interest_p2])]\n",
    "\n",
    "plt.legend(handles=leg)\n",
    "\n",
    "plt.show()\n"
   ]
  },
  {
   "cell_type": "markdown",
   "id": "a2c8719e-994b-42d9-a91d-6aff9042e36a",
   "metadata": {},
   "source": [
    "# Finished code"
   ]
  },
  {
   "cell_type": "code",
   "execution_count": 90,
   "id": "bd164e00-3b56-4b7a-a55f-0418866e45c9",
   "metadata": {},
   "outputs": [
    {
     "name": "stdout",
     "output_type": "stream",
     "text": [
      "Given x pixels, calculating y pixels.\n",
      "192\n"
     ]
    },
    {
     "data": {
      "text/plain": [
       "192"
      ]
     },
     "execution_count": 90,
     "metadata": {},
     "output_type": "execute_result"
    }
   ],
   "source": [
    "Functions.Get_resolution(\"x\", 342)"
   ]
  },
  {
   "cell_type": "code",
   "execution_count": null,
   "id": "9a131585-b22b-4952-8f52-d427aba0c0d7",
   "metadata": {},
   "outputs": [],
   "source": []
  }
 ],
 "metadata": {
  "kernelspec": {
   "display_name": "Python 3 (ipykernel)",
   "language": "python",
   "name": "python3"
  },
  "language_info": {
   "codemirror_mode": {
    "name": "ipython",
    "version": 3
   },
   "file_extension": ".py",
   "mimetype": "text/x-python",
   "name": "python",
   "nbconvert_exporter": "python",
   "pygments_lexer": "ipython3",
   "version": "3.11.3"
  }
 },
 "nbformat": 4,
 "nbformat_minor": 5
}
