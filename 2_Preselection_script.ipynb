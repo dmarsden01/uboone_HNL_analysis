{
 "cells": [
  {
   "cell_type": "code",
   "execution_count": 18,
   "id": "8ab81f70",
   "metadata": {},
   "outputs": [
    {
     "name": "stdout",
     "output_type": "stream",
     "text": [
      "Success\n"
     ]
    }
   ],
   "source": [
    "import os,sys,string, time\n",
    "import ROOT\n",
    "from math import *\n",
    "from ROOT import gPad, TTree, TObject, TFile, gDirectory, TH1D, TH2D, TH3D, TCanvas, gROOT, TGaxis, gStyle, TColor, TLegend, THStack, TChain, TLatex, TText, TCollection, kRed, kBlue\n",
    "from array import array\n",
    "import matplotlib.pyplot as plt\n",
    "import numpy as np\n",
    "import uproot\n",
    "import pandas as pd\n",
    "from root_pandas import read_root\n",
    "from platform import python_version\n",
    "import scipy\n",
    "from scipy import stats\n",
    "import uproot3\n",
    "import math\n",
    "from matplotlib.patches import Rectangle\n",
    "from importlib import reload\n",
    "\n",
    "import Utilities.Plotter as PT\n",
    "import Utilities.Constants as Constants\n",
    "import Utilities.Variables_list as Variables\n",
    "import Utilities.Variables_bins as Variables_bins\n",
    "import Utilities.Functions as Functions\n",
    "import Utilities.Sys_unc_variables as Sys_unc\n",
    "from Utilities.ipython_exit import exit\n",
    "\n",
    "print ('Success')"
   ]
  },
  {
   "cell_type": "markdown",
   "id": "775a3504-392d-4b23-a225-0db439fcb0f5",
   "metadata": {},
   "source": [
    "# Reading in .pkl files"
   ]
  },
  {
   "cell_type": "code",
   "execution_count": 7,
   "id": "fd6a5c09-f380-4529-bc11-c0eb39e8efe3",
   "metadata": {},
   "outputs": [
    {
     "name": "stdout",
     "output_type": "stream",
     "text": [
      "Loading these run1 samples: \n",
      "['signal', 'overlay', 'dirtoverlay', 'beamoff', 'beamgood']\n"
     ]
    }
   ],
   "source": [
    "Params = {\"Run\":\"run1\", #The run number, so far either \"run1\" or \"run3\"\n",
    "          \"Load_single_file\":False, #This will override everything else, put the desired file in the \"single_file\" line\n",
    "          \"single_file\":\"overlay\",\n",
    "          \"Load_standard_bkgs\":True,\n",
    "          \"Load_DetVars\":False,\n",
    "          \"Only_keep_common_DetVar_evs\":True,\n",
    "          \"Load_Signal_DetVars\":False,\n",
    "          \"Load_data\":True,\n",
    "          \"FLATTEN\":True, #Have one row per reconstructed object in the analysis dataframe\n",
    "          \"only_presel\":False, #Create small files containing only variables necessary for pre-selection, for making pre-selection plots\n",
    "          \"Load_truth_vars\":False,\n",
    "          \"Load_lepton_signal\":True,\n",
    "          \"Load_pi0_signal\":False}\n",
    "\n",
    "Params, samples = Functions.create_sample_list(Params)\n",
    "loc_pkls = \"pkl_files/\"+Params[\"Run\"]+\"/current_files/\"+Params[\"variables_string\"]+\"/\""
   ]
  },
  {
   "cell_type": "code",
   "execution_count": 8,
   "id": "40dc9a80-d4eb-4f3d-935b-53d259a8dc0c",
   "metadata": {},
   "outputs": [
    {
     "name": "stdout",
     "output_type": "stream",
     "text": [
      "dict_keys([2, 10, 20, 50, 100, 150, 180, 200, 220, 240, 245, 'overlay', 'dirtoverlay', 'beamoff', 'beamgood'])\n"
     ]
    }
   ],
   "source": [
    "samples_dict = {}\n",
    "\n",
    "for sample in samples:\n",
    "    if sample in Constants.Detector_variations:\n",
    "        file = pd.read_pickle(loc_pkls+\"DetVars/overlay_\"+Params[\"Run\"]+\"_\"+Params[\"variables_string\"]+f\"_{sample}_\"+Params[\"Flat_state\"]+\"_\"+Params[\"Reduced_state\"]+\".pkl\")\n",
    "        samples_dict[sample] = file\n",
    "    if Params[\"Load_Signal_DetVars\"] == True:\n",
    "        file = pd.read_pickle(loc_pkls+\"Signal_DetVars/\"+Params[\"Run\"]+f\"_{sample}_\"+Params[\"Reduced_state\"]+\".pkl\")\n",
    "        samples_dict[sample] = file\n",
    "    else:\n",
    "        if sample == 'signal':\n",
    "            for HNL_mass in Constants.HNL_mass_samples:\n",
    "                # file = pd.read_pickle(loc_pkls+f\"signal_{HNL_mass}MeV_\"+Params[\"Run\"]+\"_\"+Params[\"variables_string\"]+\"_\"+Params[\"Flat_state\"]+\"_final_gen.pkl\")\n",
    "                file = pd.read_pickle(loc_pkls+f\"signal_{HNL_mass}MeV_\"+Params[\"Run\"]+\"_\"+Params[\"variables_string\"]+\"_\"+Params[\"Flat_state\"]+\"_ultimate.pkl\")\n",
    "                samples_dict[HNL_mass] = file\n",
    "        elif sample == 'pi0_signal':\n",
    "            for HNL_mass in Constants.HNL_mass_pi0_samples:\n",
    "                # file = pd.read_pickle(loc_pkls+f\"{sample}_{HNL_mass}MeV_\"+Params[\"Run\"]+\"_\"+Params[\"variables_string\"]+\"_\"+Params[\"Flat_state\"]+\"_final_gen.pkl\")\n",
    "                # file = pd.read_pickle(loc_pkls+f\"{sample}_{HNL_mass}MeV_\"+Params[\"Run\"]+\"_\"+Params[\"variables_string\"]+\"_\"+Params[\"Flat_state\"]+\"_ultimate.pkl\")\n",
    "                file = pd.read_pickle(loc_pkls+f\"{sample}_{HNL_mass}MeV_\"+Params[\"Run\"]+\"_\"+Params[\"variables_string\"]+\"_\"+Params[\"Flat_state\"]+\"_FINAL.pkl\")\n",
    "                samples_dict[str(HNL_mass)+\"_pi0\"] = file\n",
    "        elif (Params[\"Load_single_file\"] == True) and (isinstance(sample,int)):\n",
    "            HNL_mass = sample\n",
    "            # file = pd.read_pickle(loc_pkls+f\"signal_{HNL_mass}MeV_\"+Params[\"Run\"]+\"_\"+Params[\"variables_string\"]+\"_\"+Params[\"Flat_state\"]+\"_final_gen.pkl\")\n",
    "            file = pd.read_pickle(loc_pkls+f\"signal_{HNL_mass}MeV_\"+Params[\"Run\"]+\"_\"+Params[\"variables_string\"]+\"_\"+Params[\"Flat_state\"]+\"_ultimate.pkl\")\n",
    "            samples_dict[HNL_mass] = file\n",
    "        else: \n",
    "            # file = pd.read_pickle(loc_pkls+f\"{sample}_\"+Params[\"Run\"]+\"_\"+Params[\"variables_string\"]+\"_\"+Params[\"Flat_state\"]+\"_final_gen.pkl\")\n",
    "            file = pd.read_pickle(loc_pkls+f\"{sample}_\"+Params[\"Run\"]+\"_\"+Params[\"variables_string\"]+\"_\"+Params[\"Flat_state\"]+\"_ultimate.pkl\")\n",
    "            samples_dict[sample] = file\n",
    "\n",
    "print(samples_dict.keys())"
   ]
  },
  {
   "cell_type": "code",
   "execution_count": null,
   "id": "43858901-98d1-415b-8d73-ffdc46c724ba",
   "metadata": {},
   "outputs": [],
   "source": []
  },
  {
   "cell_type": "code",
   "execution_count": 9,
   "id": "d2be0e9c-0a2d-4310-a652-55b1b5572c83",
   "metadata": {},
   "outputs": [
    {
     "name": "stdout",
     "output_type": "stream",
     "text": [
      "2 length is 51135\n",
      "10 length is 43415\n",
      "20 length is 47592\n",
      "50 length is 45943\n",
      "100 length is 48963\n",
      "150 length is 46449\n",
      "180 length is 46772\n",
      "200 length is 43990\n",
      "220 length is 31932\n",
      "240 length is 30754\n",
      "245 length is 31916\n",
      "overlay length is 987945\n",
      "dirtoverlay length is 230185\n",
      "beamoff length is 184430\n",
      "beamgood length is 199906\n",
      "Loading these variables:\n",
      "Index(['run', 'sub', 'evt', 'nslice', 'n_pfps', 'n_tracks', 'n_showers',\n",
      "       'swtrig_pre', 'swtrig_post', 'trk_sce_start_x_v', 'trk_sce_start_y_v',\n",
      "       'trk_sce_start_z_v', 'trk_sce_end_x_v', 'trk_sce_end_y_v',\n",
      "       'trk_sce_end_z_v', 'shr_theta_v', 'shr_phi_v', 'shr_px_v', 'shr_py_v',\n",
      "       'shr_pz_v', 'shrclusdir0', 'shrclusdir1', 'shrclusdir2',\n",
      "       'shr_energy_tot', 'trk_theta_v', 'trk_phi_v', 'trk_dir_x_v',\n",
      "       'trk_dir_y_v', 'trk_dir_z_v', 'trk_energy', 'trk_energy_hits_tot',\n",
      "       'trk_energy_tot', 'trk_score_v', 'trk_calo_energy_u_v', 'trk_end_x_v',\n",
      "       'trk_chipr_best', 'pfnplanehits_U', 'pfnplanehits_V', 'pfnplanehits_Y',\n",
      "       'NeutrinoEnergy2', 'SliceCaloEnergy2', 'nu_flashmatch_score',\n",
      "       'contained_sps_ratio', 'flash_time', 'contained_fraction', 'trk_score',\n",
      "       'crtveto', 'min_x', 'max_x', 'min_y', 'max_y', 'min_z', 'max_z'],\n",
      "      dtype='object')\n"
     ]
    }
   ],
   "source": [
    "for sample in samples_dict:\n",
    "    print(f\"{sample} length is \" + str(len(samples_dict[sample])))\n",
    "print(\"Loading these variables:\")\n",
    "print(samples_dict[sample].keys())"
   ]
  },
  {
   "cell_type": "markdown",
   "id": "48ab5f23-2b92-4e97-8c0f-5659ebb223a7",
   "metadata": {},
   "source": [
    "## Applying Software Trigger"
   ]
  },
  {
   "cell_type": "code",
   "execution_count": 10,
   "id": "dea09edf-801a-4b34-9fc8-df4f919f8413",
   "metadata": {},
   "outputs": [],
   "source": [
    "def Apply_swtrig(df):\n",
    "    query=\"swtrig_pre>0\"\n",
    "    df.query(query)\n",
    "\n",
    "def Apply_flash_shift(df, sample_type):\n",
    "    #Only required for beam off, overlay, dirtoverlay and signal (i.e all except beamon data)\n",
    "    if(sample_type==\"beamoff\"): df[\"flash_time\"]=df[\"flash_time\"] -0.359\n",
    "    else: df[\"flash_time\"]=df[\"flash_time\"] - 0.304"
   ]
  },
  {
   "cell_type": "code",
   "execution_count": 11,
   "id": "17fcf3de-c6cc-4803-9145-af15542fb7cf",
   "metadata": {},
   "outputs": [
    {
     "name": "stdout",
     "output_type": "stream",
     "text": [
      "Applying software trigger!\n"
     ]
    }
   ],
   "source": [
    "# swtrig_dict = {}\n",
    "Pre_swtrig_dict = {}\n",
    "swtrig = {}\n",
    "apply_swtrig = True\n",
    "if(apply_swtrig): print(\"Applying software trigger!\")\n",
    "for sample in samples_dict:\n",
    "    Pre_swtrig_dict[sample] = len(samples_dict[sample]) #Should weight this properly, i.e take sum of weights for the total number.\n",
    "    if(apply_swtrig):\n",
    "        # Apply_swtrig(samples_dict[sample])\n",
    "        swtrig[sample] = samples_dict[sample].query(\"swtrig_pre>0\").copy()\n",
    "    else: swtrig[sample] = samples_dict[sample].copy()\n",
    "    if sample != \"beamgood\":\n",
    "        Apply_flash_shift(swtrig[sample], sample)"
   ]
  },
  {
   "cell_type": "code",
   "execution_count": 12,
   "id": "194e59c6-90ef-4f4c-8fc8-a9a1359e50f4",
   "metadata": {},
   "outputs": [
    {
     "name": "stdout",
     "output_type": "stream",
     "text": [
      "2 efficiency is 100.0%\n",
      "10 efficiency is 100.0%\n",
      "20 efficiency is 100.0%\n",
      "50 efficiency is 100.0%\n",
      "100 efficiency is 100.0%\n",
      "150 efficiency is 100.0%\n",
      "180 efficiency is 100.0%\n",
      "200 efficiency is 100.0%\n",
      "220 efficiency is 100.0%\n",
      "240 efficiency is 100.0%\n",
      "245 efficiency is 100.0%\n",
      "overlay efficiency is 99.96710343187121%\n",
      "dirtoverlay efficiency is 99.75715185611574%\n",
      "beamoff efficiency is 100.0%\n",
      "beamgood efficiency is 100.0%\n"
     ]
    }
   ],
   "source": [
    "for sample in samples_dict:\n",
    "    swtrig_effic = 100*(len(swtrig[sample])/Pre_swtrig_dict[sample])\n",
    "    print(f\"{sample} efficiency is \" + str(swtrig_effic) + \"%\")"
   ]
  },
  {
   "cell_type": "markdown",
   "id": "9d309e3d-2b11-4d3d-bb36-ef85e16417c0",
   "metadata": {},
   "source": [
    "# Plotting variables before preselection"
   ]
  },
  {
   "cell_type": "code",
   "execution_count": 14,
   "id": "837d5b44-7f5f-4e66-9e90-ef52693eb0f8",
   "metadata": {},
   "outputs": [
    {
     "name": "stdout",
     "output_type": "stream",
     "text": [
      "The ratio of overlay to HNL events is 19751905\n",
      "\n",
      "The ratio of all bkgs to HNL events is 51007125\n",
      "\n"
     ]
    }
   ],
   "source": [
    "#Want to have arrows drawn on for where the preselection cut goes\n",
    "HNL_mass = 100\n",
    "if Params[\"Load_pi0_signal\"]:\n",
    "    HNL_mass = f\"{HNL_mass}_pi0\" #only plotting one at a time\n",
    "variable = 'flash_time'\n",
    "\n",
    "samples_plotting = {\"overlay\":swtrig[\"overlay\"],\n",
    "                    \"dirtoverlay\":swtrig[\"dirtoverlay\"],\n",
    "                    \"beamoff\":swtrig[\"beamoff\"],\n",
    "                    \"signal\":swtrig[HNL_mass]}\n",
    "\n",
    "if Params[\"Run\"] == \"run1\":\n",
    "    sample_norms = {\"overlay\":Constants.SF_overlay_run1,\n",
    "                    \"dirtoverlay\":Constants.SF_dirt_run1,\n",
    "                    \"beamoff\":Constants.SF_EXT_run1,\n",
    "                    \"signal\":Constants.run1_POT_scaling_dict[HNL_mass]}\n",
    "    flat_sys_vars_dict = Sys_unc.run1_Sys_unc\n",
    "elif Params[\"Run\"] == \"run3\":\n",
    "    sample_norms = {\"overlay\":Constants.SF_overlay_run3,\n",
    "                    \"dirtoverlay\":Constants.SF_dirt_run3,\n",
    "                    \"beamoff\":Constants.SF_EXT_run3,\n",
    "                    \"signal\":Constants.run3_POT_scaling_dict[HNL_mass]}\n",
    "    flat_sys_vars_dict = Sys_unc.run3_Sys_unc\n",
    "\n",
    "if Params[\"Load_data\"] == True:\n",
    "    data_dict = {\"beamgood\":samples_dict[\"beamgood\"]}\n",
    "    data_norm = {\"beamgood\":1.0} #No scaling as this is data, should have scaled MC to this POT.\n",
    "    samples_plotting.update(data_dict)\n",
    "    sample_norms.update(data_norm)\n",
    "    \n",
    "PT.HNL_scaling_calculator(samples_plotting,sample_norms)\n"
   ]
  },
  {
   "cell_type": "code",
   "execution_count": 15,
   "id": "7a291213-0d57-49d0-8847-1786c1d96972",
   "metadata": {},
   "outputs": [
    {
     "name": "stdout",
     "output_type": "stream",
     "text": [
      "overlay\n",
      "dirtoverlay\n",
      "beamoff\n",
      "signal\n",
      "beamgood\n",
      "{'nslice': 'nslice==1', 'flash_time': 'flash_time > 6.55 and flash_time < 16.5', 'nu_flashmatch_score': 'nu_flashmatch_score < 15', 'NeutrinoEnergy2': 'NeutrinoEnergy2 < 500', 'contained_fraction': 'contained_fraction > 0.9', 'trk_score': 'trk_score < 0.97', 'n_pfps': 'n_pfps < 6'}\n"
     ]
    }
   ],
   "source": [
    "for sample in samples_plotting:\n",
    "    print(sample)\n",
    "    \n",
    "print(Constants.Preselection_dict_for_plot)"
   ]
  },
  {
   "cell_type": "markdown",
   "id": "ae68e46a-54a4-4216-8b78-6b55f7c886fc",
   "metadata": {
    "tags": []
   },
   "source": [
    "## Plot data and MC"
   ]
  },
  {
   "cell_type": "code",
   "execution_count": null,
   "id": "b4d9a323-334c-4ce5-8b02-62dd96f3dd3a",
   "metadata": {},
   "outputs": [],
   "source": [
    "# 'min_x':np.linspace(9,253,41),\n",
    "# 'max_x':np.linspace(9,253,41),\n",
    "# 'min_y':np.linspace(-112,112,41),\n",
    "# 'max_y':np.linspace(-112,112,41),\n",
    "# 'min_z':np.linspace(14,1020,41),\n",
    "# 'max_z':np.linspace(14,1020,41)"
   ]
  },
  {
   "cell_type": "code",
   "execution_count": 34,
   "id": "9459cd4b-529d-4774-8069-773781311704",
   "metadata": {},
   "outputs": [],
   "source": [
    "#Calculate sys\n",
    "Calculate_sys = True\n",
    "variable = 'max_z'\n",
    "\n",
    "reload(PT)\n",
    "reload(Functions)\n",
    "reload(Constants)\n",
    "reload(Sys_unc)\n",
    "\n",
    "if Params[\"Run\"] == \"run1\": flat_sys_vars_dict = Sys_unc.run1_Sys_unc\n",
    "if Params[\"Run\"] == \"run3\": flat_sys_vars_dict = Sys_unc.run3_Sys_unc\n",
    "    "
   ]
  },
  {
   "cell_type": "code",
   "execution_count": 35,
   "id": "e880ae71-5c5c-4612-b3af-5e223db72893",
   "metadata": {},
   "outputs": [
    {
     "name": "stdout",
     "output_type": "stream",
     "text": [
      "Plotting max_z for run1\n"
     ]
    },
    {
     "data": {
      "image/png": "[encoded data removed]",
      "text/plain": [
       "<Figure size 1000x1000 with 2 Axes>"
      ]
     },
     "metadata": {
      "needs_background": "light"
     },
     "output_type": "display_data"
    }
   ],
   "source": [
    "savefig = True\n",
    "\n",
    "print(f\"Plotting {variable} for \" + Params[\"Run\"])\n",
    "if isinstance(Constants.variable_names_dict[variable],str):x_string = Constants.variable_names_dict[variable]\n",
    "else: x_string=variable\n",
    "# XLIMS = Variables_bins.bins_var['min_x']\n",
    "\n",
    "# PT.Plot_preselection_variable_data(variable, samples_plotting, sample_norms, xlabel=\"Neutrino slice\",xlims=[-0.5,1.5],bins=2, HNL_mass=HNL_mass,\n",
    "#                               HNLplotscale=80000000,cutline=0.0,legloc=\"upper right\", show_ev_nums=False, CalcSys=Calculate_sys, xticks = [0,1])\n",
    "PT.Plot_preselection_variable_data(variable, samples_plotting, sample_norms, xlabel=x_string, xlims=[0, 1050], bins=40, HNL_mass=100,\n",
    "                                   HNLplotscale=24000000,cutline=0.0,legloc=\"best\", show_ev_nums=False, CalcSys=Calculate_sys,logy =False, \n",
    "                                   xticks = [], \n",
    "                                   sys_dict=flat_sys_vars_dict, centre_bins=False, hatch=False, ylabel=\"Events\", arrow_place=[], legsize=16)\n",
    "if variable == \"n_pfps\":plt.xlim([0.5, 8.5])\n",
    "\n",
    "# plt.axvline(x=16.5, lw=3, color='green', linestyle = 'dashed')\n",
    "# plt.arrow(x, y, dx, dy)\n",
    "\n",
    "Name = \"\"\n",
    "if Params[\"Load_pi0_signal\"] == True: Name = \"pi0/\"\n",
    "if Calculate_sys==True: Sys_name = \"with_sys\"\n",
    "if Calculate_sys==False: Sys_name = \"no_sys\"\n",
    "\n",
    "if savefig == True:\n",
    "    plt.savefig(f\"plots/Data_MC_comparison/{Name}Presel_{variable}_\" + Params[\"Run\"] + f\"_{HNL_mass}MeV_{Sys_name}.png\")\n",
    "    plt.savefig(f\"plots/Data_MC_comparison/{Name}Presel_{variable}_\" + Params[\"Run\"] + f\"_{HNL_mass}MeV_{Sys_name}.pdf\")"
   ]
  },
  {
   "cell_type": "markdown",
   "id": "f66d377b-406e-4772-8ea1-d624df808cc8",
   "metadata": {
    "tags": []
   },
   "source": [
    "## Plotting only highest E object"
   ]
  },
  {
   "cell_type": "code",
   "execution_count": null,
   "id": "1824f0e2-e179-4ea4-a910-af6f66fb449c",
   "metadata": {},
   "outputs": [],
   "source": [
    "Highest_E_placeholder = Functions.only_keep_highest_E(samples_dict[HNL_mass])\n",
    "\n",
    "samples_plotting = {\"overlay\":samples_dict[\"overlay\"],\n",
    "           \"dirtoverlay\":samples_dict[\"dirtoverlay\"],\n",
    "           \"beamoff\":samples_dict[\"beamoff\"],\n",
    "           \"signal\":Highest_E_placeholder}\n",
    "\n",
    "PT.Plot_preselection_variable(variable, samples_plotting, sample_norms, xlabel=[],xlims=[1,100],bins=100, HNL_mass=HNL_mass,\n",
    "                              HNLplotscale=600000,cutline=0.0,legloc=\"upper right\")\n",
    "\n",
    "plt.savefig(\"plots/Preselection_variables/\" + Params[\"Run\"] + \"_\" + str(HNL_mass) + \"_MeV_\" + str(variable)+\"_highest_E.png\")"
   ]
  },
  {
   "cell_type": "markdown",
   "id": "b14a4f17-2fbf-48f5-8c43-3426188b7972",
   "metadata": {},
   "source": [
    "## Plot only signal samples before preselection"
   ]
  },
  {
   "cell_type": "code",
   "execution_count": null,
   "id": "c60c019e-80e7-4135-ae43-58975a81c68a",
   "metadata": {},
   "outputs": [],
   "source": [
    "#Need a new plotting function for this\n",
    "reload(Constants)"
   ]
  },
  {
   "cell_type": "markdown",
   "id": "e7bb6189-be86-4801-92ff-15456bc75f3e",
   "metadata": {},
   "source": [
    "# Pre-selection cuts"
   ]
  },
  {
   "cell_type": "code",
   "execution_count": null,
   "id": "26a5529f-5afd-485e-971b-dc786ea29e76",
   "metadata": {},
   "outputs": [],
   "source": [
    "def count_unique_events(df):\n",
    "    placeholder=df.drop_duplicates(subset=[\"run\",\"evt\",\"sub\"]).copy()\n",
    "    unique_evs = len(placeholder)\n",
    "    del placeholder\n",
    "    return unique_evs\n",
    "\n",
    "def make_unique_events_df(df):\n",
    "    placeholder=df.drop_duplicates(subset=[\"run\",\"evt\",\"sub\"]).copy()\n",
    "    return placeholder\n",
    "\n",
    "def Preselection_weighted_efficiency(samples, cut_dict, Efficiency_dict, Preselected): #Need to account for weigthing in overlay and dirt samples\n",
    "    for sample in samples:\n",
    "        if sample == \"overlay\" or sample == \"dirtoverlay\" or sample in Constants.Detector_variations:\n",
    "            weight = samples[sample][\"weight\"]\n",
    "            NumEvs = sum(weight)\n",
    "        else:\n",
    "            NumEvs = len(samples[sample])\n",
    "        \n",
    "        effic_list = [1.0]\n",
    "        for cut in cut_dict.keys():\n",
    "            samples[sample]=samples[sample].query(cut_dict[cut])\n",
    "            if sample == \"overlay\" or sample == \"dirtoverlay\" or sample in Constants.Detector_variations:\n",
    "                weight = samples[sample][\"weight\"]\n",
    "                Num_selected = sum(weight)\n",
    "            else:\n",
    "                Num_selected = len(samples[sample])\n",
    "            effic_list.append(Num_selected/NumEvs)\n",
    "        Efficiency_dict[sample]=effic_list\n",
    "        #samples.update()\n",
    "        Selected = samples[sample].copy()\n",
    "        placeholder_dict = {sample:Selected}\n",
    "        Preselected.update(placeholder_dict) \n",
    "        \n",
    "def Flattened_Preselection_weighted_efficiency(samples, cut_dict, Efficiency_dict, Preselected, Run): #Need to account for weigthing in overlay and dirt samples\n",
    "    for sample in samples:\n",
    "        if sample == \"overlay\" or sample == \"dirtoverlay\" or sample in Constants.Detector_variations:\n",
    "            # unique_placeholder = make_unique_events_df(samples[sample])\n",
    "            # weight = unique_placeholder[\"weight\"]\n",
    "            # NumEvs = sum(weight)\n",
    "            if Run == \"run1\":NumEvs = Constants.run1_sum_weights[sample] #This is the total BEFORE any preselection\n",
    "            if Run == \"run3\":NumEvs = Constants.run3_sum_weights[sample]\n",
    "        else:\n",
    "            if Run == \"run1\":NumEvs = Constants.run1_event_numbers[sample]\n",
    "            if Run == \"run3\":NumEvs = Constants.run3_event_numbers[sample]\n",
    "        \n",
    "        effic_list = [1.0]\n",
    "        for cut in cut_dict.keys():\n",
    "            samples[sample]=samples[sample].query(cut_dict[cut])\n",
    "            if sample == \"overlay\" or sample == \"dirtoverlay\" or sample in Constants.Detector_variations:\n",
    "                unique_placeholder = make_unique_events_df(samples[sample])\n",
    "                weight = unique_placeholder[\"weight\"]\n",
    "                Num_selected = sum(weight)\n",
    "            else:\n",
    "                unique_placeholder = make_unique_events_df(samples[sample])\n",
    "                Num_selected = len(unique_placeholder)\n",
    "            effic_list.append(Num_selected/NumEvs)\n",
    "        Efficiency_dict[sample]=effic_list\n",
    "        #samples.update()\n",
    "        Selected = samples[sample].copy()\n",
    "        placeholder_dict = {sample:Selected}\n",
    "        Preselected.update(placeholder_dict) \n",
    "    \n",
    "def Preselection_DetVars(samples, cut_dict, Preselected): #Not making efficiency plots for DetVars\n",
    "    for sample in samples:\n",
    "        for cut in cut_dict.keys():\n",
    "            samples[sample]=samples[sample].query(cut_dict[cut])\n",
    "        Selected = samples[sample].copy()\n",
    "        placeholder_dict = {sample:Selected}\n",
    "        Preselected.update(placeholder_dict)"
   ]
  },
  {
   "cell_type": "code",
   "execution_count": null,
   "id": "0720d6ec-5372-4e4e-8569-4e3e751abfec",
   "metadata": {},
   "outputs": [],
   "source": [
    "#Make cuts on signal\n",
    "if Params[\"Run\"] == \"run1\": \n",
    "    if Params[\"Load_pi0_signal\"] == False:\n",
    "        if Params[\"FLATTEN\"] == True:\n",
    "            Preselection_dict = Constants.Preselection_dict #Have also saved this in Constants.py, it is also here in case I want to add to or edit the cuts\n",
    "        else:\n",
    "            Preselection_dict = Constants.Preselection_dict_for_plot\n",
    "    if Params[\"Load_pi0_signal\"] == True:\n",
    "        Preselection_dict = Constants.Preselection_dict_for_plot\n",
    "        # Preselection_dict = Constants.Preselection_dict_pi0\n",
    "        \n",
    "elif Params[\"Run\"] == \"run3\":\n",
    "    if Params[\"Load_pi0_signal\"] == False:\n",
    "        if Params[\"FLATTEN\"] == True:\n",
    "            Preselection_dict = Constants.Preselection_dict\n",
    "        else:\n",
    "            Preselection_dict = Constants.Preselection_dict_for_plot\n",
    "    if Params[\"Load_pi0_signal\"] == True:\n",
    "        # Preselection_dict = Constants.Preselection_dict_pi0\n",
    "        Preselection_dict = Constants.Preselection_dict_for_plot\n",
    "    Preselection_dict.update(Constants.Preselection_dict_crtveto) #Adding crtveto cut\n",
    "        \n",
    "print(\"Preselection is:\" + \"\\n\")\n",
    "print(Preselection_dict)\n",
    "print()\n"
   ]
  },
  {
   "cell_type": "code",
   "execution_count": null,
   "id": "f79afe45-a6f0-43d7-88a7-aece7a19a4aa",
   "metadata": {},
   "outputs": [],
   "source": [
    "sample_dict_copy = {}\n",
    "for sample in samples_dict:\n",
    "    sample_dict_copy[sample] = swtrig[sample].copy()\n",
    "\n",
    "Efficiency_dict = {}\n",
    "Preselected_dict = {}\n",
    "if Params[\"FLATTEN\"] == False:\n",
    "    Preselection_weighted_efficiency(sample_dict_copy, Preselection_dict, Efficiency_dict, Preselected_dict)\n",
    "if Params[\"FLATTEN\"] == True:\n",
    "    Flattened_Preselection_weighted_efficiency(sample_dict_copy, Preselection_dict, Efficiency_dict, Preselected_dict, Params[\"Run\"])"
   ]
  },
  {
   "cell_type": "code",
   "execution_count": null,
   "id": "7d2eea4e-59bd-437f-8182-498c1f414f4a",
   "metadata": {},
   "outputs": [],
   "source": [
    "print(sample_dict_copy.keys())\n",
    "reload(Constants)"
   ]
  },
  {
   "cell_type": "code",
   "execution_count": null,
   "id": "ea36b550-29c1-4362-a73e-5a4eb36adaac",
   "metadata": {},
   "outputs": [],
   "source": [
    "#Working out the maximum and minimum efficiencies for signal \"band\"\n",
    "Preselection_signal_max = []\n",
    "Preselection_signal_min = []\n",
    "\n",
    "max_presel_effic = 0.0 #Placeholder to record the highest efficiency\n",
    "min_presel_effic = 1.0 #Placeholder to record the lowest efficiency\n",
    "\n",
    "if Params[\"Load_pi0_signal\"] == False: HNL_masses = Constants.HNL_mass_samples\n",
    "if Params[\"Load_pi0_signal\"] == True: HNL_masses = Constants.HNL_mass_pi0_samples_names\n",
    "\n",
    "for i in range(len(Preselection_dict)+1):\n",
    "    for HNL_mass in HNL_masses: #Doesn't work for pi0 samples of course\n",
    "        if Efficiency_dict[HNL_mass][i] > max_presel_effic:\n",
    "            max_presel_effic = Efficiency_dict[HNL_mass][i]\n",
    "        if Efficiency_dict[HNL_mass][i] < min_presel_effic:\n",
    "            min_presel_effic = Efficiency_dict[HNL_mass][i]\n",
    "    Preselection_signal_max.append(max_presel_effic)\n",
    "    Preselection_signal_min.append(min_presel_effic)\n",
    "    max_presel_effic = 0.0"
   ]
  },
  {
   "cell_type": "code",
   "execution_count": null,
   "id": "74b5bd2f-3094-4f30-b380-03ebc1429158",
   "metadata": {},
   "outputs": [],
   "source": [
    "print(Preselection_signal_max)\n",
    "print(Preselection_signal_min)"
   ]
  },
  {
   "cell_type": "code",
   "execution_count": null,
   "id": "a5747e7f-fcdc-44dc-b3a6-a701c4728772",
   "metadata": {},
   "outputs": [],
   "source": [
    "print(Preselected_dict.keys())"
   ]
  },
  {
   "cell_type": "markdown",
   "id": "ee79544c-248c-45eb-9c09-a0d773388628",
   "metadata": {},
   "source": [
    "## Only select highest energy object and \"Prepare\" for xgboost"
   ]
  },
  {
   "cell_type": "code",
   "execution_count": null,
   "id": "10a64e1c-541d-435b-8214-f376a00585e2",
   "metadata": {},
   "outputs": [],
   "source": [
    "def Prepare_dfs_for_xgb(df): #The default value for missing data in XGB is 0. So this changes those very large negative values to -9999.\n",
    "    value = -1e15\n",
    "    new_value = -9999\n",
    "    first_entry = df.index[0]\n",
    "    for variable in df.keys():\n",
    "        if isinstance(df[variable][first_entry], (int,float,np.int32,np.float32,np.uint32)):\n",
    "        # if variable=='rse_id': #Should come up with a better way of checking the \"type\" of variable, in case it is not int or float.\n",
    "        #     continue           #But don't know how to access the first extant row of a dataframe (since some have been removed). \n",
    "        # else: \n",
    "            if(len(df.loc[df[variable] < value]) > 0):\n",
    "                df.loc[(df[variable] < value), variable] = new_value #Sets the new value\n",
    "            if(len(df.loc[df[variable] == -1.0]) > 0):\n",
    "                df.loc[(df[variable] == -1.0), variable] = new_value #Sets the new value\n",
    "            if(len(df.loc[df[variable] == np.nan]) > 0):\n",
    "                df.loc[(df[variable] == np.nan), variable] = new_value #Sets the new value\n",
    "            if(len(df.loc[df[variable] == np.inf]) > 0):\n",
    "                df.loc[(df[variable] == np.inf), variable] = new_value #Sets the new value\n",
    "        # else:\n",
    "        #     print(variable)\n",
    "            \n",
    "    df_edited = df.copy() \n",
    "    return df_edited\n",
    "\n",
    "def Sophisticated_dfs_for_xgb(df): #Requires a minimum of 2 reconstructed objects\n",
    "    #Take highest E object\n",
    "    print(\"Write this\")\n",
    "    variable = 'pfnplanehits_Y'\n",
    "    # df.loc\n",
    "    #Look at 2nd highest E object, if within x cm save these two\n",
    "    #If not look for next highest E object and repeat. \n",
    "    #If exhausted of objects, remove event\n",
    "    \n",
    "    #Make event-wise variables to feed into BDT\n",
    "    #Save opening angle\n",
    "    #Save theta, phi of highest E object\n",
    "    #Save theta, phi of lower E object\n",
    "    #Save length of highest E object\n",
    "    #Save length of lower E object\n",
    "    #Save invariant mass of 2 objects\n",
    "    #Save total E of both objects"
   ]
  },
  {
   "cell_type": "code",
   "execution_count": null,
   "id": "f4f6b1c7-e414-4340-9abd-4a021a5b90fa",
   "metadata": {},
   "outputs": [],
   "source": [
    "Prepared_dict = {}\n",
    "for sample in Preselected_dict:\n",
    "    Highest_E_placeholder = Functions.only_keep_highest_E(Preselected_dict[sample])\n",
    "    Prepared_dict[sample] = Functions.Prepare_dfs_for_xgb(Highest_E_placeholder)\n",
    "print(Prepared_dict.keys())"
   ]
  },
  {
   "cell_type": "markdown",
   "id": "35f5d821-32b8-4c08-a33d-ff324a36a86b",
   "metadata": {},
   "source": [
    "# Save pkls"
   ]
  },
  {
   "cell_type": "code",
   "execution_count": null,
   "id": "d9bf223e-63b2-4f36-8a50-67110f9d48fb",
   "metadata": {},
   "outputs": [],
   "source": [
    "print_vals = input(\"Do you want to save the pickle files? y/n \")\n",
    "if print_vals == \"y\":\n",
    "    loc_pkls = \"pkl_files/\"+Params[\"Run\"]+\"/current_files/\"+Params[\"variables_string\"]+\"/\"\n",
    "    \n",
    "    for sample in Preselected_dict:\n",
    "        print(\"Saving \"+Params[\"Run\"]+f\" Preselected {sample} .pkl\")\n",
    "        if sample in Constants.Detector_variations:\n",
    "            #Preselected_dict[sample].to_pickle(loc_pkls+\"DetVars/\"+\"Preselected_overlay_\"+Params[\"Run\"]+\"_\"+Params[\"variables_string\"]+f\"_{sample}_\"+Params[\"Flat_state\"]+\"_\"+Params[\"Reduced_state\"]+\".pkl\")\n",
    "            Prepared_dict[sample].to_pickle(loc_pkls+\"DetVars/\"+\"Preselected_overlay_\"+Params[\"Run\"]+\"_\"+Params[\"variables_string\"]+\n",
    "                                            f\"_{sample}_\"+Params[\"Flat_state\"]+\"_\"+Params[\"Reduced_state\"]+\"_ultimate.pkl\")\n",
    "        if Params[\"Load_Signal_DetVars\"] == True:\n",
    "            Prepared_dict[sample].to_pickle(loc_pkls+\"Signal_DetVars/\"+\"Preselected_\"+Params[\"Run\"]+f\"_{sample}_\"+Params[\"Reduced_state\"]+\"_ultimate.pkl\")\n",
    "        \n",
    "        if Params[\"Load_pi0_signal\"] == True:\n",
    "            Prepared_dict[sample].to_pickle(loc_pkls+\"pi0_selection/Preselected_\"+Params[\"Run\"]+\n",
    "                                            f\"_{sample}\"+\"_ultimate.pkl\")\n",
    "        \n",
    "        else:\n",
    "            #Preselected_dict[sample].to_pickle(loc_pkls+f\"Preselected_{sample}_\"+Params[\"Run\"]+\"_\"+Params[\"variables_string\"]+\"_\"+Params[\"Flat_state\"]+\".pkl\")\n",
    "            Prepared_dict[sample].to_pickle(loc_pkls+f\"Preselected_{sample}_\"+Params[\"Run\"]+\"_\"+Params[\"variables_string\"]+\"_\"+Params[\"Flat_state\"]+\"_ultimate.pkl\")\n",
    "\n",
    "else:\n",
    "    print(\"Not saving pickle files, move onto next cell\")"
   ]
  },
  {
   "cell_type": "markdown",
   "id": "fd34a0f6-66ac-43df-ba9d-4481a1f4c237",
   "metadata": {},
   "source": [
    "# Plotting Efficiencies"
   ]
  },
  {
   "cell_type": "code",
   "execution_count": null,
   "id": "f55f1a1a-5a1b-46d4-9323-c700056a16bf",
   "metadata": {},
   "outputs": [],
   "source": [
    "reload(Constants)\n",
    "\n",
    "var_names = []\n",
    "for var in Preselection_dict.keys():\n",
    "    var_names.append(Constants.variable_names_dict[var])\n",
    "print(var_names)"
   ]
  },
  {
   "cell_type": "code",
   "execution_count": null,
   "id": "65ee24e5-a1c8-46ee-8aaa-86a48b791633",
   "metadata": {},
   "outputs": [],
   "source": [
    "#Signal-only efficiencies\n",
    "plt.figure(figsize=[10,10])\n",
    "\n",
    "\n",
    "plotting_effic_dict = {'overlay':Efficiency_dict['overlay'], 'dirtoverlay':Efficiency_dict['dirtoverlay'],\n",
    "                      'beamoff':Efficiency_dict['beamoff']}\n",
    "label_effic_dict = {'overlay':fr\"In-Cryo $\\nu$\", 'dirtoverlay':fr\"Out-Cryo $\\nu$\",\n",
    "                      'beamoff':f\"Beam-Off\"}\n",
    "\n",
    "plotting_effic_colours = Constants.sample_colours\n",
    "\n",
    "log = True\n",
    "\n",
    "if log == True:\n",
    "    logscale=\"log\"\n",
    "elif log == False:\n",
    "    logscale=\"linear\"\n",
    "\n",
    "for effic in plotting_effic_dict:\n",
    "    plt.plot(np.array(range(1, len(Efficiency_dict[effic])+1)),Efficiency_dict[effic],label=label_effic_dict[effic],color=plotting_effic_colours[effic],lw=4,markersize=15)\n",
    "\n",
    "plt.plot(np.array(range(1, len(Efficiency_dict[effic])+1)),Preselection_signal_max,color=\"darkred\",lw=4,marker=\"\")\n",
    "plt.plot(np.array(range(1, len(Efficiency_dict[effic])+1)),Preselection_signal_min,color=\"darkred\",lw=4,marker=\"\")\n",
    "plt.fill_between(np.array(range(1, len(Efficiency_dict[effic])+1)),Preselection_signal_min,Preselection_signal_max,label=\"HNL (Range)\",color=\"red\")\n",
    "plt.ylabel(\"Fraction Selected\")\n",
    "plt.xticks(np.array(range(1, len(Efficiency_dict['overlay'])+1)),[\"Full sample\"]+var_names,rotation=80)\n",
    "plt.yscale(logscale)\n",
    "plt.legend(loc='lower left',prop={'size': 22})\n",
    "\n",
    "plt.tight_layout()\n",
    "\n",
    "save_fig = input(\"Do you want to save the figure? y/n \")\n",
    "if Params[\"FLATTEN\"] == False: weighted_name = \"_non_weighted\"\n",
    "if Params[\"FLATTEN\"] == True: weighted_name = \"_weighted\"\n",
    "if save_fig == 'y':\n",
    "    plt.savefig(\"plots/Preselection_efficiencies/Preselection_efficiency_\"+Params[\"Run\"]+ \"_\" + logscale + f\"{weighted_name}_150.png\")\n",
    "    plt.savefig(\"plots/Preselection_efficiencies/Preselection_efficiency_\"+Params[\"Run\"]+ \"_\" + logscale + f\"{weighted_name}_150.pdf\")"
   ]
  },
  {
   "cell_type": "code",
   "execution_count": null,
   "id": "ac5180f7-f6dd-424a-8a8b-4f1615c07204",
   "metadata": {},
   "outputs": [],
   "source": [
    "print(Preselection_dict.keys())"
   ]
  },
  {
   "cell_type": "markdown",
   "id": "4e028fb4-146d-4aa0-bfd7-75cd8c8bad45",
   "metadata": {},
   "source": [
    "## Plotting single mass point and background"
   ]
  },
  {
   "cell_type": "code",
   "execution_count": null,
   "id": "bd2f09b5-cb7f-4bef-a847-01337447a5a4",
   "metadata": {},
   "outputs": [],
   "source": [
    "#Plotting efficiency\n",
    "signal_mass = 220\n",
    "plt.figure(figsize=[10,10])\n",
    "plt.plot(np.array(range(1, len(Efficiency_dict[effic])+1)),Efficiency_dict[signal_mass],label=f\"{signal_mass} MeV HNL\",lw=4,markersize=15)\n",
    "plt.plot(np.array(range(1, len(Efficiency_dict[effic])+1)),Efficiency_dict['overlay'],label=\"MC run1 overlay\",lw=4,markersize=15)\n",
    "plt.plot(np.array(range(1, len(Efficiency_dict[effic])+1)),Efficiency_dict['dirtoverlay'],label=\"MC run1 dirt\",lw=4,markersize=15)\n",
    "plt.plot(np.array(range(1, len(Efficiency_dict[effic])+1)),Efficiency_dict['beamoff'],label=\"MC run1 EXT\",lw=4,markersize=15)\n",
    "plt.ylabel(\"Fraction Selected\")\n",
    "plt.xticks(np.array(range(1, len(Efficiency_dict[effic])+1)),[\"Full sample\"]+list(Preselection_dict.keys()),rotation=80)\n",
    "#plt.yscale(\"log\")\n",
    "plt.legend()\n"
   ]
  },
  {
   "cell_type": "markdown",
   "id": "b9cefcb2-65f2-4969-bbf8-10de7abfd559",
   "metadata": {},
   "source": [
    "## Plotting just signal"
   ]
  },
  {
   "cell_type": "code",
   "execution_count": null,
   "id": "5a618283-6b9b-4372-ba78-101f7db7c51a",
   "metadata": {},
   "outputs": [],
   "source": [
    "plt.figure(figsize=[10,10])\n",
    "\n",
    "for HNL_mass in Constants.HNL_mass_samples:\n",
    "    plt.plot(np.array(range(1, len(Efficiency_dict[effic])+1)),Efficiency_dict[HNL_mass],label=f\"{HNL_mass} MeV HNL\",lw=4,markersize=15)\n",
    "    \n",
    "plt.ylabel(\"Fraction Selected\")\n",
    "plt.xticks(np.array(range(1, len(Efficiency_dict[effic])+1)),[\"Full sample\"]+list(Preselection_dict.keys()),rotation=80)\n",
    "# plt.yscale(\"log\")\n",
    "plt.legend()\n",
    "\n",
    "plt.savefig(\"plots/Preselection_efficiencies/Signal_only_\"+Params[\"Run\"]+\"_\"+Params[\"Flat_state\"]+\".png\")"
   ]
  },
  {
   "cell_type": "markdown",
   "id": "48699806-e055-4a8d-86cb-b31fb89b838d",
   "metadata": {},
   "source": [
    "# Testing code"
   ]
  },
  {
   "cell_type": "markdown",
   "id": "2ee30713-c2a4-4cfb-b1ca-03cdb01fea0d",
   "metadata": {},
   "source": [
    "## Making sum of weights (only for unflattened)"
   ]
  },
  {
   "cell_type": "code",
   "execution_count": null,
   "id": "39c518af-9e59-4715-a810-ade7498e5c9a",
   "metadata": {},
   "outputs": [],
   "source": [
    "def Sum_weights(df):\n",
    "    weight = df[\"weight\"] #Just one value per event\n",
    "    sum_weights = sum(weight)\n",
    "    return sum_weights\n",
    "\n",
    "for sample in ['overlay', 'dirtoverlay']:\n",
    "    sum_weights_placeholder = Sum_weights(samples_dict[sample])\n",
    "    print(f\"{sample} sum weights is \" + str(sum_weights_placeholder))"
   ]
  },
  {
   "cell_type": "code",
   "execution_count": null,
   "id": "d3f5cb1e-1eac-44f7-bffb-1a2763bb092e",
   "metadata": {},
   "outputs": [],
   "source": [
    "#Testing what the variables look like\n",
    "variable = \"dvtx_x_boundary\"\n",
    "def test_variables(df):\n",
    "    test_signal = df[variable]\n",
    "    print(type(test_signal))\n",
    "    print(len(test_signal))\n",
    "test_variables(df_overlay_run1)\n",
    "test_variables(df_dirt_run1)\n",
    "test_variables(df_EXT_run1)\n",
    "test_variables(df_signal_run1)"
   ]
  },
  {
   "cell_type": "code",
   "execution_count": null,
   "id": "057e26b6",
   "metadata": {},
   "outputs": [],
   "source": [
    "#print(overlay_from_pkl['nslice'])\n",
    "#print(\"Flat Overlay .pkl is \"+str(len(FLAT_overlay_from_pkl))+\" entries long.\")\n",
    "\n",
    "print(\"-----Unflattened-----\")\n",
    "unique_var = overlay_from_pkl[\"nslice\"].unique()\n",
    "print(unique_var)\n",
    "unique_var = overlay_from_pkl[\"n_pfps\"].unique()\n",
    "print(unique_var)\n",
    "print(overlay_from_pkl[\"n_pfps\"])\n",
    "print(type(overlay_from_pkl[\"n_pfps\"][0]))\n",
    "\n",
    "# for var in overlay_from_pkl.keys():\n",
    "#     if type(overlay_from_pkl[var][1]) == \"numpy.ndarray\":\n",
    "#         print(var)\n",
    "\n",
    "# print(\"-----Flattened-----\")\n",
    "# unique_var = FLAT_overlay_from_pkl[\"nslice\"].unique()\n",
    "# print(unique_var)\n",
    "# unique_var = FLAT_overlay_from_pkl[\"n_pfps\"].unique()\n",
    "# print(unique_var)\n",
    "# print(FLAT_overlay_from_pkl[\"n_pfps\"])\n",
    "# print(type(FLAT_overlay_from_pkl[\"n_pfps\"]))"
   ]
  }
 ],
 "metadata": {
  "kernelspec": {
   "display_name": "Python 3 (ipykernel)",
   "language": "python",
   "name": "python3"
  },
  "language_info": {
   "codemirror_mode": {
    "name": "ipython",
    "version": 3
   },
   "file_extension": ".py",
   "mimetype": "text/x-python",
   "name": "python",
   "nbconvert_exporter": "python",
   "pygments_lexer": "ipython3",
   "version": "3.7.12"
  }
 },
 "nbformat": 4,
 "nbformat_minor": 5
}
