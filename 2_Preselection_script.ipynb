{
 "cells": [
  {
   "cell_type": "code",
   "execution_count": 1,
   "id": "8ab81f70",
   "metadata": {},
   "outputs": [
    {
     "name": "stdout",
     "output_type": "stream",
     "text": [
      "Success\n"
     ]
    }
   ],
   "source": [
    "import os,sys,string, time\n",
    "import matplotlib.pyplot as plt\n",
    "import numpy as np\n",
    "import uproot\n",
    "import pandas as pd\n",
    "from platform import python_version\n",
    "import scipy\n",
    "from scipy import stats\n",
    "import uproot3\n",
    "import math\n",
    "from matplotlib.patches import Rectangle\n",
    "from importlib import reload\n",
    "\n",
    "import Utilities.Plotter as PT\n",
    "import Utilities.Constants as Constants\n",
    "import Utilities.Variables_list as Variables\n",
    "import Utilities.Variables_bins as Variables_bins\n",
    "import Utilities.Functions as Functions\n",
    "import Utilities.Sys_unc_variables as Sys_unc\n",
    "from Utilities.ipython_exit import exit\n",
    "\n",
    "print ('Success')\n"
   ]
  },
  {
   "cell_type": "markdown",
   "id": "775a3504-392d-4b23-a225-0db439fcb0f5",
   "metadata": {},
   "source": [
    "# Reading in .pkl files"
   ]
  },
  {
   "cell_type": "code",
   "execution_count": 2,
   "id": "fd6a5c09-f380-4529-bc11-c0eb39e8efe3",
   "metadata": {},
   "outputs": [
    {
     "name": "stdout",
     "output_type": "stream",
     "text": [
      "Loading these run3 samples: \n",
      "['overlay', 'dirtoverlay', 'beamoff', 'beamgood', '2_ee', '10_ee', '20_ee', '50_ee', '100_ee', '150_ee']\n"
     ]
    }
   ],
   "source": [
    "Params = {\"Run\":\"run3\", #The run number, so far either \"run1\" or \"run3\"\n",
    "          \"Load_single_file\":False, #This will override everything else, put the desired file in the \"single_file\" line\n",
    "          \"single_file\":\"overlay\",\n",
    "          \"Load_standard_bkgs\":True,\n",
    "          \"Load_DetVars\":False, #overlay DetVar samples\n",
    "          \"Only_keep_common_DetVar_evs\":True, #Removes events not in all DetVar samples\n",
    "          \"Load_Signal_DetVars\":False, #ee DetVar samples\n",
    "          \"Load_data\":True,\n",
    "          \"FLATTEN\":False, #Have one row per reconstructed object in the analysis dataframe\n",
    "          \"only_presel\":True, #Create small files containing only variables necessary for pre-selection, for making pre-selection plots\n",
    "          \"Load_truth_vars\":False, \n",
    "          \"Load_lepton_signal\":True,\n",
    "          \"Load_lepton_dirac\":False,\n",
    "          'Load_pi0_signal_DetVars':False, #pi0 DetVar samples\n",
    "          \"Load_pi0_signal\":False,\n",
    "          \"Load_pi0_dirac\":False}\n",
    "\n",
    "# Params, samples = Functions.create_sample_list(Params)\n",
    "Params, samples = Functions.new_create_sample_list(Params)\n",
    "loc_pkls = \"pkl_files/\"+Params[\"Run\"]+\"/current_files/\"+Params[\"variables_string\"]+\"/\""
   ]
  },
  {
   "cell_type": "code",
   "execution_count": 3,
   "id": "f42a6780-68bd-4eea-bf76-3561e227768b",
   "metadata": {},
   "outputs": [
    {
     "name": "stdout",
     "output_type": "stream",
     "text": [
      "overlay length is 748702\n",
      "dirtoverlay length is 389264\n",
      "beamoff length is 3211097\n",
      "beamgood length is 1104349\n",
      "2_ee length is 45159\n",
      "10_ee length is 44463\n",
      "20_ee length is 46022\n",
      "50_ee length is 44579\n",
      "100_ee length is 45304\n",
      "150_ee length is 44031\n",
      "Loading these variables:\n",
      "Index(['nslice', 'flash_time', 'nu_flashmatch_score', 'NeutrinoEnergy2',\n",
      "       'contained_fraction', 'trk_score', 'trk_score_v', 'n_pfps',\n",
      "       'topological_score', 'swtrig_pre', 'swtrig_post', 'crtveto', 'run',\n",
      "       'sub', 'evt', 'rse_id'],\n",
      "      dtype='object')\n"
     ]
    }
   ],
   "source": [
    "samples_dict = Functions.Load_initial_pkls(samples, Params, loc_pkls, \"_full_Finished\")\n",
    "\n",
    "for sample in samples_dict:\n",
    "    print(f\"{sample} length is \" + str(len(samples_dict[sample])))\n",
    "print(\"Loading these variables:\")\n",
    "print(samples_dict[sample].keys())"
   ]
  },
  {
   "cell_type": "markdown",
   "id": "48ab5f23-2b92-4e97-8c0f-5659ebb223a7",
   "metadata": {},
   "source": [
    "## Applying Software Trigger"
   ]
  },
  {
   "cell_type": "code",
   "execution_count": 4,
   "id": "dea09edf-801a-4b34-9fc8-df4f919f8413",
   "metadata": {},
   "outputs": [
    {
     "name": "stdout",
     "output_type": "stream",
     "text": [
      "Applying software trigger!\n",
      "overlay\n",
      "dirtoverlay\n",
      "beamoff\n",
      "beamgood\n",
      "2_ee\n",
      "10_ee\n",
      "20_ee\n",
      "50_ee\n",
      "100_ee\n",
      "150_ee\n",
      "overlay efficiency is 82.60255749283426%\n",
      "dirtoverlay efficiency is 80.12454272678696%\n",
      "beamoff efficiency is 100.0%\n",
      "beamgood efficiency is 100.0%\n",
      "2_ee efficiency is 100.0%\n",
      "10_ee efficiency is 100.0%\n",
      "20_ee efficiency is 100.0%\n",
      "50_ee efficiency is 100.0%\n",
      "100_ee efficiency is 100.0%\n",
      "150_ee efficiency is 100.0%\n",
      "dict_keys(['overlay', 'dirtoverlay', 'beamoff', 'beamgood', '2_ee', '10_ee', '20_ee', '50_ee', '100_ee', '150_ee'])\n"
     ]
    }
   ],
   "source": [
    "def Apply_swtrig(df):\n",
    "    query=\"swtrig_pre>0\"\n",
    "    df.query(query)\n",
    "    \n",
    "def Apply_swtrig_run2_beamoff(df):\n",
    "    query=\"swtrig>0\"\n",
    "    df.query(query)\n",
    "\n",
    "def Apply_flash_shift(df, sample_type):\n",
    "    #Only required for beam off, overlay, dirtoverlay and signal (i.e all except beamon data)\n",
    "    if(sample_type==\"beamoff\"): df[\"flash_time\"]=df[\"flash_time\"] -0.359\n",
    "    else: df[\"flash_time\"]=df[\"flash_time\"] - 0.304\n",
    "    \n",
    "Pre_swtrig_dict = {}\n",
    "swtrig = {}\n",
    "\n",
    "apply_swtrig = True\n",
    "\n",
    "if(apply_swtrig): print(\"Applying software trigger!\")\n",
    "\n",
    "for sample in samples_dict:\n",
    "    print(sample)\n",
    "    Pre_swtrig_dict[sample] = len(samples_dict[sample]) #Should weight this properly, i.e take sum of weights for the total number.\n",
    "    if(apply_swtrig):\n",
    "\n",
    "        if Params[\"Run\"]==\"run1\":\n",
    "            swtrig[sample] = samples_dict[sample].query(\"swtrig_pre>0\").copy()\n",
    "        elif Params[\"Run\"]==\"run3\":\n",
    "            swtrig[sample] = samples_dict[sample].query(\"swtrig_post>0\").copy() #Took this from Owen's code, should check exactly what it's doing\n",
    "        elif ((Params[\"Run\"]==\"run2a\") or (Params[\"Run\"]==\"run2b\")) and ((sample==\"beamoff\")or(sample==\"beamgood\")):\n",
    "            swtrig[sample] = samples_dict[sample].query(\"swtrig>0\").copy()\n",
    "        else: \n",
    "            swtrig[sample] = samples_dict[sample].query(\"swtrig_pre>0\").copy()\n",
    "            \n",
    "    else: swtrig[sample] = samples_dict[sample].copy()\n",
    "    \n",
    "    if sample != \"beamgood\":\n",
    "        Apply_flash_shift(swtrig[sample], sample)\n",
    "        \n",
    "for sample in samples_dict:\n",
    "    swtrig_effic = 100*(len(swtrig[sample])/Pre_swtrig_dict[sample])\n",
    "    print(f\"{sample} efficiency is \" + str(swtrig_effic) + \"%\")\n",
    "    \n",
    "print(swtrig.keys())"
   ]
  },
  {
   "cell_type": "markdown",
   "id": "9d309e3d-2b11-4d3d-bb36-ef85e16417c0",
   "metadata": {
    "tags": []
   },
   "source": [
    "# Plotting variables before preselection"
   ]
  },
  {
   "cell_type": "code",
   "execution_count": 5,
   "id": "837d5b44-7f5f-4e66-9e90-ef52693eb0f8",
   "metadata": {},
   "outputs": [],
   "source": [
    "#Want to have arrows drawn on for where the preselection cut goes\n",
    "HNL_mass = \"100_ee\"\n",
    "if Params[\"Load_pi0_signal\"]:\n",
    "    HNL_mass = f\"{HNL_mass}_pi0\" #only plotting one at a time\n",
    "variable = 'topological_score'\n",
    "\n",
    "if (Params[\"Run\"]==\"run2a\") or (Params[\"Run\"]==\"run2b\"):\n",
    "    swtrig[HNL_mass]=swtrig[\"overlay\"].copy()\n",
    "\n",
    "samples_plotting = {\"overlay\":swtrig[\"overlay\"],\n",
    "                    \"dirtoverlay\":swtrig[\"dirtoverlay\"],\n",
    "                    \"beamoff\":swtrig[\"beamoff\"],\n",
    "                    \"signal\":swtrig[HNL_mass]}\n",
    "\n",
    "if Params[\"Run\"] == \"run1\":\n",
    "    sample_norms = {\"overlay\":Constants.run1_POT_scaling_dict[\"overlay\"], #WAS using SF_overlay_run1\n",
    "                    \"dirtoverlay\":Constants.run1_POT_scaling_dict[\"dirtoverlay\"],\n",
    "                    \"beamoff\":Constants.run1_POT_scaling_dict[\"beamoff\"],\n",
    "                    \"signal\":Constants.run1_POT_scaling_dict[HNL_mass]}\n",
    "    flat_sys_vars_dict = Sys_unc.run1_Sys_unc\n",
    "elif Params[\"Run\"] == \"run3\":\n",
    "    sample_norms = {\"overlay\":Constants.run3_POT_scaling_dict[\"overlay\"],\n",
    "                    \"dirtoverlay\":Constants.run3_POT_scaling_dict[\"dirtoverlay\"],\n",
    "                    \"beamoff\":Constants.run3_POT_scaling_dict[\"beamoff\"],\n",
    "                    \"signal\":Constants.run3_POT_scaling_dict[HNL_mass]}\n",
    "    flat_sys_vars_dict = Sys_unc.run3_Sys_unc\n",
    "    \n",
    "elif Params[\"Run\"] == \"run2a\":\n",
    "    sample_norms = {\"overlay\":Constants.run2a_POT_scaling_dict[\"overlay\"],\n",
    "                    \"dirtoverlay\":Constants.run2a_POT_scaling_dict[\"dirtoverlay\"],\n",
    "                    \"beamoff\":Constants.run2a_POT_scaling_dict[\"beamoff\"],\n",
    "                    \"signal\":Constants.run2a_POT_scaling_dict[HNL_mass]}\n",
    "    flat_sys_vars_dict = Sys_unc.run3_Sys_unc\n",
    "    \n",
    "elif Params[\"Run\"] == \"run2b\":\n",
    "    sample_norms = {\"overlay\":Constants.run2b_POT_scaling_dict[\"overlay\"],\n",
    "                    \"dirtoverlay\":Constants.run2b_POT_scaling_dict[\"dirtoverlay\"],\n",
    "                    \"beamoff\":Constants.run2b_POT_scaling_dict[\"beamoff\"],\n",
    "                    \"signal\":Constants.run2b_POT_scaling_dict[HNL_mass]}\n",
    "    flat_sys_vars_dict = Sys_unc.run3_Sys_unc\n",
    "\n",
    "if Params[\"Load_data\"] == True:\n",
    "    data_dict = {\"beamgood\":samples_dict[\"beamgood\"]}\n",
    "    data_norm = {\"beamgood\":1.0} #No scaling as this is data, should have scaled MC to this POT.\n",
    "    samples_plotting.update(data_dict)\n",
    "    sample_norms.update(data_norm)\n",
    "    \n",
    "# PT.HNL_scaling_calculator(samples_plotting,sample_norms)\n"
   ]
  },
  {
   "cell_type": "code",
   "execution_count": 6,
   "id": "7a291213-0d57-49d0-8847-1786c1d96972",
   "metadata": {},
   "outputs": [
    {
     "name": "stdout",
     "output_type": "stream",
     "text": [
      "overlay\n",
      "dirtoverlay\n",
      "beamoff\n",
      "signal\n",
      "beamgood\n",
      "{'nslice': 'nslice==1', 'flash_time': 'flash_time > 6.25 and flash_time < 16.5', 'nu_flashmatch_score': 'nu_flashmatch_score < 15', 'NeutrinoEnergy2': 'NeutrinoEnergy2 < 500', 'Fiducial_cut': 'min_y>-112 and max_y<112 and min_z>14 and max_z<1020 and min_x>9 and max_x<253', 'contained_fraction': 'contained_fraction > 0.9'}\n"
     ]
    }
   ],
   "source": [
    "for sample in samples_plotting:\n",
    "    print(sample)\n",
    "    \n",
    "# print(Constants.Preselection_dict_for_plot)\n",
    "print(Constants.Preselection_dict)"
   ]
  },
  {
   "cell_type": "markdown",
   "id": "ae68e46a-54a4-4216-8b78-6b55f7c886fc",
   "metadata": {
    "tags": []
   },
   "source": [
    "## Plot data and MC"
   ]
  },
  {
   "cell_type": "code",
   "execution_count": 7,
   "id": "e7d69c48-1f80-40cd-b2f5-0031370d9891",
   "metadata": {},
   "outputs": [
    {
     "data": {
      "text/plain": [
       "Index(['nslice', 'flash_time', 'nu_flashmatch_score', 'NeutrinoEnergy2',\n",
       "       'contained_fraction', 'trk_score', 'trk_score_v', 'n_pfps',\n",
       "       'topological_score', 'swtrig_pre', 'swtrig_post', 'crtveto',\n",
       "       'weightSplineTimesTune', 'ppfx_cv', 'npi0', 'run', 'sub', 'evt',\n",
       "       'weight', 'rse_id'],\n",
       "      dtype='object')"
      ]
     },
     "execution_count": 7,
     "metadata": {},
     "output_type": "execute_result"
    }
   ],
   "source": [
    "samples_plotting[\"overlay\"].keys()"
   ]
  },
  {
   "cell_type": "code",
   "execution_count": 25,
   "id": "9459cd4b-529d-4774-8069-773781311704",
   "metadata": {},
   "outputs": [
    {
     "name": "stdout",
     "output_type": "stream",
     "text": [
      "Arrow place is [0.9, 650000.0, 0.95, 650000.0]\n"
     ]
    }
   ],
   "source": [
    "#Calculate sys\n",
    "Calculate_sys = True\n",
    "variable = 'contained_fraction'\n",
    "\n",
    "reload(PT)\n",
    "reload(Functions)\n",
    "reload(Constants)\n",
    "reload(Sys_unc)\n",
    "reload(Variables_bins)\n",
    "\n",
    "if Params[\"Run\"] == \"run1\": \n",
    "    flat_sys_vars_dict = Sys_unc.run1_Sys_unc\n",
    "    PLOTSCALE = 240000000\n",
    "    arrow_place = Variables_bins.arrow_places[variable]\n",
    "if Params[\"Run\"] == \"run3\": \n",
    "    flat_sys_vars_dict = Sys_unc.run3_Sys_unc\n",
    "    PLOTSCALE = 200000000\n",
    "    arrow_place = Variables_bins.arrow_places_r3[variable]\n",
    "\n",
    "    \n",
    "if isinstance(Constants.variable_names_dict[variable],str):x_string = Constants.variable_names_dict[variable]\n",
    "else: x_string=variable\n",
    "if variable=='trk_score_v':ylabel = 'Reconstructed objects'\n",
    "else: ylabel='Events'\n",
    "if variable=='nslice':xticks=[0,1]\n",
    "else: xticks=[]\n",
    "\n",
    "if (variable.startswith('min')) or (variable.startswith('max')):\n",
    "    dropdupes=True\n",
    "    print(\"Only keeping one entry per event for this plot!\")\n",
    "else: dropdupes=False\n",
    "\n",
    "BINS = Variables_bins.Presel_bins[variable]\n",
    "XLIMS = [BINS[0],BINS[-1]]\n",
    "\n",
    "Log_var = Variables_bins.Log_vars[variable]\n",
    "cut_line = Variables_bins.cut_lines[variable]\n",
    "# arrow_place = Variables_bins.arrow_places[variable]\n",
    "# arrow_place = []\n",
    "print(\"Arrow place is \" + str(arrow_place))\n",
    "\n",
    "Name = \"\"\n",
    "if Params[\"Load_pi0_signal\"] == True: Name = \"pi0/\"\n",
    "if Calculate_sys==True: Sys_name = \"with_sys\"\n",
    "if Calculate_sys==False: Sys_name = \"no_sys\"\n",
    "if arrow_place != []: end_name = \"_arrow\"\n",
    "else: end_name = \"\"\n",
    "\n",
    "if Params[\"Run\"]==\"run1\": Run = \"Run 1\"\n",
    "if Params[\"Run\"]==\"run3\": Run = \"Run 3\""
   ]
  },
  {
   "cell_type": "code",
   "execution_count": 27,
   "id": "e880ae71-5c5c-4612-b3af-5e223db72893",
   "metadata": {},
   "outputs": [
    {
     "name": "stdout",
     "output_type": "stream",
     "text": [
      "Plotting contained_fraction for run3\n",
      "nbins 10\n"
     ]
    },
    {
     "data": {
      "image/png": "[encoded data removed]",
      "text/plain": [
       "<Figure size 1000x1000 with 2 Axes>"
      ]
     },
     "metadata": {},
     "output_type": "display_data"
    }
   ],
   "source": [
    "savefig=True\n",
    "\n",
    "print(f\"Plotting {variable} for \" + Params[\"Run\"])\n",
    "\n",
    "# bins_test = [0,25.0]\n",
    "bins_test = BINS\n",
    "print(\"nbins \" + str(len(bins_test)-1))\n",
    "\n",
    "PT.Plot_preselection_variable_data(variable, samples_plotting, sample_norms, xlabel=x_string, xlims=XLIMS, bins=bins_test, HNL_mass=100,\n",
    "                                   HNLplotscale=PLOTSCALE, cutline=cut_line, legloc=\"best\", show_ev_nums=False, CalcSys=Calculate_sys, logy=Log_var, \n",
    "                                   xticks=xticks, sys_dict=flat_sys_vars_dict, centre_bins=False, hatch=False, ylabel=ylabel, \n",
    "                                   arrow_place=arrow_place, ylimit=None, legsize=18, dropdupes=dropdupes, err_print=False, Run=Run, chi_squared=False, \n",
    "                                   dirt_frac_error=0.75)\n",
    "\n",
    "# plt.ylim([1, 3e4])\n",
    "\n",
    "if savefig == True:\n",
    "    plt.savefig(f\"plots/Data_MC_comparison/{Name}Presel_{variable}_\" + Params[\"Run\"] + f\"_{HNL_mass}_{Sys_name}{end_name}.png\")\n",
    "    plt.savefig(f\"plots/Data_MC_comparison/{Name}Presel_{variable}_\" + Params[\"Run\"] + f\"_{HNL_mass}_{Sys_name}{end_name}.pdf\")"
   ]
  },
  {
   "cell_type": "markdown",
   "id": "f66d377b-406e-4772-8ea1-d624df808cc8",
   "metadata": {
    "jp-MarkdownHeadingCollapsed": true,
    "tags": []
   },
   "source": [
    "## Plotting only highest E object"
   ]
  },
  {
   "cell_type": "code",
   "execution_count": null,
   "id": "1824f0e2-e179-4ea4-a910-af6f66fb449c",
   "metadata": {},
   "outputs": [],
   "source": [
    "Highest_E_placeholder = Functions.only_keep_highest_E(samples_dict[HNL_mass])\n",
    "\n",
    "samples_plotting = {\"overlay\":samples_dict[\"overlay\"],\n",
    "           \"dirtoverlay\":samples_dict[\"dirtoverlay\"],\n",
    "           \"beamoff\":samples_dict[\"beamoff\"],\n",
    "           \"signal\":Highest_E_placeholder}\n",
    "\n",
    "PT.Plot_preselection_variable(variable, samples_plotting, sample_norms, xlabel=[],xlims=[1,100],bins=100, HNL_mass=HNL_mass,\n",
    "                              HNLplotscale=600000,cutline=0.0,legloc=\"upper right\")\n",
    "\n",
    "plt.savefig(\"plots/Preselection_variables/\" + Params[\"Run\"] + \"_\" + str(HNL_mass) + \"_MeV_\" + str(variable)+\"_highest_E.png\")"
   ]
  },
  {
   "cell_type": "markdown",
   "id": "b14a4f17-2fbf-48f5-8c43-3426188b7972",
   "metadata": {
    "tags": []
   },
   "source": [
    "## Plot only signal samples before preselection"
   ]
  },
  {
   "cell_type": "code",
   "execution_count": null,
   "id": "c60c019e-80e7-4135-ae43-58975a81c68a",
   "metadata": {},
   "outputs": [],
   "source": [
    "#Need a new plotting function for this\n",
    "reload(Constants)"
   ]
  },
  {
   "cell_type": "markdown",
   "id": "e9485428-ec1a-4c10-aaf7-6f5e17b878f0",
   "metadata": {
    "tags": []
   },
   "source": [
    "# Plotting significance of individual cuts"
   ]
  },
  {
   "cell_type": "code",
   "execution_count": null,
   "id": "f67d3dac-f17e-43b3-8c78-68f691729377",
   "metadata": {},
   "outputs": [],
   "source": [
    "# cut_start_str = \"flash_time > 16.5\"\n",
    "reload(Functions)\n",
    "cut_start_str = \"min_z > \"\n",
    "\n",
    "variable = \"min_z\"\n",
    "\n",
    "Sig_dict_max, Sig_dict_min, var_sig_max, var_sig_min = Functions.Significance_scan(Params, swtrig, cut_start_str, 0, 40, numsteps=20)\n",
    "\n",
    "PT.Plot_significance_scan(variable, Sig_dict_max, Sig_dict_min, var_sig_max, var_sig_min)"
   ]
  },
  {
   "cell_type": "markdown",
   "id": "e7bb6189-be86-4801-92ff-15456bc75f3e",
   "metadata": {},
   "source": [
    "# Pre-selection cuts"
   ]
  },
  {
   "cell_type": "code",
   "execution_count": null,
   "id": "7c63877e-8e92-47c1-95d0-275623c676bd",
   "metadata": {},
   "outputs": [],
   "source": [
    "Use_tight_presel=False\n",
    "\n",
    "if Params[\"FLATTEN\"] == True: Preselection_dict = Constants.Preselection_dict \n",
    "else: Preselection_dict = Constants.Preselection_dict_for_plot\n",
    "\n",
    "if Use_tight_presel == True: Preselection_dict = Constants.Tight_Preselection_dict\n",
    "        \n",
    "if Params[\"Run\"] == \"run3\": Preselection_dict.update(Constants.Preselection_dict_crtveto) #Adding crtveto cut\n",
    "        \n",
    "if (Params[\"Load_DetVars\"] == True) and (Params[\"Run\"] == \"run3\"):\n",
    "    removed=Preselection_dict.pop('Fiducial_cut')\n",
    "\n",
    "    \n",
    "# Preselection_dict.update({\"topological_score\":\"topological_score < 0.98\"})\n",
    "\n",
    "print(\"Preselection is:\" + \"\\n\")\n",
    "print(Preselection_dict)\n"
   ]
  },
  {
   "cell_type": "code",
   "execution_count": null,
   "id": "b0174e30-99e3-4902-9251-89b7ff41cf19",
   "metadata": {},
   "outputs": [],
   "source": [
    "reload(Functions)\n",
    "sample_dict_copy = {}\n",
    "for sample in swtrig:\n",
    "    sample_dict_copy[sample] = swtrig[sample].copy()\n",
    "\n",
    "    \n",
    "if (Params[\"Load_DetVars\"] == True) or (Params[\"Load_Signal_DetVars\"] == True) or (Params['Load_pi0_signal_DetVars'] == True):\n",
    "    Preselected = Functions.Preselection_DetVars(sample_dict_copy, Preselection_dict)\n",
    "else:\n",
    "    if Params[\"FLATTEN\"] == False:\n",
    "        Efficiency_dict, Preselected = Functions.Preselection_weighted_efficiency(sample_dict_copy, Preselection_dict)\n",
    "    if Params[\"FLATTEN\"] == True:\n",
    "        Efficiency_dict, Preselected = Functions.Flattened_Preselection_weighted_efficiency(sample_dict_copy, Preselection_dict, Params[\"Run\"])\n",
    "    \n",
    "    print(Efficiency_dict.keys())\n",
    "print(\"Finished pre-selection cuts.\")\n"
   ]
  },
  {
   "cell_type": "markdown",
   "id": "9738040c-2f2c-47f4-a2fd-90f2a28ede09",
   "metadata": {
    "jp-MarkdownHeadingCollapsed": true,
    "tags": []
   },
   "source": [
    "## Printing and plotting efficiencies"
   ]
  },
  {
   "cell_type": "code",
   "execution_count": null,
   "id": "62469580-c580-4905-aa83-aa0ca1ed64b5",
   "metadata": {},
   "outputs": [],
   "source": [
    "Preselection_signal_min, Preselection_signal_max = Functions.Get_signal_efficiency_range(Params, Preselection_dict, Efficiency_dict)\n",
    "\n",
    "Functions.Print_efficiency_numbers(Params, Preselected, Efficiency_dict)\n"
   ]
  },
  {
   "cell_type": "code",
   "execution_count": null,
   "id": "c887f751-2a09-4314-bab2-2cdc91929dbe",
   "metadata": {},
   "outputs": [],
   "source": [
    "reload(Constants)"
   ]
  },
  {
   "cell_type": "code",
   "execution_count": null,
   "id": "91d33429-71a2-447c-aecd-302871a5ee08",
   "metadata": {},
   "outputs": [],
   "source": [
    "PT.Plot_preselection_efficiency(Params, Preselection_dict, Efficiency_dict, Preselection_signal_min, Preselection_signal_max, log=True)\n"
   ]
  },
  {
   "cell_type": "code",
   "execution_count": null,
   "id": "96668bf5-c2b6-459c-967d-e4d982b24de2",
   "metadata": {},
   "outputs": [],
   "source": [
    "effic_wrt_prev, lowest_signal_wrt_prev, highest_signal_wrt_prev = Functions.Get_effic_wrt_previous(Params, Preselection_dict, Efficiency_dict)\n",
    "\n",
    "PT.Plot_effic_wrt_previous(Params, Preselection_dict, effic_wrt_prev, lowest_signal_wrt_prev, highest_signal_wrt_prev)\n"
   ]
  },
  {
   "cell_type": "markdown",
   "id": "ee79544c-248c-45eb-9c09-a0d773388628",
   "metadata": {},
   "source": [
    "## Only select highest energy object and \"Prepare\" for xgboost"
   ]
  },
  {
   "cell_type": "code",
   "execution_count": null,
   "id": "cd990eb4-7cd2-4568-aab4-fb1f4d9198d2",
   "metadata": {},
   "outputs": [],
   "source": [
    "trk_score_cut = True\n",
    "\n",
    "Prepared_dict = {}\n",
    "if(trk_score_cut): Preselected_dict = Functions.Remove_high_trk_score_objects(Preselected, threshold=0.97)\n",
    "else: Preselected_dict = Preselected.copy()\n",
    "\n",
    "Highest_E_placeholder = Functions.only_keep_highest_E(Preselected_dict)\n",
    "# Prepared_dict = Functions.Prepare_dfs_for_xgb(Highest_E_placeholder)\n",
    "Prepared_dict = Functions.Fixed_Prepare_dfs_for_xgb(Highest_E_placeholder)\n",
    "\n",
    "print(Prepared_dict.keys())"
   ]
  },
  {
   "cell_type": "code",
   "execution_count": null,
   "id": "dc942c26-3173-4baa-8ffd-56710515ecfe",
   "metadata": {},
   "outputs": [],
   "source": [
    "# for variable in Prepared_dict[\"overlay\"].keys():\n",
    "#     print(variable)\n",
    "#     print(max(Prepared_dict[\"overlay\"][variable]))\n",
    "#     print(min(Prepared_dict[\"overlay\"][variable]))"
   ]
  },
  {
   "cell_type": "markdown",
   "id": "35f5d821-32b8-4c08-a33d-ff324a36a86b",
   "metadata": {},
   "source": [
    "# Save pkls"
   ]
  },
  {
   "cell_type": "code",
   "execution_count": null,
   "id": "5392750f-b2f0-4c9b-84b4-594006cc748b",
   "metadata": {},
   "outputs": [],
   "source": [
    "print_vals = input(\"Do you want to save the pickle files? y/n \")\n",
    "if print_vals == \"y\":\n",
    "    Functions.Save_preselected_pkls(Prepared_dict, Params, loc_pkls, \"full_Finished\")\n",
    "else:\n",
    "    print(\"Not saving pickle files, move onto next cell\")"
   ]
  },
  {
   "cell_type": "markdown",
   "id": "4e028fb4-146d-4aa0-bfd7-75cd8c8bad45",
   "metadata": {},
   "source": [
    "## Plotting single mass point and background"
   ]
  },
  {
   "cell_type": "code",
   "execution_count": null,
   "id": "bd2f09b5-cb7f-4bef-a847-01337447a5a4",
   "metadata": {},
   "outputs": [],
   "source": [
    "#Plotting efficiency\n",
    "signal_mass = 220\n",
    "plt.figure(figsize=[10,10])\n",
    "plt.plot(np.array(range(1, len(Efficiency_dict[effic])+1)),Efficiency_dict[signal_mass],label=f\"{signal_mass} MeV HNL\",lw=4,markersize=15)\n",
    "plt.plot(np.array(range(1, len(Efficiency_dict[effic])+1)),Efficiency_dict['overlay'],label=\"MC run1 overlay\",lw=4,markersize=15)\n",
    "plt.plot(np.array(range(1, len(Efficiency_dict[effic])+1)),Efficiency_dict['dirtoverlay'],label=\"MC run1 dirt\",lw=4,markersize=15)\n",
    "plt.plot(np.array(range(1, len(Efficiency_dict[effic])+1)),Efficiency_dict['beamoff'],label=\"MC run1 EXT\",lw=4,markersize=15)\n",
    "plt.ylabel(\"Fraction Selected\")\n",
    "plt.xticks(np.array(range(1, len(Efficiency_dict[effic])+1)),[\"Full sample\"]+list(Preselection_dict.keys()),rotation=80)\n",
    "#plt.yscale(\"log\")\n",
    "plt.legend()\n"
   ]
  },
  {
   "cell_type": "markdown",
   "id": "b9cefcb2-65f2-4969-bbf8-10de7abfd559",
   "metadata": {},
   "source": [
    "## Plotting just signal"
   ]
  },
  {
   "cell_type": "code",
   "execution_count": null,
   "id": "0dced274-7173-47cc-a52f-7726ea10abd2",
   "metadata": {},
   "outputs": [],
   "source": [
    "if Params[\"Load_lepton_signal\"]: plotting_samples = [\"10_ee\",\"50_ee\", \"100_ee\", \"150_ee\"]\n",
    "if Params[\"Load_pi0_signal\"]: plotting_samples = [\"150_pi0\",\"180_pi0\",\"200_pi0\", \"245_pi0\"]\n",
    "sig_plot_dict = {}\n",
    "for signal in plotting_samples:\n",
    "    sig_plot_dict[signal] = samples_dict[signal].copy()\n",
    "    sig_plot_dict[signal]=sig_plot_dict[signal].drop_duplicates(subset=[\"run\",\"evt\",\"sub\"])\n"
   ]
  },
  {
   "cell_type": "code",
   "execution_count": null,
   "id": "f8f88725-b6a2-4964-beef-8a88c263e9f9",
   "metadata": {},
   "outputs": [],
   "source": [
    "delta_x, delta_y, delta_z = {}, {}, {}\n",
    "\n",
    "for signal in sig_plot_dict:\n",
    "    delta_x[signal] = sig_plot_dict[signal]['max_x'] - sig_plot_dict[signal]['min_x']\n",
    "    delta_y[signal] = sig_plot_dict[signal]['max_y'] - sig_plot_dict[signal]['min_y']\n",
    "    delta_z[signal] = sig_plot_dict[signal]['max_z'] - sig_plot_dict[signal]['min_z']\n",
    "    \n",
    "    sig_plot_dict[signal][\"Length_x\"] = delta_x[signal]\n",
    "    sig_plot_dict[signal][\"Length_y\"] = delta_y[signal]\n",
    "    sig_plot_dict[signal][\"Length_z\"] = delta_z[signal]\n",
    "\n",
    "print(delta_x[signal])\n",
    "\n",
    "#'trk_sce_start_x_v', 'trk_sce_start_y_v','trk_sce_start_z_v', 'trk_sce_end_x_v', 'trk_sce_end_y_v','trk_sce_end_z_v'"
   ]
  },
  {
   "cell_type": "code",
   "execution_count": null,
   "id": "e958396a-3418-4734-b7c8-6dee3e2899e2",
   "metadata": {},
   "outputs": [],
   "source": [
    "diagonal_length_slice =  {}\n",
    "for signal in sig_plot_dict:\n",
    "    diagonal_length_slice[signal] = np.sqrt(delta_x[signal]**2 + delta_y[signal]**2 + delta_z[signal]**2)\n",
    "    \n",
    "print(diagonal_length_slice[signal])"
   ]
  },
  {
   "cell_type": "code",
   "execution_count": null,
   "id": "02845ae8-af60-4f82-977d-e8b97945766a",
   "metadata": {},
   "outputs": [],
   "source": [
    "length_max_object =  {}\n",
    "obj_sig_plot_dict = {}\n",
    "object_delta_x, object_delta_y, object_delta_z = {}, {}, {}\n",
    "delta_total = {}\n",
    "for signal in sig_plot_dict:\n",
    "    obj_sig_plot_dict[signal] = samples_dict[signal].copy()\n",
    "    object_delta_x[signal] = abs(obj_sig_plot_dict[signal]['trk_sce_start_x_v'] - obj_sig_plot_dict[signal]['trk_sce_end_x_v'])\n",
    "    object_delta_y[signal] = abs(obj_sig_plot_dict[signal]['trk_sce_start_y_v'] - obj_sig_plot_dict[signal]['trk_sce_end_y_v'])\n",
    "    object_delta_z[signal] = abs(obj_sig_plot_dict[signal]['trk_sce_start_z_v'] - obj_sig_plot_dict[signal]['trk_sce_end_z_v'])\n",
    "    \n",
    "    obj_sig_plot_dict[signal][\"obj_x_extent\"] = object_delta_x[signal]\n",
    "    obj_sig_plot_dict[signal][\"obj_y_extent\"] = object_delta_y[signal]\n",
    "    obj_sig_plot_dict[signal][\"obj_z_extent\"] = object_delta_z[signal]\n",
    "    \n",
    "    delta_total[signal] = np.sqrt(obj_sig_plot_dict[signal][\"obj_x_extent\"]**2 + obj_sig_plot_dict[signal][\"obj_y_extent\"]**2 + obj_sig_plot_dict[signal][\"obj_z_extent\"]**2)\n",
    "    \n",
    "    obj_sig_plot_dict[signal][\"obj_total_extent\"] = delta_total[signal]\n",
    "    \n",
    "print(object_delta_x[signal])\n",
    "print(delta_total[signal])\n"
   ]
  },
  {
   "cell_type": "code",
   "execution_count": null,
   "id": "4d4a89c7-2661-47c7-b8ff-7f2bec237d47",
   "metadata": {},
   "outputs": [],
   "source": [
    "largest_object_samples = {}\n",
    "\n",
    "for sample in obj_sig_plot_dict:\n",
    "    largest_object_samples[sample] = obj_sig_plot_dict[sample].copy()\n",
    "    largest_object_samples[sample][\"largest_obj\"]=largest_object_samples[sample][\"obj_total_extent\"].groupby(\"entry\").transform(max) == largest_object_samples[sample][\"obj_total_extent\"]\n",
    "    largest_object_samples[sample] = largest_object_samples[sample].query(\"largest_obj\").copy()\n",
    "\n",
    "print(largest_object_samples[sample][\"obj_total_extent\"])\n"
   ]
  },
  {
   "cell_type": "code",
   "execution_count": null,
   "id": "b4a70ff4-13af-4e86-ab5e-ae8230d66101",
   "metadata": {},
   "outputs": [],
   "source": [
    "for signal in sig_plot_dict:\n",
    "    sig_plot_dict[signal][\"Length_slice\"] = diagonal_length_slice[signal]\n",
    "    \n",
    "print(sig_plot_dict[signal].keys())"
   ]
  },
  {
   "cell_type": "code",
   "execution_count": null,
   "id": "bb0a840e-7893-462b-ad33-37f2f5b0cdef",
   "metadata": {},
   "outputs": [],
   "source": [
    "def Plot_variable_signal(variable, HNL_samples_dict=[], xlabel=[], xlims=[0,0], bins=40, figsize=[10,10], dpi=100, xticks=[], \n",
    "                         density=True,legloc=\"best\",logy = False, cutline = None, savefig=False, filename=None, plot_entries=False,fraction=False):\n",
    "    \n",
    "    if(HNL_samples_dict==[]): raise Exception(\"Specify samples dict\") \n",
    "    if(xlabel==[]): xlabel=variable\n",
    "    \n",
    "    if logy == True: logscale=\"log\"\n",
    "    elif logy == False: logscale=\"linear\"\n",
    "    \n",
    "    fig,ax = plt.subplots(nrows=1, ncols=1, sharex=True, figsize=figsize,dpi=dpi)\n",
    "    \n",
    "    for HNL_mass in HNL_samples_dict:\n",
    "        \n",
    "        mass_str = HNL_mass.split(\"_\")[0]\n",
    "        dec_type = HNL_mass.split(\"_\")[1]\n",
    "    \n",
    "        #var_HNL=HNL_samples_dict[HNL_mass][variable] #old way when specifying variable\n",
    "        var_HNL=HNL_samples_dict[HNL_mass][variable]\n",
    "        Num_entries = len(var_HNL)\n",
    "       \n",
    "        if xlims[0] == 0 and xlims[1] == 0: xlims = [min(var_HNL),max(var_HNL)]\n",
    "    \n",
    "        if(isinstance(bins, int)):\n",
    "            nbins=bins\n",
    "            bins=np.linspace(xlims[0],xlims[1],nbins+1)\n",
    "        else: nbins=len(bins)-1\n",
    "    \n",
    "    #plt.sca(ax[0])\n",
    "               \n",
    "        if plot_entries==True: label=[f\"{mass_str} MeV HNL: \" + str(Num_entries) + \" entries\"]\n",
    "        if plot_entries==False: label=[f\"{mass_str} MeV HNL\"]\n",
    "                   \n",
    "        if fraction == False:\n",
    "            p=plt.hist(var_HNL,\n",
    "    #               label=[f\"HNL ({mass} MeV) \\n $|U_{{\\mu4}}|^2=\"+sci_notation(sample_info[\"300\"][\"theta_u2\"]) +f\" (x{HNLplotscale})\"],\n",
    "                  label=label,\n",
    "                  range=xlims,bins=bins,\n",
    "                  stacked=False,density=density,\n",
    "                  histtype=\"step\",lw=3)\n",
    "        if fraction == True:\n",
    "            p=plt.hist(var_HNL,weights=np.ones(len(var_HNL)) / len(var_HNL),\n",
    "                     label=label,\n",
    "                  range=xlims,bins=bins,\n",
    "                  stacked=False,density=False,\n",
    "                  histtype=\"step\",lw=3)\n",
    "    \n",
    "    if(isinstance(cutline, (int,float))):\n",
    "        plt.axvline(x=cutline, lw=3, color='green', linestyle = 'dashed')\n",
    "    \n",
    "    if(logy == True):\n",
    "        plt.yscale(\"log\")\n",
    "    else:\n",
    "        plt.yscale(\"linear\")\n",
    "        \n",
    "    if(fraction == True):\n",
    "        plt.ylabel(\"Fraction of events\")\n",
    "        \n",
    "    if dec_type == \"ee\": text1 = r'$N\\rightarrow \\nu e^{+}e^{-}$'\n",
    "    if dec_type == \"pi0\": text1 = r'$N\\rightarrow \\nu \\pi^{0}$'   \n",
    "    \n",
    "    plt.legend(loc=legloc,frameon=True, fontsize=18, title=text1)\n",
    "    \n",
    "    plt.xlabel(xlabel)\n",
    "    plt.xlim(xlims)\n",
    "    if xticks != []:\n",
    "        plt.xticks(xticks)\n",
    "    # plt.tight_layout(rect=[0, 0, 1, 0.92])\n",
    "    plt.tight_layout()\n",
    "    plt.yscale(logscale)\n",
    "    if filename == None:\n",
    "        Name = variable + \"_\" + Params[\"Run\"] + \"_\" + dec_type\n",
    "    else:\n",
    "        Name = filename\n",
    "    if savefig == True:\n",
    "        plt.savefig(\"plots/Preselection_variables/Reconstruction_plots/\" + Name + \".png\")\n",
    "        plt.savefig(\"plots/Preselection_variables/Reconstruction_plots/\" + Name + \".pdf\")"
   ]
  },
  {
   "cell_type": "code",
   "execution_count": null,
   "id": "7178eb18-f77e-4e61-a74a-693e86268aa1",
   "metadata": {},
   "outputs": [],
   "source": [
    "# 'Length_slice','Length_x', 'Length_y', 'Length_z'\n",
    "variable=\"Length_slice\"\n",
    "\n",
    "print(sig_plot_dict.keys())\n",
    "\n",
    "Plot_variable_signal(variable, HNL_samples_dict=sig_plot_dict, xlabel=\"Extent of slice [cm]\", xlims=[0,150], bins=40, figsize=[10,8], dpi=100, xticks=[], \n",
    "                         density=False,legloc=\"best\",logy = False, cutline = None, savefig=True, filename=None, plot_entries=False,fraction=True)"
   ]
  },
  {
   "cell_type": "code",
   "execution_count": null,
   "id": "ebea9ef8-8321-4026-809f-458c65f5277f",
   "metadata": {},
   "outputs": [],
   "source": [
    "variable=\"obj_total_extent\"\n",
    "\n",
    "print(sig_plot_dict.keys())\n",
    "\n",
    "Plot_variable_signal(variable, HNL_samples_dict=largest_object_samples, xlabel=\"Length of largest object [cm]\", xlims=[0,100], bins=40, figsize=[10,8], dpi=100, xticks=[], \n",
    "                         density=False,legloc=\"best\",logy = False, cutline = None, savefig=True, filename=None, plot_entries=False,fraction=True)\n"
   ]
  },
  {
   "cell_type": "code",
   "execution_count": null,
   "id": "5a618283-6b9b-4372-ba78-101f7db7c51a",
   "metadata": {},
   "outputs": [],
   "source": [
    "plt.figure(figsize=[10,10])\n",
    "\n",
    "for HNL_mass in Constants.HNL_mass_samples:\n",
    "    plt.plot(np.array(range(1, len(Efficiency_dict[effic])+1)),Efficiency_dict[HNL_mass],label=f\"{HNL_mass} MeV HNL\",lw=4,markersize=15)\n",
    "    \n",
    "plt.ylabel(\"Fraction Selected\")\n",
    "plt.xticks(np.array(range(1, len(Efficiency_dict[effic])+1)),[\"Full sample\"]+list(Preselection_dict.keys()),rotation=80)\n",
    "# plt.yscale(\"log\")\n",
    "plt.legend()\n",
    "\n",
    "plt.savefig(\"plots/Preselection_efficiencies/Signal_only_\"+Params[\"Run\"]+\"_\"+Params[\"Flat_state\"]+\".png\")"
   ]
  },
  {
   "cell_type": "markdown",
   "id": "48699806-e055-4a8d-86cb-b31fb89b838d",
   "metadata": {},
   "source": [
    "# Testing code"
   ]
  },
  {
   "cell_type": "markdown",
   "id": "2ee30713-c2a4-4cfb-b1ca-03cdb01fea0d",
   "metadata": {},
   "source": [
    "## Making sum of weights (only for unflattened)"
   ]
  },
  {
   "cell_type": "code",
   "execution_count": null,
   "id": "39c518af-9e59-4715-a810-ade7498e5c9a",
   "metadata": {},
   "outputs": [],
   "source": [
    "def Sum_weights(df):\n",
    "    weight = df[\"weight\"] #Just one value per event\n",
    "    sum_weights = sum(weight)\n",
    "    return sum_weights\n",
    "\n",
    "for sample in ['overlay', 'dirtoverlay']:\n",
    "    sum_weights_placeholder = Sum_weights(samples_dict[sample])\n",
    "    print(f\"{sample} sum weights is \" + str(sum_weights_placeholder))"
   ]
  },
  {
   "cell_type": "code",
   "execution_count": null,
   "id": "d3f5cb1e-1eac-44f7-bffb-1a2763bb092e",
   "metadata": {},
   "outputs": [],
   "source": [
    "#Testing what the variables look like\n",
    "variable = \"dvtx_x_boundary\"\n",
    "def test_variables(df):\n",
    "    test_signal = df[variable]\n",
    "    print(type(test_signal))\n",
    "    print(len(test_signal))\n",
    "test_variables(df_overlay_run1)\n",
    "test_variables(df_dirt_run1)\n",
    "test_variables(df_EXT_run1)\n",
    "test_variables(df_signal_run1)"
   ]
  },
  {
   "cell_type": "code",
   "execution_count": null,
   "id": "057e26b6",
   "metadata": {},
   "outputs": [],
   "source": [
    "#print(overlay_from_pkl['nslice'])\n",
    "#print(\"Flat Overlay .pkl is \"+str(len(FLAT_overlay_from_pkl))+\" entries long.\")\n",
    "\n",
    "print(\"-----Unflattened-----\")\n",
    "unique_var = overlay_from_pkl[\"nslice\"].unique()\n",
    "print(unique_var)\n",
    "unique_var = overlay_from_pkl[\"n_pfps\"].unique()\n",
    "print(unique_var)\n",
    "print(overlay_from_pkl[\"n_pfps\"])\n",
    "print(type(overlay_from_pkl[\"n_pfps\"][0]))\n",
    "\n",
    "# for var in overlay_from_pkl.keys():\n",
    "#     if type(overlay_from_pkl[var][1]) == \"numpy.ndarray\":\n",
    "#         print(var)\n",
    "\n",
    "# print(\"-----Flattened-----\")\n",
    "# unique_var = FLAT_overlay_from_pkl[\"nslice\"].unique()\n",
    "# print(unique_var)\n",
    "# unique_var = FLAT_overlay_from_pkl[\"n_pfps\"].unique()\n",
    "# print(unique_var)\n",
    "# print(FLAT_overlay_from_pkl[\"n_pfps\"])\n",
    "# print(type(FLAT_overlay_from_pkl[\"n_pfps\"]))"
   ]
  },
  {
   "cell_type": "markdown",
   "id": "9130d35f-d396-4089-b21c-b2e6b36c7a88",
   "metadata": {},
   "source": [
    "## Depracated code"
   ]
  }
 ],
 "metadata": {
  "kernelspec": {
   "display_name": "Python 3 (ipykernel)",
   "language": "python",
   "name": "python3"
  },
  "language_info": {
   "codemirror_mode": {
    "name": "ipython",
    "version": 3
   },
   "file_extension": ".py",
   "mimetype": "text/x-python",
   "name": "python",
   "nbconvert_exporter": "python",
   "pygments_lexer": "ipython3",
   "version": "3.11.3"
  },
  "toc-autonumbering": false,
  "toc-showcode": true,
  "toc-showmarkdowntxt": false
 },
 "nbformat": 4,
 "nbformat_minor": 5
}
