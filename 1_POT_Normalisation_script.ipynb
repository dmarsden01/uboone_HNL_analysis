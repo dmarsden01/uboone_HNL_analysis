{
 "cells": [
  {
   "cell_type": "code",
   "execution_count": 2,
   "id": "8ab81f70",
   "metadata": {},
   "outputs": [
    {
     "name": "stdout",
     "output_type": "stream",
     "text": [
      "Welcome to JupyROOT 6.24/06\n",
      "Success\n"
     ]
    }
   ],
   "source": [
    "import os,sys,string, time\n",
    "import ROOT\n",
    "from math import *\n",
    "from ROOT import gPad, TTree, TObject, TFile, gDirectory, TH1D, TH2D, TH3D, TCanvas, gROOT, TGaxis, gStyle, TColor, TLegend, THStack, TChain, TLatex, TText, TCollection, kRed, kBlue\n",
    "from array import array\n",
    "import matplotlib.pyplot as plt\n",
    "import numpy as np\n",
    "import uproot\n",
    "import pandas as pd\n",
    "from root_pandas import read_root\n",
    "from platform import python_version\n",
    "import scipy\n",
    "from scipy import stats\n",
    "import uproot3\n",
    "import math\n",
    "from matplotlib.patches import Rectangle\n",
    "\n",
    "import csv\n",
    "\n",
    "import Utilities.Plotter as PT\n",
    "import Utilities.Constants as Constants\n",
    "import Utilities.Variables_list as Variables\n",
    "import Utilities.Functions as Functions\n",
    "\n",
    "print('Success')"
   ]
  },
  {
   "cell_type": "markdown",
   "id": "1f013d62-7799-46a8-9bf7-afd8620ad5fb",
   "metadata": {},
   "source": [
    "## Reading in single file"
   ]
  },
  {
   "cell_type": "code",
   "execution_count": 23,
   "id": "c5b4ee6a-0ec5-4056-9eb4-4ae5449a72f8",
   "metadata": {},
   "outputs": [
    {
     "name": "stdout",
     "output_type": "stream",
     "text": [
      "POT exists\n",
      "[b'run', b'subRun']\n",
      "POT doesn't exist\n"
     ]
    }
   ],
   "source": [
    "location = '../NuMI_MC/SLIMMED_neutrinoselection_filt_run1_overlay.root'\n",
    "file = uproot3.open(location)['nuselection/SubRun']\n",
    "\n",
    "if b\"pot\" in file.keys(): print(\"POT exists\")\n",
    "else: print(\"POT doesn't exist\")\n",
    "\n",
    "location = '../NuMI_data/neutrinoselection_filt_run1_beamoff.root'\n",
    "file_new = uproot3.open(location)['nuselection/SubRun']\n",
    "print(file_new.keys())\n",
    "if \"pot\" in file_new.keys(): print(\"POT exists\")\n",
    "else: print(\"POT doesn't exist\")"
   ]
  },
  {
   "cell_type": "code",
   "execution_count": 25,
   "id": "43bb49e7-e430-407b-8abf-032d585b8de8",
   "metadata": {},
   "outputs": [
    {
     "data": {
      "text/plain": [
       "3.592676027097128e-06"
      ]
     },
     "execution_count": 25,
     "metadata": {},
     "output_type": "execute_result"
    }
   ],
   "source": [
    "def Single_file_POT_events(location): #Returns the cumulative POT of the sample at the \"location\" and number of events\n",
    "    file = uproot3.open(location)['nuselection/SubRun']\n",
    "    file_evs = uproot3.open(location)['nuselection/NeutrinoSelectionFilter']\n",
    "    events = file_evs.numentries\n",
    "    if b\"pot\" in file.keys(): #POT exists\n",
    "        POT = Functions.POT_counter(file)\n",
    "    else: POT = None #POT doesn't exist\n",
    "\n",
    "    return POT, events\n",
    "\n",
    "def Single_file_POT_scaling(POT, Run, file_type): #Do not use for EXT\n",
    "    # print(\"Calculating scaling for \" + Run + \" \" + file_type)\n",
    "    if POT == None:\n",
    "        print(\"No POT for this file. Assuming EXT file.\")\n",
    "        if Run == \"run1\":SF = Constants.SF_EXT_run1\n",
    "        if Run == \"run3\":SF = Constants.SF_EXT_run1\n",
    "\n",
    "        return SF\n",
    "    if Run == \"run1\": #Not EXT file\n",
    "        Data_POT = Constants.Run1_POT\n",
    "        further_scaling = {\"signal\":Constants.NuMI_KDAR_scaling_run1,\n",
    "                           \"overlay\":1.0,\n",
    "                           \"dirt\":Constants.DIRT_run1_scaling}\n",
    "    if Run == \"run3\": #Not EXT file\n",
    "        Data_POT = Constants.Run3_POT\n",
    "        further_scaling = {\"signal\":Constants.NuMI_KDAR_scaling_run3,\n",
    "                           \"overlay\":1.0,\n",
    "                           \"dirt\":Constants.DIRT_run3_scaling}\n",
    "    SF = (Data_POT/POT)*further_scaling[file_type]\n",
    "\n",
    "    return SF\n",
    "    \n",
    "# loc = '../NuMI_signal/KDAR_dump/sfnues/sfnues_KDAR_dump_10_Umu4_majorana_numi_RHC.root'\n",
    "loc = '../NuMI_signal/KDAR_dump/sfnues/DetVars/150_CV_run1.root'\n",
    "file_type = \"signal\" #\"signal\", \"overlay\" or \"dirt\"\n",
    "Run=\"run1\"\n",
    "POT = Single_file_POT_events(loc)[0]\n",
    "\n",
    "Single_file_POT_scaling(POT, Run, file_type)\n"
   ]
  },
  {
   "cell_type": "code",
   "execution_count": 5,
   "id": "4fb49ce2-f90d-4f0a-aa95-69ac46753a69",
   "metadata": {},
   "outputs": [
    {
     "data": {
      "text/plain": [
       "3.5533992790484712e-06"
      ]
     },
     "execution_count": 5,
     "metadata": {},
     "output_type": "execute_result"
    }
   ],
   "source": [
    "loc = '../NuMI_MC/neutrinoselection_filt_run1_dirt_overlay.root'\n",
    "\n",
    "file_type = \"signal\" #\"signal\", \"overlay\" or \"dirt\"\n",
    "Run=\"run1\"\n",
    "POT, events = Single_file_POT_events(loc)\n",
    "\n",
    "print(events)\n",
    "\n",
    "Single_file_POT_scaling(POT, Run, file_type)\n"
   ]
  },
  {
   "cell_type": "code",
   "execution_count": 33,
   "id": "009698e5-0e7a-45c6-8515-a32d3cf08738",
   "metadata": {},
   "outputs": [
    {
     "name": "stdout",
     "output_type": "stream",
     "text": [
      "run3 overlay has 748702 events.\n",
      "run3 dirt has 389264 events.\n",
      "run3 ext has 3211097 events.\n"
     ]
    }
   ],
   "source": [
    "loc_dict = {\"overlay\":'../NuMI_MC/SLIMMED_neutrinoselection_filt_run3_overlay.root',\n",
    "            \"dirt\":'../NuMI_MC/neutrinoselection_filt_run3_dirt_overlay.root',\n",
    "            \"ext\":'../NuMI_data/neutrinoselection_filt_run3_beamoff.root'}\n",
    "\n",
    "events_dict = {}\n",
    "for file in loc_dict:\n",
    "\n",
    "    file_type = file #\"signal\", \"overlay\" or \"dirt\"\n",
    "    Run=\"run3\"\n",
    "    POT, events = Single_file_POT_events(loc_dict[file])\n",
    "    events_dict[file] = events\n",
    "    print(f\"{Run} {file} has \" + str(events) + \" events.\")\n",
    "\n",
    "\n",
    "# Single_file_POT_scaling(POT, Run, file_type)"
   ]
  },
  {
   "cell_type": "code",
   "execution_count": 32,
   "id": "80a3797f-48cb-4b42-8916-00d058184f09",
   "metadata": {},
   "outputs": [
    {
     "name": "stdout",
     "output_type": "stream",
     "text": [
      "run3 2 has 45159 events.\n",
      "run3 10 has 44463 events.\n",
      "run3 20 has 46022 events.\n",
      "run3 50 has 44579 events.\n",
      "run3 100 has 45304 events.\n",
      "run3 150 has 44975 events.\n",
      "run3 180 has 46038 events.\n",
      "run3 200 has 45003 events.\n",
      "run3 220 has 46093 events.\n",
      "run3 240 has 44894 events.\n",
      "run3 245 has 46114 events.\n",
      "run3 150_pi0 has 45827 events.\n",
      "run3 180_pi0 has 44811 events.\n",
      "run3 200_pi0 has 43943 events.\n",
      "run3 220_pi0 has 44503 events.\n",
      "run3 240_pi0 has 45704 events.\n",
      "run3 245_pi0 has 44073 events.\n"
     ]
    }
   ],
   "source": [
    "run3_new_gen_file_loc_dict = {2: '../NuMI_signal/KDAR_dump/sfnues/sfnues_KDAR_dump_2_ee_Umu4_majorana_RHC.root',\n",
    "                              10: '../NuMI_signal/KDAR_dump/sfnues/sfnues_KDAR_dump_10_ee_Umu4_majorana_RHC.root',\n",
    "                              20: '../NuMI_signal/KDAR_dump/sfnues/sfnues_KDAR_dump_20_ee_Umu4_majorana_RHC.root',\n",
    "                              50: '../NuMI_signal/KDAR_dump/sfnues/sfnues_KDAR_dump_50_ee_Umu4_majorana_RHC.root',\n",
    "                              100: '../NuMI_signal/KDAR_dump/sfnues/sfnues_KDAR_dump_100_ee_Umu4_majorana_RHC.root',\n",
    "                              150: '../NuMI_signal/KDAR_dump/sfnues/sfnues_KDAR_dump_150_ee_Umu4_majorana_RHC.root',\n",
    "                              180: '../NuMI_signal/KDAR_dump/sfnues/sfnues_KDAR_dump_180_ee_Umu4_majorana_RHC.root',\n",
    "                              200: '../NuMI_signal/KDAR_dump/sfnues/sfnues_KDAR_dump_200_ee_Umu4_majorana_RHC.root',\n",
    "                              220: '../NuMI_signal/KDAR_dump/sfnues/sfnues_KDAR_dump_220_ee_Umu4_majorana_RHC.root',\n",
    "                              240: '../NuMI_signal/KDAR_dump/sfnues/sfnues_KDAR_dump_240_ee_Umu4_majorana_RHC.root',\n",
    "                              245: '../NuMI_signal/KDAR_dump/sfnues/sfnues_KDAR_dump_245_ee_Umu4_majorana_RHC.root',\n",
    "                              \"150_pi0\": '../NuMI_signal/KDAR_dump/sfnues/pi0/sfnues_KDAR_dump_150_pi0_Umu4_majorana_RHC.root',\n",
    "                              \"180_pi0\": '../NuMI_signal/KDAR_dump/sfnues/pi0/sfnues_KDAR_dump_180_pi0_Umu4_majorana_RHC.root',\n",
    "                              \"200_pi0\": '../NuMI_signal/KDAR_dump/sfnues/pi0/sfnues_KDAR_dump_200_pi0_Umu4_majorana_RHC.root',\n",
    "                              \"220_pi0\": '../NuMI_signal/KDAR_dump/sfnues/pi0/sfnues_KDAR_dump_220_pi0_Umu4_majorana_RHC.root',\n",
    "                              \"240_pi0\": '../NuMI_signal/KDAR_dump/sfnues/pi0/sfnues_KDAR_dump_240_pi0_Umu4_majorana_RHC.root',\n",
    "                              \"245_pi0\": '../NuMI_signal/KDAR_dump/sfnues/pi0/sfnues_KDAR_dump_245_pi0_Umu4_majorana_RHC.root'}\n",
    "\n",
    "events_dict = {}\n",
    "for file in run3_new_gen_file_loc_dict:\n",
    "\n",
    "    file_type = \"signal\" #\"signal\", \"overlay\" or \"dirt\"\n",
    "    Run=\"run3\"\n",
    "    POT, events = Single_file_POT_events(run3_new_gen_file_loc_dict[file])\n",
    "    events_dict[file] = events\n",
    "    print(f\"{Run} {file} has \" + str(events) + \" events.\")\n",
    "    "
   ]
  },
  {
   "cell_type": "code",
   "execution_count": 54,
   "id": "ed5d30c0-db1c-437b-9cc1-0e147528d001",
   "metadata": {},
   "outputs": [
    {
     "name": "stdout",
     "output_type": "stream",
     "text": [
      "20 SF is : 2.1387912933253144e-12\n",
      "50 SF is : 6.590170245207509e-10\n",
      "100 SF is : 6.913852703765691e-08\n",
      "150 SF is : 3.301953636715338e-06\n",
      "180 SF is : 3.479531678617752e-05\n",
      "200 SF is : 9.077313301681812e-05\n"
     ]
    }
   ],
   "source": [
    "run1_old_gen_file_loc_dict = {20: '../NuMI_signal/KDAR_dump/sfnues/OLD_gen_files/sfnues_KDAR_dump_20_Umu4_majorana_numi_RHC.root',\n",
    "                              50: '../NuMI_signal/KDAR_dump/sfnues/OLD_gen_files/sfnues_KDAR_dump_50_Umu4_majorana_numi_RHC.root',\n",
    "                              100: '../NuMI_signal/KDAR_dump/sfnues/OLD_gen_files/sfnues_KDAR_dump_100_Umu4_majorana_numi_RHC.root',\n",
    "                              150: '../NuMI_signal/KDAR_dump/sfnues/OLD_gen_files/sfnues_KDAR_dump_150_Umu4_majorana_numi_RHC.root',\n",
    "                              180: '../NuMI_signal/KDAR_dump/sfnues/OLD_gen_files/sfnues_KDAR_dump_180_Umu4_majorana_numi_RHC.root',\n",
    "                              200: '../NuMI_signal/KDAR_dump/sfnues/OLD_gen_files/sfnues_KDAR_dump_200_Umu4_majorana_numi_RHC.root'}\n",
    "\n",
    "file_loc_dict = run1_old_gen_file_loc_dict\n",
    "POT_dict = {}\n",
    "events_dict = {}\n",
    "SF_dict = {}\n",
    "\n",
    "for file in file_loc_dict:\n",
    "    file_type = \"signal\"\n",
    "    Run=\"run1\"\n",
    "    POT_dict[file], events_dict[file] = Single_file_POT_events(file_loc_dict[file])\n",
    "    \n",
    "    SF_dict[file] = Single_file_POT_scaling(POT_dict[file], Run, file_type)\n",
    "\n",
    "for SF in SF_dict:\n",
    "    print(f\"{SF} SF is : \" + str(SF_dict[SF]))"
   ]
  },
  {
   "cell_type": "markdown",
   "id": "563d7a74-b3df-4f21-83a5-3046449c4081",
   "metadata": {},
   "source": [
    "## Making ratio of events for two sets of samples"
   ]
  },
  {
   "cell_type": "code",
   "execution_count": 55,
   "id": "3cea48c3-2afb-402e-872c-6e1af936ce42",
   "metadata": {},
   "outputs": [
    {
     "name": "stdout",
     "output_type": "stream",
     "text": [
      "2 SF is : 2.273110163825259e-06\n",
      "10 SF is : 4.478610916645953e-06\n",
      "20 SF is : 2.583047654702099e-12\n",
      "50 SF is : 8.280121178469969e-10\n",
      "100 SF is : 8.031518427782856e-08\n",
      "150 SF is : 3.5533992790484712e-06\n",
      "180 SF is : 3.373080077973945e-05\n",
      "200 SF is : 9.293586743019126e-05\n",
      "220 SF is : 0.00020120909708414096\n",
      "240 SF is : 0.0004102200024715987\n",
      "245 SF is : 0.0004631133119186411\n"
     ]
    }
   ],
   "source": [
    "run1_new_gen_file_loc_dict = {2: '../NuMI_signal/KDAR_dump/sfnues/sfnues_KDAR_dump_2_ee_Umu4_majorana_RHC.root',\n",
    "                              10: '../NuMI_signal/KDAR_dump/sfnues/sfnues_KDAR_dump_10_ee_Umu4_majorana_RHC.root',\n",
    "                              20: '../NuMI_signal/KDAR_dump/sfnues/sfnues_KDAR_dump_20_ee_Umu4_majorana_RHC.root',\n",
    "                              50: '../NuMI_signal/KDAR_dump/sfnues/sfnues_KDAR_dump_50_ee_Umu4_majorana_RHC.root',\n",
    "                              100: '../NuMI_signal/KDAR_dump/sfnues/sfnues_KDAR_dump_100_ee_Umu4_majorana_RHC.root',\n",
    "                              150: '../NuMI_signal/KDAR_dump/sfnues/sfnues_KDAR_dump_150_ee_Umu4_majorana_RHC.root',\n",
    "                              180: '../NuMI_signal/KDAR_dump/sfnues/sfnues_KDAR_dump_180_ee_Umu4_majorana_RHC.root',\n",
    "                              200: '../NuMI_signal/KDAR_dump/sfnues/sfnues_KDAR_dump_200_ee_Umu4_majorana_RHC.root',\n",
    "                              220: '../NuMI_signal/KDAR_dump/sfnues/sfnues_KDAR_dump_220_ee_Umu4_majorana_RHC.root',\n",
    "                              240: '../NuMI_signal/KDAR_dump/sfnues/sfnues_KDAR_dump_240_ee_Umu4_majorana_RHC.root',\n",
    "                              245: '../NuMI_signal/KDAR_dump/sfnues/sfnues_KDAR_dump_245_ee_Umu4_majorana_RHC.root'}\n",
    "\n",
    "file_loc_dict = run1_new_gen_file_loc_dict\n",
    "POT_dict_2 = {}\n",
    "events_dict_2 = {}\n",
    "SF_dict_2 = {}\n",
    "\n",
    "for file in file_loc_dict:\n",
    "    file_type = \"signal\"\n",
    "    Run=\"run1\"\n",
    "    POT_dict_2[file], events_dict_2[file] = Single_file_POT_events(file_loc_dict[file])\n",
    "    \n",
    "    SF_dict_2[file] = Single_file_POT_scaling(POT_dict_2[file], Run, file_type)\n",
    "\n",
    "for SF in SF_dict_2:\n",
    "    print(f\"{SF} SF is : \" + str(SF_dict_2[SF]))"
   ]
  },
  {
   "cell_type": "code",
   "execution_count": 56,
   "id": "1f406fa4-4f9b-48e2-9520-6bb339b8c196",
   "metadata": {},
   "outputs": [
    {
     "name": "stdout",
     "output_type": "stream",
     "text": [
      "Event ratio is 1.001819910362624\n",
      "POT ratio is 1.2077137\n",
      "Scale factor should be 0.8295176815120126\n",
      "Event ratio is 1.0540570978095614\n",
      "POT ratio is 1.256435\n",
      "Scale factor should be 0.8389268191867135\n",
      "Event ratio is 0.9566172283831783\n",
      "POT ratio is 1.161656\n",
      "Scale factor should be 0.8234944201891952\n",
      "Event ratio is 1.0103722648479683\n",
      "POT ratio is 1.0761505\n",
      "Scale factor should be 0.9388763019179844\n",
      "Event ratio is 0.9407417507499318\n",
      "POT ratio is 0.96940637\n",
      "Scale factor should be 0.9704307776466603\n",
      "Event ratio is 1.0022646850672328\n",
      "POT ratio is 1.0238258\n",
      "Scale factor should be 0.9789407264531733\n"
     ]
    }
   ],
   "source": [
    "SF_old_to_new = {}\n",
    "SF_list = []\n",
    "HNL_masses = []\n",
    "for HNL_mass in SF_dict:\n",
    "    Event_ratio = events_dict[HNL_mass]/events_dict_2[HNL_mass]\n",
    "\n",
    "    POT_ratio = POT_dict[HNL_mass]/POT_dict_2[HNL_mass]\n",
    "\n",
    "    ev_per_POT_1 = events_dict[HNL_mass]/POT_dict[HNL_mass]\n",
    "    ev_per_POT_2 = events_dict_2[HNL_mass]/POT_dict_2[HNL_mass]\n",
    "\n",
    "    ratio_evs_POT = ev_per_POT_1/ev_per_POT_2\n",
    "    SF_old_to_new[HNL_mass] = ratio_evs_POT\n",
    "    SF_list.append((1-ratio_evs_POT)*100)\n",
    "    HNL_masses.append(HNL_mass)\n",
    "\n",
    "    print(\"Event ratio is \" + str(Event_ratio))\n",
    "    print(\"POT ratio is \" + str(POT_ratio))\n",
    "    print(\"Scale factor should be \" + str(ratio_evs_POT))"
   ]
  },
  {
   "cell_type": "code",
   "execution_count": 57,
   "id": "3f063208-7ff9-4a2b-886e-2872bf87a91c",
   "metadata": {},
   "outputs": [
    {
     "data": {
      "image/png": "[encoded data removed]",
      "text/plain": [
       "<Figure size 1080x360 with 1 Axes>"
      ]
     },
     "metadata": {
      "needs_background": "light"
     },
     "output_type": "display_data"
    }
   ],
   "source": [
    "\n",
    "plt.plot(HNL_masses, SF_list, label=\"New generator version run1\", lw=3)\n",
    "\n",
    "for count, HNL_mass in enumerate(HNL_masses):\n",
    "    plt.plot(HNL_mass, SF_list[count],marker=\"o\",markersize=10, color=\"black\")\n",
    "\n",
    "plt.xlabel('HNL mass [MeV]',fontsize=25)\n",
    "plt.ylabel(r'Extra events (%)',fontsize=25)\n",
    "plt.legend()\n",
    "plt.ylim(0,25)\n",
    "#plt.xlim(0,0.45)$\n",
    "plt.xlim(10,210)\n",
    "plt.grid(ls='--',color='C7',alpha=0.1)\n",
    "# plt.yscale('log')\n",
    "plt.tick_params(axis='x', labelsize=20)\n",
    "plt.tick_params(axis='y', labelsize=20)\n",
    "# plt.legend(prop={'size': 16}, loc=\"lower left\")\n",
    "plt.tight_layout()\n",
    "# plt.savefig('plots/Generator/New_generator_version_events_fraction.pdf',bbox_inches='tight', pad_inches=0.3)\n",
    "# plt.savefig('plots/Generator/New_generator_version_events_fraction.png',bbox_inches='tight', pad_inches=0.3)"
   ]
  },
  {
   "cell_type": "code",
   "execution_count": 36,
   "id": "783c38a8-9cd4-47be-b05e-b24248338bce",
   "metadata": {},
   "outputs": [
    {
     "name": "stdout",
     "output_type": "stream",
     "text": [
      "run1 overlay has 78298 scaled events\n",
      "run1 dirt has 51034 scaled events\n",
      "No POT for this file. Assuming EXT file.\n",
      "run1 ext has 507536 scaled events\n"
     ]
    }
   ],
   "source": [
    "loc_dict = {\"overlay\":'../NuMI_MC/SLIMMED_neutrinoselection_filt_run1_overlay.root',\n",
    "            \"dirt\":'../NuMI_MC/neutrinoselection_filt_run1_dirt_overlay.root',\n",
    "            \"ext\":'../NuMI_data/neutrinoselection_filt_run1_beamoff.root'}\n",
    "\n",
    "events_dict = {}\n",
    "\n",
    "for file in loc_dict:\n",
    "\n",
    "    file_type = file #\"signal\", \"overlay\" or \"dirt\"\n",
    "    Run=\"run1\"\n",
    "    POT, events = Single_file_POT_events(loc_dict[file])\n",
    "    events_dict[file] = events\n",
    "    SF = Single_file_POT_scaling(POT, Run, file_type)\n",
    "    scaled_events = events*SF\n",
    "    \n",
    "    print(f\"{Run} {file} has {round(scaled_events)} scaled events\")"
   ]
  },
  {
   "cell_type": "code",
   "execution_count": 35,
   "id": "04b053a9-a56b-4387-b8ae-c819de3ca195",
   "metadata": {},
   "outputs": [
    {
     "name": "stdout",
     "output_type": "stream",
     "text": [
      "run3 overlay has 188176 scaled events\n",
      "run3 dirt has 65992 scaled events\n",
      "No POT for this file. Assuming EXT file.\n",
      "run3 ext has 1802096 scaled events\n"
     ]
    }
   ],
   "source": [
    "loc_dict = {\"overlay\":'../NuMI_MC/SLIMMED_neutrinoselection_filt_run3_overlay.root',\n",
    "            \"dirt\":'../NuMI_MC/neutrinoselection_filt_run3_dirt_overlay.root',\n",
    "            \"ext\":'../NuMI_data/neutrinoselection_filt_run3_beamoff.root'}\n",
    "\n",
    "events_dict = {}\n",
    "\n",
    "for file in loc_dict:\n",
    "\n",
    "    file_type = file #\"signal\", \"overlay\" or \"dirt\"\n",
    "    Run=\"run3\"\n",
    "    POT, events = Single_file_POT_events(loc_dict[file])\n",
    "    events_dict[file] = events\n",
    "    SF = Single_file_POT_scaling(POT, Run, file_type)\n",
    "    scaled_events = events*SF\n",
    "    \n",
    "    print(f\"{Run} {file} has {round(scaled_events)} scaled events\")"
   ]
  },
  {
   "cell_type": "markdown",
   "id": "775a3504-392d-4b23-a225-0db439fcb0f5",
   "metadata": {},
   "source": [
    "## Reading in all files, giving all SF (old code)"
   ]
  },
  {
   "cell_type": "code",
   "execution_count": 5,
   "id": "2d368690",
   "metadata": {},
   "outputs": [
    {
     "name": "stdout",
     "output_type": "stream",
     "text": [
      "Opening Run1 samples with uproot\n",
      "Opening Run3 samples with uproot\n",
      "Opened files\n",
      "\n",
      "----RUN1----\n",
      "\n",
      "----MC OVERLAY BACKGROUND----\n",
      "Number of branches is 3\n",
      "Number of subruns is 59215\n",
      "----MC DIRT BACKGROUND----\n",
      "Number of branches is 3\n",
      "Number of subruns is 13085\n",
      "----EXT BACKGROUND----\n",
      "Number of branches is 2\n",
      "Number of subruns is 158607\n",
      "----DATA----\n",
      "Number of branches is 2\n",
      "Number of subruns is 82200\n",
      "----SIGNAL----\n",
      "Number of branches in pi0 150MeV is 3\n",
      "Number of subruns in pi0 150MeV is 4954\n",
      "Number of branches in pi0 180MeV is 3\n",
      "Number of subruns in pi0 180MeV is 4705\n",
      "Number of branches in pi0 200MeV is 3\n",
      "Number of subruns in pi0 200MeV is 4637\n",
      "Number of branches in pi0 220MeV is 3\n",
      "Number of subruns in pi0 220MeV is 4742\n",
      "Number of branches in pi0 240MeV is 3\n",
      "Number of subruns in pi0 240MeV is 4619\n",
      "Number of branches in pi0 245MeV is 3\n",
      "Number of subruns in pi0 245MeV is 4713\n",
      "\n",
      "----RUN3----\n",
      "\n",
      "----MC OVERLAY BACKGROUND----\n",
      "Number of branches is 3\n",
      "Number of subruns is 80063\n",
      "----MC DIRT BACKGROUND----\n",
      "Number of branches is 3\n",
      "Number of subruns is 38197\n",
      "----EXT BACKGROUND----\n",
      "Number of branches is 2\n",
      "Number of subruns is 366514\n",
      "----DATA----\n",
      "Number of branches is 2\n",
      "Number of subruns is 286792\n",
      "----SIGNAL----\n",
      "Number of branches in 2MeV is 3\n",
      "Number of subruns in 2MeV is 5017\n",
      "Number of branches in 10MeV is 3\n",
      "Number of subruns in 10MeV is 4855\n",
      "Number of branches in 20MeV is 3\n",
      "Number of subruns in 20MeV is 5051\n",
      "Number of branches in 50MeV is 3\n",
      "Number of subruns in 50MeV is 4820\n",
      "Number of branches in 100MeV is 3\n",
      "Number of subruns in 100MeV is 4963\n",
      "Number of branches in 150MeV is 3\n",
      "Number of subruns in 150MeV is 4867\n",
      "Number of branches in 180MeV is 3\n",
      "Number of subruns in 180MeV is 5050\n",
      "Number of branches in 200MeV is 3\n",
      "Number of subruns in 200MeV is 4869\n",
      "Number of branches in 220MeV is 3\n",
      "Number of subruns in 220MeV is 5057\n",
      "Number of branches in 240MeV is 3\n",
      "Number of subruns in 240MeV is 4865\n",
      "Number of branches in 245MeV is 3\n",
      "Number of subruns in 245MeV is 5059\n",
      "\n",
      "Done!\n"
     ]
    }
   ],
   "source": [
    "#This reads in the MC overlay, MC dirt overlay, EXT, data and signal samples for NuMI run1 or run3\n",
    "#HNL_masses = Constants.HNL_mass_samples #in MeV\n",
    "\n",
    "Run = \"run1\" #so far either \"run1\" or \"run3\"\n",
    "\n",
    "Load_pi0_samples = True\n",
    "\n",
    "FLATTEN = False\n",
    "\n",
    "root_dir = 'nuselection'\n",
    "POT_tree = 'SubRun' #Branch for POT\n",
    "MC_samples_dir = '../NuMI_MC/'\n",
    "data_samples_dir = '../NuMI_data/'\n",
    "signal_samples_dir = '../NuMI_signal/KDAR_dump/sfnues/'\n",
    "\n",
    "loc_overlay_run1 = MC_samples_dir+'SLIMMED_neutrinoselection_filt_run1_overlay.root'#NuMI Run1 MC WITHOUT systematics weights\n",
    "loc_dirt_run1 = MC_samples_dir+'neutrinoselection_filt_run1_dirt_overlay.root'\n",
    "loc_EXT_run1 = data_samples_dir+'neutrinoselection_filt_run1_beamoff.root'\n",
    "loc_beamgood_run1 = data_samples_dir+'neutrinoselection_filt_run1_beamon_beamgood.root'\n",
    "\n",
    "loc_overlay_run3 = MC_samples_dir+'SLIMMED_neutrinoselection_filt_run3_overlay.root' #NuMI Run3 MC WITHOUT systematics weights\n",
    "loc_dirt_run3 = MC_samples_dir+'neutrinoselection_filt_run3_dirt_overlay.root'\n",
    "loc_EXT_run3 = data_samples_dir+'neutrinoselection_filt_run3_beamoff.root'\n",
    "loc_beamgood_run3 = data_samples_dir+'neutrinoselection_filt_run3_beamon_beamgood.root'\n",
    "\n",
    "print(\"Opening Run1 samples with uproot\")\n",
    "NuMI_MC_overlay_run1 = uproot3.open(loc_overlay_run1)[root_dir+'/'+POT_tree]\n",
    "NuMI_MC_dirt_run1 = uproot3.open(loc_dirt_run1)[root_dir+'/'+POT_tree]\n",
    "NuMI_EXT_run1 = uproot3.open(loc_EXT_run1)[root_dir+'/'+POT_tree]\n",
    "NuMI_beamgood_run1 = uproot3.open(loc_beamgood_run1)[root_dir+'/'+POT_tree]\n",
    "\n",
    "signal_samples_dict_run1 = {}\n",
    "if Load_pi0_samples == True:\n",
    "    for HNL_mass in Constants.HNL_mass_pi0_samples:\n",
    "        Signal_run1  = uproot3.open(signal_samples_dir+f'pi0/sfnues_KDAR_dump_{HNL_mass}_pi0_Umu4_majorana_RHC.root')[root_dir+'/'+POT_tree]\n",
    "        signal_samples_dict_run1[HNL_mass] = Signal_run1\n",
    "else:\n",
    "    for HNL_mass in Constants.HNL_mass_samples:\n",
    "        Signal_run1  = uproot3.open(signal_samples_dir+f'sfnues_KDAR_dump_{HNL_mass}_ee_Umu4_majorana_RHC.root')[root_dir+'/'+POT_tree]\n",
    "        signal_samples_dict_run1[HNL_mass] = Signal_run1\n",
    "    \n",
    "print(\"Opening Run3 samples with uproot\")\n",
    "NuMI_MC_overlay_run3 = uproot3.open(loc_overlay_run3)[root_dir+'/'+POT_tree]\n",
    "NuMI_MC_dirt_run3 = uproot3.open(loc_dirt_run3)[root_dir+'/'+POT_tree]\n",
    "NuMI_EXT_run3 = uproot3.open(loc_EXT_run3)[root_dir+'/'+POT_tree]\n",
    "NuMI_beamgood_run3 = uproot3.open(loc_beamgood_run3)[root_dir+'/'+POT_tree]\n",
    "\n",
    "signal_samples_dict_run3 = {}\n",
    "for HNL_mass in Constants.HNL_mass_samples:\n",
    "    Signal_run3  = uproot3.open(signal_samples_dir+f'sfnues_KDAR_dump_{HNL_mass}_ee_Umu4_majorana_RHC.root')[root_dir+'/'+POT_tree]\n",
    "    signal_samples_dict_run3[HNL_mass] = Signal_run3\n",
    "\n",
    "print(\"Opened files\" + \"\\n\")\n",
    "print(\"----RUN1----\"+ \"\\n\")\n",
    "print(\"----MC OVERLAY BACKGROUND----\")\n",
    "print(\"Number of branches is \" + str(len(NuMI_MC_overlay_run1.keys()))) \n",
    "print(\"Number of subruns is \" + str(NuMI_MC_overlay_run1.numentries))\n",
    "print(\"----MC DIRT BACKGROUND----\")\n",
    "print(\"Number of branches is \" + str(len(NuMI_MC_dirt_run1.keys()))) \n",
    "print(\"Number of subruns is \" + str(NuMI_MC_dirt_run1.numentries))\n",
    "print(\"----EXT BACKGROUND----\")\n",
    "print(\"Number of branches is \" + str(len(NuMI_EXT_run1.keys()))) \n",
    "print(\"Number of subruns is \" + str(NuMI_EXT_run1.numentries))\n",
    "print(\"----DATA----\")\n",
    "print(\"Number of branches is \" + str(len(NuMI_beamgood_run1.keys()))) \n",
    "print(\"Number of subruns is \" + str(NuMI_beamgood_run1.numentries))\n",
    "print(\"----SIGNAL----\")\n",
    "if Load_pi0_samples == True:\n",
    "    for HNL_mass in Constants.HNL_mass_pi0_samples:\n",
    "        print(f\"Number of branches in pi0 {HNL_mass}MeV is \" + str(len(signal_samples_dict_run1[HNL_mass].keys()))) \n",
    "        print(f\"Number of subruns in pi0 {HNL_mass}MeV is \" + str(signal_samples_dict_run1[HNL_mass].numentries))\n",
    "else:\n",
    "    for HNL_mass in Constants.HNL_mass_samples:\n",
    "        print(f\"Number of branches in {HNL_mass}MeV is \" + str(len(signal_samples_dict_run1[HNL_mass].keys()))) \n",
    "        print(f\"Number of subruns in {HNL_mass}MeV is \" + str(signal_samples_dict_run1[HNL_mass].numentries))\n",
    "\n",
    "print()\n",
    "\n",
    "print(\"----RUN3----\"+ \"\\n\")\n",
    "print(\"----MC OVERLAY BACKGROUND----\")\n",
    "print(\"Number of branches is \" + str(len(NuMI_MC_overlay_run3.keys()))) \n",
    "print(\"Number of subruns is \" + str(NuMI_MC_overlay_run3.numentries))\n",
    "print(\"----MC DIRT BACKGROUND----\")\n",
    "print(\"Number of branches is \" + str(len(NuMI_MC_dirt_run3.keys()))) \n",
    "print(\"Number of subruns is \" + str(NuMI_MC_dirt_run3.numentries))\n",
    "print(\"----EXT BACKGROUND----\")\n",
    "print(\"Number of branches is \" + str(len(NuMI_EXT_run3.keys()))) \n",
    "print(\"Number of subruns is \" + str(NuMI_EXT_run3.numentries))\n",
    "print(\"----DATA----\")\n",
    "print(\"Number of branches is \" + str(len(NuMI_beamgood_run3.keys()))) \n",
    "print(\"Number of subruns is \" + str(NuMI_beamgood_run3.numentries))\n",
    "print(\"----SIGNAL----\")\n",
    "for HNL_mass in Constants.HNL_mass_samples:\n",
    "    print(f\"Number of branches in {HNL_mass}MeV is \" + str(len(signal_samples_dict_run3[HNL_mass].keys()))) \n",
    "    print(f\"Number of subruns in {HNL_mass}MeV is \" + str(signal_samples_dict_run3[HNL_mass].numentries))\n",
    "\n",
    "print()\n",
    "\n",
    "print(\"Done!\")"
   ]
  },
  {
   "cell_type": "markdown",
   "id": "a1dc945e-2615-4e65-b3e0-645545a137fb",
   "metadata": {},
   "source": [
    "# Checking POT normalisation"
   ]
  },
  {
   "cell_type": "code",
   "execution_count": 6,
   "id": "1781434a-6801-4b7b-b18c-8edab389c2e8",
   "metadata": {},
   "outputs": [
    {
     "name": "stdout",
     "output_type": "stream",
     "text": [
      "----RUN1----\n",
      "\n",
      "Total signal POTs are: \n",
      "150MeV : 3.8463033e+26\n",
      "180MeV : 4.72332e+25\n",
      "200MeV : 1.7057647e+25\n",
      "220MeV : 8.0323534e+24\n",
      "240MeV : 3.8843545e+24\n",
      "245MeV : 3.492115e+24\n",
      "-------------------\n",
      "Total dirt POT is 1.6739124e+21\n",
      "-------------------\n",
      "Total overlay POT is 2.3365224e+21\n",
      "-------------------\n",
      "\n",
      "----RUN3----\n",
      "\n",
      "Total signal POTs are: \n",
      "2MeV : 9.4376155e+26\n",
      "10MeV : 4.9289073e+26\n",
      "20MeV : 8.212824e+32\n",
      "50MeV : 2.5544397e+30\n",
      "100MeV : 2.6239244e+28\n",
      "150MeV : 6.103522e+26\n",
      "180MeV : 6.3328383e+25\n",
      "200MeV : 2.3347735e+25\n",
      "220MeV : 1.0646468e+25\n",
      "240MeV : 5.250532e+24\n",
      "245MeV : 4.6062955e+24\n",
      "-------------------\n",
      "Total dirt POT is 1.0322625e+21\n",
      "-------------------\n",
      "Total overlay POT is 1.9893618e+21\n",
      "-------------------\n"
     ]
    }
   ],
   "source": [
    "def POT_counter_old(df): #This takes dataframe, which I probably don't need to load anymore\n",
    "    Total_POT = 0\n",
    "    for i in range(len(df['pot'])):\n",
    "        Total_POT += df['pot'][i]\n",
    "    return Total_POT\n",
    "\n",
    "def POT_counter(file): #Takes uproot file\n",
    "    Total_POT = file[\"pot\"].array().sum()\n",
    "    return Total_POT\n",
    "\n",
    "signal_POT_dict_run1 = {}\n",
    "\n",
    "#-----Run1-----#\n",
    "if Load_pi0_samples == True:\n",
    "    for HNL_mass in Constants.HNL_mass_pi0_samples:\n",
    "        signal_POT_run1 = POT_counter(signal_samples_dict_run1[HNL_mass])\n",
    "        signal_POT_dict_run1[HNL_mass] = signal_POT_run1\n",
    "else:\n",
    "    for HNL_mass in Constants.HNL_mass_samples:\n",
    "        signal_POT_run1 = POT_counter(signal_samples_dict_run1[HNL_mass])\n",
    "        signal_POT_dict_run1[HNL_mass] = signal_POT_run1\n",
    "\n",
    "overlay_POT_run1 = POT_counter(NuMI_MC_overlay_run1)\n",
    "dirt_POT_run1 = POT_counter(NuMI_MC_dirt_run1)\n",
    "#beamgood_POT = POT_counter(df_beamgood_run1) #There is no 'pot' branch for beamgood\n",
    "OffBeam_EXT_NUMIwin_FEMBeamTriggerAlgo_run1 = 9199232.74 #Taken from the NuMI samples page\n",
    "\n",
    "#-----Run3-----#\n",
    "signal_POT_dict_run3 = {}\n",
    "\n",
    "for HNL_mass in Constants.HNL_mass_samples:\n",
    "    signal_POT_run3 = POT_counter(signal_samples_dict_run3[HNL_mass])\n",
    "    signal_POT_dict_run3[HNL_mass] = signal_POT_run3\n",
    "    \n",
    "\n",
    "overlay_POT_run3 = POT_counter(NuMI_MC_overlay_run3)\n",
    "dirt_POT_run3 = POT_counter(NuMI_MC_dirt_run3)\n",
    "#beamgood_POT = POT_counter(df_beamgood_run1) #There is no 'pot' branch for beamgood\n",
    "OffBeam_EXT_NUMIwin_FEMBeamTriggerAlgo_run3 = 32878305.25\n",
    "\n",
    "#Signal\n",
    "print(\"----RUN1----\"+ \"\\n\")\n",
    "print('Total signal POTs are: ')\n",
    "if Load_pi0_samples == True:\n",
    "    for HNL_mass in Constants.HNL_mass_pi0_samples:\n",
    "        print(f\"{HNL_mass}MeV : \"  + str(signal_POT_dict_run1[HNL_mass]))\n",
    "else:\n",
    "    for HNL_mass in Constants.HNL_mass_samples:\n",
    "        print(f\"{HNL_mass}MeV : \"  + str(signal_POT_dict_run1[HNL_mass]))\n",
    "print('-------------------')\n",
    "#Dirt\n",
    "print('Total dirt POT is ' + str(dirt_POT_run1))\n",
    "print('-------------------')\n",
    "#Overlay\n",
    "print('Total overlay POT is ' + str(overlay_POT_run1))\n",
    "print('-------------------'+ \"\\n\")\n",
    "print(\"----RUN3----\"+ \"\\n\")\n",
    "print('Total signal POTs are: ')\n",
    "for HNL_mass in Constants.HNL_mass_samples:\n",
    "    print(f\"{HNL_mass}MeV : \"  + str(signal_POT_dict_run3[HNL_mass]))\n",
    "print('-------------------')\n",
    "#Dirt\n",
    "print('Total dirt POT is ' + str(dirt_POT_run3))\n",
    "print('-------------------')\n",
    "#Overlay\n",
    "print('Total overlay POT is ' + str(overlay_POT_run3))\n",
    "print('-------------------')"
   ]
  },
  {
   "cell_type": "code",
   "execution_count": 7,
   "id": "cc443821-23ab-4ffa-9c1a-b5233896ba34",
   "metadata": {},
   "outputs": [
    {
     "name": "stdout",
     "output_type": "stream",
     "text": [
      "The following factors can be applied to the full samples, i.e they are not event-dependent\n",
      "\n",
      "For Run1 the scale factors are: \n",
      "Overlay: 0.08559729716258113\n",
      "Dirt: 0.08961042376561343\n",
      "EXT: 0.5612087579382191\n",
      "Signal: \n",
      "150MeV 4.159838350914407e-06\n",
      "180MeV 3.38744768337177e-05\n",
      "200MeV 9.379957491349839e-05\n",
      "220MeV 0.00019919442304235102\n",
      "240MeV 0.00041190884760711096\n",
      "245MeV 0.000458175050366498\n",
      "\n",
      "For Run3 the scale factors are: \n",
      "Overlay: 0.2513368817255014\n",
      "Dirt: 0.16953052634982632\n",
      "EXT: 0.3089104916683624\n",
      "Signal: \n",
      "2MeV 4.55623564219535e-06\n",
      "10MeV 8.724043160892894e-06\n",
      "20MeV 5.235714406049288e-12\n",
      "50MeV 1.6833437060203603e-09\n",
      "100MeV 1.638766739864928e-07\n",
      "150MeV 7.045112441597867e-06\n",
      "180MeV 6.790004454782067e-05\n",
      "200MeV 0.0001841720407411439\n",
      "220MeV 0.00040388981532410006\n",
      "240MeV 0.0008189646415804218\n",
      "245MeV 0.0009335050190166368\n"
     ]
    }
   ],
   "source": [
    "Run1_POT = 2e20 #NEEDS TO BE CHECKED, just taken from the NuMI samples page\n",
    "Run3_POT = 5.0e20 #NEEDS TO BE CHECKED, just taken from the NuMI samples page\n",
    "OnBeam_EA9CNT_wcut_run1 = 5268051.0 #\"Triggers\" taken from the NuMI samples page\n",
    "OnBeam_EA9CNT_wcut_run3 = 10363728.0 #\"Triggers\" taken from the NuMI samples page\n",
    "BeamOff_scaling_for_nus = 0.98 #This Factor described by Owen: \n",
    "# An additional scaling\n",
    "# factor of 0.98 is applied to the Beam-off sample to take\n",
    "# into account that 2% of all NuMI Beam-on events are\n",
    "# expected to contain a neutrino interaction\n",
    "DIRT_run1_scaling = 0.75 #NOT SURE where this comes from, apparently it is standard procedure for NuMI DIRT\n",
    "DIRT_run3_scaling = 0.35 #NOT SURE where this comes from, apparently it is standard procedure for NuMI DIRT\n",
    "NuMI_KDAR_scaling_run1 = 8.0 #This comes from the discrepancy between numu flux from KDAR dump between Geant4 and MiniBooNE measurement. Taken from Owen's thesis\n",
    "NuMI_KDAR_scaling_run3 = 8.6\n",
    "\n",
    "run1_POT_scaling_dict = {}\n",
    "run3_POT_scaling_dict = {}\n",
    "\n",
    "#Calculation of POT scaling factors\n",
    "if Load_pi0_samples == True:\n",
    "    for HNL_mass in Constants.HNL_mass_pi0_samples:\n",
    "        SF_signal_run1 = (Run1_POT/signal_POT_dict_run1[HNL_mass])*NuMI_KDAR_scaling_run1\n",
    "        run1_POT_scaling_dict[HNL_mass] = SF_signal_run1\n",
    "else:\n",
    "    for HNL_mass in Constants.HNL_mass_samples:\n",
    "        SF_signal_run1 = (Run1_POT/signal_POT_dict_run1[HNL_mass])*NuMI_KDAR_scaling_run1\n",
    "        run1_POT_scaling_dict[HNL_mass] = SF_signal_run1\n",
    "        \n",
    "SF_overlay_run1 = Run1_POT/overlay_POT_run1\n",
    "SF_dirt_run1 = (Run1_POT/dirt_POT_run1)*DIRT_run1_scaling\n",
    "SF_EXT_run1 = (OnBeam_EA9CNT_wcut_run1/OffBeam_EXT_NUMIwin_FEMBeamTriggerAlgo_run1)*BeamOff_scaling_for_nus\n",
    "    \n",
    "for HNL_mass in Constants.HNL_mass_samples:\n",
    "    SF_signal_run3 = (Run3_POT/signal_POT_dict_run3[HNL_mass])*NuMI_KDAR_scaling_run3\n",
    "    run3_POT_scaling_dict[HNL_mass] = SF_signal_run3\n",
    "    \n",
    "SF_overlay_run3 = Run3_POT/overlay_POT_run3\n",
    "SF_dirt_run3 = (Run3_POT/dirt_POT_run3)*DIRT_run3_scaling\n",
    "SF_EXT_run3 = (OnBeam_EA9CNT_wcut_run3/OffBeam_EXT_NUMIwin_FEMBeamTriggerAlgo_run3)*BeamOff_scaling_for_nus\n",
    "\n",
    "\n",
    "print(\"The following factors can be applied to the full samples, i.e they are not event-dependent\")\n",
    "print()\n",
    "print('For Run1 the scale factors are: ')\n",
    "print('Overlay: ' + str(SF_overlay_run1))\n",
    "print('Dirt: ' + str(SF_dirt_run1))\n",
    "print('EXT: ' + str(SF_EXT_run1))\n",
    "print('Signal: ')\n",
    "if Load_pi0_samples == True:\n",
    "    for HNL_mass in Constants.HNL_mass_pi0_samples:\n",
    "        print(f\"{HNL_mass}MeV \" + str(run1_POT_scaling_dict[HNL_mass]))\n",
    "else:\n",
    "    for HNL_mass in Constants.HNL_mass_samples:\n",
    "        print(f\"{HNL_mass}MeV \" + str(run1_POT_scaling_dict[HNL_mass]))\n",
    "\n",
    "print()\n",
    "print('For Run3 the scale factors are: ')\n",
    "print('Overlay: ' + str(SF_overlay_run3))\n",
    "print('Dirt: ' + str(SF_dirt_run3))\n",
    "print('EXT: ' + str(SF_EXT_run3))\n",
    "print('Signal: ')\n",
    "for HNL_mass in Constants.HNL_mass_samples:\n",
    "    print(f\"{HNL_mass}MeV \" + str(run3_POT_scaling_dict[HNL_mass]))\n",
    "    "
   ]
  },
  {
   "cell_type": "markdown",
   "id": "9f0b1fb7-1575-4d5d-832b-0e8169c947cf",
   "metadata": {},
   "source": [
    "## 10 event limit"
   ]
  },
  {
   "cell_type": "code",
   "execution_count": 52,
   "id": "c60583d9-7a1e-45b6-8c2a-de0056cbada2",
   "metadata": {},
   "outputs": [],
   "source": [
    "#Starting with only run3\n",
    "thetas = Constants.theta_mu_4_dict\n",
    "run1_POT_scaling_dict = Constants.run1_POT_scaling_dict\n",
    "run3_POT_scaling_dict = Constants.run3_POT_scaling_dict\n",
    "HNL_masses = []\n",
    "thetas_for_10ev = []\n",
    "\n",
    "for HNL_mass in Constants.HNL_mass_samples:\n",
    "    NumEvs = events_dict_2[HNL_mass]*run3_POT_scaling_dict[HNL_mass]\n",
    "    theta_squared = thetas[HNL_mass]**2\n",
    "    theta_for_10ev = np.sqrt(10/NumEvs)*theta_squared\n",
    "    HNL_masses.append(HNL_mass)\n",
    "    thetas_for_10ev.append(theta_for_10ev)\n",
    "    \n",
    "r = zip(HNL_masses, thetas_for_10ev)\n",
    "with open(f'limit_files/10_event_expected_mu_run3.csv', \"w\") as s:\n",
    "    w = csv.writer(s)\n",
    "    for row in r:\n",
    "        w.writerow(row)"
   ]
  },
  {
   "cell_type": "code",
   "execution_count": 48,
   "id": "0e2a142a-755c-4d8f-bbd3-2625b065d556",
   "metadata": {},
   "outputs": [
    {
     "data": {
      "image/png": "[encoded data removed]",
      "text/plain": [
       "<Figure size 1080x360 with 1 Axes>"
      ]
     },
     "metadata": {
      "needs_background": "light"
     },
     "output_type": "display_data"
    }
   ],
   "source": [
    "plt.plot(HNL_masses, thetas_for_10ev, label=\"10 event limit (Run3)\", lw=3)\n",
    "plt.xlabel('HNL mass [MeV]',fontsize=20)\n",
    "plt.ylabel(r'$|U_{\\mu 4}|^2$ limit at 90% C.L.',fontsize=20)\n",
    "plt.legend()\n",
    "plt.ylim(1e-9,1e-3)\n",
    "#plt.xlim(0,0.45)$\n",
    "plt.xlim(0,250)\n",
    "plt.grid(ls='--',color='C7',alpha=0.1)\n",
    "plt.yscale('log')\n",
    "plt.tick_params(axis='x', labelsize=20)\n",
    "plt.tick_params(axis='y', labelsize=20)\n",
    "# plt.legend(prop={'size': 16}, loc=\"lower left\")\n",
    "plt.tight_layout()"
   ]
  },
  {
   "cell_type": "markdown",
   "id": "9d8ace01-8e59-4c36-9755-f796ec0d4d96",
   "metadata": {},
   "source": [
    "## Background Overlay Detector Variation POTs"
   ]
  },
  {
   "cell_type": "code",
   "execution_count": 12,
   "id": "88aa3296-5ac9-4a85-a3a4-489cf781bacd",
   "metadata": {},
   "outputs": [
    {
     "name": "stdout",
     "output_type": "stream",
     "text": [
      "-----Run1-----\n",
      "WireModX POT: 3.674915e+20\n",
      "WireModYZ POT: 3.6984897e+20\n",
      "WireModThetaXZ POT: 3.6800767e+20\n",
      "WireModThetaYZ POT: 3.6899554e+20\n",
      "WireModdEdX POT: 3.6687188e+20\n",
      "LYDown POT: 3.565986e+20\n",
      "LYRayleigh POT: 3.689257e+20\n",
      "LYAttenuation POT: 3.6420737e+20\n",
      "SCE POT: 3.711389e+20\n",
      "Recomb2 POT: 3.7210774e+20\n",
      "CV POT: 3.6898442e+20\n",
      "-----Run3-----\n",
      "WireModX POT: 3.2428648e+20\n",
      "WireModYZ POT: 3.3639856e+20\n",
      "WireModThetaXZ POT: 3.2002685e+20\n",
      "WireModThetaYZ POT: 3.357618e+20\n",
      "WireModdEdX POT: 3.1726403e+20\n",
      "LYDown POT: 2.809705e+20\n",
      "LYRayleigh POT: 2.8104991e+20\n",
      "LYAttenuation POT: 3.31176e+20\n",
      "SCE POT: 3.332822e+20\n",
      "Recomb2 POT: 3.2953834e+20\n",
      "CV POT: 2.7154326e+20\n"
     ]
    }
   ],
   "source": [
    "run1_DetVar_POT_dict = {}\n",
    "run3_DetVar_POT_dict = {}\n",
    "\n",
    "for DetVar in Constants.Detector_variations:\n",
    "    NuMI_MC_overlay_run1 = uproot3.open(f\"../NuMI_MC/DetVars/neutrinoselection_filt_run1_overlay_{DetVar}.root\")[root_dir+'/'+POT_tree]\n",
    "    NuMI_MC_overlay_run3 = uproot3.open(f\"../NuMI_MC/DetVars/neutrinoselection_filt_run3_overlay_{DetVar}.root\")[root_dir+'/'+POT_tree]\n",
    "    \n",
    "    run1_POT = POT_counter(NuMI_MC_overlay_run1)\n",
    "    run3_POT = POT_counter(NuMI_MC_overlay_run3)\n",
    "    \n",
    "    run1_DetVar_POT_dict[DetVar] = run1_POT\n",
    "    run3_DetVar_POT_dict[DetVar] = run3_POT\n",
    "\n",
    "print(\"-----Run1-----\")\n",
    "for DetVar in Constants.Detector_variations:\n",
    "    print(f\"{DetVar} POT: \" + str(run1_DetVar_POT_dict[DetVar]))\n",
    "    \n",
    "print(\"-----Run3-----\")\n",
    "for DetVar in Constants.Detector_variations:\n",
    "    print(f\"{DetVar} POT: \" + str(run3_DetVar_POT_dict[DetVar]))"
   ]
  },
  {
   "cell_type": "markdown",
   "id": "58e0d24d-ad0e-427f-b5ff-4e98799b09c1",
   "metadata": {},
   "source": [
    "## Events numbers Detector variations"
   ]
  },
  {
   "cell_type": "code",
   "execution_count": 5,
   "id": "a6761acf-9504-4aad-8ff6-07f97675fdf4",
   "metadata": {},
   "outputs": [
    {
     "name": "stdout",
     "output_type": "stream",
     "text": [
      "-----Run1-----\n",
      "WireModX events: 143911\n",
      "WireModYZ events: 144835\n",
      "WireModThetaXZ events: 144108\n",
      "WireModThetaYZ events: 144450\n",
      "WireModdEdX events: 143651\n",
      "LYDown events: 139665\n",
      "LYRayleigh events: 144453\n",
      "LYAttenuation events: 142616\n",
      "SCE events: 145374\n",
      "Recomb2 events: 145748\n",
      "CV events: 144492\n",
      "-----Run3-----\n",
      "WireModX events: 121963\n",
      "WireModYZ events: 126508\n",
      "WireModThetaXZ events: 120373\n",
      "WireModThetaYZ events: 126289\n",
      "WireModdEdX events: 119376\n",
      "LYDown events: 105752\n",
      "LYRayleigh events: 105890\n",
      "LYAttenuation events: 124575\n",
      "SCE events: 125360\n",
      "Recomb2 events: 124047\n",
      "CV events: 102239\n"
     ]
    }
   ],
   "source": [
    "main_tree = 'NeutrinoSelectionFilter'\n",
    "\n",
    "run1_DetVar_events_dict = {}\n",
    "run3_DetVar_events_dict = {}\n",
    "\n",
    "for DetVar in Constants.Detector_variations:\n",
    "    NuMI_MC_overlay_run1 = uproot3.open(f\"../NuMI_MC/DetVars/neutrinoselection_filt_run1_overlay_{DetVar}.root\")[root_dir+'/'+main_tree]\n",
    "    NuMI_MC_overlay_run3 = uproot3.open(f\"../NuMI_MC/DetVars/neutrinoselection_filt_run3_overlay_{DetVar}.root\")[root_dir+'/'+main_tree]\n",
    "    \n",
    "    run1_events = len(NuMI_MC_overlay_run1)\n",
    "    run3_events = len(NuMI_MC_overlay_run3)\n",
    "    \n",
    "    run1_DetVar_events_dict[DetVar] = run1_events\n",
    "    run3_DetVar_events_dict[DetVar] = run3_events\n",
    "\n",
    "print(\"-----Run1-----\")\n",
    "for DetVar in Constants.Detector_variations:\n",
    "    print(f\"{DetVar} events: \" + str(run1_DetVar_events_dict[DetVar]))\n",
    "    \n",
    "print(\"-----Run3-----\")\n",
    "for DetVar in Constants.Detector_variations:\n",
    "    print(f\"{DetVar} events: \" + str(run3_DetVar_events_dict[DetVar]))"
   ]
  },
  {
   "cell_type": "code",
   "execution_count": 8,
   "id": "b204a826-9d75-4bcd-83dc-80346258b8fa",
   "metadata": {},
   "outputs": [
    {
     "name": "stdout",
     "output_type": "stream",
     "text": [
      "3211097\n"
     ]
    }
   ],
   "source": [
    "ext_loc = f'../NuMI_data/neutrinoselection_filt_'+\"run3\"+'_beamoff.root'\n",
    "\n",
    "NuMI_EXT_run1 = uproot3.open(ext_loc)[root_dir+'/'+main_tree]\n",
    "# NuMI_MC_overlay_run3 = uproot3.open(ext_loc)[root_dir+'/'+main_tree]\n",
    "    \n",
    "run1_events = len(NuMI_EXT_run1)\n",
    "print(run1_events)"
   ]
  },
  {
   "cell_type": "markdown",
   "id": "a2c8719e-994b-42d9-a91d-6aff9042e36a",
   "metadata": {},
   "source": [
    "## Finished code"
   ]
  }
 ],
 "metadata": {
  "kernelspec": {
   "display_name": "Python 3 (ipykernel)",
   "language": "python",
   "name": "python3"
  },
  "language_info": {
   "codemirror_mode": {
    "name": "ipython",
    "version": 3
   },
   "file_extension": ".py",
   "mimetype": "text/x-python",
   "name": "python",
   "nbconvert_exporter": "python",
   "pygments_lexer": "ipython3",
   "version": "3.7.12"
  }
 },
 "nbformat": 4,
 "nbformat_minor": 5
}
