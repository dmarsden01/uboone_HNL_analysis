{
 "cells": [
  {
   "cell_type": "code",
   "execution_count": 1,
   "id": "8ab81f70",
   "metadata": {},
   "outputs": [
    {
     "name": "stdout",
     "output_type": "stream",
     "text": [
      "Welcome to JupyROOT 6.24/06\n",
      "Success\n"
     ]
    }
   ],
   "source": [
    "import os,sys,string, time\n",
    "import ROOT\n",
    "from math import *\n",
    "from ROOT import gPad, TTree, TObject, TFile, gDirectory, TH1D, TH2D, TH3D, TCanvas, gROOT, TGaxis, gStyle, TColor, TLegend, THStack, TChain, TLatex, TText, TCollection, kRed, kBlue\n",
    "from array import array\n",
    "import matplotlib.pyplot as plt\n",
    "import numpy as np\n",
    "import uproot\n",
    "import pandas as pd\n",
    "from root_pandas import read_root\n",
    "from platform import python_version\n",
    "import scipy\n",
    "from scipy import stats\n",
    "import uproot3\n",
    "import math\n",
    "from matplotlib.patches import Rectangle\n",
    "from particle import Particle\n",
    "\n",
    "import Utilities.Functions as Functions\n",
    "import Utilities.Plotter as PT\n",
    "import Utilities.Constants as Constants\n",
    "import Utilities.Variables_list as Variables\n",
    "from Utilities.ipython_exit import exit\n",
    "\n",
    "print ('Success')\n"
   ]
  },
  {
   "cell_type": "markdown",
   "id": "ca34c6d3-2ee8-4df7-8c15-4da5b588302f",
   "metadata": {},
   "source": [
    "# Purpose\n",
    "The purpose of this script is to look at the kinematics of the various samples before and after selections. It should be able to inform decisions made in the full analysis chain. \n",
    "\n",
    "The kinematics vary signficantly between different masses of HNL, this script should make plots which give insight into those differences."
   ]
  },
  {
   "cell_type": "markdown",
   "id": "775a3504-392d-4b23-a225-0db439fcb0f5",
   "metadata": {},
   "source": [
    "# Reading in .pkl files"
   ]
  },
  {
   "cell_type": "code",
   "execution_count": 2,
   "id": "2d368690",
   "metadata": {},
   "outputs": [
    {
     "name": "stdout",
     "output_type": "stream",
     "text": [
      "Loading run1 files\n",
      "150MeV pi0 signal is 50000 entries long.\n",
      "180MeV pi0 signal is 50000 entries long.\n",
      "200MeV pi0 signal is 50000 entries long.\n",
      "220MeV pi0 signal is 50000 entries long.\n",
      "240MeV pi0 signal is 50000 entries long.\n",
      "245MeV pi0 signal is 50000 entries long.\n",
      "Successfully loaded run1 weighted files\n"
     ]
    }
   ],
   "source": [
    "Run = \"run1\" #so far either \"run1\" or \"run3\"\n",
    "\n",
    "load_lepton_signal = False\n",
    "load_pi0_signal = True\n",
    "\n",
    "FLATTEN = False #Mostly put as False\n",
    "\n",
    "print(f\"Loading {Run} files\")\n",
    "\n",
    "loc_pkls = f\"../new_scalings/negwt_fix/\"\n",
    "\n",
    "signal_samples_dict = {}\n",
    "\n",
    "# HNL_masses = [100, 150, 180, 200, 220]\n",
    "HNL_masses = Constants.HNL_mass_samples\n",
    "variables = \"*\"\n",
    "\n",
    "if load_lepton_signal == True:\n",
    "    for HNL_mass in HNL_masses:\n",
    "        # signal_from_pkl = pd.read_pickle(loc_pkls+f\"signal_{HNL_mass}MeV_{Run}_{variables_string}_{Flat_state}_New_gen.pkl\")\n",
    "        uproot_file = uproot3.open(loc_pkls+f\"{HNL_mass}MeV_ee_fhc_majorana_negwt_fix.root\")[\"generator/event_tree\"]\n",
    "        df_signal = uproot_file.pandas.df(variables, flatten=FLATTEN)\n",
    "        signal_samples_dict[HNL_mass] = df_signal\n",
    "        print(f\"{HNL_mass}MeV Signal is \"+str(len(signal_samples_dict[HNL_mass]))+\" entries long.\")\n",
    "    \n",
    "if load_pi0_signal == True:\n",
    "    pi0_signal_samples_dict = {}\n",
    "    loc_pkls = f\"../new_scalings/negwt_fix/\"\n",
    "    for HNL_mass in Constants.HNL_mass_pi0_samples:\n",
    "        # uproot_file = uproot3.open(loc_pkls+f\"{HNL_mass}MeV_pi0_fhc_majorana_fixed.root\")[\"generator/event_tree\"]\n",
    "        uproot_file = uproot3.open(loc_pkls+f\"{HNL_mass}MeV_pi0_fhc_majorana_negwt_fix.root\")[\"generator/event_tree\"]\n",
    "        df_signal = uproot_file.pandas.df(variables, flatten=FLATTEN)\n",
    "        signal_samples_dict[HNL_mass] = df_signal\n",
    "        print(f\"{HNL_mass}MeV pi0 signal is \"+str(len(signal_samples_dict[HNL_mass]))+\" entries long.\")\n",
    "        \n",
    "print(f\"Successfully loaded {Run} weighted files\")"
   ]
  },
  {
   "cell_type": "code",
   "execution_count": 3,
   "id": "b9335175-ff28-47b2-beaf-8715e8b949bf",
   "metadata": {},
   "outputs": [
    {
     "data": {
      "text/plain": [
       "Index(['kaon_mom_x', 'kaon_mom_y', 'kaon_mom_z', 'kaon_energy', 'kaon_decay_x',\n",
       "       'kaon_decay_y', 'kaon_decay_z', 'kaon_decay_t', 'hnl_mom_x',\n",
       "       'hnl_mom_y', 'hnl_mom_z', 'hnl_energy', 'hnl_decay_x', 'hnl_decay_y',\n",
       "       'hnl_decay_z', 'hnl_decay_t', 'daughter1_mom_x', 'daughter1_mom_y',\n",
       "       'daughter1_mom_z', 'daughter1_energy', 'daughter2_mom_x',\n",
       "       'daughter2_mom_y', 'daughter2_mom_z', 'daughter2_energy', 'weight',\n",
       "       'flux_weight', 'decay_weight', 'branching_ratio_weight', 'selected',\n",
       "       'kaon_pdg', 'daughter1_pdg', 'daughter2_pdg'],\n",
       "      dtype='object')"
      ]
     },
     "execution_count": 3,
     "metadata": {},
     "output_type": "execute_result"
    }
   ],
   "source": [
    "signal_samples_dict[150].keys()"
   ]
  },
  {
   "cell_type": "code",
   "execution_count": 5,
   "id": "1686026b-ce55-484a-bb5e-73697dacad96",
   "metadata": {},
   "outputs": [
    {
     "data": {
      "text/plain": [
       "entry\n",
       "0     111\n",
       "1     111\n",
       "2     111\n",
       "3     111\n",
       "4     111\n",
       "5     111\n",
       "6     111\n",
       "7     111\n",
       "8     111\n",
       "9     111\n",
       "10    111\n",
       "11    111\n",
       "12    111\n",
       "13    111\n",
       "14    111\n",
       "15    111\n",
       "16    111\n",
       "17    111\n",
       "18    111\n",
       "19    111\n",
       "Name: daughter1_pdg, dtype: int32"
      ]
     },
     "execution_count": 5,
     "metadata": {},
     "output_type": "execute_result"
    }
   ],
   "source": [
    "signal_samples_dict[150]['daughter1_pdg'].head(20)\n"
   ]
  },
  {
   "cell_type": "code",
   "execution_count": null,
   "id": "01096657-edcd-4bdb-8fc6-02f08bde9f94",
   "metadata": {},
   "outputs": [],
   "source": [
    "eleven = Particle.from_pdgid(11)\n",
    "twelve = Particle.from_pdgid(12)\n",
    "thirteen = Particle.from_pdgid(13)\n",
    "fourteen = Particle.from_pdgid(14)\n",
    "one_one_one = Particle.from_pdgid(111)\n",
    "\n",
    "print(\"eleven is \" + str(eleven))\n",
    "print(\"twelve is \" + str(twelve))\n",
    "print(\"thirteen is \" + str(thirteen))\n",
    "print(\"fourteen is \" + str(fourteen))\n",
    "print(one_one_one)"
   ]
  },
  {
   "cell_type": "code",
   "execution_count": 7,
   "id": "e5ff221e-0aba-4ee6-a848-4f86c6701506",
   "metadata": {},
   "outputs": [
    {
     "name": "stdout",
     "output_type": "stream",
     "text": [
      "FLAT 150MeV Signal is 50000 entries long.\n",
      "FLAT 180MeV Signal is 50000 entries long.\n",
      "FLAT 200MeV Signal is 50000 entries long.\n",
      "FLAT 220MeV Signal is 50000 entries long.\n",
      "FLAT 240MeV Signal is 50000 entries long.\n",
      "FLAT 245MeV Signal is 50000 entries long.\n"
     ]
    }
   ],
   "source": [
    "FLATTEN = True\n",
    "\n",
    "flat_samples_dict = {}\n",
    "\n",
    "#Loading files for filtering ee events\n",
    "if load_lepton_signal == True:\n",
    "    for HNL_mass in HNL_masses:\n",
    "        uproot_file = uproot3.open(loc_pkls+f\"{HNL_mass}MeV_ee_fhc_majorana_negwt_fix.root\")[\"generator/event_tree\"]\n",
    "        df_signal = uproot_file.pandas.df(variables, flatten=FLATTEN)\n",
    "        flat_samples_dict[HNL_mass] = df_signal\n",
    "        print(f\"FLAT {HNL_mass}MeV Signal is \"+str(len(flat_samples_dict[HNL_mass]))+\" entries long.\")\n",
    "    \n",
    "if load_pi0_signal == True:\n",
    "    for HNL_mass in Constants.HNL_mass_pi0_samples:\n",
    "        # uproot_file = uproot3.open(loc_pkls+f\"{HNL_mass}MeV_pi0_fhc_majorana_fixed.root\")[\"generator/event_tree\"]\n",
    "        uproot_file = uproot3.open(loc_pkls+f\"{HNL_mass}MeV_pi0_fhc_majorana_negwt_fix.root\")[\"generator/event_tree\"]\n",
    "        df_signal = uproot_file.pandas.df(variables, flatten=FLATTEN)\n",
    "        flat_samples_dict[HNL_mass] = df_signal\n",
    "        print(f\"FLAT {HNL_mass}MeV Signal is \"+str(len(flat_samples_dict[HNL_mass]))+\" entries long.\")\n",
    "        "
   ]
  },
  {
   "cell_type": "code",
   "execution_count": null,
   "id": "58e7b048-d5c5-440a-a2ce-0753f4c9a533",
   "metadata": {},
   "outputs": [],
   "source": [
    "# signal_samples_dict[150].keys()\n",
    "flat_samples_dict[150].head()"
   ]
  },
  {
   "cell_type": "code",
   "execution_count": 8,
   "id": "9f913f14-c6b7-4822-b783-bf01f50cfb8a",
   "metadata": {},
   "outputs": [],
   "source": [
    "for HNL_mass in flat_samples_dict:\n",
    "    # print(flat_samples_dict[HNL_mass].index.values)\n",
    "    # print(flat_samples_dict[HNL_mass].entry())\n",
    "    flat_samples_dict[HNL_mass][\"rse_id\"] = flat_samples_dict[HNL_mass].index.values"
   ]
  },
  {
   "cell_type": "code",
   "execution_count": 6,
   "id": "2a819f75-61f5-47ac-b67a-33db66c8189d",
   "metadata": {},
   "outputs": [
    {
     "data": {
      "text/html": [
       "<div>\n",
       "<style scoped>\n",
       "    .dataframe tbody tr th:only-of-type {\n",
       "        vertical-align: middle;\n",
       "    }\n",
       "\n",
       "    .dataframe tbody tr th {\n",
       "        vertical-align: top;\n",
       "    }\n",
       "\n",
       "    .dataframe thead th {\n",
       "        text-align: right;\n",
       "    }\n",
       "</style>\n",
       "<table border=\"1\" class=\"dataframe\">\n",
       "  <thead>\n",
       "    <tr style=\"text-align: right;\">\n",
       "      <th></th>\n",
       "      <th>kaon_mom_x</th>\n",
       "      <th>kaon_mom_y</th>\n",
       "      <th>kaon_mom_z</th>\n",
       "      <th>kaon_energy</th>\n",
       "      <th>kaon_decay_x</th>\n",
       "      <th>kaon_decay_y</th>\n",
       "      <th>kaon_decay_z</th>\n",
       "      <th>kaon_decay_t</th>\n",
       "      <th>hnl_mom_x</th>\n",
       "      <th>hnl_mom_y</th>\n",
       "      <th>...</th>\n",
       "      <th>daughter2_energy</th>\n",
       "      <th>weight</th>\n",
       "      <th>flux_weight</th>\n",
       "      <th>decay_weight</th>\n",
       "      <th>branching_ratio_weight</th>\n",
       "      <th>selected</th>\n",
       "      <th>kaon_pdg</th>\n",
       "      <th>daughter1_pdg</th>\n",
       "      <th>daughter2_pdg</th>\n",
       "      <th>rse_id</th>\n",
       "    </tr>\n",
       "    <tr>\n",
       "      <th>entry</th>\n",
       "      <th></th>\n",
       "      <th></th>\n",
       "      <th></th>\n",
       "      <th></th>\n",
       "      <th></th>\n",
       "      <th></th>\n",
       "      <th></th>\n",
       "      <th></th>\n",
       "      <th></th>\n",
       "      <th></th>\n",
       "      <th></th>\n",
       "      <th></th>\n",
       "      <th></th>\n",
       "      <th></th>\n",
       "      <th></th>\n",
       "      <th></th>\n",
       "      <th></th>\n",
       "      <th></th>\n",
       "      <th></th>\n",
       "      <th></th>\n",
       "      <th></th>\n",
       "    </tr>\n",
       "  </thead>\n",
       "  <tbody>\n",
       "    <tr>\n",
       "      <th>0</th>\n",
       "      <td>0.0</td>\n",
       "      <td>-0.0</td>\n",
       "      <td>0.0</td>\n",
       "      <td>0.493677</td>\n",
       "      <td>-3162.648679</td>\n",
       "      <td>-7614.863499</td>\n",
       "      <td>6589.746340</td>\n",
       "      <td>14185.799273</td>\n",
       "      <td>0.069262</td>\n",
       "      <td>0.157233</td>\n",
       "      <td>...</td>\n",
       "      <td>0.011771</td>\n",
       "      <td>7.684883e-316</td>\n",
       "      <td>5.928788e-323</td>\n",
       "      <td>3.500618e+151</td>\n",
       "      <td>9.534792e-307</td>\n",
       "      <td>True</td>\n",
       "      <td>321</td>\n",
       "      <td>111</td>\n",
       "      <td>12</td>\n",
       "      <td>0</td>\n",
       "    </tr>\n",
       "    <tr>\n",
       "      <th>1</th>\n",
       "      <td>0.0</td>\n",
       "      <td>0.0</td>\n",
       "      <td>0.0</td>\n",
       "      <td>0.493677</td>\n",
       "      <td>-3053.158590</td>\n",
       "      <td>-7550.876682</td>\n",
       "      <td>6826.941596</td>\n",
       "      <td>11943.812715</td>\n",
       "      <td>0.067013</td>\n",
       "      <td>0.156495</td>\n",
       "      <td>...</td>\n",
       "      <td>0.080091</td>\n",
       "      <td>7.684883e-316</td>\n",
       "      <td>5.928788e-323</td>\n",
       "      <td>3.500618e+151</td>\n",
       "      <td>9.534792e-307</td>\n",
       "      <td>True</td>\n",
       "      <td>321</td>\n",
       "      <td>-11</td>\n",
       "      <td>11</td>\n",
       "      <td>1</td>\n",
       "    </tr>\n",
       "    <tr>\n",
       "      <th>2</th>\n",
       "      <td>0.0</td>\n",
       "      <td>-0.0</td>\n",
       "      <td>0.0</td>\n",
       "      <td>0.493677</td>\n",
       "      <td>-3161.559471</td>\n",
       "      <td>-7619.981088</td>\n",
       "      <td>6496.891143</td>\n",
       "      <td>12999.960558</td>\n",
       "      <td>0.068643</td>\n",
       "      <td>0.154582</td>\n",
       "      <td>...</td>\n",
       "      <td>0.032331</td>\n",
       "      <td>7.684883e-316</td>\n",
       "      <td>5.928788e-323</td>\n",
       "      <td>3.500618e+151</td>\n",
       "      <td>9.534792e-307</td>\n",
       "      <td>True</td>\n",
       "      <td>321</td>\n",
       "      <td>111</td>\n",
       "      <td>12</td>\n",
       "      <td>2</td>\n",
       "    </tr>\n",
       "    <tr>\n",
       "      <th>3</th>\n",
       "      <td>0.0</td>\n",
       "      <td>0.0</td>\n",
       "      <td>0.0</td>\n",
       "      <td>0.493677</td>\n",
       "      <td>-3217.341162</td>\n",
       "      <td>-7593.251632</td>\n",
       "      <td>6545.488040</td>\n",
       "      <td>10665.541541</td>\n",
       "      <td>0.070110</td>\n",
       "      <td>0.158483</td>\n",
       "      <td>...</td>\n",
       "      <td>0.025555</td>\n",
       "      <td>7.684883e-316</td>\n",
       "      <td>5.928788e-323</td>\n",
       "      <td>3.500618e+151</td>\n",
       "      <td>9.534792e-307</td>\n",
       "      <td>True</td>\n",
       "      <td>321</td>\n",
       "      <td>111</td>\n",
       "      <td>12</td>\n",
       "      <td>3</td>\n",
       "    </tr>\n",
       "    <tr>\n",
       "      <th>4</th>\n",
       "      <td>-0.0</td>\n",
       "      <td>0.0</td>\n",
       "      <td>0.0</td>\n",
       "      <td>0.493677</td>\n",
       "      <td>-3167.335846</td>\n",
       "      <td>-7617.144257</td>\n",
       "      <td>6682.592714</td>\n",
       "      <td>14243.883414</td>\n",
       "      <td>0.069557</td>\n",
       "      <td>0.155713</td>\n",
       "      <td>...</td>\n",
       "      <td>0.163390</td>\n",
       "      <td>7.684883e-316</td>\n",
       "      <td>5.928788e-323</td>\n",
       "      <td>3.500618e+151</td>\n",
       "      <td>9.534792e-307</td>\n",
       "      <td>True</td>\n",
       "      <td>321</td>\n",
       "      <td>-11</td>\n",
       "      <td>13</td>\n",
       "      <td>4</td>\n",
       "    </tr>\n",
       "  </tbody>\n",
       "</table>\n",
       "<p>5 rows × 33 columns</p>\n",
       "</div>"
      ],
      "text/plain": [
       "       kaon_mom_x  kaon_mom_y  kaon_mom_z  kaon_energy  kaon_decay_x  \\\n",
       "entry                                                                  \n",
       "0             0.0        -0.0         0.0     0.493677  -3162.648679   \n",
       "1             0.0         0.0         0.0     0.493677  -3053.158590   \n",
       "2             0.0        -0.0         0.0     0.493677  -3161.559471   \n",
       "3             0.0         0.0         0.0     0.493677  -3217.341162   \n",
       "4            -0.0         0.0         0.0     0.493677  -3167.335846   \n",
       "\n",
       "       kaon_decay_y  kaon_decay_z  kaon_decay_t  hnl_mom_x  hnl_mom_y  ...  \\\n",
       "entry                                                                  ...   \n",
       "0      -7614.863499   6589.746340  14185.799273   0.069262   0.157233  ...   \n",
       "1      -7550.876682   6826.941596  11943.812715   0.067013   0.156495  ...   \n",
       "2      -7619.981088   6496.891143  12999.960558   0.068643   0.154582  ...   \n",
       "3      -7593.251632   6545.488040  10665.541541   0.070110   0.158483  ...   \n",
       "4      -7617.144257   6682.592714  14243.883414   0.069557   0.155713  ...   \n",
       "\n",
       "       daughter2_energy         weight    flux_weight   decay_weight  \\\n",
       "entry                                                                  \n",
       "0              0.011771  7.684883e-316  5.928788e-323  3.500618e+151   \n",
       "1              0.080091  7.684883e-316  5.928788e-323  3.500618e+151   \n",
       "2              0.032331  7.684883e-316  5.928788e-323  3.500618e+151   \n",
       "3              0.025555  7.684883e-316  5.928788e-323  3.500618e+151   \n",
       "4              0.163390  7.684883e-316  5.928788e-323  3.500618e+151   \n",
       "\n",
       "       branching_ratio_weight  selected  kaon_pdg  daughter1_pdg  \\\n",
       "entry                                                              \n",
       "0               9.534792e-307      True       321            111   \n",
       "1               9.534792e-307      True       321            -11   \n",
       "2               9.534792e-307      True       321            111   \n",
       "3               9.534792e-307      True       321            111   \n",
       "4               9.534792e-307      True       321            -11   \n",
       "\n",
       "       daughter2_pdg  rse_id  \n",
       "entry                         \n",
       "0                 12       0  \n",
       "1                 11       1  \n",
       "2                 12       2  \n",
       "3                 12       3  \n",
       "4                 13       4  \n",
       "\n",
       "[5 rows x 33 columns]"
      ]
     },
     "execution_count": 6,
     "metadata": {},
     "output_type": "execute_result"
    }
   ],
   "source": [
    "flat_samples_dict[150].head()"
   ]
  },
  {
   "cell_type": "markdown",
   "id": "cfb8f275-601c-41dd-9be0-2c29da9e9af6",
   "metadata": {
    "tags": []
   },
   "source": [
    "## Remove e, mu, nu events"
   ]
  },
  {
   "cell_type": "code",
   "execution_count": null,
   "id": "05afb355-2cc8-4613-b998-46c659abbd40",
   "metadata": {},
   "outputs": [],
   "source": [
    "#Make rse_id\n",
    "# for HNL_mass in signal_samples_dict:\n",
    "#     signal_samples_dict[HNL_mass] = Functions.make_unique_ev_id(signal_samples_dict[HNL_mass])\n",
    "#     flat_samples_dict[HNL_mass] = Functions.make_unique_ev_id(flat_samples_dict[HNL_mass])\n"
   ]
  },
  {
   "cell_type": "code",
   "execution_count": null,
   "id": "62d1210f-3c8b-4a93-9598-f1aaba753d8f",
   "metadata": {},
   "outputs": [],
   "source": [
    "flat_samples_dict[245][\"daughter2_pdg\"].head(20)"
   ]
  },
  {
   "cell_type": "code",
   "execution_count": null,
   "id": "39a5050e-9c41-44d5-91e8-59184d26ccae",
   "metadata": {},
   "outputs": [],
   "source": [
    "flat_samples_dict[245][\"daughter1_pdg\"].head(20)"
   ]
  },
  {
   "cell_type": "code",
   "execution_count": 9,
   "id": "3402b43e-c26d-474d-8bb4-68f2ee5149b5",
   "metadata": {},
   "outputs": [
    {
     "name": "stdout",
     "output_type": "stream",
     "text": [
      "Original length is of FLAT 150MeV 50000\n",
      "Original length is of 150MeV 50000\n",
      "Length is of common events list is 0\n",
      "Length is of common events list is 50000\n",
      "Length is of common events list is 0\n",
      "Length is of common events list is 0\n",
      "Num pi0 decays is 50000\n",
      "Original length is of FLAT 180MeV 50000\n",
      "Original length is of 180MeV 50000\n",
      "Length is of common events list is 0\n",
      "Length is of common events list is 50000\n",
      "Length is of common events list is 0\n",
      "Length is of common events list is 0\n",
      "Num pi0 decays is 50000\n",
      "Original length is of FLAT 200MeV 50000\n",
      "Original length is of 200MeV 50000\n",
      "Length is of common events list is 0\n",
      "Length is of common events list is 50000\n",
      "Length is of common events list is 0\n",
      "Length is of common events list is 0\n",
      "Num pi0 decays is 50000\n",
      "Original length is of FLAT 220MeV 50000\n",
      "Original length is of 220MeV 50000\n",
      "Length is of common events list is 0\n",
      "Length is of common events list is 50000\n",
      "Length is of common events list is 0\n",
      "Length is of common events list is 0\n",
      "Num pi0 decays is 50000\n",
      "Original length is of FLAT 240MeV 50000\n",
      "Original length is of 240MeV 50000\n",
      "Length is of common events list is 0\n",
      "Length is of common events list is 50000\n",
      "Length is of common events list is 0\n",
      "Length is of common events list is 0\n",
      "Num pi0 decays is 50000\n",
      "Original length is of FLAT 245MeV 50000\n",
      "Original length is of 245MeV 50000\n",
      "Length is of common events list is 0\n",
      "Length is of common events list is 50000\n",
      "Length is of common events list is 0\n",
      "Length is of common events list is 0\n",
      "Num pi0 decays is 50000\n"
     ]
    }
   ],
   "source": [
    "#need pdgs of minus 11 and 11. \n",
    "e_e_evs = {}\n",
    "mu_e_evs = {}\n",
    "mu_plus_e_evs = {}\n",
    "mu_mu_evs = {}\n",
    "mu_nu_mu_bar_evs = {}\n",
    "electrons_dict = {}\n",
    "positrons_dict = {}\n",
    "\n",
    "pi0_dict = {}\n",
    "nu_dict = {}\n",
    "nu_pi0_evs = {}\n",
    "\n",
    "if load_lepton_signal == True:\n",
    "    for HNL_mass in signal_samples_dict:\n",
    "        print(f\"Original length is of {HNL_mass}MeV \" + str(len(flat_samples_dict[HNL_mass])))\n",
    "        positron = flat_samples_dict[HNL_mass].query(\"daughter1_pdg==-11\")\n",
    "        elec = flat_samples_dict[HNL_mass].query(\"daughter2_pdg==11\")\n",
    "        \n",
    "        mu = flat_samples_dict[HNL_mass].query(\"daughter2_pdg==13\")\n",
    "        mu_bar = flat_samples_dict[HNL_mass].query(\"daughter1_pdg==-13 or daughter2_pdg==-13\")\n",
    "        nu_mu_bar = flat_samples_dict[HNL_mass].query(\"daughter1_pdg==-14\")\n",
    "\n",
    "        e_e = Functions.make_common_evs_df([elec, positron])\n",
    "        mu_e = Functions.make_common_evs_df([positron, mu])\n",
    "        mu_plus_e = Functions.make_common_evs_df([mu_bar, elec])\n",
    "        mu_mu = Functions.make_common_evs_df([mu, mu_bar])\n",
    "        mu_nu_mu_bar = Functions.make_common_evs_df([mu_bar, nu_mu_bar])\n",
    "        # mu_mu = Functions.make_common_evs_df([mu, mu_bar, nu_mu_bar])\n",
    "        \n",
    "        e_e_evs[HNL_mass]=e_e\n",
    "        mu_e_evs[HNL_mass]=mu_e\n",
    "        mu_plus_e_evs[HNL_mass]=mu_plus_e\n",
    "        mu_mu_evs[HNL_mass]=mu_mu\n",
    "        mu_nu_mu_bar_evs[HNL_mass]=mu_nu_mu_bar\n",
    "        # print(\"Num ee decays is \" + str(len(common_evs[HNL_mass])*2))\n",
    "    \n",
    "if load_pi0_signal == True: \n",
    "    for HNL_mass in signal_samples_dict:\n",
    "        print(f\"Original length is of FLAT {HNL_mass}MeV \" + str(len(flat_samples_dict[HNL_mass])))\n",
    "        print(f\"Original length is of {HNL_mass}MeV \" + str(len(signal_samples_dict[HNL_mass])))\n",
    "        pi0 = flat_samples_dict[HNL_mass].query(\"daughter1_pdg==111\")\n",
    "        nu = flat_samples_dict[HNL_mass].query(\"daughter2_pdg==-12 or daughter2_pdg==12\")\n",
    "        \n",
    "        positron = flat_samples_dict[HNL_mass].query(\"daughter1_pdg==-11\")\n",
    "        elec = flat_samples_dict[HNL_mass].query(\"daughter2_pdg==11\") \n",
    "        \n",
    "        mu = flat_samples_dict[HNL_mass].query(\"daughter2_pdg==13\")\n",
    "        mu_bar = flat_samples_dict[HNL_mass].query(\"daughter1_pdg==-13 or daughter2_pdg==-13\")\n",
    "        \n",
    "        pi0_dict[HNL_mass] = pi0\n",
    "        nu_dict[HNL_mass] = nu\n",
    "\n",
    "        e_e = Functions.make_common_evs_df([elec, positron])\n",
    "        common = Functions.make_common_evs_df([pi0, nu])\n",
    "        e_mu = Functions.make_common_evs_df([positron, mu])\n",
    "        mu_mu = Functions.make_common_evs_df([mu, mu_bar])\n",
    "        nu_pi0_evs[HNL_mass]=common\n",
    "        e_e_evs[HNL_mass]=e_e\n",
    "        mu_e_evs[HNL_mass] = e_mu\n",
    "        mu_mu_evs[HNL_mass] = mu_mu\n",
    "\n",
    "        print(\"Num pi0 decays is \" + str(len(nu_pi0_evs[HNL_mass])))"
   ]
  },
  {
   "cell_type": "code",
   "execution_count": 32,
   "id": "f6b23e02-30c0-4448-acbb-bf7d635c9956",
   "metadata": {},
   "outputs": [
    {
     "name": "stdout",
     "output_type": "stream",
     "text": [
      "2 emu frac is 0.0\n",
      "10 emu frac is 0.0\n",
      "20 emu frac is 0.0\n",
      "50 emu frac is 0.0\n",
      "100 emu frac is 0.0\n",
      "150 emu frac is 0.09945945945945946\n",
      "180 emu frac is 0.31752786220871326\n",
      "200 emu frac is 0.4303252032520325\n",
      "220 emu frac is 0.5136456211812628\n",
      "240 emu frac is 0.5656504065040651\n",
      "245 emu frac is 0.5719756838905775\n"
     ]
    }
   ],
   "source": [
    "frac_ee, frac_mumu, frac_emu = {}, {}, {}\n",
    "frac_all_mus, frac_all_emus = {}, {}\n",
    "if load_lepton_signal == True:\n",
    "    for HNL_mass in signal_samples_dict:\n",
    "        frac_ee[HNL_mass] = len(e_e_evs[HNL_mass])/len(signal_samples_dict[HNL_mass])\n",
    "        frac_mumu[HNL_mass] = len(mu_mu_evs[HNL_mass])/len(signal_samples_dict[HNL_mass])\n",
    "        frac_emu[HNL_mass] = len(mu_e_evs[HNL_mass])/len(signal_samples_dict[HNL_mass])\n",
    "        frac_all_emus[HNL_mass] = (len(mu_e_evs[HNL_mass])+len(mu_plus_e_evs[HNL_mass]))/len(signal_samples_dict[HNL_mass])\n",
    "        frac_all_mus[HNL_mass] = (len(mu_mu_evs[HNL_mass])+len(mu_nu_mu_bar_evs[HNL_mass]))/len(signal_samples_dict[HNL_mass])\n",
    "        \n",
    "        print(f\"{HNL_mass} emu frac is \" + str(frac_all_emus[HNL_mass]))\n",
    "\n",
    "frac_nu_pi0 = {}\n",
    "frac_nu_pi0_plus_emu = {}\n",
    "frac_nu_pi0_emu_ee = {}\n",
    "if load_pi0_signal == True:\n",
    "    for HNL_mass in signal_samples_dict:\n",
    "        frac_nu_pi0[HNL_mass] = len(nu_pi0_evs[HNL_mass])/len(signal_samples_dict[HNL_mass])\n",
    "        frac_ee[HNL_mass] = len(e_e_evs[HNL_mass])/len(signal_samples_dict[HNL_mass])\n",
    "        frac_emu[HNL_mass] = len(mu_e_evs[HNL_mass])/len(signal_samples_dict[HNL_mass])\n",
    "        frac_mumu[HNL_mass] = len(mu_mu_evs[HNL_mass])/len(signal_samples_dict[HNL_mass])\n",
    "        frac_nu_pi0_plus_emu[HNL_mass] = (len(nu_pi0_evs[HNL_mass]) + len(mu_e_evs[HNL_mass]))/len(signal_samples_dict[HNL_mass])\n",
    "        frac_nu_pi0_emu_ee[HNL_mass] = (len(nu_pi0_evs[HNL_mass]) + len(mu_e_evs[HNL_mass]) + len(e_e_evs[HNL_mass]))/len(signal_samples_dict[HNL_mass])\n",
    "        print(f\"{HNL_mass} nu pi0 frac is \" + str(frac_nu_pi0[HNL_mass]))"
   ]
  },
  {
   "cell_type": "code",
   "execution_count": 33,
   "id": "e0a09990-9e0f-4b8e-9689-c885e94b3709",
   "metadata": {},
   "outputs": [],
   "source": [
    "if load_lepton_signal == True:\n",
    "    e_mu_plus_ee, mu_mu_plus_others = {}, {}\n",
    "    for HNL_mass in signal_samples_dict:\n",
    "        e_mu_plus_ee[HNL_mass] =  frac_ee[HNL_mass]+frac_all_emus[HNL_mass]\n",
    "        \n",
    "# if load_pi0_signal == True:\n",
    "#     nu_pi0_plus_others = {}\n",
    "#     for HNL_mass in signal_samples_dict:\n",
    "#         nu_pi0_plus_others[HNL_mass] = "
   ]
  },
  {
   "cell_type": "code",
   "execution_count": 34,
   "id": "07298f1d-4fbb-45de-b49d-f81164281211",
   "metadata": {},
   "outputs": [
    {
     "data": {
      "image/png": "[encoded data removed]",
      "text/plain": [
       "<Figure size 1080x360 with 1 Axes>"
      ]
     },
     "metadata": {
      "needs_background": "light"
     },
     "output_type": "display_data"
    }
   ],
   "source": [
    "if load_lepton_signal == True:\n",
    "    x_int_list = range(0, len(frac_ee.keys()))\n",
    "    plt.bar(x_int_list, frac_ee.values(), label=r\"$\\nu e^{+}e^{-}$\", tick_label=list(frac_ee.keys()))\n",
    "    plt.bar(x_int_list, frac_all_emus.values(), label=r\"$\\nu e\\mu$\", tick_label=list(frac_ee.keys()), bottom=list(frac_ee.values()))\n",
    "    plt.bar(x_int_list, frac_all_mus.values(), label=r\"$\\nu \\mu\\mu$\", tick_label=list(frac_ee.keys()),bottom=list(e_mu_plus_ee.values()))\n",
    "\n",
    "    plt.axhline(1.0,ls=\"--\", color=\"black\")\n",
    "    plt.ylabel(\"Fraction of events\")\n",
    "    plt.xlabel(\"HNL mass [MeV]\")\n",
    "    plt.xlim(-0.5, 13)\n",
    "    plt.legend(fontsize=22, loc=\"center right\")\n",
    "    plt.tight_layout()\n",
    "\n",
    "    plt.savefig(\"plots/Generator/channel_fractions_negwt_fix.pdf\")"
   ]
  },
  {
   "cell_type": "code",
   "execution_count": 9,
   "id": "b513c47c-c836-4158-b542-a882e423aeff",
   "metadata": {},
   "outputs": [
    {
     "data": {
      "image/png": "[encoded data removed]",
      "text/plain": [
       "<Figure size 1080x360 with 1 Axes>"
      ]
     },
     "metadata": {
      "needs_background": "light"
     },
     "output_type": "display_data"
    }
   ],
   "source": [
    "if load_pi0_signal == True:\n",
    "    x_int_list = range(0, len(frac_nu_pi0.keys()))\n",
    "    plt.bar(x_int_list, frac_nu_pi0.values(), label=r\"$\\nu \\pi^{0}$\", tick_label=list(frac_nu_pi0.keys()))\n",
    "    plt.bar(x_int_list, frac_emu.values(), label=r\"$\\nu e\\mu$\", tick_label=list(frac_ee.keys()), bottom=list(frac_nu_pi0.values()))\n",
    "    plt.bar(x_int_list, frac_ee.values(), label=r\"$\\nu e^{+}e^{-}$\", tick_label=list(frac_ee.keys()), bottom=list(frac_nu_pi0_plus_emu.values()))\n",
    "    plt.bar(x_int_list, frac_mumu.values(), label=r\"$\\mu \\mu$\", tick_label=list(frac_ee.keys()), bottom=list(frac_nu_pi0_emu_ee.values()))\n",
    "\n",
    "    plt.axhline(1.0,ls=\"--\", color=\"black\")\n",
    "    plt.ylabel(\"Fraction of events\")\n",
    "    plt.xlabel(\"HNL mass [MeV]\")\n",
    "    plt.xlim(-0.5, 13)\n",
    "    plt.legend(fontsize=22, loc=\"center right\")\n",
    "    plt.tight_layout()\n",
    "\n",
    "    plt.savefig(\"plots/Generator/channel_fractions_pi0_dirac_scaling_samples.pdf\")"
   ]
  },
  {
   "cell_type": "code",
   "execution_count": null,
   "id": "dd148da5-37c8-41ba-b6d1-7ee4f66ee93e",
   "metadata": {},
   "outputs": [],
   "source": [
    "e_e_evs[HNL_mass][\"rse_id\"].head()"
   ]
  },
  {
   "cell_type": "code",
   "execution_count": null,
   "id": "2020b922-1924-4a41-a67a-c44fa8b67e91",
   "metadata": {},
   "outputs": [],
   "source": [
    "print(len(e_e_evs[245]))"
   ]
  },
  {
   "cell_type": "code",
   "execution_count": 10,
   "id": "828aea3f-f641-4b9f-9910-ddaeeabd4d08",
   "metadata": {},
   "outputs": [
    {
     "name": "stdout",
     "output_type": "stream",
     "text": [
      "20886\n"
     ]
    }
   ],
   "source": [
    "filtered_dict, filtered_out_dict = {}, {}\n",
    "for HNL_mass in signal_samples_dict:\n",
    "    # filtered_dict[HNL_mass] = signal_samples_dict[HNL_mass].loc[(signal_samples_dict[HNL_mass]['rse_id'].isin(e_e_evs[HNL_mass]['rse_id']))]\n",
    "    # filtered_out_dict[HNL_mass] = signal_samples_dict[HNL_mass].loc[(~signal_samples_dict[HNL_mass]['rse_id'].isin(e_e_evs[HNL_mass]['rse_id']))]\n",
    "    filtered_dict[HNL_mass] = flat_samples_dict[HNL_mass].loc[(flat_samples_dict[HNL_mass]['rse_id'].isin(nu_pi0_evs[HNL_mass]['rse_id']))]\n",
    "    filtered_out_dict[HNL_mass] = flat_samples_dict[HNL_mass].loc[(~flat_samples_dict[HNL_mass]['rse_id'].isin(nu_pi0_evs[HNL_mass]['rse_id']))]\n",
    "    \n",
    "print(len(filtered_out_dict[150]))"
   ]
  },
  {
   "cell_type": "code",
   "execution_count": 11,
   "id": "2e6e90a7-0c51-4c0c-9bdb-e16224bf0adb",
   "metadata": {},
   "outputs": [],
   "source": [
    "filtered_index_dict = {}\n",
    "for HNL_mass in signal_samples_dict:\n",
    "    filtered_index_dict[HNL_mass] = filtered_dict[HNL_mass].index\n"
   ]
  },
  {
   "cell_type": "code",
   "execution_count": null,
   "id": "e679d0ba-fd42-463f-a87e-713f90784ec2",
   "metadata": {},
   "outputs": [],
   "source": [
    "Num_evs = len(signal_samples_dict[2])\n",
    "print(Num_evs)\n",
    "entries = np.arange(0, Num_evs,1)\n",
    "print(entries)"
   ]
  },
  {
   "cell_type": "markdown",
   "id": "caeb5954-d3de-496f-9328-775df46809e3",
   "metadata": {
    "tags": []
   },
   "source": [
    "## Creating new variables"
   ]
  },
  {
   "cell_type": "code",
   "execution_count": null,
   "id": "74122a3a-50e1-4877-a9d5-5b3d6acd8b7b",
   "metadata": {},
   "outputs": [],
   "source": [
    "print(signal_samples_dict[150]['mc_E'][0][0]/signal_samples_dict[150]['mc_E'][0][1])\n",
    "df = signal_samples_dict[150]\n",
    "dot_product = (df['mc_px'][0]*df['mc_px'][1] + df['mc_py'][0]*df['mc_py'][1] + df['mc_pz'][0]*df['mc_pz'][1])\n",
    "print(type(dot_product))\n",
    "print(dot_product)\n",
    "print(df['mc_px'][0])\n",
    "print(max(df['mc_px'][0]))\n",
    "print(min(df['mc_px'][0]))\n",
    "\n",
    "print(\"Num evs is \" + str(len(signal_samples_dict[150])))"
   ]
  },
  {
   "cell_type": "code",
   "execution_count": 12,
   "id": "0f844f42-f6b9-49b4-af83-1b755f7d8352",
   "metadata": {},
   "outputs": [],
   "source": [
    "av_HNL_direction = [0.32, 0.74, -0.59]\n",
    "\n",
    "def Make_new_variables(df, entries=[]): #For unflattened dfs\n",
    "    if isinstance(entries,list): \n",
    "        Num_evs = len(df)\n",
    "        entries_it = np.arange(0, Num_evs,1)\n",
    "    else: entries_it = entries\n",
    "    # Num_evs = len(df)\n",
    "    mc_p_magnitude = []\n",
    "    mc_px_sum, mc_py_sum, mc_pz_sum = [], [], []\n",
    "    mc_E_leading, mc_E_sub, mc_E_asymmetry = [], [], []\n",
    "    mc_cos_opening_angle, mc_opening_angle = [], []\n",
    "    \n",
    "    # for i in range(Num_evs):\n",
    "    for i in entries_it:\n",
    "        mc_p1 = np.sqrt(df['mc_px'][i][0]**2+df['mc_py'][i][0]**2+df['mc_pz'][i][0]**2)\n",
    "        mc_p2 = np.sqrt(df['mc_px'][i][1]**2+df['mc_py'][i][1]**2+df['mc_pz'][i][1]**2)\n",
    "        mc_p_magnitude.append(np.array([mc_p1,mc_p2]))\n",
    "        mc_px_sum.append(df['mc_px'][i][0]+df['mc_px'][i][1])\n",
    "        mc_py_sum.append(df['mc_py'][i][0]+df['mc_py'][i][1])\n",
    "        mc_pz_sum.append(df['mc_pz'][i][0]+df['mc_pz'][i][1])\n",
    "        mc_E_leading.append(max(df['mc_E'][i]))\n",
    "        mc_E_sub.append(min(df['mc_E'][i]))\n",
    "        mc_E_asymmetry.append(min(df['mc_E'][i]) / max(df['mc_E'][i]))\n",
    "        \n",
    "        dot_product = (df['mc_px'][i][0]*df['mc_px'][i][1] + df['mc_py'][i][0]*df['mc_py'][i][1] + df['mc_pz'][i][0]*df['mc_pz'][i][1])\n",
    "        magnitude_dot_product = mc_p1*mc_p2\n",
    "        mc_cos_opening_angle.append(dot_product/magnitude_dot_product)\n",
    "        mc_opening_angle.append(np.arccos(dot_product/magnitude_dot_product))\n",
    "        \n",
    "        \n",
    "    df2 = df.copy()\n",
    "    df2[\"mc_px_sum\"], df2[\"mc_py_sum\"], df2[\"mc_pz_sum\"] = np.array(mc_px_sum), np.array(mc_py_sum), np.array(mc_pz_sum)\n",
    "    df2[\"mc_p_magnitude\"] = mc_p_magnitude\n",
    "    df2[\"mc_E_leading\"], df2[\"mc_E_sub\"] = np.array(mc_E_leading), np.array(mc_E_sub)\n",
    "    df2[\"mc_E_asymmetry\"] = np.array(mc_E_asymmetry)\n",
    "    df2[\"mc_cos_opening_angle\"] = np.array(mc_cos_opening_angle)\n",
    "    df2[\"mc_opening_angle\"] = np.array(mc_opening_angle)\n",
    "   \n",
    "    return df2\n",
    "\n",
    "def Make_angle_wrt(df, vector, entries=[]):\n",
    "    \"\"\"\n",
    "    Vector should be a unit vector, for the desired direction. \n",
    "    \"\"\"\n",
    "    if isinstance(entries,list): \n",
    "        Num_evs = len(df)\n",
    "        entries_it = np.arange(0, Num_evs,1)\n",
    "    else: entries_it = entries\n",
    "    # Num_evs = len(df)\n",
    "    \n",
    "    polar_angle = []\n",
    "    # for i in range(Num_evs):\n",
    "    for i in entries_it:\n",
    "        direction = vector[0]*df[\"mc_px_sum\"][i] + vector[1]*df[\"mc_py_sum\"][i] + vector[2]*df[\"mc_pz_sum\"][i]\n",
    "        p_sum = np.sqrt(df[\"mc_px_sum\"][i]+df[\"mc_py_sum\"][i]+df[\"mc_pz_sum\"][i])\n",
    "        polar_angle.append(np.arccos(direction/p_sum))\n",
    "        \n",
    "    df2 = df.copy()\n",
    "    df2[\"mc_polar_angle\"] = np.array(polar_angle)\n",
    "    \n",
    "    return df2\n",
    "\n",
    "def Make_single_new_variables(df, rest_mass, entries=[]):\n",
    "    if isinstance(entries,list): \n",
    "        Num_evs = len(df)\n",
    "        entries_it = np.arange(0, Num_evs,1)\n",
    "    else: entries_it = entries\n",
    "    \n",
    "    mc_p_magnitude = []\n",
    "    mc_E_kinetic = []\n",
    "    for i in entries_it:\n",
    "        mc_p = np.sqrt(df['daughter1_mom_x'][i]**2+df['daughter1_mom_y'][i]**2+df['daughter1_mom_z'][i]**2)\n",
    "        mc_E = df['daughter1_energy'][i] - rest_mass\n",
    "        \n",
    "        mc_p_magnitude.append(mc_p)\n",
    "        mc_E_kinetic.append(mc_E)\n",
    "        \n",
    "    df2 = df.copy()\n",
    "    df2[\"mc_p_magnitude\"] = mc_p_magnitude\n",
    "    df2[\"mc_E_kinetic\"] = mc_E_kinetic\n",
    "    \n",
    "    return df2\n",
    "\n",
    "def Make_single_angle(df, vector, entries=[]):\n",
    "    \"\"\"\n",
    "    Vector should be a unit vector, for the desired direction. \n",
    "    \"\"\"\n",
    "    if isinstance(entries,list): \n",
    "        Num_evs = len(df)\n",
    "        entries_it = np.arange(0, Num_evs,1)\n",
    "    else: entries_it = entries\n",
    "    # Num_evs = len(df)\n",
    "    \n",
    "    polar_angle = []\n",
    "    # for i in range(Num_evs):\n",
    "    for i in entries_it:\n",
    "        direction = vector[0]*df[\"mc_px\"][i] + vector[1]*df[\"mc_py\"][i] + vector[2]*df[\"mc_pz\"][i]\n",
    "        p_sum = np.sqrt(df[\"mc_px\"][i]+df[\"mc_py\"][i]+df[\"mc_pz\"][i])\n",
    "        polar_angle.append(np.arccos(direction/p_sum))\n",
    "        \n",
    "    df2 = df.copy()\n",
    "    df2[\"mc_polar_angle_single\"] = np.array(polar_angle)\n",
    "    \n",
    "    return df2\n",
    "\n",
    "def Make_single_angle_file(df, vector, entries=[]):\n",
    "    \"\"\"\n",
    "    Vector should be a unit vector, for the desired direction. \n",
    "    \"\"\"\n",
    "    if isinstance(entries,list): \n",
    "        Num_evs = len(df)\n",
    "        entries_it = np.arange(0, Num_evs,1)\n",
    "    else: entries_it = entries\n",
    "    # Num_evs = len(df)\n",
    "    \n",
    "    polar_angle = []\n",
    "    # for i in range(Num_evs):\n",
    "    for i in entries_it:\n",
    "        direction = vector[0]*df['daughter1_mom_x'][i] + vector[1]*df['daughter1_mom_y'][i] + vector[2]*df['daughter1_mom_z'][i]\n",
    "        p_sum = np.sqrt(df['daughter1_mom_x'][i]+df['daughter1_mom_y'][i]+df['daughter1_mom_z'][i])\n",
    "        polar_angle.append(np.arccos(direction/p_sum))\n",
    "        \n",
    "    df2 = df.copy()\n",
    "    df2[\"mc_polar_angle_single\"] = np.array(polar_angle)\n",
    "    \n",
    "    return df2\n"
   ]
  },
  {
   "cell_type": "code",
   "execution_count": 13,
   "id": "085d8d21-525a-4dd1-ac50-d41b69e9cf4f",
   "metadata": {},
   "outputs": [
    {
     "ename": "KeyError",
     "evalue": "'mc_px'",
     "output_type": "error",
     "traceback": [
      "\u001b[0;31m---------------------------------------------------------------------------\u001b[0m",
      "\u001b[0;31mKeyError\u001b[0m                                  Traceback (most recent call last)",
      "\u001b[0;32m~/jupyter/envs/ana/lib/python3.7/site-packages/pandas/core/indexes/base.py\u001b[0m in \u001b[0;36mget_loc\u001b[0;34m(self, key, method, tolerance)\u001b[0m\n\u001b[1;32m   3360\u001b[0m             \u001b[0;32mtry\u001b[0m\u001b[0;34m:\u001b[0m\u001b[0;34m\u001b[0m\u001b[0;34m\u001b[0m\u001b[0m\n\u001b[0;32m-> 3361\u001b[0;31m                 \u001b[0;32mreturn\u001b[0m \u001b[0mself\u001b[0m\u001b[0;34m.\u001b[0m\u001b[0m_engine\u001b[0m\u001b[0;34m.\u001b[0m\u001b[0mget_loc\u001b[0m\u001b[0;34m(\u001b[0m\u001b[0mcasted_key\u001b[0m\u001b[0;34m)\u001b[0m\u001b[0;34m\u001b[0m\u001b[0;34m\u001b[0m\u001b[0m\n\u001b[0m\u001b[1;32m   3362\u001b[0m             \u001b[0;32mexcept\u001b[0m \u001b[0mKeyError\u001b[0m \u001b[0;32mas\u001b[0m \u001b[0merr\u001b[0m\u001b[0;34m:\u001b[0m\u001b[0;34m\u001b[0m\u001b[0;34m\u001b[0m\u001b[0m\n",
      "\u001b[0;32m~/jupyter/envs/ana/lib/python3.7/site-packages/pandas/_libs/index.pyx\u001b[0m in \u001b[0;36mpandas._libs.index.IndexEngine.get_loc\u001b[0;34m()\u001b[0m\n",
      "\u001b[0;32m~/jupyter/envs/ana/lib/python3.7/site-packages/pandas/_libs/index.pyx\u001b[0m in \u001b[0;36mpandas._libs.index.IndexEngine.get_loc\u001b[0;34m()\u001b[0m\n",
      "\u001b[0;32mpandas/_libs/hashtable_class_helper.pxi\u001b[0m in \u001b[0;36mpandas._libs.hashtable.PyObjectHashTable.get_item\u001b[0;34m()\u001b[0m\n",
      "\u001b[0;32mpandas/_libs/hashtable_class_helper.pxi\u001b[0m in \u001b[0;36mpandas._libs.hashtable.PyObjectHashTable.get_item\u001b[0;34m()\u001b[0m\n",
      "\u001b[0;31mKeyError\u001b[0m: 'mc_px'",
      "\nThe above exception was the direct cause of the following exception:\n",
      "\u001b[0;31mKeyError\u001b[0m                                  Traceback (most recent call last)",
      "\u001b[0;32m/tmp/ipykernel_13970/1572882992.py\u001b[0m in \u001b[0;36m<module>\u001b[0;34m\u001b[0m\n\u001b[1;32m      1\u001b[0m \u001b[0;32mfor\u001b[0m \u001b[0mHNL_mass\u001b[0m \u001b[0;32min\u001b[0m \u001b[0msignal_samples_dict\u001b[0m\u001b[0;34m:\u001b[0m\u001b[0;34m\u001b[0m\u001b[0;34m\u001b[0m\u001b[0m\n\u001b[0;32m----> 2\u001b[0;31m     \u001b[0msignal_samples_dict\u001b[0m\u001b[0;34m[\u001b[0m\u001b[0mHNL_mass\u001b[0m\u001b[0;34m]\u001b[0m\u001b[0;34m=\u001b[0m\u001b[0mMake_new_variables\u001b[0m\u001b[0;34m(\u001b[0m\u001b[0msignal_samples_dict\u001b[0m\u001b[0;34m[\u001b[0m\u001b[0mHNL_mass\u001b[0m\u001b[0;34m]\u001b[0m\u001b[0;34m,\u001b[0m \u001b[0mfiltered_index_dict\u001b[0m\u001b[0;34m[\u001b[0m\u001b[0mHNL_mass\u001b[0m\u001b[0;34m]\u001b[0m\u001b[0;34m)\u001b[0m\u001b[0;34m\u001b[0m\u001b[0;34m\u001b[0m\u001b[0m\n\u001b[0m\u001b[1;32m      3\u001b[0m     \u001b[0mprint\u001b[0m\u001b[0;34m(\u001b[0m\u001b[0;34mf\"Done {HNL_mass}MeV\"\u001b[0m\u001b[0;34m)\u001b[0m\u001b[0;34m\u001b[0m\u001b[0;34m\u001b[0m\u001b[0m\n\u001b[1;32m      4\u001b[0m \u001b[0mprint\u001b[0m\u001b[0;34m(\u001b[0m\u001b[0;34m\"Done\"\u001b[0m\u001b[0;34m)\u001b[0m\u001b[0;34m\u001b[0m\u001b[0;34m\u001b[0m\u001b[0m\n\u001b[1;32m      5\u001b[0m \u001b[0;34m\u001b[0m\u001b[0m\n",
      "\u001b[0;32m/tmp/ipykernel_13970/1311958325.py\u001b[0m in \u001b[0;36mMake_new_variables\u001b[0;34m(df, entries)\u001b[0m\n\u001b[1;32m     14\u001b[0m     \u001b[0;31m# for i in range(Num_evs):\u001b[0m\u001b[0;34m\u001b[0m\u001b[0;34m\u001b[0m\u001b[0;34m\u001b[0m\u001b[0m\n\u001b[1;32m     15\u001b[0m     \u001b[0;32mfor\u001b[0m \u001b[0mi\u001b[0m \u001b[0;32min\u001b[0m \u001b[0mentries_it\u001b[0m\u001b[0;34m:\u001b[0m\u001b[0;34m\u001b[0m\u001b[0;34m\u001b[0m\u001b[0m\n\u001b[0;32m---> 16\u001b[0;31m         \u001b[0mmc_p1\u001b[0m \u001b[0;34m=\u001b[0m \u001b[0mnp\u001b[0m\u001b[0;34m.\u001b[0m\u001b[0msqrt\u001b[0m\u001b[0;34m(\u001b[0m\u001b[0mdf\u001b[0m\u001b[0;34m[\u001b[0m\u001b[0;34m'mc_px'\u001b[0m\u001b[0;34m]\u001b[0m\u001b[0;34m[\u001b[0m\u001b[0mi\u001b[0m\u001b[0;34m]\u001b[0m\u001b[0;34m[\u001b[0m\u001b[0;36m0\u001b[0m\u001b[0;34m]\u001b[0m\u001b[0;34m**\u001b[0m\u001b[0;36m2\u001b[0m\u001b[0;34m+\u001b[0m\u001b[0mdf\u001b[0m\u001b[0;34m[\u001b[0m\u001b[0;34m'mc_py'\u001b[0m\u001b[0;34m]\u001b[0m\u001b[0;34m[\u001b[0m\u001b[0mi\u001b[0m\u001b[0;34m]\u001b[0m\u001b[0;34m[\u001b[0m\u001b[0;36m0\u001b[0m\u001b[0;34m]\u001b[0m\u001b[0;34m**\u001b[0m\u001b[0;36m2\u001b[0m\u001b[0;34m+\u001b[0m\u001b[0mdf\u001b[0m\u001b[0;34m[\u001b[0m\u001b[0;34m'mc_pz'\u001b[0m\u001b[0;34m]\u001b[0m\u001b[0;34m[\u001b[0m\u001b[0mi\u001b[0m\u001b[0;34m]\u001b[0m\u001b[0;34m[\u001b[0m\u001b[0;36m0\u001b[0m\u001b[0;34m]\u001b[0m\u001b[0;34m**\u001b[0m\u001b[0;36m2\u001b[0m\u001b[0;34m)\u001b[0m\u001b[0;34m\u001b[0m\u001b[0;34m\u001b[0m\u001b[0m\n\u001b[0m\u001b[1;32m     17\u001b[0m         \u001b[0mmc_p2\u001b[0m \u001b[0;34m=\u001b[0m \u001b[0mnp\u001b[0m\u001b[0;34m.\u001b[0m\u001b[0msqrt\u001b[0m\u001b[0;34m(\u001b[0m\u001b[0mdf\u001b[0m\u001b[0;34m[\u001b[0m\u001b[0;34m'mc_px'\u001b[0m\u001b[0;34m]\u001b[0m\u001b[0;34m[\u001b[0m\u001b[0mi\u001b[0m\u001b[0;34m]\u001b[0m\u001b[0;34m[\u001b[0m\u001b[0;36m1\u001b[0m\u001b[0;34m]\u001b[0m\u001b[0;34m**\u001b[0m\u001b[0;36m2\u001b[0m\u001b[0;34m+\u001b[0m\u001b[0mdf\u001b[0m\u001b[0;34m[\u001b[0m\u001b[0;34m'mc_py'\u001b[0m\u001b[0;34m]\u001b[0m\u001b[0;34m[\u001b[0m\u001b[0mi\u001b[0m\u001b[0;34m]\u001b[0m\u001b[0;34m[\u001b[0m\u001b[0;36m1\u001b[0m\u001b[0;34m]\u001b[0m\u001b[0;34m**\u001b[0m\u001b[0;36m2\u001b[0m\u001b[0;34m+\u001b[0m\u001b[0mdf\u001b[0m\u001b[0;34m[\u001b[0m\u001b[0;34m'mc_pz'\u001b[0m\u001b[0;34m]\u001b[0m\u001b[0;34m[\u001b[0m\u001b[0mi\u001b[0m\u001b[0;34m]\u001b[0m\u001b[0;34m[\u001b[0m\u001b[0;36m1\u001b[0m\u001b[0;34m]\u001b[0m\u001b[0;34m**\u001b[0m\u001b[0;36m2\u001b[0m\u001b[0;34m)\u001b[0m\u001b[0;34m\u001b[0m\u001b[0;34m\u001b[0m\u001b[0m\n\u001b[1;32m     18\u001b[0m         \u001b[0mmc_p_magnitude\u001b[0m\u001b[0;34m.\u001b[0m\u001b[0mappend\u001b[0m\u001b[0;34m(\u001b[0m\u001b[0mnp\u001b[0m\u001b[0;34m.\u001b[0m\u001b[0marray\u001b[0m\u001b[0;34m(\u001b[0m\u001b[0;34m[\u001b[0m\u001b[0mmc_p1\u001b[0m\u001b[0;34m,\u001b[0m\u001b[0mmc_p2\u001b[0m\u001b[0;34m]\u001b[0m\u001b[0;34m)\u001b[0m\u001b[0;34m)\u001b[0m\u001b[0;34m\u001b[0m\u001b[0;34m\u001b[0m\u001b[0m\n",
      "\u001b[0;32m~/jupyter/envs/ana/lib/python3.7/site-packages/pandas/core/frame.py\u001b[0m in \u001b[0;36m__getitem__\u001b[0;34m(self, key)\u001b[0m\n\u001b[1;32m   3456\u001b[0m             \u001b[0;32mif\u001b[0m \u001b[0mself\u001b[0m\u001b[0;34m.\u001b[0m\u001b[0mcolumns\u001b[0m\u001b[0;34m.\u001b[0m\u001b[0mnlevels\u001b[0m \u001b[0;34m>\u001b[0m \u001b[0;36m1\u001b[0m\u001b[0;34m:\u001b[0m\u001b[0;34m\u001b[0m\u001b[0;34m\u001b[0m\u001b[0m\n\u001b[1;32m   3457\u001b[0m                 \u001b[0;32mreturn\u001b[0m \u001b[0mself\u001b[0m\u001b[0;34m.\u001b[0m\u001b[0m_getitem_multilevel\u001b[0m\u001b[0;34m(\u001b[0m\u001b[0mkey\u001b[0m\u001b[0;34m)\u001b[0m\u001b[0;34m\u001b[0m\u001b[0;34m\u001b[0m\u001b[0m\n\u001b[0;32m-> 3458\u001b[0;31m             \u001b[0mindexer\u001b[0m \u001b[0;34m=\u001b[0m \u001b[0mself\u001b[0m\u001b[0;34m.\u001b[0m\u001b[0mcolumns\u001b[0m\u001b[0;34m.\u001b[0m\u001b[0mget_loc\u001b[0m\u001b[0;34m(\u001b[0m\u001b[0mkey\u001b[0m\u001b[0;34m)\u001b[0m\u001b[0;34m\u001b[0m\u001b[0;34m\u001b[0m\u001b[0m\n\u001b[0m\u001b[1;32m   3459\u001b[0m             \u001b[0;32mif\u001b[0m \u001b[0mis_integer\u001b[0m\u001b[0;34m(\u001b[0m\u001b[0mindexer\u001b[0m\u001b[0;34m)\u001b[0m\u001b[0;34m:\u001b[0m\u001b[0;34m\u001b[0m\u001b[0;34m\u001b[0m\u001b[0m\n\u001b[1;32m   3460\u001b[0m                 \u001b[0mindexer\u001b[0m \u001b[0;34m=\u001b[0m \u001b[0;34m[\u001b[0m\u001b[0mindexer\u001b[0m\u001b[0;34m]\u001b[0m\u001b[0;34m\u001b[0m\u001b[0;34m\u001b[0m\u001b[0m\n",
      "\u001b[0;32m~/jupyter/envs/ana/lib/python3.7/site-packages/pandas/core/indexes/base.py\u001b[0m in \u001b[0;36mget_loc\u001b[0;34m(self, key, method, tolerance)\u001b[0m\n\u001b[1;32m   3361\u001b[0m                 \u001b[0;32mreturn\u001b[0m \u001b[0mself\u001b[0m\u001b[0;34m.\u001b[0m\u001b[0m_engine\u001b[0m\u001b[0;34m.\u001b[0m\u001b[0mget_loc\u001b[0m\u001b[0;34m(\u001b[0m\u001b[0mcasted_key\u001b[0m\u001b[0;34m)\u001b[0m\u001b[0;34m\u001b[0m\u001b[0;34m\u001b[0m\u001b[0m\n\u001b[1;32m   3362\u001b[0m             \u001b[0;32mexcept\u001b[0m \u001b[0mKeyError\u001b[0m \u001b[0;32mas\u001b[0m \u001b[0merr\u001b[0m\u001b[0;34m:\u001b[0m\u001b[0;34m\u001b[0m\u001b[0;34m\u001b[0m\u001b[0m\n\u001b[0;32m-> 3363\u001b[0;31m                 \u001b[0;32mraise\u001b[0m \u001b[0mKeyError\u001b[0m\u001b[0;34m(\u001b[0m\u001b[0mkey\u001b[0m\u001b[0;34m)\u001b[0m \u001b[0;32mfrom\u001b[0m \u001b[0merr\u001b[0m\u001b[0;34m\u001b[0m\u001b[0;34m\u001b[0m\u001b[0m\n\u001b[0m\u001b[1;32m   3364\u001b[0m \u001b[0;34m\u001b[0m\u001b[0m\n\u001b[1;32m   3365\u001b[0m         \u001b[0;32mif\u001b[0m \u001b[0mis_scalar\u001b[0m\u001b[0;34m(\u001b[0m\u001b[0mkey\u001b[0m\u001b[0;34m)\u001b[0m \u001b[0;32mand\u001b[0m \u001b[0misna\u001b[0m\u001b[0;34m(\u001b[0m\u001b[0mkey\u001b[0m\u001b[0;34m)\u001b[0m \u001b[0;32mand\u001b[0m \u001b[0;32mnot\u001b[0m \u001b[0mself\u001b[0m\u001b[0;34m.\u001b[0m\u001b[0mhasnans\u001b[0m\u001b[0;34m:\u001b[0m\u001b[0;34m\u001b[0m\u001b[0;34m\u001b[0m\u001b[0m\n",
      "\u001b[0;31mKeyError\u001b[0m: 'mc_px'"
     ]
    }
   ],
   "source": [
    "for HNL_mass in signal_samples_dict:\n",
    "    signal_samples_dict[HNL_mass]=Make_new_variables(signal_samples_dict[HNL_mass], filtered_index_dict[HNL_mass])\n",
    "    print(f\"Done {HNL_mass}MeV\")\n",
    "print(\"Done\")\n",
    "    \n",
    "direction = av_HNL_direction\n",
    "\n",
    "for HNL_mass in signal_samples_dict:\n",
    "    signal_samples_dict[HNL_mass]=Make_angle_wrt(signal_samples_dict[HNL_mass], direction, [])\n",
    "    # if load_pi0_signal == True:\n",
    "    #     pi0_dict[HNL_mass]=Make_single_angle(pi0_dict[HNL_mass], direction, filtered_index_dict[HNL_mass])\n",
    "    print(f\"Done {HNL_mass}MeV\")\n",
    "# test_df = Make_new_variables(signal_samples_dict[2])"
   ]
  },
  {
   "cell_type": "code",
   "execution_count": 14,
   "id": "0f407455-d8ab-4f4e-b07c-0f4440c7106f",
   "metadata": {},
   "outputs": [
    {
     "name": "stdout",
     "output_type": "stream",
     "text": [
      "Done 150\n"
     ]
    },
    {
     "name": "stderr",
     "output_type": "stream",
     "text": [
      "/home/david/jupyter/envs/ana/lib/python3.7/site-packages/ipykernel_launcher.py:122: RuntimeWarning: invalid value encountered in arccos\n",
      "/home/david/jupyter/envs/ana/lib/python3.7/site-packages/ipykernel_launcher.py:121: RuntimeWarning: invalid value encountered in sqrt\n"
     ]
    },
    {
     "name": "stdout",
     "output_type": "stream",
     "text": [
      "Done 180\n",
      "Done 200\n",
      "Done 220\n",
      "Done 240\n",
      "Done 245\n"
     ]
    }
   ],
   "source": [
    "direction = av_HNL_direction\n",
    "pi0_mass = 0.135 #GeV\n",
    "\n",
    "if load_pi0_signal == True:\n",
    "    for HNL_mass in pi0_dict:\n",
    "        pi0_dict[HNL_mass]=Make_single_new_variables(pi0_dict[HNL_mass], pi0_mass, entries=pi0_dict[HNL_mass].index)\n",
    "        pi0_dict[HNL_mass]=Make_single_angle_file(pi0_dict[HNL_mass], direction, pi0_dict[HNL_mass].index)\n",
    "        print(f\"Done {HNL_mass}\")"
   ]
  },
  {
   "cell_type": "markdown",
   "id": "271ebd0b-4d89-4bbb-ae99-a4c02141ae32",
   "metadata": {},
   "source": [
    "# Functions"
   ]
  },
  {
   "cell_type": "code",
   "execution_count": 15,
   "id": "5d4ca553-87da-48bd-a6cc-19ea3c30e03e",
   "metadata": {},
   "outputs": [],
   "source": [
    "def Plot_variable_signal(variable, HNL_samples_dict=[], xlabel=[], xlims=[0,0], bins=40, figsize=[10,10], dpi=100, MergeBins=False, \n",
    "                         density=True,legloc=\"best\",logy = False, cutline = None, savefig=False, filename=None, plot_entries=False):\n",
    "    \n",
    "    if(HNL_samples_dict==[]): raise Exception(\"Specify samples dict\") \n",
    "    if(xlabel==[]): xlabel=variable\n",
    "    \n",
    "    if logy == True:\n",
    "        logscale=\"log\"\n",
    "    elif logy == False:\n",
    "        logscale=\"linear\"\n",
    "    \n",
    "    fig,ax = plt.subplots(nrows=1, ncols=1, sharex=True, figsize=figsize,dpi=dpi)\n",
    "    \n",
    "    for HNL_mass in HNL_samples_dict:\n",
    "    \n",
    "        #var_HNL=HNL_samples_dict[HNL_mass][variable] #old way when specifying variable\n",
    "        var_HNL=HNL_samples_dict[HNL_mass]\n",
    "        Num_entries = len(var_HNL)\n",
    "       \n",
    "        if xlims[0] == 0 and xlims[1] == 0: xlims = [min(var_HNL),max(var_HNL)]\n",
    "    \n",
    "        if(isinstance(bins, int)):\n",
    "            nbins=bins\n",
    "            bins=np.linspace(xlims[0],xlims[1],nbins+1)\n",
    "        else: nbins=len(bins)-1\n",
    "    \n",
    "    #plt.sca(ax[0])\n",
    "               \n",
    "        if plot_entries==True: label=[f\"{HNL_mass} MeV HNL: \" + str(Num_entries) + \" entries\"]\n",
    "        if plot_entries==False: label=[f\"{HNL_mass} MeV HNL\"]\n",
    "            \n",
    "        plt.hist(var_HNL,\n",
    "#               label=[f\"HNL ({mass} MeV) \\n $|U_{{\\mu4}}|^2=\"+sci_notation(sample_info[\"300\"][\"theta_u2\"]) +f\" (x{HNLplotscale})\"],\n",
    "              label=label,\n",
    "              range=xlims,bins=bins,\n",
    "              stacked=False,density=density,\n",
    "              histtype=\"step\",lw=3)\n",
    "    \n",
    "    if(isinstance(cutline, (int,float))):\n",
    "        plt.axvline(x=cutline, lw=3, color='green', linestyle = 'dashed')\n",
    "    \n",
    "    if(logy == True):\n",
    "        plt.yscale(\"log\")\n",
    "    else:\n",
    "        plt.yscale(\"linear\")\n",
    "        \n",
    "    if(density == True):\n",
    "        plt.ylabel(\"Fraction of total events\")\n",
    "    \n",
    "    plt.legend(loc=legloc,frameon=False)\n",
    "    \n",
    "    plt.xlabel(xlabel)\n",
    "    plt.xlim(xlims)\n",
    "    plt.tight_layout(rect=[0, 0, 1, 0.92])\n",
    "    plt.yscale(logscale)\n",
    "    if filename == None:\n",
    "        Name = variable + \"_\" + Run + \"_\" + logscale\n",
    "    else:\n",
    "        Name = filename\n",
    "    if savefig == True:\n",
    "        plt.savefig(\"plots/Truth_studies/Signal_plots/\" + Name + \".png\")\n",
    "        plt.savefig(\"plots/Truth_studies/Signal_plots/\" + Name + \".pdf\")"
   ]
  },
  {
   "cell_type": "code",
   "execution_count": 16,
   "id": "17645472-141b-42d9-86a3-1be7c5f4b82f",
   "metadata": {},
   "outputs": [],
   "source": [
    "def check_variable(df,variable,debug=True): #The df should NOT be flattened. Will return a series which can be plotted. \n",
    "    first_entry = df.index[0]\n",
    "    if isinstance(df[variable][first_entry], (np.ndarray)):\n",
    "        if(debug):print(\"This variable has an array of entries per event.\")\n",
    "        Num_events = len(df[variable])\n",
    "        if(debug):print(\"The total number of events is \" + str(Num_events))\n",
    "        copy_column = df[variable].copy()\n",
    "        exploded = copy_column.explode(variable)\n",
    "        Num_nans = exploded.isna().sum()\n",
    "        if(debug):print(\"The number of events with empty arrays is \" + str(Num_nans))\n",
    "        if(debug):print(\"Fraction of non-empty arrays is \" + str(1-(Num_nans/Num_events)))\n",
    "        Nans_removed = exploded.dropna()\n",
    "        Num_entries = len(Nans_removed)\n",
    "        if(debug):print(\"The total number of entries is \" + str(Num_entries))\n",
    "        \n",
    "        return Nans_removed, Num_entries\n",
    "    if isinstance(df[variable][first_entry], (int,float,np.int32,np.float32,np.uint32,np.nan)):\n",
    "        if(debug):print(\"This variable has one entry per event.\")\n",
    "        Num_events = len(df[variable])\n",
    "        if(debug):print(\"The total number of events is \" + str(Num_events))\n",
    "        copy_column = df[variable].copy()\n",
    "        Num_nans = copy_column.isna().sum()\n",
    "        if Num_nans != 0:\n",
    "            if(debug):print(\"There are \" + str(Num_nans) + \" Nan values, removing now\")\n",
    "            copy_column.dropna()\n",
    "        Num_entries = len(copy_column)\n",
    "        return copy_column, Num_entries\n",
    "    else: print(\"Not sure what type this variable is!\")\n",
    "    \n",
    "def remove_non_reco_vals(df,debug=True): #Feed in the output of the check_variable\n",
    "    #value = -1e15\n",
    "    value = -9998\n",
    "    first_entry = df.index[0]\n",
    "    if(debug):print(\"Total number of entries is \" + str(len(df)))\n",
    "    if(debug):print(\"Number of very negative values is \" + str(len(df.loc[df < value])))\n",
    "\n",
    "    if(len(df.loc[df < value]) > 0):\n",
    "        new_df = df.drop(df.loc[df < value].index) #Removes values entirely\n",
    "        if(debug):print(\"New number of entries is \" + str(len(new_df)))\n",
    "            # if(len(df.loc[df == -1.0]) > 0):\n",
    "            #     df.loc[(df == -1.0), variable] = new_value #Sets the new value\n",
    "            # if(len(df.loc[df == np.nan]) > 0):\n",
    "            #     df.loc[(df == np.nan), variable] = new_value #Sets the new value\n",
    "            # if(len(df.loc[df == np.inf]) > 0):\n",
    "            #     df.loc[(df == np.inf), variable] = new_value #Sets the new value\n",
    "    else: new_df = df.copy()\n",
    "    return new_df, len(new_df)\n",
    "\n",
    "def Get_av_hnl_momentum(df):\n",
    "    \"\"\"\n",
    "    Returns a vector of the mean momenta of the parent HNL\n",
    "    \"\"\"\n",
    "    x_sum = df['hnl_mom_x'].sum()\n",
    "    y_sum = df['hnl_mom_y'].sum()\n",
    "    z_sum = df['hnl_mom_z'].sum()\n",
    "    \n",
    "    x_av = x_sum/len(df)\n",
    "    y_av = y_sum/len(df)\n",
    "    z_av = z_sum/len(df)\n",
    "    \n",
    "    direction = []\n",
    "    for i in df.index:\n",
    "        mc_p = np.sqrt(df['hnl_mom_x'][i]**2+df['hnl_mom_y'][i]**2+df['hnl_mom_z'][i]**2)\n",
    "        direction.append([df['hnl_mom_x'][i]/mc_p, df['hnl_mom_y'][i]/mc_p, df['hnl_mom_z'][i]/mc_p])\n",
    "    \n",
    "    return [x_av, y_av, z_av], direction\n",
    "\n",
    "def Get_av_direction(direction_list):\n",
    "    sum_x, sum_y, sum_z = 0, 0, 0\n",
    "    for i, direction in enumerate(direction_list):\n",
    "        sum_x += direction[0]\n",
    "        sum_y += direction[1]\n",
    "        sum_z += direction[2]\n",
    "    av_x  = sum_x/(len(direction_list))\n",
    "    av_y  = sum_y/(len(direction_list))\n",
    "    av_z  = sum_z/(len(direction_list))\n",
    "    \n",
    "    return [av_x, av_y, av_z]"
   ]
  },
  {
   "cell_type": "code",
   "execution_count": null,
   "id": "8ef0ee77-45dc-487d-a5e0-7ed6924624f4",
   "metadata": {},
   "outputs": [],
   "source": [
    "test_av_dict, directions_dict = {}, {}\n",
    "for HNL_mass in signal_samples_dict:\n",
    "    test_av_dict[HNL_mass], directions_dict[HNL_mass] = Get_av_hnl_momentum(signal_samples_dict[HNL_mass])\n",
    "# print(test_av)\n"
   ]
  },
  {
   "cell_type": "code",
   "execution_count": null,
   "id": "60953e60-ca0c-46ab-9e36-ffed5b2dc8fe",
   "metadata": {},
   "outputs": [],
   "source": [
    "av_dir_dict = {}\n",
    "for HNL_mass in signal_samples_dict:\n",
    "    av_dir_dict[HNL_mass] = Get_av_direction(directions_dict[HNL_mass])\n"
   ]
  },
  {
   "cell_type": "code",
   "execution_count": null,
   "id": "20938a55-606a-4f79-a86b-d76fce8c1201",
   "metadata": {},
   "outputs": [],
   "source": [
    "print(av_dir_dict)"
   ]
  },
  {
   "cell_type": "code",
   "execution_count": 17,
   "id": "9eecce91-6b78-45b3-a58c-28d1eff077df",
   "metadata": {},
   "outputs": [
    {
     "name": "stdin",
     "output_type": "stream",
     "text": [
      "Do you want to print all the variables in the sample? y/n  y\n"
     ]
    },
    {
     "name": "stdout",
     "output_type": "stream",
     "text": [
      "['kaon_mom_x', 'kaon_mom_y', 'kaon_mom_z', 'kaon_energy', 'kaon_decay_x', 'kaon_decay_y', 'kaon_decay_z', 'kaon_decay_t', 'hnl_mom_x', 'hnl_mom_y', 'hnl_mom_z', 'hnl_energy', 'hnl_decay_x', 'hnl_decay_y', 'hnl_decay_z', 'hnl_decay_t', 'daughter1_mom_x', 'daughter1_mom_y', 'daughter1_mom_z', 'daughter1_energy', 'daughter2_mom_x', 'daughter2_mom_y', 'daughter2_mom_z', 'daughter2_energy', 'weight', 'flux_weight', 'decay_weight', 'branching_ratio_weight', 'selected', 'kaon_pdg', 'daughter1_pdg', 'daughter2_pdg', 'rse_id', 'mc_p_magnitude', 'mc_E_kinetic', 'mc_polar_angle_single']\n"
     ]
    }
   ],
   "source": [
    "Plot_only_lepton = False #Final state is e+e-\n",
    "Plot_only_pi0 = True #Final state is pi0\n",
    "\n",
    "if Plot_only_lepton == True: sample_dict = signal_samples_dict\n",
    "elif Plot_only_pi0 == True: sample_dict = pi0_dict\n",
    "\n",
    "print_vals = input(\"Do you want to print all the variables in the sample? y/n \")\n",
    "if print_vals == \"y\":\n",
    "    var_list = []\n",
    "    for var in sample_dict[150].keys():\n",
    "        var_list.append(var)\n",
    "    print(var_list)\n",
    "else:\n",
    "    print(\"Not printing variables.\")"
   ]
  },
  {
   "cell_type": "code",
   "execution_count": 18,
   "id": "a2729362-7545-40e7-abf1-1aaf0559825e",
   "metadata": {},
   "outputs": [],
   "source": [
    "variable_names_dict = {'mc_px_sum':\"Sum of x-momenta [GeV]\", 'mc_py_sum':\"Sum of y-momenta [GeV]\", 'mc_pz_sum':\"Sum of z-momenta [GeV]\",\n",
    "                       'mc_p_magnitude':\"Magnitude of lepton momenta [GeV]\", 'mc_E_leading':\"Leading lepton energy [GeV]\",\n",
    "                       'mc_E':\"Energy [GeV]\", 'mc_px':\"Momentum in x-direction [GeV]\", 'mc_py':\"Momentum in y-direction [GeV]\",\n",
    "                       'mc_pz':\"Momentum in z-direction [GeV]\", 'mc_p_magnitude':\"Momentum [GeV]\", 'mc_E_kinetic':\"Kinetic energy [GeV]\",\n",
    "       'mc_E_sub':\"Sub-leading lepton energy [GeV]\", 'mc_E_asymmetry':\"Energy asymmetry\", 'mc_cos_opening_angle':\"cosine(opening angle)\",\n",
    "       'mc_opening_angle':\"Opening angle [radians]\", 'mc_polar_angle':\"Angle w.r.t parent HNL [radians]\",\n",
    "                       \"mc_polar_angle_single\":\"Angle w.r.t parent HNL [radians]\"}"
   ]
  },
  {
   "cell_type": "code",
   "execution_count": 19,
   "id": "3a34b280-da2c-4cab-919a-0a862887a9ed",
   "metadata": {},
   "outputs": [
    {
     "name": "stdout",
     "output_type": "stream",
     "text": [
      "Mass is 150 MeV\n",
      "Mass is 180 MeV\n",
      "Mass is 200 MeV\n",
      "Mass is 220 MeV\n",
      "Mass is 240 MeV\n",
      "Mass is 245 MeV\n",
      "\n",
      "Mass is 150 MeV\n",
      "Mass is 180 MeV\n",
      "Mass is 200 MeV\n",
      "Mass is 220 MeV\n",
      "Mass is 240 MeV\n",
      "Mass is 245 MeV\n",
      "\n",
      "Mass is 150 MeV\n",
      "Mass is 180 MeV\n",
      "Mass is 200 MeV\n",
      "Mass is 220 MeV\n",
      "Mass is 240 MeV\n",
      "Mass is 245 MeV\n"
     ]
    }
   ],
   "source": [
    "var = 'mc_polar_angle_single'\n",
    "plot_dict = {}\n",
    "Num_entries_dict = {}\n",
    "debug = False\n",
    "\n",
    "plot_all_masses = True\n",
    "if plot_all_masses == True: plot_samples = sample_dict.keys()\n",
    "if plot_all_masses == False: plot_samples = [2, 10, 100, 200, 245]\n",
    "\n",
    "for sample in plot_samples:\n",
    "    print(f\"Mass is {sample} MeV\")\n",
    "    plot_dict[sample], Num_entries_dict[sample] = check_variable(sample_dict[sample],var,debug=debug)\n",
    "    plot_dict[sample], Num_entries_dict[sample] = remove_non_reco_vals(plot_dict[sample],debug=debug)\n",
    "    \n",
    "print()\n",
    "var_2 = 'mc_E_kinetic'\n",
    "plot_dict_2 = {}\n",
    "Num_entries_dict_2 = {}\n",
    "\n",
    "for sample in plot_samples:\n",
    "    print(f\"Mass is {sample} MeV\")\n",
    "    plot_dict_2[sample], Num_entries_dict_2[sample] = check_variable(sample_dict[sample],var_2,debug=debug)\n",
    "    plot_dict_2[sample], Num_entries_dict_2[sample] = remove_non_reco_vals(plot_dict_2[sample],debug=debug)\n",
    "    \n",
    "# plot_dict[150].head()\n",
    "# Particle.from_pdgid(11)\n",
    "print()\n",
    "var_3 = 'mc_p_magnitude'\n",
    "plot_dict_3 = {}\n",
    "Num_entries_dict_3 = {}\n",
    "for sample in plot_samples:\n",
    "    print(f\"Mass is {sample} MeV\")\n",
    "    plot_dict_3[sample], Num_entries_dict_3[sample] = check_variable(sample_dict[sample],var_3,debug=debug)\n",
    "    plot_dict_3[sample], Num_entries_dict_3[sample] = remove_non_reco_vals(plot_dict_3[sample],debug=debug)"
   ]
  },
  {
   "cell_type": "code",
   "execution_count": 20,
   "id": "9f3e9b5d-9fd9-4ff1-ae20-5a2c61e2c73b",
   "metadata": {},
   "outputs": [
    {
     "data": {
      "image/png": "[encoded data removed]",
      "text/plain": [
       "<Figure size 800x800 with 1 Axes>"
      ]
     },
     "metadata": {
      "needs_background": "light"
     },
     "output_type": "display_data"
    }
   ],
   "source": [
    "# Plot_variable_signal(var, HNL_samples_dict=plot_dict, xlabel=[], xlims=[0.01,0.5], bins=40, \n",
    "#                      figsize=[10,10], dpi=100, MergeBins=False, density=True,legloc=\"best\",logy = False, cutline = None, savefig=False)\n",
    "\n",
    "Plot_variable_signal(var, HNL_samples_dict=plot_dict, xlabel=variable_names_dict[var], xlims=[0,2], bins=50, \n",
    "                     figsize=[8,8], dpi=100, MergeBins=False, density=True,legloc=\"best\",logy = False,\n",
    "                     cutline = None, savefig=True, filename = f\"pi0_dirac_{var}_{Run}\")\n"
   ]
  },
  {
   "cell_type": "code",
   "execution_count": 21,
   "id": "5dae51ea-6fab-4c6e-8ead-2632ec807dd7",
   "metadata": {},
   "outputs": [
    {
     "data": {
      "image/png": "[encoded data removed]",
      "text/plain": [
       "<Figure size 800x800 with 1 Axes>"
      ]
     },
     "metadata": {
      "needs_background": "light"
     },
     "output_type": "display_data"
    }
   ],
   "source": [
    "Plot_variable_signal(var_2, HNL_samples_dict=plot_dict_2, xlabel=variable_names_dict[var_2], xlims=[0,0.25], bins=50, \n",
    "                     figsize=[8,8], dpi=100, MergeBins=False, density=True,legloc=\"best\",logy = False,\n",
    "                     cutline = None, savefig=True, filename = f\"pi0_dirac_{var_2}_{Run}\")"
   ]
  },
  {
   "cell_type": "code",
   "execution_count": 22,
   "id": "d6e1d26f-0989-41b8-a776-263f828b286a",
   "metadata": {},
   "outputs": [
    {
     "data": {
      "image/png": "[encoded data removed]",
      "text/plain": [
       "<Figure size 800x800 with 1 Axes>"
      ]
     },
     "metadata": {
      "needs_background": "light"
     },
     "output_type": "display_data"
    }
   ],
   "source": [
    "if load_pi0_signal == True:\n",
    "    Plot_variable_signal(var_3, HNL_samples_dict=plot_dict_3, xlabel=variable_names_dict[var_3], xlims=[0,0.25], bins=50, \n",
    "                     figsize=[8,8], dpi=100, MergeBins=False, density=True,legloc=\"upper left\",logy = False,\n",
    "                     cutline = None, savefig=True, filename = f\"pi0_dirac_{var_3}_{Run}\")"
   ]
  },
  {
   "cell_type": "code",
   "execution_count": null,
   "id": "47fee241-3cb7-4343-ae2c-301b82ca6fd3",
   "metadata": {},
   "outputs": [],
   "source": [
    "sample_dict[220].keys()"
   ]
  },
  {
   "cell_type": "markdown",
   "id": "bd140a42-fdc2-4876-8ab5-8e55d9abf589",
   "metadata": {},
   "source": [
    "## 2D histogram of reco showers and tracks"
   ]
  },
  {
   "cell_type": "code",
   "execution_count": null,
   "id": "32259517-881a-4dc3-8856-31519d88cccb",
   "metadata": {},
   "outputs": [],
   "source": [
    "a = np.arange(5) - 0.5\n",
    "print(a)\n",
    "#previously [0,4]"
   ]
  },
  {
   "cell_type": "code",
   "execution_count": null,
   "id": "8d2ab5dc-9af6-46b7-a872-4afb2df6c7ce",
   "metadata": {},
   "outputs": [],
   "source": [
    "#HNL_mass = 20\n",
    "savefig=True\n",
    "\n",
    "for HNL_mass in plot_dict.keys():\n",
    "\n",
    "    n_showers = plot_dict_2[HNL_mass]\n",
    "    n_tracks = plot_dict[HNL_mass]\n",
    "\n",
    "    width = 10\n",
    "    aspect = 0.9\n",
    "    height = width*aspect\n",
    "    plt.figure(figsize=(width,height))\n",
    "    \n",
    "    BINS = np.arange(5)-0.5\n",
    "    lims = [-1, 5]\n",
    "    ticks = [0,1, 2, 3]\n",
    "    old_bins = 4\n",
    "    old_lims = [0,4]\n",
    "\n",
    "    plt.hist2d(n_showers, n_tracks, bins = BINS, range=[lims,lims], density=True)\n",
    "\n",
    "    counts, xedges, yedges, Image = plt.hist2d(n_showers, n_tracks, bins = BINS, range=[lims,lims], density=True)\n",
    "\n",
    "    dx = xedges[2]-xedges[1]\n",
    "    dy = yedges[2]-yedges[1]\n",
    "    for i in range(xedges.size-1):\n",
    "        for j in range(yedges.size-1):\n",
    "            xb = xedges[i] + 0.25*dx\n",
    "            yb = yedges[j] + 0.4*dy\n",
    "            plt.text(xb, yb, str(np.round(100.*counts[i,j],2)), fontsize=20)\n",
    "\n",
    "    plt.xticks(ticks)\n",
    "    plt.yticks(ticks)\n",
    "    plt.title(str(HNL_mass) + \" MeV HNL\")\n",
    "    plt.xlabel(\"reconstructed showers\")\n",
    "    plt.ylabel(\"reconstructed tracks\")\n",
    "    plt.colorbar()\n",
    "    plt.tight_layout()\n",
    "    if savefig==True:\n",
    "        Name = f\"Reconstructed_objects_{HNL_mass}MeV_{Run}\"\n",
    "        if Plot_only_lepton == True: plt.savefig(\"plots/Truth_studies/Signal_plots/\" + Name + \".png\")\n",
    "        if Plot_only_pi0 == True: plt.savefig(\"plots/Truth_studies/Signal_plots/pi0/\" + Name + \".png\")"
   ]
  },
  {
   "cell_type": "markdown",
   "id": "c6634e67-b4d8-4756-9dad-6411452d1afd",
   "metadata": {},
   "source": [
    "## Multiplicity study"
   ]
  },
  {
   "cell_type": "code",
   "execution_count": null,
   "id": "e688a60e-603d-469a-8a85-e6842e9f0143",
   "metadata": {},
   "outputs": [],
   "source": [
    "def Make_fraction_recod(HNL_samples_dict=signal_samples_dict, variable='n_pfps'): #This should be fed with a dict of unflattened dataframes\n",
    "    frac_pfps_dict = {}\n",
    "    for HNL_mass in HNL_samples_dict:\n",
    "        Placeholder_list = []\n",
    "        Num_events = len(HNL_samples_dict[HNL_mass][variable])\n",
    "        for i in range(max(HNL_samples_dict[HNL_mass][variable])):\n",
    "            selection = HNL_samples_dict[HNL_mass].loc[(HNL_samples_dict[HNL_mass][variable] == i)]\n",
    "            Num_multiplicity = len(selection)\n",
    "            Placeholder_list.append(Num_multiplicity/Num_events)\n",
    "        frac_pfps_dict[HNL_mass] = Placeholder_list\n",
    "    return frac_pfps_dict"
   ]
  },
  {
   "cell_type": "code",
   "execution_count": null,
   "id": "8807573f-2acf-431d-abf5-024c1b46b821",
   "metadata": {},
   "outputs": [],
   "source": [
    "frac_pfps_dict = Make_fraction_recod(HNL_samples_dict=sample_dict, variable='n_pfps')\n",
    "\n",
    "print(frac_pfps_dict)"
   ]
  },
  {
   "cell_type": "code",
   "execution_count": null,
   "id": "2715cbb8-bf25-43e9-abe7-51a1e29a46aa",
   "metadata": {},
   "outputs": [],
   "source": [
    "HNL_mass = 150\n",
    "selection = sample_dict[HNL_mass].loc[(sample_dict[HNL_mass]['n_pfps'] == 2)]\n",
    "\n",
    "print(len(selection))"
   ]
  },
  {
   "cell_type": "markdown",
   "id": "9d309e3d-2b11-4d3d-bb36-ef85e16417c0",
   "metadata": {},
   "source": [
    "# Plotting variables before preselection"
   ]
  },
  {
   "cell_type": "code",
   "execution_count": null,
   "id": "837d5b44-7f5f-4e66-9e90-ef52693eb0f8",
   "metadata": {},
   "outputs": [],
   "source": [
    "#Want to have arrows drawn on for where the preselection cut goes\n",
    "HNL_mass = 200 #only plotting one at a time\n",
    "variable = \"crtveto\"\n",
    "samples = {\"overlay\":overlay_from_pkl,\n",
    "           \"dirtoverlay\":dirt_from_pkl,\n",
    "           \"beamoff\":EXT_from_pkl,\n",
    "           \"signal\":signal_samples_dict[HNL_mass]}\n",
    "samples.update(signal_samples_dict)\n",
    "if Run == \"run1\":\n",
    "    sample_norms = {\"overlay\":Constants.SF_overlay_run1,\n",
    "           \"dirtoverlay\":Constants.SF_dirt_run1,\n",
    "           \"beamoff\":Constants.SF_EXT_run1,\n",
    "           \"signal\":Constants.run1_POT_scaling_dict[HNL_mass]}\n",
    "elif Run == \"run3\":\n",
    "    sample_norms = {\"overlay\":Constants.SF_overlay_run3,\n",
    "           \"dirtoverlay\":Constants.SF_dirt_run3,\n",
    "           \"beamoff\":Constants.SF_EXT_run3,\n",
    "           \"signal\":Constants.run3_POT_scaling_dict[HNL_mass]}\n",
    "    \n",
    "PT.HNL_scaling_calculator(samples,sample_norms)\n"
   ]
  },
  {
   "cell_type": "code",
   "execution_count": null,
   "id": "7a291213-0d57-49d0-8847-1786c1d96972",
   "metadata": {},
   "outputs": [],
   "source": [
    "for sample in samples:\n",
    "    print(sample)"
   ]
  },
  {
   "cell_type": "code",
   "execution_count": null,
   "id": "e880ae71-5c5c-4612-b3af-5e223db72893",
   "metadata": {},
   "outputs": [],
   "source": [
    "PT.Plot_preselection_variable(variable, samples, sample_norms, xlabel=[],xlims=[0,2],bins=2, HNL_mass=HNL_mass,HNLplotscale=30000,cutline=1.0)\n",
    "# plt.axvline(x=16.5, lw=3, color='green', linestyle = 'dashed')\n",
    "\n",
    "#plt.savefig(\"plots/Preselection_variables/\" + Run + \"_\" + str(HNL_mass) + \"_MeV_\" + str(variable)+\".png\")"
   ]
  },
  {
   "cell_type": "markdown",
   "id": "b14a4f17-2fbf-48f5-8c43-3426188b7972",
   "metadata": {},
   "source": [
    "## Plot only signal samples before preselection"
   ]
  },
  {
   "cell_type": "code",
   "execution_count": null,
   "id": "c60c019e-80e7-4135-ae43-58975a81c68a",
   "metadata": {},
   "outputs": [],
   "source": [
    "#Need a new plotting function for this\n",
    "print(overlay_from_pkl.keys())\n",
    "print()\n",
    "print(EXT_from_pkl.keys())"
   ]
  },
  {
   "cell_type": "markdown",
   "id": "e7bb6189-be86-4801-92ff-15456bc75f3e",
   "metadata": {},
   "source": [
    "# Pre-selection cuts"
   ]
  },
  {
   "cell_type": "code",
   "execution_count": null,
   "id": "26a5529f-5afd-485e-971b-dc786ea29e76",
   "metadata": {},
   "outputs": [],
   "source": [
    "def Preselection_weighted_efficiency(samples, cut_dict, Efficiency_dict, Preselected): #Need to account for weigthing in overlay and dirt samples\n",
    "    for sample in samples:\n",
    "        if sample == \"overlay\" or sample == \"dirtoverlay\":\n",
    "            weight = samples[sample][\"weight\"]\n",
    "            NumEvs = sum(weight)\n",
    "        else:\n",
    "            NumEvs = len(samples[sample])\n",
    "        \n",
    "        effic_list = [1.0]\n",
    "        for cut in cut_dict.keys():\n",
    "            samples[sample]=samples[sample].query(cut_dict[cut])\n",
    "            if sample == \"overlay\" or sample == \"dirtoverlay\":\n",
    "                weight = samples[sample][\"weight\"]\n",
    "                Num_selected = sum(weight)\n",
    "            else:\n",
    "                Num_selected = len(samples[sample])\n",
    "            effic_list.append(Num_selected/NumEvs)\n",
    "        Efficiency_dict[sample]=effic_list\n",
    "        #samples.update()\n",
    "        Selected = samples[sample].copy()\n",
    "        placeholder_dict = {sample:Selected}\n",
    "        Preselected.update(placeholder_dict) \n",
    "    "
   ]
  },
  {
   "cell_type": "code",
   "execution_count": null,
   "id": "0720d6ec-5372-4e4e-8569-4e3e751abfec",
   "metadata": {},
   "outputs": [],
   "source": [
    "#Make cuts on signal\n",
    "if Run == \"run1\": \n",
    "    if FLATTEN == True:\n",
    "        Preselection_dict = Constants.Preselection_dict #Have also saved this in Constants.py, it is also here in case I want to add to or edit the cuts\n",
    "    else:\n",
    "        Preselection_dict = Constants.Preselection_dict_for_plot\n",
    "elif Run == \"run3\":\n",
    "    if FLATTEN == True:\n",
    "        Preselection_dict = Constants.Preselection_dict\n",
    "    else:\n",
    "        Preselection_dict = Constants.Preselection_dict_for_plot\n",
    "    Preselection_dict.update(Constants.Preselection_dict_crtveto) #Adding crtveto cut\n",
    "    \n",
    "print(\"Preselection is:\" + \"\\n\")\n",
    "print(Preselection_dict)\n",
    "print()\n",
    "\n",
    "#\"Containment\":\"\"\n",
    "#\"n_track\":\"n_track < 5\"\n",
    "#\"shr_energy_tot\":\"shr_energy_tot < 1.0\"\n",
    "#\"trk_len\":\"trk_len < 50.0\"\n",
    "\n",
    "#print(Signal_run1.numentries)\n",
    "print(\"Numbers of rows in dataframes BEFORE Preselection:\")\n",
    "print(\"Overlay file has \" + str(len(overlay_from_pkl)))\n",
    "print(\"Dirt file has \" + str(len(dirt_from_pkl)))\n",
    "print(\"EXT file has \" + str(len(EXT_from_pkl)))\n",
    "#print(len(signal_from_pkl))\n",
    "\n"
   ]
  },
  {
   "cell_type": "code",
   "execution_count": null,
   "id": "f79afe45-a6f0-43d7-88a7-aece7a19a4aa",
   "metadata": {},
   "outputs": [],
   "source": [
    "#Make cuts on bkg\n",
    "# Preselection_efficiency_overlay = [1.0]\n",
    "# Preselection_efficiency_dirt = [1.0]\n",
    "# Preselection_efficiency_EXT = [1.0]\n",
    "\n",
    "# Preselection_signal_max = []\n",
    "# Preselection_signal_min = []\n",
    "\n",
    "# Preselection_efficiency_signal_dict = {}\n",
    "# for HNL_mass in HNL_masses:\n",
    "#     Preselection_efficiency_signal_dict[HNL_mass] = [1.0]\n",
    "\n",
    "# Selected_signal_from_pkl_dict = {}\n",
    "\n",
    "    \n",
    "# Selected_overlay_from_pkl = Preselection_with_list(overlay_from_pkl, Preselection_dict, Preselection_efficiency_overlay)\n",
    "# Selected_dirt_from_pkl = Preselection_with_list(dirt_from_pkl, Preselection_dict, Preselection_efficiency_dirt)\n",
    "# Selected_EXT_from_pkl = Preselection_with_list(EXT_from_pkl, Preselection_dict, Preselection_efficiency_EXT)\n",
    "\n",
    "# for HNL_mass in HNL_masses:\n",
    "#     Selected_signal_from_pkl_dict[HNL_mass] = Preselection_with_list(signal_samples_dict[HNL_mass], Preselection_dict, Preselection_efficiency_signal_dict[HNL_mass])\n",
    "\n",
    "# print(\"AFTER Preselection:\")\n",
    "# print(\"Overlay .pkl is \"+str(len(Selected_overlay_from_pkl))+\" entries long.\")\n",
    "# print(\"Dirt .pkl is \"+str(len(Selected_dirt_from_pkl))+\" entries long.\")\n",
    "# print(\"EXT .pkl is \"+str(len(Selected_EXT_from_pkl))+\" entries long.\")\n",
    "\n",
    "# for HNL_mass in HNL_masses:\n",
    "#     print(f\"{HNL_mass}MeV Signal .pkl is \"+str(len(Selected_signal_from_pkl_dict[HNL_mass]))+\" entries long.\")\n",
    "\n",
    "Efficiency_dict = {}\n",
    "Preselected_dict = {}\n",
    "    \n",
    "Preselection_weighted_efficiency(samples, Preselection_dict, Efficiency_dict, Preselected_dict)\n",
    "\n",
    "print(Efficiency_dict)"
   ]
  },
  {
   "cell_type": "code",
   "execution_count": null,
   "id": "ea36b550-29c1-4362-a73e-5a4eb36adaac",
   "metadata": {},
   "outputs": [],
   "source": [
    "#Working out the maximum and minimum efficiencies for signal \"band\"\n",
    "Preselection_signal_max = []\n",
    "Preselection_signal_min = []\n",
    "\n",
    "max_presel_effic = 0.0\n",
    "min_presel_effic = 1.0\n",
    "# for i in range(len(Preselection_dict)+1):\n",
    "#     for HNL_mass in HNL_masses:\n",
    "#         if Preselection_efficiency_signal_dict[HNL_mass][i] > max_presel_effic:\n",
    "#             max_presel_effic = Preselection_efficiency_signal_dict[HNL_mass][i]\n",
    "#         if Preselection_efficiency_signal_dict[HNL_mass][i] < min_presel_effic:\n",
    "#             min_presel_effic = Preselection_efficiency_signal_dict[HNL_mass][i]\n",
    "#     Preselection_signal_max.append(max_presel_effic)\n",
    "#     Preselection_signal_min.append(min_presel_effic)\n",
    "#     max_presel_effic = 0.0\n",
    "    \n",
    "for i in range(len(Preselection_dict)+1):\n",
    "    for HNL_mass in HNL_masses:\n",
    "        if Efficiency_dict[HNL_mass][i] > max_presel_effic:\n",
    "            max_presel_effic = Efficiency_dict[HNL_mass][i]\n",
    "        if Efficiency_dict[HNL_mass][i] < min_presel_effic:\n",
    "            min_presel_effic = Efficiency_dict[HNL_mass][i]\n",
    "    Preselection_signal_max.append(max_presel_effic)\n",
    "    Preselection_signal_min.append(min_presel_effic)\n",
    "    max_presel_effic = 0.0"
   ]
  },
  {
   "cell_type": "code",
   "execution_count": null,
   "id": "74b5bd2f-3094-4f30-b380-03ebc1429158",
   "metadata": {},
   "outputs": [],
   "source": [
    "print(Preselection_signal_max)\n",
    "print(Preselection_signal_min)"
   ]
  },
  {
   "cell_type": "markdown",
   "id": "35f5d821-32b8-4c08-a33d-ff324a36a86b",
   "metadata": {},
   "source": [
    "# Save pkls"
   ]
  },
  {
   "cell_type": "code",
   "execution_count": null,
   "id": "d9bf223e-63b2-4f36-8a50-67110f9d48fb",
   "metadata": {},
   "outputs": [],
   "source": [
    "print_vals = input(\"Do you want to save the pickle files? y/n \")\n",
    "if print_vals == \"y\":\n",
    "    loc_pkls = f\"pkl_files/{Run}/current_files/\"\n",
    "\n",
    "    print(f\"Saving {Run} Preselected overlay .pkl\")\n",
    "    Selected_overlay_from_pkl.to_pickle(loc_pkls+f\"Preselected_overlay_{Run}_my_vars_flattened.pkl\")\n",
    "\n",
    "    print(f\"Saving {Run} Preselected dirt .pkl\")\n",
    "    Selected_dirt_from_pkl.to_pickle(loc_pkls+f\"Preselected_dirt_{Run}_my_vars_flattened.pkl\")\n",
    "\n",
    "    print(f\"Saving {Run} Preselected EXT .pkl\")\n",
    "    Selected_EXT_from_pkl.to_pickle(loc_pkls+f\"Preselected_EXT_{Run}_my_vars_flattened.pkl\")\n",
    "    for HNL_mass in HNL_masses:\n",
    "        print(f\"Saving {Run} Preselected {HNL_mass}MeV signal .pkl\")\n",
    "        Selected_signal_from_pkl_dict[HNL_mass].to_pickle(loc_pkls+f\"Preselected_signal_{HNL_mass}MeV_{Run}_my_vars_flattened.pkl\")\n",
    "else:\n",
    "    print(\"Not saving pickle files, move onto next cell\")"
   ]
  },
  {
   "cell_type": "markdown",
   "id": "fd34a0f6-66ac-43df-ba9d-4481a1f4c237",
   "metadata": {},
   "source": [
    "# Plotting Efficiencies"
   ]
  },
  {
   "cell_type": "code",
   "execution_count": null,
   "id": "65ee24e5-a1c8-46ee-8aaa-86a48b791633",
   "metadata": {},
   "outputs": [],
   "source": [
    "#Signal-only efficiencies\n",
    "plt.figure(figsize=[10,10])\n",
    "#print(Preselection_efficiency_signal_dict)\n",
    "#print(len(Preselection_efficiency_signal_dict[HNL_mass]))\n",
    "# for HNL_mass in HNL_masses:\n",
    "#     plt.plot(np.array(range(1, len(Preselection_efficiency_signal_dict[HNL_mass])+1)), Preselection_efficiency_signal_dict[HNL_mass], label=f\"{HNL_mass} MeV HNL\",lw=4,markersize=15)\n",
    "#plt.plot(np.array(range(1, len(Preselection_efficiency_overlay)+1)),Preselection_efficiency_signal,label=\"100 MeV HNL\",lw=4,markersize=15)\n",
    "\n",
    "\n",
    "# plt.plot(np.array(range(1, len(Preselection_efficiency_overlay)+1)),Preselection_efficiency_overlay,label=f\"MC {Run} overlay\",color='peru',lw=4,markersize=15)\n",
    "# plt.plot(np.array(range(1, len(Preselection_efficiency_overlay)+1)),Preselection_efficiency_dirt,label=f\"MC {Run} dirt\",color=\"darkorange\",lw=4,markersize=15)\n",
    "# plt.plot(np.array(range(1, len(Preselection_efficiency_overlay)+1)),Preselection_efficiency_EXT,label=f\"{Run} EXT\",color='deepskyblue',lw=4,markersize=15)\n",
    "# plt.plot(np.array(range(1, len(Preselection_efficiency_signal_dict[HNL_mass])+1)),Preselection_signal_max,color=\"darkred\",lw=4,marker=\"\")\n",
    "# plt.plot(np.array(range(1, len(Preselection_efficiency_signal_dict[HNL_mass])+1)),Preselection_signal_min,color=\"darkred\",lw=4,marker=\"\")\n",
    "# plt.fill_between(np.array(range(1, len(Preselection_efficiency_signal_dict[HNL_mass])+1)),Preselection_signal_min,Preselection_signal_max,label=f\"Signal {Run} (Range)\",color=\"red\")\n",
    "# plt.ylabel(\"Fraction Selected\")\n",
    "# plt.xticks(np.array(range(1, len(Preselection_efficiency_signal_dict[HNL_mass])+1)),[\"Full sample\"]+list(Preselection_dict.keys()),rotation=80)\n",
    "# #plt.yscale(\"log\")\n",
    "# plt.legend()\n",
    "\n",
    "plotting_effic_dict = {'overlay':Efficiency_dict['overlay'], 'dirtoverlay':Efficiency_dict['dirtoverlay'],\n",
    "                      'beamoff':Efficiency_dict['beamoff']}\n",
    "plotting_effic_colours = {'overlay':'peru', 'dirtoverlay':'darkorange',\n",
    "                      'beamoff':'deepskyblue'}\n",
    "#, 'signal_max':Preselection_signal_max, 'signal_min':Preselection_signal_min}\n",
    "\n",
    "log = True\n",
    "\n",
    "if log == True:\n",
    "    logscale=\"log\"\n",
    "elif log == False:\n",
    "    logscale=\"linear\"\n",
    "\n",
    "for effic in plotting_effic_dict:\n",
    "    #Efficiency_dict[effic]\n",
    "    plt.plot(np.array(range(1, len(Efficiency_dict[effic])+1)),Efficiency_dict[effic],label=f\"{Run} {effic}\",color=plotting_effic_colours[effic],lw=4,markersize=15)\n",
    "\n",
    "plt.plot(np.array(range(1, len(Efficiency_dict[effic])+1)),Preselection_signal_max,color=\"darkred\",lw=4,marker=\"\")\n",
    "plt.plot(np.array(range(1, len(Efficiency_dict[effic])+1)),Preselection_signal_min,color=\"darkred\",lw=4,marker=\"\")\n",
    "plt.fill_between(np.array(range(1, len(Efficiency_dict[effic])+1)),Preselection_signal_min,Preselection_signal_max,label=f\"Signal {Run} (Range)\",color=\"red\")\n",
    "plt.ylabel(\"Fraction Selected\")\n",
    "plt.xticks(np.array(range(1, len(Efficiency_dict['overlay'])+1)),[\"Full sample\"]+list(Preselection_dict.keys()),rotation=80)\n",
    "plt.yscale(logscale)\n",
    "plt.legend()\n",
    "\n",
    "save_fig = input(\"Do you want to save the figure? y/n \")\n",
    "\n",
    "if save_fig == 'y':\n",
    "    plt.savefig(\"plots/Preselection_efficiencies/\" + Run + \"_\" + Flat_state + \"_\" + logscale + \".png\")"
   ]
  },
  {
   "cell_type": "code",
   "execution_count": null,
   "id": "bd2f09b5-cb7f-4bef-a847-01337447a5a4",
   "metadata": {},
   "outputs": [],
   "source": [
    "#Plotting efficiency\n",
    "plt.figure(figsize=[10,10])\n",
    "plt.plot(np.array(range(1, len(Preselection_efficiency_signal)+1)),Preselection_efficiency_signal,label=\"100 MeV HNL\",lw=4,markersize=15)\n",
    "plt.plot(np.array(range(1, len(Preselection_efficiency_signal)+1)),Preselection_efficiency_overlay,label=\"MC run1 overlay\",lw=4,markersize=15)\n",
    "plt.plot(np.array(range(1, len(Preselection_efficiency_signal)+1)),Preselection_efficiency_dirt,label=\"MC run1 dirt\",lw=4,markersize=15)\n",
    "plt.plot(np.array(range(1, len(Preselection_efficiency_signal)+1)),Preselection_efficiency_EXT,label=\"MC run1 EXT\",lw=4,markersize=15)\n",
    "plt.ylabel(\"Fraction Selected\")\n",
    "plt.xticks(np.array(range(1, len(Preselection_efficiency_signal)+1)),[\"Full sample\"]+list(Preselection_dict.keys()),rotation=80)\n",
    "#plt.yscale(\"log\")\n",
    "plt.legend()\n",
    "\n",
    "print(Preselection_efficiency_signal)\n"
   ]
  },
  {
   "cell_type": "markdown",
   "id": "48699806-e055-4a8d-86cb-b31fb89b838d",
   "metadata": {},
   "source": [
    "# Testing code"
   ]
  },
  {
   "cell_type": "code",
   "execution_count": null,
   "id": "d3f5cb1e-1eac-44f7-bffb-1a2763bb092e",
   "metadata": {},
   "outputs": [],
   "source": [
    "#Testing what the variables look like\n",
    "variable = \"dvtx_x_boundary\"\n",
    "def test_variables(df):\n",
    "    test_signal = df[variable]\n",
    "    print(type(test_signal))\n",
    "    print(len(test_signal))\n",
    "test_variables(df_overlay_run1)\n",
    "test_variables(df_dirt_run1)\n",
    "test_variables(df_EXT_run1)\n",
    "test_variables(df_signal_run1)"
   ]
  },
  {
   "cell_type": "code",
   "execution_count": null,
   "id": "e0dfbbaf-e500-45f4-8f8f-c370f8615d6d",
   "metadata": {},
   "outputs": [],
   "source": [
    "#Single variables\n",
    "plt.rcParams.update({'font.size': 22})\n",
    "\n",
    "plot_variable = \"n_showers\"\n",
    "range_list=[0,10]\n",
    "\n",
    "Plot_one_variable(df_signal_run1, df_overlay_run1, plot_variable, 10, range_list, False) #With range\n",
    "#Plot_one_variable(df_signal_run1, df_NuMI_MC_overlay_pdra_run1, plot_variable, None, loghist=False) #Without range"
   ]
  },
  {
   "cell_type": "code",
   "execution_count": null,
   "id": "057e26b6",
   "metadata": {},
   "outputs": [],
   "source": [
    "#print(overlay_from_pkl['nslice'])\n",
    "#print(\"Flat Overlay .pkl is \"+str(len(FLAT_overlay_from_pkl))+\" entries long.\")\n",
    "\n",
    "print(\"-----Unflattened-----\")\n",
    "unique_var = overlay_from_pkl[\"nslice\"].unique()\n",
    "print(unique_var)\n",
    "unique_var = overlay_from_pkl[\"n_pfps\"].unique()\n",
    "print(unique_var)\n",
    "print(overlay_from_pkl[\"n_pfps\"])\n",
    "print(type(overlay_from_pkl[\"n_pfps\"][0]))\n",
    "\n",
    "# for var in overlay_from_pkl.keys():\n",
    "#     if type(overlay_from_pkl[var][1]) == \"numpy.ndarray\":\n",
    "#         print(var)\n",
    "\n",
    "# print(\"-----Flattened-----\")\n",
    "# unique_var = FLAT_overlay_from_pkl[\"nslice\"].unique()\n",
    "# print(unique_var)\n",
    "# unique_var = FLAT_overlay_from_pkl[\"n_pfps\"].unique()\n",
    "# print(unique_var)\n",
    "# print(FLAT_overlay_from_pkl[\"n_pfps\"])\n",
    "# print(type(FLAT_overlay_from_pkl[\"n_pfps\"]))"
   ]
  }
 ],
 "metadata": {
  "kernelspec": {
   "display_name": "Python 3 (ipykernel)",
   "language": "python",
   "name": "python3"
  },
  "language_info": {
   "codemirror_mode": {
    "name": "ipython",
    "version": 3
   },
   "file_extension": ".py",
   "mimetype": "text/x-python",
   "name": "python",
   "nbconvert_exporter": "python",
   "pygments_lexer": "ipython3",
   "version": "3.7.12"
  }
 },
 "nbformat": 4,
 "nbformat_minor": 5
}
