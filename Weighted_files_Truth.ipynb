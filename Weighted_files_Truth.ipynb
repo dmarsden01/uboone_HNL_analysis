{
 "cells": [
  {
   "cell_type": "code",
   "execution_count": 1,
   "id": "8ab81f70",
   "metadata": {},
   "outputs": [
    {
     "name": "stdout",
     "output_type": "stream",
     "text": [
      "Welcome to JupyROOT 6.24/06\n",
      "Success\n"
     ]
    }
   ],
   "source": [
    "import os,sys,string, time\n",
    "import ROOT\n",
    "from math import *\n",
    "from ROOT import gPad, TTree, TObject, TFile, gDirectory, TH1D, TH2D, TH3D, TCanvas, gROOT, TGaxis, gStyle, TColor, TLegend, THStack, TChain, TLatex, TText, TCollection, kRed, kBlue\n",
    "from array import array\n",
    "import matplotlib.pyplot as plt\n",
    "import numpy as np\n",
    "import uproot\n",
    "import pandas as pd\n",
    "from root_pandas import read_root\n",
    "from platform import python_version\n",
    "import scipy\n",
    "from scipy import stats\n",
    "import uproot3\n",
    "import math\n",
    "from matplotlib.patches import Rectangle\n",
    "from particle import Particle\n",
    "\n",
    "import Utilities.Functions as Functions\n",
    "import Utilities.Plotter as PT\n",
    "import Utilities.Constants as Constants\n",
    "import Utilities.Variables_list as Variables\n",
    "from Utilities.ipython_exit import exit\n",
    "\n",
    "print ('Success')\n"
   ]
  },
  {
   "cell_type": "markdown",
   "id": "ca34c6d3-2ee8-4df7-8c15-4da5b588302f",
   "metadata": {},
   "source": [
    "# Purpose\n",
    "The purpose of this script is to look at the kinematics of the various samples before and after selections. It should be able to inform decisions made in the full analysis chain. \n",
    "\n",
    "The kinematics vary signficantly between different masses of HNL, this script should make plots which give insight into those differences."
   ]
  },
  {
   "cell_type": "markdown",
   "id": "775a3504-392d-4b23-a225-0db439fcb0f5",
   "metadata": {},
   "source": [
    "# Reading in .pkl files"
   ]
  },
  {
   "cell_type": "code",
   "execution_count": 3,
   "id": "2d368690",
   "metadata": {},
   "outputs": [
    {
     "name": "stdout",
     "output_type": "stream",
     "text": [
      "Loading run1 files\n",
      "2MeV Signal is 43100 entries long.\n",
      "10MeV Signal is 48550 entries long.\n",
      "100MeV Signal is 48600 entries long.\n",
      "150MeV Signal is 45700 entries long.\n",
      "245MeV Signal is 35550 entries long.\n",
      "Successfully loaded run1 weighted files\n"
     ]
    }
   ],
   "source": [
    "Run = \"run1\" #so far either \"run1\" or \"run3\"\n",
    "\n",
    "load_lepton_signal = True\n",
    "load_pi0_signal = False\n",
    "\n",
    "FLATTEN = False #Mostly put as False\n",
    "\n",
    "print(f\"Loading {Run} files\")\n",
    "\n",
    "loc_pkls = f\"../new_scalings/negwt_fix/\"\n",
    "\n",
    "signal_samples_dict = {}\n",
    "\n",
    "HNL_masses = [2, 10, 100, 150, 245]\n",
    "# HNL_masses = Constants.HNL_mass_samples\n",
    "variables = \"*\"\n",
    "\n",
    "if load_lepton_signal == True:\n",
    "    for HNL_mass in HNL_masses:\n",
    "        # signal_from_pkl = pd.read_pickle(loc_pkls+f\"signal_{HNL_mass}MeV_{Run}_{variables_string}_{Flat_state}_New_gen.pkl\")\n",
    "        uproot_file = uproot3.open(loc_pkls+f\"{HNL_mass}MeV_ee_ONLY_fhc_dirac_negwt_fix.root\")[\"generator/event_tree\"]\n",
    "        df_signal = uproot_file.pandas.df(variables, flatten=FLATTEN)\n",
    "        signal_samples_dict[HNL_mass] = df_signal\n",
    "        print(f\"{HNL_mass}MeV Signal is \"+str(len(signal_samples_dict[HNL_mass]))+\" entries long.\")\n",
    "    \n",
    "if load_pi0_signal == True:\n",
    "    pi0_signal_samples_dict = {}\n",
    "    loc_pkls = f\"../new_scalings/negwt_fix/\"\n",
    "    for HNL_mass in Constants.HNL_mass_pi0_samples:\n",
    "        # uproot_file = uproot3.open(loc_pkls+f\"{HNL_mass}MeV_pi0_fhc_majorana_fixed.root\")[\"generator/event_tree\"]\n",
    "        uproot_file = uproot3.open(loc_pkls+f\"{HNL_mass}MeV_pi0_fhc_majorana_negwt_fix.root\")[\"generator/event_tree\"]\n",
    "        df_signal = uproot_file.pandas.df(variables, flatten=FLATTEN)\n",
    "        signal_samples_dict[HNL_mass] = df_signal\n",
    "        print(f\"{HNL_mass}MeV pi0 signal is \"+str(len(signal_samples_dict[HNL_mass]))+\" entries long.\")\n",
    "        \n",
    "print(f\"Successfully loaded {Run} weighted files\")"
   ]
  },
  {
   "cell_type": "code",
   "execution_count": 4,
   "id": "b9335175-ff28-47b2-beaf-8715e8b949bf",
   "metadata": {},
   "outputs": [
    {
     "data": {
      "text/plain": [
       "Index(['kaon_mom_x', 'kaon_mom_y', 'kaon_mom_z', 'kaon_energy', 'kaon_decay_x',\n",
       "       'kaon_decay_y', 'kaon_decay_z', 'kaon_decay_t', 'hnl_mom_x',\n",
       "       'hnl_mom_y', 'hnl_mom_z', 'hnl_energy', 'hnl_decay_x', 'hnl_decay_y',\n",
       "       'hnl_decay_z', 'hnl_decay_t', 'daughter1_mom_x', 'daughter1_mom_y',\n",
       "       'daughter1_mom_z', 'daughter1_energy', 'daughter2_mom_x',\n",
       "       'daughter2_mom_y', 'daughter2_mom_z', 'daughter2_energy', 'weight',\n",
       "       'flux_weight', 'decay_weight', 'branching_ratio_weight', 'selected',\n",
       "       'kaon_pdg', 'daughter1_pdg', 'daughter2_pdg'],\n",
       "      dtype='object')"
      ]
     },
     "execution_count": 4,
     "metadata": {},
     "output_type": "execute_result"
    }
   ],
   "source": [
    "signal_samples_dict[150].keys()"
   ]
  },
  {
   "cell_type": "code",
   "execution_count": null,
   "id": "01096657-edcd-4bdb-8fc6-02f08bde9f94",
   "metadata": {},
   "outputs": [],
   "source": [
    "eleven = Particle.from_pdgid(11)\n",
    "twelve = Particle.from_pdgid(12)\n",
    "thirteen = Particle.from_pdgid(13)\n",
    "fourteen = Particle.from_pdgid(14)\n",
    "one_one_one = Particle.from_pdgid(111)\n",
    "\n",
    "print(\"eleven is \" + str(eleven))\n",
    "print(\"twelve is \" + str(twelve))\n",
    "print(\"thirteen is \" + str(thirteen))\n",
    "print(\"fourteen is \" + str(fourteen))\n",
    "print(one_one_one)"
   ]
  },
  {
   "cell_type": "code",
   "execution_count": 5,
   "id": "e5ff221e-0aba-4ee6-a848-4f86c6701506",
   "metadata": {},
   "outputs": [
    {
     "name": "stdout",
     "output_type": "stream",
     "text": [
      "FLAT 2MeV Signal is 49850 entries long.\n",
      "FLAT 10MeV Signal is 49600 entries long.\n",
      "FLAT 100MeV Signal is 49250 entries long.\n",
      "FLAT 150MeV Signal is 49950 entries long.\n",
      "FLAT 245MeV Signal is 49650 entries long.\n"
     ]
    }
   ],
   "source": [
    "FLATTEN = True\n",
    "\n",
    "flat_samples_dict = {}\n",
    "\n",
    "#Loading files for filtering ee events\n",
    "if load_lepton_signal == True:\n",
    "    for HNL_mass in HNL_masses:\n",
    "        uproot_file = uproot3.open(loc_pkls+f\"{HNL_mass}MeV_ee_ONLY_fhc_majorana_negwt_fix.root\")[\"generator/event_tree\"]\n",
    "        df_signal = uproot_file.pandas.df(variables, flatten=FLATTEN)\n",
    "        flat_samples_dict[HNL_mass] = df_signal\n",
    "        print(f\"FLAT {HNL_mass}MeV Signal is \"+str(len(flat_samples_dict[HNL_mass]))+\" entries long.\")\n",
    "    \n",
    "if load_pi0_signal == True:\n",
    "    for HNL_mass in Constants.HNL_mass_pi0_samples:\n",
    "        # uproot_file = uproot3.open(loc_pkls+f\"{HNL_mass}MeV_pi0_fhc_majorana_fixed.root\")[\"generator/event_tree\"]\n",
    "        uproot_file = uproot3.open(loc_pkls+f\"{HNL_mass}MeV_pi0_fhc_majorana_negwt_fix.root\")[\"generator/event_tree\"]\n",
    "        df_signal = uproot_file.pandas.df(variables, flatten=FLATTEN)\n",
    "        flat_samples_dict[HNL_mass] = df_signal\n",
    "        print(f\"FLAT {HNL_mass}MeV Signal is \"+str(len(flat_samples_dict[HNL_mass]))+\" entries long.\")\n",
    "        "
   ]
  },
  {
   "cell_type": "code",
   "execution_count": 6,
   "id": "9f913f14-c6b7-4822-b783-bf01f50cfb8a",
   "metadata": {},
   "outputs": [],
   "source": [
    "for HNL_mass in flat_samples_dict:\n",
    "    signal_samples_dict[HNL_mass][\"rse_id\"] = signal_samples_dict[HNL_mass].index.values\n",
    "    flat_samples_dict[HNL_mass][\"rse_id\"] = flat_samples_dict[HNL_mass].index.values"
   ]
  },
  {
   "cell_type": "markdown",
   "id": "cfb8f275-601c-41dd-9be0-2c29da9e9af6",
   "metadata": {
    "tags": []
   },
   "source": [
    "## Remove e, mu, nu events"
   ]
  },
  {
   "cell_type": "code",
   "execution_count": null,
   "id": "05afb355-2cc8-4613-b998-46c659abbd40",
   "metadata": {},
   "outputs": [],
   "source": [
    "#Make rse_id\n",
    "# for HNL_mass in signal_samples_dict:\n",
    "#     signal_samples_dict[HNL_mass] = Functions.make_unique_ev_id(signal_samples_dict[HNL_mass])\n",
    "#     flat_samples_dict[HNL_mass] = Functions.make_unique_ev_id(flat_samples_dict[HNL_mass])\n"
   ]
  },
  {
   "cell_type": "code",
   "execution_count": null,
   "id": "62d1210f-3c8b-4a93-9598-f1aaba753d8f",
   "metadata": {},
   "outputs": [],
   "source": [
    "flat_samples_dict[245][\"daughter2_pdg\"].head(20)"
   ]
  },
  {
   "cell_type": "code",
   "execution_count": null,
   "id": "39a5050e-9c41-44d5-91e8-59184d26ccae",
   "metadata": {},
   "outputs": [],
   "source": [
    "flat_samples_dict[245][\"daughter1_pdg\"].head(20)"
   ]
  },
  {
   "cell_type": "code",
   "execution_count": 7,
   "id": "3402b43e-c26d-474d-8bb4-68f2ee5149b5",
   "metadata": {},
   "outputs": [
    {
     "name": "stdout",
     "output_type": "stream",
     "text": [
      "Original length is of 2MeV 49850\n",
      "Length is of common events list is 49850\n",
      "Length is of common events list is 0\n",
      "Length is of common events list is 0\n",
      "Length is of common events list is 0\n",
      "Length is of common events list is 0\n",
      "Original length is of 10MeV 49600\n",
      "Length is of common events list is 49600\n",
      "Length is of common events list is 0\n",
      "Length is of common events list is 0\n",
      "Length is of common events list is 0\n",
      "Length is of common events list is 0\n",
      "Original length is of 100MeV 49250\n",
      "Length is of common events list is 49250\n",
      "Length is of common events list is 0\n",
      "Length is of common events list is 0\n",
      "Length is of common events list is 0\n",
      "Length is of common events list is 0\n",
      "Original length is of 150MeV 49950\n",
      "Length is of common events list is 49950\n",
      "Length is of common events list is 0\n",
      "Length is of common events list is 0\n",
      "Length is of common events list is 0\n",
      "Length is of common events list is 0\n",
      "Original length is of 245MeV 49650\n",
      "Length is of common events list is 49650\n",
      "Length is of common events list is 0\n",
      "Length is of common events list is 0\n",
      "Length is of common events list is 0\n",
      "Length is of common events list is 0\n"
     ]
    }
   ],
   "source": [
    "#need pdgs of minus 11 and 11. \n",
    "e_e_evs = {}\n",
    "mu_e_evs = {}\n",
    "mu_plus_e_evs = {}\n",
    "mu_mu_evs = {}\n",
    "mu_nu_mu_bar_evs = {}\n",
    "electrons_dict = {}\n",
    "positrons_dict = {}\n",
    "\n",
    "pi0_dict = {}\n",
    "nu_dict = {}\n",
    "nu_pi0_evs = {}\n",
    "\n",
    "if load_lepton_signal == True:\n",
    "    for HNL_mass in signal_samples_dict:\n",
    "        print(f\"Original length is of {HNL_mass}MeV \" + str(len(flat_samples_dict[HNL_mass])))\n",
    "        positron = flat_samples_dict[HNL_mass].query(\"daughter1_pdg==-11\")\n",
    "        elec = flat_samples_dict[HNL_mass].query(\"daughter2_pdg==11\")\n",
    "        \n",
    "        mu = flat_samples_dict[HNL_mass].query(\"daughter2_pdg==13\")\n",
    "        mu_bar = flat_samples_dict[HNL_mass].query(\"daughter1_pdg==-13 or daughter2_pdg==-13\")\n",
    "        nu_mu_bar = flat_samples_dict[HNL_mass].query(\"daughter1_pdg==-14\")\n",
    "\n",
    "        e_e = Functions.make_common_evs_df([elec, positron])\n",
    "        mu_e = Functions.make_common_evs_df([positron, mu])\n",
    "        mu_plus_e = Functions.make_common_evs_df([mu_bar, elec])\n",
    "        mu_mu = Functions.make_common_evs_df([mu, mu_bar])\n",
    "        mu_nu_mu_bar = Functions.make_common_evs_df([mu_bar, nu_mu_bar])\n",
    "        # mu_mu = Functions.make_common_evs_df([mu, mu_bar, nu_mu_bar])\n",
    "        \n",
    "        e_e_evs[HNL_mass]=e_e\n",
    "        mu_e_evs[HNL_mass]=mu_e\n",
    "        mu_plus_e_evs[HNL_mass]=mu_plus_e\n",
    "        mu_mu_evs[HNL_mass]=mu_mu\n",
    "        mu_nu_mu_bar_evs[HNL_mass]=mu_nu_mu_bar\n",
    "        # print(\"Num ee decays is \" + str(len(common_evs[HNL_mass])*2))\n",
    "    \n",
    "if load_pi0_signal == True: \n",
    "    for HNL_mass in signal_samples_dict:\n",
    "        print(f\"Original length is of FLAT {HNL_mass}MeV \" + str(len(flat_samples_dict[HNL_mass])))\n",
    "        print(f\"Original length is of {HNL_mass}MeV \" + str(len(signal_samples_dict[HNL_mass])))\n",
    "        pi0 = flat_samples_dict[HNL_mass].query(\"daughter1_pdg==111\")\n",
    "        nu = flat_samples_dict[HNL_mass].query(\"daughter2_pdg==-12 or daughter2_pdg==12\")\n",
    "        \n",
    "        positron = flat_samples_dict[HNL_mass].query(\"daughter1_pdg==-11\")\n",
    "        elec = flat_samples_dict[HNL_mass].query(\"daughter2_pdg==11\") \n",
    "        \n",
    "        mu = flat_samples_dict[HNL_mass].query(\"daughter2_pdg==13\")\n",
    "        mu_bar = flat_samples_dict[HNL_mass].query(\"daughter1_pdg==-13 or daughter2_pdg==-13\")\n",
    "        \n",
    "        pi0_dict[HNL_mass] = pi0\n",
    "        nu_dict[HNL_mass] = nu\n",
    "\n",
    "        e_e = Functions.make_common_evs_df([elec, positron])\n",
    "        common = Functions.make_common_evs_df([pi0, nu])\n",
    "        e_mu = Functions.make_common_evs_df([positron, mu])\n",
    "        mu_mu = Functions.make_common_evs_df([mu, mu_bar])\n",
    "        nu_pi0_evs[HNL_mass]=common\n",
    "        e_e_evs[HNL_mass]=e_e\n",
    "        mu_e_evs[HNL_mass] = e_mu\n",
    "        mu_mu_evs[HNL_mass] = mu_mu\n",
    "\n",
    "        print(\"Num pi0 decays is \" + str(len(nu_pi0_evs[HNL_mass])))"
   ]
  },
  {
   "cell_type": "code",
   "execution_count": null,
   "id": "f6b23e02-30c0-4448-acbb-bf7d635c9956",
   "metadata": {},
   "outputs": [],
   "source": [
    "frac_ee, frac_mumu, frac_emu = {}, {}, {}\n",
    "frac_all_mus, frac_all_emus = {}, {}\n",
    "if load_lepton_signal == True:\n",
    "    for HNL_mass in signal_samples_dict:\n",
    "        frac_ee[HNL_mass] = len(e_e_evs[HNL_mass])/len(signal_samples_dict[HNL_mass])\n",
    "        frac_mumu[HNL_mass] = len(mu_mu_evs[HNL_mass])/len(signal_samples_dict[HNL_mass])\n",
    "        frac_emu[HNL_mass] = len(mu_e_evs[HNL_mass])/len(signal_samples_dict[HNL_mass])\n",
    "        frac_all_emus[HNL_mass] = (len(mu_e_evs[HNL_mass])+len(mu_plus_e_evs[HNL_mass]))/len(signal_samples_dict[HNL_mass])\n",
    "        frac_all_mus[HNL_mass] = (len(mu_mu_evs[HNL_mass])+len(mu_nu_mu_bar_evs[HNL_mass]))/len(signal_samples_dict[HNL_mass])\n",
    "        \n",
    "        print(f\"{HNL_mass} emu frac is \" + str(frac_all_emus[HNL_mass]))\n",
    "\n",
    "frac_nu_pi0 = {}\n",
    "frac_nu_pi0_plus_emu = {}\n",
    "frac_nu_pi0_emu_ee = {}\n",
    "if load_pi0_signal == True:\n",
    "    for HNL_mass in signal_samples_dict:\n",
    "        frac_nu_pi0[HNL_mass] = len(nu_pi0_evs[HNL_mass])/len(signal_samples_dict[HNL_mass])\n",
    "        frac_ee[HNL_mass] = len(e_e_evs[HNL_mass])/len(signal_samples_dict[HNL_mass])\n",
    "        frac_emu[HNL_mass] = len(mu_e_evs[HNL_mass])/len(signal_samples_dict[HNL_mass])\n",
    "        frac_mumu[HNL_mass] = len(mu_mu_evs[HNL_mass])/len(signal_samples_dict[HNL_mass])\n",
    "        frac_nu_pi0_plus_emu[HNL_mass] = (len(nu_pi0_evs[HNL_mass]) + len(mu_e_evs[HNL_mass]))/len(signal_samples_dict[HNL_mass])\n",
    "        frac_nu_pi0_emu_ee[HNL_mass] = (len(nu_pi0_evs[HNL_mass]) + len(mu_e_evs[HNL_mass]) + len(e_e_evs[HNL_mass]))/len(signal_samples_dict[HNL_mass])\n",
    "        print(f\"{HNL_mass} nu pi0 frac is \" + str(frac_nu_pi0[HNL_mass]))"
   ]
  },
  {
   "cell_type": "code",
   "execution_count": null,
   "id": "e0a09990-9e0f-4b8e-9689-c885e94b3709",
   "metadata": {},
   "outputs": [],
   "source": [
    "if load_lepton_signal == True:\n",
    "    e_mu_plus_ee, mu_mu_plus_others = {}, {}\n",
    "    for HNL_mass in signal_samples_dict:\n",
    "        e_mu_plus_ee[HNL_mass] =  frac_ee[HNL_mass]+frac_all_emus[HNL_mass]\n",
    "        \n",
    "# if load_pi0_signal == True:\n",
    "#     nu_pi0_plus_others = {}\n",
    "#     for HNL_mass in signal_samples_dict:\n",
    "#         nu_pi0_plus_others[HNL_mass] = "
   ]
  },
  {
   "cell_type": "code",
   "execution_count": null,
   "id": "07298f1d-4fbb-45de-b49d-f81164281211",
   "metadata": {},
   "outputs": [],
   "source": [
    "if load_lepton_signal == True:\n",
    "    x_int_list = range(0, len(frac_ee.keys()))\n",
    "    plt.bar(x_int_list, frac_ee.values(), label=r\"$\\nu e^{+}e^{-}$\", tick_label=list(frac_ee.keys()))\n",
    "    plt.bar(x_int_list, frac_all_emus.values(), label=r\"$\\nu e\\mu$\", tick_label=list(frac_ee.keys()), bottom=list(frac_ee.values()))\n",
    "    plt.bar(x_int_list, frac_all_mus.values(), label=r\"$\\nu \\mu\\mu$\", tick_label=list(frac_ee.keys()),bottom=list(e_mu_plus_ee.values()))\n",
    "\n",
    "    plt.axhline(1.0,ls=\"--\", color=\"black\")\n",
    "    plt.ylabel(\"Fraction of events\")\n",
    "    plt.xlabel(\"HNL mass [MeV]\")\n",
    "    plt.xlim(-0.5, 13)\n",
    "    plt.legend(fontsize=22, loc=\"center right\")\n",
    "    plt.tight_layout()\n",
    "\n",
    "    plt.savefig(\"plots/Generator/channel_fractions_negwt_fix.pdf\")"
   ]
  },
  {
   "cell_type": "code",
   "execution_count": null,
   "id": "b513c47c-c836-4158-b542-a882e423aeff",
   "metadata": {},
   "outputs": [],
   "source": [
    "if load_pi0_signal == True:\n",
    "    x_int_list = range(0, len(frac_nu_pi0.keys()))\n",
    "    plt.bar(x_int_list, frac_nu_pi0.values(), label=r\"$\\nu \\pi^{0}$\", tick_label=list(frac_nu_pi0.keys()))\n",
    "    plt.bar(x_int_list, frac_emu.values(), label=r\"$\\nu e\\mu$\", tick_label=list(frac_ee.keys()), bottom=list(frac_nu_pi0.values()))\n",
    "    plt.bar(x_int_list, frac_ee.values(), label=r\"$\\nu e^{+}e^{-}$\", tick_label=list(frac_ee.keys()), bottom=list(frac_nu_pi0_plus_emu.values()))\n",
    "    plt.bar(x_int_list, frac_mumu.values(), label=r\"$\\mu \\mu$\", tick_label=list(frac_ee.keys()), bottom=list(frac_nu_pi0_emu_ee.values()))\n",
    "\n",
    "    plt.axhline(1.0,ls=\"--\", color=\"black\")\n",
    "    plt.ylabel(\"Fraction of events\")\n",
    "    plt.xlabel(\"HNL mass [MeV]\")\n",
    "    plt.xlim(-0.5, 13)\n",
    "    plt.legend(fontsize=22, loc=\"center right\")\n",
    "    plt.tight_layout()\n",
    "\n",
    "    plt.savefig(\"plots/Generator/channel_fractions_pi0_dirac_scaling_samples.pdf\")"
   ]
  },
  {
   "cell_type": "code",
   "execution_count": null,
   "id": "dd148da5-37c8-41ba-b6d1-7ee4f66ee93e",
   "metadata": {},
   "outputs": [],
   "source": [
    "e_e_evs[HNL_mass][\"rse_id\"].head()"
   ]
  },
  {
   "cell_type": "code",
   "execution_count": null,
   "id": "2020b922-1924-4a41-a67a-c44fa8b67e91",
   "metadata": {},
   "outputs": [],
   "source": [
    "print(len(e_e_evs[245]))"
   ]
  },
  {
   "cell_type": "code",
   "execution_count": 8,
   "id": "828aea3f-f641-4b9f-9910-ddaeeabd4d08",
   "metadata": {},
   "outputs": [
    {
     "name": "stdout",
     "output_type": "stream",
     "text": [
      "0\n"
     ]
    }
   ],
   "source": [
    "filtered_dict, filtered_out_dict = {}, {}\n",
    "\n",
    "if load_lepton_signal == True:\n",
    "    for HNL_mass in signal_samples_dict:\n",
    "        filtered_dict[HNL_mass] = signal_samples_dict[HNL_mass].loc[(signal_samples_dict[HNL_mass]['rse_id'].isin(e_e_evs[HNL_mass]['rse_id']))]\n",
    "        filtered_out_dict[HNL_mass] = signal_samples_dict[HNL_mass].loc[(~signal_samples_dict[HNL_mass]['rse_id'].isin(e_e_evs[HNL_mass]['rse_id']))]\n",
    "    \n",
    "if load_pi0_signal == True:\n",
    "    for HNL_mass in signal_samples_dict:\n",
    "        filtered_dict[HNL_mass] = flat_samples_dict[HNL_mass].loc[(flat_samples_dict[HNL_mass]['rse_id'].isin(nu_pi0_evs[HNL_mass]['rse_id']))]\n",
    "        filtered_out_dict[HNL_mass] = flat_samples_dict[HNL_mass].loc[(~flat_samples_dict[HNL_mass]['rse_id'].isin(nu_pi0_evs[HNL_mass]['rse_id']))]\n",
    "    \n",
    "print(len(filtered_out_dict[150]))"
   ]
  },
  {
   "cell_type": "code",
   "execution_count": 9,
   "id": "2e6e90a7-0c51-4c0c-9bdb-e16224bf0adb",
   "metadata": {},
   "outputs": [],
   "source": [
    "filtered_index_dict = {}\n",
    "for HNL_mass in signal_samples_dict:\n",
    "    filtered_index_dict[HNL_mass] = filtered_dict[HNL_mass].index\n"
   ]
  },
  {
   "cell_type": "code",
   "execution_count": null,
   "id": "e679d0ba-fd42-463f-a87e-713f90784ec2",
   "metadata": {},
   "outputs": [],
   "source": [
    "Num_evs = len(signal_samples_dict[2])\n",
    "print(Num_evs)\n",
    "entries = np.arange(0, Num_evs,1)\n",
    "print(entries)"
   ]
  },
  {
   "cell_type": "markdown",
   "id": "caeb5954-d3de-496f-9328-775df46809e3",
   "metadata": {
    "tags": []
   },
   "source": [
    "## Creating new variables"
   ]
  },
  {
   "cell_type": "code",
   "execution_count": null,
   "id": "0e592a88-8543-4f25-adc2-a205bb4aeee8",
   "metadata": {},
   "outputs": [],
   "source": [
    "signal_samples_dict[150].keys()"
   ]
  },
  {
   "cell_type": "code",
   "execution_count": 10,
   "id": "0f844f42-f6b9-49b4-af83-1b755f7d8352",
   "metadata": {},
   "outputs": [],
   "source": [
    "av_HNL_direction = [0.324,0.738,-0.591]\n",
    "\n",
    "def Make_new_variables(df, entries=[]): #For unflattened dfs\n",
    "    if isinstance(entries,list): \n",
    "        Num_evs = len(df)\n",
    "        entries_it = np.arange(0, Num_evs,1)\n",
    "    else: entries_it = entries\n",
    "    # Num_evs = len(df)\n",
    "    mc_p_magnitude = []\n",
    "    mc_px_sum, mc_py_sum, mc_pz_sum = [], [], []\n",
    "    mc_E_leading, mc_E_sub, mc_E_asymmetry = [], [], []\n",
    "    mc_cos_opening_angle, mc_opening_angle = [], []\n",
    "    \n",
    "    # for i in range(Num_evs):\n",
    "    for i in entries_it:\n",
    "        mc_p1 = np.sqrt(df['daughter1_mom_x'][i]**2+df['daughter1_mom_y'][i]**2+df['daughter1_mom_z'][i]**2)\n",
    "        mc_p2 = np.sqrt(df['daughter2_mom_x'][i]**2+df['daughter2_mom_y'][i]**2+df['daughter2_mom_z'][i]**2)\n",
    "        mc_p_magnitude.append(np.array([mc_p1,mc_p2]))\n",
    "        mc_px_sum.append(df['daughter1_mom_x'][i]+df['daughter2_mom_x'][i])\n",
    "        mc_py_sum.append(df['daughter1_mom_y'][i]+df['daughter2_mom_y'][i])\n",
    "        mc_pz_sum.append(df['daughter1_mom_z'][i]+df['daughter2_mom_z'][i])\n",
    "        E_leading = max(np.array([df['daughter1_energy'][i],df['daughter2_energy'][i]]))\n",
    "        E_sub = min(np.array([df['daughter1_energy'][i],df['daughter2_energy'][i]]))\n",
    "        mc_E_leading.append(E_leading)\n",
    "        mc_E_sub.append(E_sub)\n",
    "        mc_E_asymmetry.append(E_sub / E_leading)\n",
    "        \n",
    "        dot_product = (df['daughter1_mom_x'][i]*df['daughter2_mom_x'][i] + df['daughter1_mom_y'][i]*df['daughter2_mom_y'][i] + df['daughter1_mom_z'][i]*df['daughter2_mom_z'][i])\n",
    "        magnitude_dot_product = mc_p1*mc_p2\n",
    "        mc_cos_opening_angle.append(dot_product/magnitude_dot_product)\n",
    "        mc_opening_angle.append(np.arccos(dot_product/magnitude_dot_product))\n",
    "        \n",
    "        \n",
    "    df2 = df.copy()\n",
    "    df2[\"mc_px_sum\"], df2[\"mc_py_sum\"], df2[\"mc_pz_sum\"] = np.array(mc_px_sum), np.array(mc_py_sum), np.array(mc_pz_sum)\n",
    "    df2[\"mc_p_magnitude\"] = mc_p_magnitude\n",
    "    df2[\"mc_E_leading\"], df2[\"mc_E_sub\"] = np.array(mc_E_leading), np.array(mc_E_sub)\n",
    "    df2[\"mc_E_asymmetry\"] = np.array(mc_E_asymmetry)\n",
    "    df2[\"mc_cos_opening_angle\"] = np.array(mc_cos_opening_angle)\n",
    "    df2[\"mc_opening_angle\"] = np.array(mc_opening_angle)\n",
    "   \n",
    "    return df2\n",
    "\n",
    "def Make_angle_wrt(df, vector, entries=[]):\n",
    "    \"\"\"\n",
    "    Vector should be a unit vector, for the desired direction. \n",
    "    \"\"\"\n",
    "    if isinstance(entries,list): \n",
    "        Num_evs = len(df)\n",
    "        entries_it = np.arange(0, Num_evs,1)\n",
    "    else: entries_it = entries\n",
    "    # Num_evs = len(df)\n",
    "    \n",
    "    polar_angle = []\n",
    "    # for i in range(Num_evs):\n",
    "    for i in entries_it:\n",
    "        direction = vector[0]*df[\"mc_px_sum\"][i] + vector[1]*df[\"mc_py_sum\"][i] + vector[2]*df[\"mc_pz_sum\"][i] # a dot b\n",
    "        p_sum = np.sqrt(df[\"mc_px_sum\"][i]**2+df[\"mc_py_sum\"][i]**2+df[\"mc_pz_sum\"][i]**2) # magnitude b\n",
    "        polar_angle.append(np.arccos(direction/p_sum))\n",
    "        \n",
    "    df2 = df.copy()\n",
    "    df2[\"mc_polar_angle\"] = np.array(polar_angle)\n",
    "    \n",
    "    return df2\n",
    "\n",
    "def Make_daughter_angle_wrt(df, vector, entries=[]):\n",
    "    \"\"\"\n",
    "    Vector should be a unit vector, for the desired direction. \n",
    "    \"\"\"\n",
    "    if isinstance(entries,list): \n",
    "        Num_evs = len(df)\n",
    "        entries_it = np.arange(0, Num_evs,1)\n",
    "    else: entries_it = entries\n",
    "    # Num_evs = len(df)\n",
    "    \n",
    "    polar_angle_1 = []\n",
    "    polar_angle_2 = []\n",
    "    # for i in range(Num_evs):\n",
    "    for i in entries_it:\n",
    "        direction_1 = vector[0]*df['daughter1_mom_x'][i] + vector[1]*df['daughter1_mom_y'][i] + vector[2]*df['daughter1_mom_z'][i] # a dot b\n",
    "        p_sum_1 = np.sqrt(df['daughter1_mom_x'][i]**2+df['daughter1_mom_y'][i]**2+df['daughter1_mom_z'][i]**2) # magnitude b\n",
    "        \n",
    "        direction_2 = vector[0]*df['daughter2_mom_x'][i] + vector[1]*df['daughter2_mom_y'][i] + vector[2]*df['daughter2_mom_z'][i] # a dot b\n",
    "        p_sum_2 = np.sqrt(df['daughter2_mom_x'][i]**2+df['daughter2_mom_y'][i]**2+df['daughter2_mom_z'][i]**2) # magnitude b\n",
    "        \n",
    "        polar_angle_1.append(np.arccos(direction_1/p_sum_1))\n",
    "        polar_angle_2.append(np.arccos(direction_2/p_sum_2))\n",
    "        \n",
    "    df2 = df.copy()\n",
    "    df2[\"mc_daughter1_polar_angle\"] = np.array(polar_angle_1)\n",
    "    df2[\"mc_daughter2_polar_angle\"] = np.array(polar_angle_2)\n",
    "    \n",
    "    return df2\n",
    "\n",
    "def Make_single_new_variables(df, rest_mass, entries=[]):\n",
    "    if isinstance(entries,list): \n",
    "        Num_evs = len(df)\n",
    "        entries_it = np.arange(0, Num_evs,1)\n",
    "    else: entries_it = entries\n",
    "    \n",
    "    mc_p_magnitude = []\n",
    "    mc_E_kinetic = []\n",
    "    for i in entries_it:\n",
    "        mc_p = np.sqrt(df['daughter1_mom_x'][i]**2+df['daughter1_mom_y'][i]**2+df['daughter1_mom_z'][i]**2)\n",
    "        mc_E = df['daughter1_energy'][i] - rest_mass\n",
    "        \n",
    "        mc_p_magnitude.append(mc_p)\n",
    "        mc_E_kinetic.append(mc_E)\n",
    "        \n",
    "    df2 = df.copy()\n",
    "    df2[\"mc_p_magnitude\"] = mc_p_magnitude\n",
    "    df2[\"mc_E_kinetic\"] = mc_E_kinetic\n",
    "    \n",
    "    return df2\n",
    "\n",
    "def Make_single_angle(df, vector, entries=[]):\n",
    "    \"\"\"\n",
    "    Vector should be a unit vector, for the desired direction. \n",
    "    \"\"\"\n",
    "    if isinstance(entries,list): \n",
    "        Num_evs = len(df)\n",
    "        entries_it = np.arange(0, Num_evs,1)\n",
    "    else: entries_it = entries\n",
    "    # Num_evs = len(df)\n",
    "    \n",
    "    polar_angle = []\n",
    "    # for i in range(Num_evs):\n",
    "    for i in entries_it:\n",
    "        direction = vector[0]*df[\"mc_px\"][i] + vector[1]*df[\"mc_py\"][i] + vector[2]*df[\"mc_pz\"][i]\n",
    "        p_sum = np.sqrt(df[\"mc_px\"][i]+df[\"mc_py\"][i]+df[\"mc_pz\"][i])\n",
    "        polar_angle.append(np.arccos(direction/p_sum))\n",
    "        \n",
    "    df2 = df.copy()\n",
    "    df2[\"mc_polar_angle_single\"] = np.array(polar_angle)\n",
    "    \n",
    "    return df2\n",
    "\n",
    "def Make_single_angle_file(df, vector, entries=[]):\n",
    "    \"\"\"\n",
    "    Vector should be a unit vector, for the desired direction. \n",
    "    \"\"\"\n",
    "    if isinstance(entries,list): \n",
    "        Num_evs = len(df)\n",
    "        entries_it = np.arange(0, Num_evs,1)\n",
    "    else: entries_it = entries\n",
    "    # Num_evs = len(df)\n",
    "    \n",
    "    polar_angle = []\n",
    "    # for i in range(Num_evs):\n",
    "    for i in entries_it:\n",
    "        direction = vector[0]*df['daughter1_mom_x'][i] + vector[1]*df['daughter1_mom_y'][i] + vector[2]*df['daughter1_mom_z'][i]\n",
    "        p_sum = np.sqrt(df['daughter1_mom_x'][i]+df['daughter1_mom_y'][i]+df['daughter1_mom_z'][i])\n",
    "        polar_angle.append(np.arccos(direction/p_sum))\n",
    "        \n",
    "    df2 = df.copy()\n",
    "    df2[\"mc_polar_angle_single\"] = np.array(polar_angle)\n",
    "    \n",
    "    return df2\n"
   ]
  },
  {
   "cell_type": "code",
   "execution_count": 11,
   "id": "085d8d21-525a-4dd1-ac50-d41b69e9cf4f",
   "metadata": {},
   "outputs": [
    {
     "name": "stdout",
     "output_type": "stream",
     "text": [
      "Done 2MeV\n",
      "Done 10MeV\n",
      "Done 100MeV\n",
      "Done 150MeV\n",
      "Done 245MeV\n",
      "Done\n",
      "Done 2MeV\n",
      "Done 10MeV\n",
      "Done 100MeV\n",
      "Done 150MeV\n",
      "Done 245MeV\n"
     ]
    }
   ],
   "source": [
    "if load_lepton_signal == True:\n",
    "    for HNL_mass in signal_samples_dict:\n",
    "        signal_samples_dict[HNL_mass]=Make_new_variables(signal_samples_dict[HNL_mass], filtered_index_dict[HNL_mass])\n",
    "        print(f\"Done {HNL_mass}MeV\")\n",
    "    print(\"Done\")\n",
    "\n",
    "    direction = av_HNL_direction\n",
    "\n",
    "    for HNL_mass in signal_samples_dict:\n",
    "        signal_samples_dict[HNL_mass]=Make_angle_wrt(signal_samples_dict[HNL_mass], direction, [])\n",
    "        signal_samples_dict[HNL_mass]=Make_daughter_angle_wrt(signal_samples_dict[HNL_mass], direction, [])\n",
    "\n",
    "        print(f\"Done {HNL_mass}MeV\")\n"
   ]
  },
  {
   "cell_type": "code",
   "execution_count": 12,
   "id": "0f407455-d8ab-4f4e-b07c-0f4440c7106f",
   "metadata": {},
   "outputs": [],
   "source": [
    "direction = av_HNL_direction\n",
    "pi0_mass = 0.135 #GeV\n",
    "\n",
    "if load_pi0_signal == True:\n",
    "    for HNL_mass in pi0_dict:\n",
    "        pi0_dict[HNL_mass]=Make_single_new_variables(pi0_dict[HNL_mass], pi0_mass, entries=pi0_dict[HNL_mass].index)\n",
    "        pi0_dict[HNL_mass]=Make_single_angle_file(pi0_dict[HNL_mass], direction, pi0_dict[HNL_mass].index)\n",
    "        print(f\"Done {HNL_mass}\")"
   ]
  },
  {
   "cell_type": "markdown",
   "id": "271ebd0b-4d89-4bbb-ae99-a4c02141ae32",
   "metadata": {},
   "source": [
    "# Functions"
   ]
  },
  {
   "cell_type": "code",
   "execution_count": 13,
   "id": "5d4ca553-87da-48bd-a6cc-19ea3c30e03e",
   "metadata": {},
   "outputs": [],
   "source": [
    "def Plot_variable_signal(variable, HNL_samples_dict=[], xlabel=[], xlims=[0,0], ylims=[], bins=40, figsize=[10,10], dpi=100, MergeBins=False, \n",
    "                         density=True,legloc=\"best\",logy = False, cutline = None, savefig=False, filename=None, plot_entries=False,fraction=False):\n",
    "    \n",
    "    if(HNL_samples_dict==[]): raise Exception(\"Specify samples dict\") \n",
    "    if(xlabel==[]): xlabel=variable\n",
    "    \n",
    "    if logy == True:\n",
    "        logscale=\"log\"\n",
    "    elif logy == False:\n",
    "        logscale=\"linear\"\n",
    "    \n",
    "    fig,ax = plt.subplots(nrows=1, ncols=1, sharex=True, figsize=figsize,dpi=dpi)\n",
    "    \n",
    "    for HNL_mass in HNL_samples_dict:\n",
    "    \n",
    "        #var_HNL=HNL_samples_dict[HNL_mass][variable] #old way when specifying variable\n",
    "        var_HNL=HNL_samples_dict[HNL_mass]\n",
    "        Num_entries = len(var_HNL)\n",
    "       \n",
    "        if xlims[0] == 0 and xlims[1] == 0: xlims = [min(var_HNL),max(var_HNL)]\n",
    "    \n",
    "        if(isinstance(bins, int)):\n",
    "            nbins=bins\n",
    "            bins=np.linspace(xlims[0],xlims[1],nbins+1)\n",
    "        else: nbins=len(bins)-1\n",
    "    \n",
    "    #plt.sca(ax[0])\n",
    "               \n",
    "        if plot_entries==True: label=[f\"{HNL_mass} MeV HNL: \" + str(Num_entries) + \" entries\"]\n",
    "        if plot_entries==False: label=[f\"{HNL_mass} MeV HNL\"]\n",
    "            \n",
    "        \n",
    "        if fraction == False:\n",
    "            plt.hist(var_HNL,\n",
    "    #               label=[f\"HNL ({mass} MeV) \\n $|U_{{\\mu4}}|^2=\"+sci_notation(sample_info[\"300\"][\"theta_u2\"]) +f\" (x{HNLplotscale})\"],\n",
    "                  label=label,\n",
    "                  range=xlims,bins=bins,\n",
    "                  stacked=False,density=density,\n",
    "                  histtype=\"step\",lw=3)\n",
    "        if fraction == True:\n",
    "            plt.hist(var_HNL,weights=np.ones(len(var_HNL)) / len(var_HNL),\n",
    "                     label=label,\n",
    "                  range=xlims,bins=bins,\n",
    "                  stacked=False,density=False,\n",
    "                  histtype=\"step\",lw=3)\n",
    "    \n",
    "    if(isinstance(cutline, (int,float))):\n",
    "        plt.axvline(x=cutline, lw=3, color='green', linestyle = 'dashed')\n",
    "    \n",
    "    if(logy == True):\n",
    "        plt.yscale(\"log\")\n",
    "    else:\n",
    "        plt.yscale(\"linear\")\n",
    "        \n",
    "    if(density == True):\n",
    "        plt.ylabel(\"Fraction of total events\")\n",
    "    \n",
    "    plt.legend(loc=legloc,frameon=False)\n",
    "    \n",
    "    plt.xlabel(xlabel)\n",
    "    plt.xlim(xlims)\n",
    "    if ylims!=[]:\n",
    "        plt.ylim(ylims)\n",
    "    plt.tight_layout(rect=[0, 0, 1, 0.92])\n",
    "    plt.yscale(logscale)\n",
    "    if filename == None:\n",
    "        Name = variable + \"_\" + Run + \"_\" + logscale\n",
    "    else:\n",
    "        Name = filename\n",
    "    if savefig == True:\n",
    "        plt.savefig(\"plots/Truth_studies/Signal_plots/\" + Name + \".png\")\n",
    "        plt.savefig(\"plots/Truth_studies/Signal_plots/\" + Name + \".pdf\")"
   ]
  },
  {
   "cell_type": "code",
   "execution_count": 14,
   "id": "17645472-141b-42d9-86a3-1be7c5f4b82f",
   "metadata": {},
   "outputs": [],
   "source": [
    "def check_variable(df,variable,debug=True): #The df should NOT be flattened. Will return a series which can be plotted. \n",
    "    first_entry = df.index[0]\n",
    "    if isinstance(df[variable][first_entry], (np.ndarray)):\n",
    "        if(debug):print(\"This variable has an array of entries per event.\")\n",
    "        Num_events = len(df[variable])\n",
    "        if(debug):print(\"The total number of events is \" + str(Num_events))\n",
    "        copy_column = df[variable].copy()\n",
    "        exploded = copy_column.explode(variable)\n",
    "        Num_nans = exploded.isna().sum()\n",
    "        if(debug):print(\"The number of events with empty arrays is \" + str(Num_nans))\n",
    "        if(debug):print(\"Fraction of non-empty arrays is \" + str(1-(Num_nans/Num_events)))\n",
    "        Nans_removed = exploded.dropna()\n",
    "        Num_entries = len(Nans_removed)\n",
    "        if(debug):print(\"The total number of entries is \" + str(Num_entries))\n",
    "        \n",
    "        return Nans_removed, Num_entries\n",
    "    if isinstance(df[variable][first_entry], (int,float,np.int32,np.float32,np.uint32,np.nan)):\n",
    "        if(debug):print(\"This variable has one entry per event.\")\n",
    "        Num_events = len(df[variable])\n",
    "        if(debug):print(\"The total number of events is \" + str(Num_events))\n",
    "        copy_column = df[variable].copy()\n",
    "        Num_nans = copy_column.isna().sum()\n",
    "        if Num_nans != 0:\n",
    "            if(debug):print(\"There are \" + str(Num_nans) + \" Nan values, removing now\")\n",
    "            copy_column.dropna()\n",
    "        Num_entries = len(copy_column)\n",
    "        return copy_column, Num_entries\n",
    "    else: print(\"Not sure what type this variable is!\")\n",
    "    \n",
    "def remove_non_reco_vals(df,debug=True): #Feed in the output of the check_variable\n",
    "    #value = -1e15\n",
    "    value = -9998\n",
    "    first_entry = df.index[0]\n",
    "    if(debug):print(\"Total number of entries is \" + str(len(df)))\n",
    "    if(debug):print(\"Number of very negative values is \" + str(len(df.loc[df < value])))\n",
    "\n",
    "    if(len(df.loc[df < value]) > 0):\n",
    "        new_df = df.drop(df.loc[df < value].index) #Removes values entirely\n",
    "        if(debug):print(\"New number of entries is \" + str(len(new_df)))\n",
    "            # if(len(df.loc[df == -1.0]) > 0):\n",
    "            #     df.loc[(df == -1.0), variable] = new_value #Sets the new value\n",
    "            # if(len(df.loc[df == np.nan]) > 0):\n",
    "            #     df.loc[(df == np.nan), variable] = new_value #Sets the new value\n",
    "            # if(len(df.loc[df == np.inf]) > 0):\n",
    "            #     df.loc[(df == np.inf), variable] = new_value #Sets the new value\n",
    "    else: new_df = df.copy()\n",
    "    return new_df, len(new_df)\n",
    "\n",
    "def Get_av_hnl_momentum(df):\n",
    "    \"\"\"\n",
    "    Returns a vector of the mean momenta of the parent HNL\n",
    "    \"\"\"\n",
    "    x_sum = df['hnl_mom_x'].sum()\n",
    "    y_sum = df['hnl_mom_y'].sum()\n",
    "    z_sum = df['hnl_mom_z'].sum()\n",
    "    \n",
    "    x_av = x_sum/len(df)\n",
    "    y_av = y_sum/len(df)\n",
    "    z_av = z_sum/len(df)\n",
    "    \n",
    "    direction = []\n",
    "    for i in df.index:\n",
    "        mc_p = np.sqrt(df['hnl_mom_x'][i]**2+df['hnl_mom_y'][i]**2+df['hnl_mom_z'][i]**2)\n",
    "        direction.append([df['hnl_mom_x'][i]/mc_p, df['hnl_mom_y'][i]/mc_p, df['hnl_mom_z'][i]/mc_p])\n",
    "    \n",
    "    return [x_av, y_av, z_av], direction\n",
    "\n",
    "def Get_av_daughter_momentum(df, daughter=1):\n",
    "    \"\"\"\n",
    "    Returns a vector of the mean momenta of the parent HNL\n",
    "    \"\"\"\n",
    "    x_sum = df[f'daughter{daughter}_mom_x'].sum()\n",
    "    y_sum = df[f'daughter{daughter}_mom_y'].sum()\n",
    "    z_sum = df[f'daughter{daughter}_mom_z'].sum()\n",
    "    \n",
    "    x_av = x_sum/len(df)\n",
    "    y_av = y_sum/len(df)\n",
    "    z_av = z_sum/len(df)\n",
    "    \n",
    "    direction = []\n",
    "    for i in df.index:\n",
    "        mc_p = np.sqrt(df[f'daughter{daughter}_mom_x'][i]**2+df[f'daughter{daughter}_mom_y'][i]**2+df[f'daughter{daughter}_mom_z'][i]**2)\n",
    "        direction.append([df[f'daughter{daughter}_mom_x'][i]/mc_p, df[f'daughter{daughter}_mom_y'][i]/mc_p, df[f'daughter{daughter}_mom_z'][i]/mc_p])\n",
    "    \n",
    "    return [x_av, y_av, z_av], direction\n",
    "\n",
    "def Get_av_direction(direction_list):\n",
    "    sum_x, sum_y, sum_z = 0, 0, 0\n",
    "    for i, direction in enumerate(direction_list):\n",
    "        sum_x += direction[0]\n",
    "        sum_y += direction[1]\n",
    "        sum_z += direction[2]\n",
    "    av_x  = sum_x/(len(direction_list))\n",
    "    av_y  = sum_y/(len(direction_list))\n",
    "    av_z  = sum_z/(len(direction_list))\n",
    "    \n",
    "    return [av_x, av_y, av_z]"
   ]
  },
  {
   "cell_type": "markdown",
   "id": "83a8f5dc-8c31-4eb2-b531-75799c26c63d",
   "metadata": {
    "jp-MarkdownHeadingCollapsed": true,
    "tags": []
   },
   "source": [
    "## Parent HNL momentum"
   ]
  },
  {
   "cell_type": "code",
   "execution_count": null,
   "id": "8ef0ee77-45dc-487d-a5e0-7ed6924624f4",
   "metadata": {},
   "outputs": [],
   "source": [
    "test_av_dict, directions_dict = {}, {}\n",
    "daughter_av_dict, daughter_directions_dict = {}, {}\n",
    "daughter2_av_dict, daughter2_directions_dict = {}, {}\n",
    "for HNL_mass in signal_samples_dict:\n",
    "    test_av_dict[HNL_mass], directions_dict[HNL_mass] = Get_av_hnl_momentum(signal_samples_dict[HNL_mass])\n",
    "    daughter_av_dict[HNL_mass], daughter_directions_dict[HNL_mass] = Get_av_daughter_momentum(signal_samples_dict[HNL_mass], daughter=1)\n",
    "    daughter2_av_dict[HNL_mass], daughter2_directions_dict[HNL_mass] = Get_av_daughter_momentum(signal_samples_dict[HNL_mass], daughter=2)\n",
    "    print(f\"Done {HNL_mass}\")\n",
    "# print(test_av)\n"
   ]
  },
  {
   "cell_type": "code",
   "execution_count": null,
   "id": "60953e60-ca0c-46ab-9e36-ffed5b2dc8fe",
   "metadata": {},
   "outputs": [],
   "source": [
    "av_dir_dict = {}\n",
    "av_daughter_dict, av_daughter2_dict = {}, {}\n",
    "for HNL_mass in signal_samples_dict:\n",
    "    av_dir_dict[HNL_mass] = Get_av_direction(directions_dict[HNL_mass])\n",
    "    av_daughter_dict[HNL_mass] = Get_av_direction(daughter_directions_dict[HNL_mass])\n",
    "    av_daughter2_dict[HNL_mass] = Get_av_direction(daughter2_directions_dict[HNL_mass])"
   ]
  },
  {
   "cell_type": "code",
   "execution_count": null,
   "id": "20938a55-606a-4f79-a86b-d76fce8c1201",
   "metadata": {},
   "outputs": [],
   "source": [
    "print(av_dir_dict)\n",
    "print(av_daughter_dict)\n",
    "print(av_daughter2_dict)"
   ]
  },
  {
   "cell_type": "code",
   "execution_count": null,
   "id": "4b0beff7-aabf-445a-9d39-57468b456b22",
   "metadata": {},
   "outputs": [],
   "source": [
    "print(av_HNL_direction)\n",
    "#[0.324,0.738,-0.591]"
   ]
  },
  {
   "cell_type": "markdown",
   "id": "96a14979-520c-4fc5-9d7b-0f09771cc166",
   "metadata": {},
   "source": [
    "## Plotting"
   ]
  },
  {
   "cell_type": "code",
   "execution_count": 15,
   "id": "9eecce91-6b78-45b3-a58c-28d1eff077df",
   "metadata": {},
   "outputs": [
    {
     "name": "stdin",
     "output_type": "stream",
     "text": [
      "Do you want to print all the variables in the sample? y/n  y\n"
     ]
    },
    {
     "name": "stdout",
     "output_type": "stream",
     "text": [
      "['kaon_mom_x', 'kaon_mom_y', 'kaon_mom_z', 'kaon_energy', 'kaon_decay_x', 'kaon_decay_y', 'kaon_decay_z', 'kaon_decay_t', 'hnl_mom_x', 'hnl_mom_y', 'hnl_mom_z', 'hnl_energy', 'hnl_decay_x', 'hnl_decay_y', 'hnl_decay_z', 'hnl_decay_t', 'daughter1_mom_x', 'daughter1_mom_y', 'daughter1_mom_z', 'daughter1_energy', 'daughter2_mom_x', 'daughter2_mom_y', 'daughter2_mom_z', 'daughter2_energy', 'weight', 'flux_weight', 'decay_weight', 'branching_ratio_weight', 'selected', 'kaon_pdg', 'daughter1_pdg', 'daughter2_pdg', 'rse_id', 'mc_px_sum', 'mc_py_sum', 'mc_pz_sum', 'mc_p_magnitude', 'mc_E_leading', 'mc_E_sub', 'mc_E_asymmetry', 'mc_cos_opening_angle', 'mc_opening_angle', 'mc_polar_angle', 'mc_daughter1_polar_angle', 'mc_daughter2_polar_angle']\n"
     ]
    }
   ],
   "source": [
    "Plot_only_lepton = True #Final state is e+e-\n",
    "Plot_only_pi0 = False #Final state is pi0\n",
    "\n",
    "if Plot_only_lepton == True: sample_dict = signal_samples_dict\n",
    "elif Plot_only_pi0 == True: sample_dict = pi0_dict\n",
    "\n",
    "print_vals = input(\"Do you want to print all the variables in the sample? y/n \")\n",
    "if print_vals == \"y\":\n",
    "    var_list = []\n",
    "    for var in sample_dict[150].keys():\n",
    "        var_list.append(var)\n",
    "    print(var_list)\n",
    "else:\n",
    "    print(\"Not printing variables.\")"
   ]
  },
  {
   "cell_type": "code",
   "execution_count": 16,
   "id": "a2729362-7545-40e7-abf1-1aaf0559825e",
   "metadata": {},
   "outputs": [],
   "source": [
    "variable_names_dict = {'mc_px_sum':\"Sum of x-momenta [GeV]\", 'mc_py_sum':\"Sum of y-momenta [GeV]\", 'mc_pz_sum':\"Sum of z-momenta [GeV]\",\n",
    "                       'mc_p_magnitude':\"Magnitude of lepton momenta [GeV]\", 'mc_E_leading':\"Leading lepton energy [GeV]\",\n",
    "                       'mc_E':\"Energy [GeV]\", 'mc_px':\"Momentum in x-direction [GeV]\", 'mc_py':\"Momentum in y-direction [GeV]\",\n",
    "                       'mc_pz':\"Momentum in z-direction [GeV]\", 'mc_p_magnitude':\"Momentum [GeV]\", 'mc_E_kinetic':\"Kinetic energy [GeV]\",\n",
    "       'mc_E_sub':\"Sub-leading lepton energy [GeV]\", 'mc_E_asymmetry':\"Energy asymmetry\", 'mc_cos_opening_angle':\"cosine(opening angle)\",\n",
    "       'mc_opening_angle':\"Opening angle [radians]\", 'mc_polar_angle':\"Angle w.r.t parent HNL [radians]\",\n",
    "                       \"mc_polar_angle_single\":\"Angle w.r.t parent HNL [radians]\", 'mc_daughter1_polar_angle':\"Daughter 1 angle w.r.t parent HNL [radians]\",\n",
    "                      'mc_daughter2_polar_angle':\"Daughter 2 angle w.r.t parent HNL [radians]\"}"
   ]
  },
  {
   "cell_type": "code",
   "execution_count": 27,
   "id": "3a34b280-da2c-4cab-919a-0a862887a9ed",
   "metadata": {},
   "outputs": [
    {
     "name": "stdout",
     "output_type": "stream",
     "text": [
      "Mass is 2 MeV\n",
      "Mass is 10 MeV\n",
      "Mass is 100 MeV\n",
      "Mass is 150 MeV\n",
      "Mass is 245 MeV\n",
      "\n",
      "Mass is 2 MeV\n",
      "Mass is 10 MeV\n",
      "Mass is 100 MeV\n",
      "Mass is 150 MeV\n",
      "Mass is 245 MeV\n",
      "\n",
      "Mass is 2 MeV\n",
      "Mass is 10 MeV\n",
      "Mass is 100 MeV\n",
      "Mass is 150 MeV\n",
      "Mass is 245 MeV\n"
     ]
    }
   ],
   "source": [
    "var = 'mc_E_sub'\n",
    "plot_dict = {}\n",
    "Num_entries_dict = {}\n",
    "debug = False\n",
    "\n",
    "plot_all_masses = False\n",
    "if plot_all_masses == True: plot_samples = sample_dict.keys()\n",
    "# if plot_all_masses == False: plot_samples = [2, 10, 50, 100, 150]\n",
    "if plot_all_masses == False: plot_samples = HNL_masses\n",
    "\n",
    "for sample in plot_samples:\n",
    "    print(f\"Mass is {sample} MeV\")\n",
    "    plot_dict[sample], Num_entries_dict[sample] = check_variable(sample_dict[sample],var,debug=debug)\n",
    "    plot_dict[sample], Num_entries_dict[sample] = remove_non_reco_vals(plot_dict[sample],debug=debug)\n",
    "    \n",
    "print()\n",
    "var_2 = 'mc_E_asymmetry'\n",
    "plot_dict_2 = {}\n",
    "Num_entries_dict_2 = {}\n",
    "\n",
    "for sample in plot_samples:\n",
    "    print(f\"Mass is {sample} MeV\")\n",
    "    plot_dict_2[sample], Num_entries_dict_2[sample] = check_variable(sample_dict[sample],var_2,debug=debug)\n",
    "    plot_dict_2[sample], Num_entries_dict_2[sample] = remove_non_reco_vals(plot_dict_2[sample],debug=debug)\n",
    "    \n",
    "# plot_dict[150].head()\n",
    "# Particle.from_pdgid(11)\n",
    "print()\n",
    "var_3 = 'mc_polar_angle'\n",
    "plot_dict_3 = {}\n",
    "Num_entries_dict_3 = {}\n",
    "for sample in plot_samples:\n",
    "    print(f\"Mass is {sample} MeV\")\n",
    "    plot_dict_3[sample], Num_entries_dict_3[sample] = check_variable(sample_dict[sample],var_3,debug=debug)\n",
    "    plot_dict_3[sample], Num_entries_dict_3[sample] = remove_non_reco_vals(plot_dict_3[sample],debug=debug)"
   ]
  },
  {
   "cell_type": "code",
   "execution_count": 29,
   "id": "9f3e9b5d-9fd9-4ff1-ae20-5a2c61e2c73b",
   "metadata": {},
   "outputs": [
    {
     "data": {
      "image/png": "[encoded data removed]",
      "text/plain": [
       "<Figure size 800x800 with 1 Axes>"
      ]
     },
     "metadata": {
      "needs_background": "light"
     },
     "output_type": "display_data"
    }
   ],
   "source": [
    "# Plot_variable_signal(var, HNL_samples_dict=plot_dict, xlabel=[], xlims=[0.01,0.5], bins=40, \n",
    "#                      figsize=[10,10], dpi=100, MergeBins=False, density=True,legloc=\"best\",logy = False, cutline = None, savefig=False)\n",
    "\n",
    "Plot_variable_signal(var, HNL_samples_dict=plot_dict, xlabel=variable_names_dict[var], xlims=[0,0.15], ylims=[],bins=50, \n",
    "                     figsize=[8,8], dpi=100, MergeBins=False, density=True,legloc=\"best\",logy = False,\n",
    "                     cutline = None, savefig=True, filename = f\"ee_dirac_{var}_{Run}\",fraction=True)\n"
   ]
  },
  {
   "cell_type": "code",
   "execution_count": 31,
   "id": "5dae51ea-6fab-4c6e-8ead-2632ec807dd7",
   "metadata": {},
   "outputs": [
    {
     "data": {
      "image/png": "[encoded data removed]",
      "text/plain": [
       "<Figure size 800x800 with 1 Axes>"
      ]
     },
     "metadata": {
      "needs_background": "light"
     },
     "output_type": "display_data"
    }
   ],
   "source": [
    "Plot_variable_signal(var_2, HNL_samples_dict=plot_dict_2, xlabel=variable_names_dict[var_2], xlims=[0,1.0], ylims=[], bins=50, \n",
    "                     figsize=[8,8], dpi=100, MergeBins=False, density=True,legloc=\"best\",logy = False,\n",
    "                     cutline = None, savefig=True, filename = f\"ee_dirac_{var_2}_{Run}\",fraction=True)"
   ]
  },
  {
   "cell_type": "code",
   "execution_count": 35,
   "id": "d6e1d26f-0989-41b8-a776-263f828b286a",
   "metadata": {},
   "outputs": [
    {
     "data": {
      "image/png": "[encoded data removed]",
      "text/plain": [
       "<Figure size 800x800 with 1 Axes>"
      ]
     },
     "metadata": {
      "needs_background": "light"
     },
     "output_type": "display_data"
    }
   ],
   "source": [
    "# if load_pi0_signal == True:\n",
    "Plot_variable_signal(var_3, HNL_samples_dict=plot_dict_3, xlabel=variable_names_dict[var_3], xlims=[0,1.5],ylims=[1e-2,1.1], bins=50, \n",
    "                 figsize=[8,8], dpi=100, MergeBins=False, density=True,legloc=\"best\",logy = True,\n",
    "                 cutline = None, savefig=True, filename = f\"ee_dirac_{var_3}_{Run}\",fraction=True)"
   ]
  },
  {
   "cell_type": "code",
   "execution_count": 34,
   "id": "47fee241-3cb7-4343-ae2c-301b82ca6fd3",
   "metadata": {},
   "outputs": [
    {
     "data": {
      "text/plain": [
       "entry\n",
       "0        0.037318\n",
       "1        0.048667\n",
       "2        0.044307\n",
       "3        0.038750\n",
       "4        0.042728\n",
       "           ...   \n",
       "43095    0.060505\n",
       "43096    0.039361\n",
       "43097    0.036589\n",
       "43098    0.040244\n",
       "43099    0.034440\n",
       "Name: mc_polar_angle, Length: 43100, dtype: float64"
      ]
     },
     "execution_count": 34,
     "metadata": {},
     "output_type": "execute_result"
    }
   ],
   "source": [
    "sample_dict[2]['mc_polar_angle']"
   ]
  },
  {
   "cell_type": "code",
   "execution_count": null,
   "id": "9e69002e-0f1f-4977-a13d-cf590b17e5ef",
   "metadata": {},
   "outputs": [],
   "source": []
  }
 ],
 "metadata": {
  "kernelspec": {
   "display_name": "Python 3 (ipykernel)",
   "language": "python",
   "name": "python3"
  },
  "language_info": {
   "codemirror_mode": {
    "name": "ipython",
    "version": 3
   },
   "file_extension": ".py",
   "mimetype": "text/x-python",
   "name": "python",
   "nbconvert_exporter": "python",
   "pygments_lexer": "ipython3",
   "version": "3.7.12"
  }
 },
 "nbformat": 4,
 "nbformat_minor": 5
}
