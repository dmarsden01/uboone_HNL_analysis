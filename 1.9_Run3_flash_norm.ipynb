{
 "cells": [
  {
   "cell_type": "code",
   "execution_count": 1,
   "id": "8ab81f70",
   "metadata": {},
   "outputs": [
    {
     "name": "stdout",
     "output_type": "stream",
     "text": [
      "Success\n"
     ]
    }
   ],
   "source": [
    "import os,sys,string, time\n",
    "import matplotlib.pyplot as plt\n",
    "import numpy as np\n",
    "import uproot\n",
    "import pandas as pd\n",
    "from platform import python_version\n",
    "import scipy\n",
    "from scipy import stats\n",
    "import uproot3\n",
    "import math\n",
    "from importlib import reload\n",
    "\n",
    "import Utilities.Plotter as PT\n",
    "import Utilities.Constants as Constants\n",
    "import Utilities.Variables_list as Variables\n",
    "import Utilities.Variables_bins as Variables_bins\n",
    "import Utilities.Functions as Functions\n",
    "import Utilities.Sys_unc_variables as Sys_unc\n",
    "from Utilities.ipython_exit import exit\n",
    "\n",
    "np.seterr(divide='ignore', invalid='ignore')\n",
    "\n",
    "print ('Success')"
   ]
  },
  {
   "cell_type": "markdown",
   "id": "775a3504-392d-4b23-a225-0db439fcb0f5",
   "metadata": {},
   "source": [
    "# Reading in .pkl files"
   ]
  },
  {
   "cell_type": "code",
   "execution_count": 2,
   "id": "fd6a5c09-f380-4529-bc11-c0eb39e8efe3",
   "metadata": {},
   "outputs": [
    {
     "name": "stdout",
     "output_type": "stream",
     "text": [
      "Loading these run3 samples: \n",
      "['signal', 'overlay', 'dirtoverlay', 'beamoff', 'beamgood']\n"
     ]
    }
   ],
   "source": [
    "Params = {\"Run\":\"run3\", #The run number, so far either \"run1\" or \"run3\"\n",
    "          \"Load_single_file\":False, #This will override everything else, put the desired file in the \"single_file\" line\n",
    "          \"single_file\":\"overlay\",\n",
    "          \"Load_standard_bkgs\":True,\n",
    "          \"Load_DetVars\":False,\n",
    "          \"Only_keep_common_DetVar_evs\":True,\n",
    "          \"Load_Signal_DetVars\":False,\n",
    "          \"Load_data\":True,\n",
    "          \"FLATTEN\":False, #Have one row per reconstructed object in the analysis dataframe\n",
    "          \"only_presel\":True, #Create small files containing only variables necessary for pre-selection, for making pre-selection plots\n",
    "          \"Load_truth_vars\":False,\n",
    "          \"Load_lepton_signal\":True,\n",
    "          'Load_pi0_signal_DetVars':False,\n",
    "          \"Load_pi0_signal\":False,\n",
    "          'Load_lepton_dirac':False,\n",
    "          'Load_pi0_dirac':False}\n",
    "\n",
    "Params, samples = Functions.create_sample_list(Params)\n",
    "loc_pkls = \"pkl_files/\"+Params[\"Run\"]+\"/current_files/\"+Params[\"variables_string\"]+\"/\""
   ]
  },
  {
   "cell_type": "code",
   "execution_count": 3,
   "id": "40dc9a80-d4eb-4f3d-935b-53d259a8dc0c",
   "metadata": {},
   "outputs": [
    {
     "name": "stdout",
     "output_type": "stream",
     "text": [
      "dict_keys([2, 10, 20, 50, 100, 150, 'overlay', 'dirtoverlay', 'beamoff', 'beamgood'])\n"
     ]
    }
   ],
   "source": [
    "samples_dict = {}\n",
    "\n",
    "for sample in samples:\n",
    "    if sample in Constants.Detector_variations:\n",
    "        file = pd.read_pickle(loc_pkls+\"DetVars/overlay_\"+Params[\"Run\"]+\"_\"+Params[\"variables_string\"]+f\"_{sample}_\"+\n",
    "                              Params[\"Flat_state\"]+\"_\"+Params[\"Reduced_state\"]+\"_FINAL.pkl\")\n",
    "        samples_dict[sample] = file\n",
    "    elif Params[\"Load_Signal_DetVars\"] == True:\n",
    "        file = pd.read_pickle(loc_pkls+\"Signal_DetVars/\"+Params[\"Run\"]+f\"_{sample}_\"+Params[\"Reduced_state\"]+\"_FINAL.pkl\")\n",
    "        samples_dict[sample] = file\n",
    "    else:\n",
    "        if sample == 'signal':\n",
    "            for HNL_mass in Constants.HNL_mass_samples:\n",
    "                # file = pd.read_pickle(loc_pkls+f\"signal_{HNL_mass}MeV_\"+Params[\"Run\"]+\"_\"+Params[\"variables_string\"]+\"_\"+Params[\"Flat_state\"]+\"_final_gen.pkl\")\n",
    "                file = pd.read_pickle(loc_pkls+f\"signal_{HNL_mass}MeV_\"+Params[\"Run\"]+\"_\"+Params[\"variables_string\"]+\"_\"+Params[\"Flat_state\"]+\"_FINAL.pkl\")\n",
    "                samples_dict[HNL_mass] = file\n",
    "        elif sample == 'pi0_signal':\n",
    "            for HNL_mass in Constants.HNL_mass_pi0_samples:\n",
    "                # file = pd.read_pickle(loc_pkls+f\"{sample}_{HNL_mass}MeV_\"+Params[\"Run\"]+\"_\"+Params[\"variables_string\"]+\"_\"+Params[\"Flat_state\"]+\"_final_gen.pkl\")\n",
    "                # file = pd.read_pickle(loc_pkls+f\"{sample}_{HNL_mass}MeV_\"+Params[\"Run\"]+\"_\"+Params[\"variables_string\"]+\"_\"+Params[\"Flat_state\"]+\"_ultimate.pkl\")\n",
    "                file = pd.read_pickle(loc_pkls+f\"{sample}_{HNL_mass}MeV_\"+Params[\"Run\"]+\"_\"+Params[\"variables_string\"]+\"_\"+Params[\"Flat_state\"]+\"_FINAL.pkl\")\n",
    "                samples_dict[str(HNL_mass)+\"_pi0\"] = file\n",
    "        elif (Params[\"Load_single_file\"] == True) and (isinstance(sample,int)):\n",
    "            HNL_mass = sample\n",
    "            # file = pd.read_pickle(loc_pkls+f\"signal_{HNL_mass}MeV_\"+Params[\"Run\"]+\"_\"+Params[\"variables_string\"]+\"_\"+Params[\"Flat_state\"]+\"_final_gen.pkl\")\n",
    "            file = pd.read_pickle(loc_pkls+f\"signal_{HNL_mass}MeV_\"+Params[\"Run\"]+\"_\"+Params[\"variables_string\"]+\"_\"+Params[\"Flat_state\"]+\"_FINAL.pkl\")\n",
    "            samples_dict[HNL_mass] = file\n",
    "        else: \n",
    "            # file = pd.read_pickle(loc_pkls+f\"{sample}_\"+Params[\"Run\"]+\"_\"+Params[\"variables_string\"]+\"_\"+Params[\"Flat_state\"]+\"_final_gen.pkl\")\n",
    "            file = pd.read_pickle(loc_pkls+f\"{sample}_\"+Params[\"Run\"]+\"_\"+Params[\"variables_string\"]+\"_\"+Params[\"Flat_state\"]+\"_FINAL.pkl\")\n",
    "            samples_dict[sample] = file\n",
    "\n",
    "print(samples_dict.keys())"
   ]
  },
  {
   "cell_type": "code",
   "execution_count": 4,
   "id": "d2be0e9c-0a2d-4310-a652-55b1b5572c83",
   "metadata": {},
   "outputs": [
    {
     "name": "stdout",
     "output_type": "stream",
     "text": [
      "2 length is 45159\n",
      "10 length is 44463\n",
      "20 length is 46022\n",
      "50 length is 44579\n",
      "100 length is 45304\n",
      "150 length is 44031\n",
      "overlay length is 748702\n",
      "dirtoverlay length is 389264\n",
      "beamoff length is 3211097\n",
      "beamgood length is 1104349\n",
      "Loading these variables:\n",
      "Index(['nslice', 'flash_time', 'nu_flashmatch_score', 'NeutrinoEnergy2',\n",
      "       'contained_fraction', 'trk_score', 'trk_score_v', 'n_pfps',\n",
      "       'swtrig_pre', 'swtrig_post', 'crtveto', 'run', 'sub', 'evt'],\n",
      "      dtype='object')\n"
     ]
    }
   ],
   "source": [
    "for sample in samples_dict:\n",
    "    print(f\"{sample} length is \" + str(len(samples_dict[sample])))\n",
    "print(\"Loading these variables:\")\n",
    "print(samples_dict[sample].keys())"
   ]
  },
  {
   "cell_type": "code",
   "execution_count": 5,
   "id": "e8949d07-61eb-4792-80aa-fb4bb0646a44",
   "metadata": {},
   "outputs": [
    {
     "name": "stdout",
     "output_type": "stream",
     "text": [
      "Index(['nslice', 'flash_time', 'nu_flashmatch_score', 'NeutrinoEnergy2',\n",
      "       'contained_fraction', 'trk_score', 'trk_score_v', 'n_pfps',\n",
      "       'swtrig_pre', 'swtrig_post', 'crtveto', 'weightSplineTimesTune',\n",
      "       'ppfx_cv', 'npi0', 'run', 'sub', 'evt', 'weight'],\n",
      "      dtype='object')\n"
     ]
    }
   ],
   "source": [
    "print(samples_dict['overlay'].keys())"
   ]
  },
  {
   "cell_type": "markdown",
   "id": "48ab5f23-2b92-4e97-8c0f-5659ebb223a7",
   "metadata": {},
   "source": [
    "## Applying Software Trigger"
   ]
  },
  {
   "cell_type": "code",
   "execution_count": 5,
   "id": "dea09edf-801a-4b34-9fc8-df4f919f8413",
   "metadata": {},
   "outputs": [],
   "source": [
    "def Apply_swtrig(df):\n",
    "    query=\"swtrig_pre>0\"\n",
    "    df.query(query)\n",
    "\n",
    "def Apply_flash_shift(df, sample_type):\n",
    "    #Only required for beam off, overlay, dirtoverlay and signal (i.e all except beamon data)\n",
    "    if(sample_type==\"beamoff\"): df[\"flash_time\"]=df[\"flash_time\"] -0.359\n",
    "    else: df[\"flash_time\"]=df[\"flash_time\"] - 0.304"
   ]
  },
  {
   "cell_type": "code",
   "execution_count": 6,
   "id": "17fcf3de-c6cc-4803-9145-af15542fb7cf",
   "metadata": {},
   "outputs": [
    {
     "name": "stdout",
     "output_type": "stream",
     "text": [
      "Applying software trigger!\n"
     ]
    }
   ],
   "source": [
    "# swtrig_dict = {}\n",
    "Pre_swtrig_dict = {}\n",
    "swtrig = {}\n",
    "apply_swtrig = True\n",
    "if(apply_swtrig): print(\"Applying software trigger!\")\n",
    "for sample in samples_dict:\n",
    "    Pre_swtrig_dict[sample] = len(samples_dict[sample]) #Should weight this properly, i.e take sum of weights for the total number.\n",
    "    if(apply_swtrig):\n",
    "        # Apply_swtrig(samples_dict[sample])\n",
    "        if Params[\"Run\"]==\"run1\":\n",
    "            swtrig[sample] = samples_dict[sample].query(\"swtrig_pre>0\").copy()\n",
    "        if Params[\"Run\"]==\"run3\":\n",
    "            swtrig[sample] = samples_dict[sample].query(\"swtrig_post==1\").copy() #Took this from Owen's code, should check exactly what it's doing\n",
    "            # swtrig[sample] = samples_dict[sample].query(\"swtrig_pre>0\").copy()\n",
    "    else: swtrig[sample] = samples_dict[sample].copy()\n",
    "    if sample != \"beamgood\":\n",
    "        Apply_flash_shift(swtrig[sample], sample)"
   ]
  },
  {
   "cell_type": "code",
   "execution_count": 7,
   "id": "194e59c6-90ef-4f4c-8fc8-a9a1359e50f4",
   "metadata": {},
   "outputs": [
    {
     "name": "stdout",
     "output_type": "stream",
     "text": [
      "2 efficiency is 100.0%\n",
      "10 efficiency is 100.0%\n",
      "20 efficiency is 100.0%\n",
      "50 efficiency is 100.0%\n",
      "100 efficiency is 100.0%\n",
      "150 efficiency is 100.0%\n",
      "overlay efficiency is 82.60255749283426%\n",
      "dirtoverlay efficiency is 80.12454272678696%\n",
      "beamoff efficiency is 100.0%\n",
      "beamgood efficiency is 100.0%\n"
     ]
    }
   ],
   "source": [
    "for sample in samples_dict:\n",
    "    swtrig_effic = 100*(len(swtrig[sample])/Pre_swtrig_dict[sample])\n",
    "    print(f\"{sample} efficiency is \" + str(swtrig_effic) + \"%\")"
   ]
  },
  {
   "cell_type": "code",
   "execution_count": 8,
   "id": "d8a221c2-79a7-470f-9db8-5c16dfe1a943",
   "metadata": {},
   "outputs": [
    {
     "name": "stdout",
     "output_type": "stream",
     "text": [
      "dict_keys([2, 10, 20, 50, 100, 150, 'overlay', 'dirtoverlay', 'beamoff', 'beamgood'])\n"
     ]
    }
   ],
   "source": [
    "print(swtrig.keys())"
   ]
  },
  {
   "cell_type": "markdown",
   "id": "9d309e3d-2b11-4d3d-bb36-ef85e16417c0",
   "metadata": {},
   "source": [
    "# Plotting variables before preselection"
   ]
  },
  {
   "cell_type": "code",
   "execution_count": 9,
   "id": "837d5b44-7f5f-4e66-9e90-ef52693eb0f8",
   "metadata": {},
   "outputs": [
    {
     "name": "stdout",
     "output_type": "stream",
     "text": [
      "The ratio of overlay to HNL events is 188797152\n",
      "\n",
      "The ratio of all bkgs to HNL events is 1533105540\n",
      "\n"
     ]
    }
   ],
   "source": [
    "#Want to have arrows drawn on for where the preselection cut goes\n",
    "HNL_mass = 100\n",
    "if Params[\"Load_pi0_signal\"]:\n",
    "    HNL_mass = f\"{HNL_mass}_pi0\" #only plotting one at a time\n",
    "variable = 'flash_time'\n",
    "\n",
    "samples_plotting = {\"overlay\":swtrig[\"overlay\"],\n",
    "                    \"dirtoverlay\":swtrig[\"dirtoverlay\"],\n",
    "                    \"beamoff\":swtrig[\"beamoff\"],\n",
    "                    \"signal\":swtrig[HNL_mass]}\n",
    "\n",
    "if Params[\"Run\"] == \"run1\":\n",
    "    sample_norms = {\"overlay\":Constants.run1_POT_scaling_dict[\"overlay\"], #WAS using SF_overlay_run1\n",
    "                    \"dirtoverlay\":Constants.run1_POT_scaling_dict[\"dirtoverlay\"],\n",
    "                    \"beamoff\":Constants.run1_POT_scaling_dict[\"beamoff\"],\n",
    "                    \"signal\":Constants.run1_POT_scaling_dict[HNL_mass]}\n",
    "    flat_sys_vars_dict = Sys_unc.run1_Sys_unc\n",
    "elif Params[\"Run\"] == \"run3\":\n",
    "    sample_norms = {\"overlay\":Constants.run3_POT_scaling_dict[\"overlay\"],\n",
    "                    \"dirtoverlay\":Constants.run3_POT_scaling_dict[\"dirtoverlay\"],\n",
    "                    \"beamoff\":Constants.run3_POT_scaling_dict[\"beamoff\"],\n",
    "                    \"signal\":Constants.run3_POT_scaling_dict[HNL_mass]}\n",
    "    flat_sys_vars_dict = Sys_unc.run3_Sys_unc\n",
    "\n",
    "if Params[\"Load_data\"] == True:\n",
    "    data_dict = {\"beamgood\":samples_dict[\"beamgood\"]}\n",
    "    data_norm = {\"beamgood\":1.0} #No scaling as this is data, should have scaled MC to this POT.\n",
    "    samples_plotting.update(data_dict)\n",
    "    sample_norms.update(data_norm)\n",
    "    \n",
    "PT.HNL_scaling_calculator(samples_plotting,sample_norms)\n"
   ]
  },
  {
   "cell_type": "code",
   "execution_count": 10,
   "id": "7a291213-0d57-49d0-8847-1786c1d96972",
   "metadata": {},
   "outputs": [
    {
     "name": "stdout",
     "output_type": "stream",
     "text": [
      "overlay\n",
      "dirtoverlay\n",
      "beamoff\n",
      "signal\n",
      "beamgood\n",
      "{'nslice': 'nslice==1', 'flash_time': 'flash_time > 6.55 and flash_time < 16.5', 'nu_flashmatch_score': 'nu_flashmatch_score < 15', 'NeutrinoEnergy2': 'NeutrinoEnergy2 < 500', 'contained_fraction': 'contained_fraction > 0.9', 'trk_score': 'trk_score < 0.97', 'n_pfps': 'n_pfps < 6'}\n"
     ]
    }
   ],
   "source": [
    "for sample in samples_plotting:\n",
    "    print(sample)\n",
    "    \n",
    "print(Constants.Preselection_dict_for_plot)"
   ]
  },
  {
   "cell_type": "markdown",
   "id": "ae68e46a-54a4-4216-8b78-6b55f7c886fc",
   "metadata": {
    "tags": []
   },
   "source": [
    "## Plot data and MC"
   ]
  },
  {
   "cell_type": "code",
   "execution_count": 11,
   "id": "aa5d6dc1-7d2f-4e7b-a795-3aa3de14f397",
   "metadata": {},
   "outputs": [
    {
     "name": "stdout",
     "output_type": "stream",
     "text": [
      "618447\n",
      "618447\n"
     ]
    }
   ],
   "source": [
    "print(len(samples_plotting[\"overlay\"]))\n",
    "test = samples_plotting[\"overlay\"].query('nslice>-1')\n",
    "print(len(test))"
   ]
  },
  {
   "cell_type": "code",
   "execution_count": 12,
   "id": "65102160-c26a-485c-8679-58966792cdf9",
   "metadata": {},
   "outputs": [],
   "source": [
    "def Plot_preselection_query(variable, samples=[], sample_norms=[], sample_weights_full=[], query=\"nslice>-1\", xlabel=[],xlims=[0,0],bins=40,figsize=[10,10],\n",
    "                            dpi=100,MergeBins=False, discrete=False, HNL_mass = 0, HNLplotscale=100000,density=False,legloc=\"best\",logy = False,\n",
    "                            cutline = 0.0, show_ev_nums=False, CalcSys=False, xticks=[], colours_sample={}, order=[], sys_dict={}, centre_bins=False,\n",
    "                            hatch=False, ylabel=\"Events\", Frame=True, arrow_place=[], ylimit=None, legsize=22, display=True, savefig=False,\n",
    "                            savename=\"test\", HNL_scale_label=False, title_name = \"\"):\n",
    "    \n",
    "    if(samples==[]): raise Exception(\"Specify samples dict\") \n",
    "    if(xlabel==[]): xlabel=variable\n",
    "    if(colours_sample=={}): colours_sample = {'overlay':Constants.sample_colours['overlay'],\n",
    "                                              'dirtoverlay':Constants.sample_colours['dirtoverlay'],\n",
    "                                              'beamoff':Constants.sample_colours['beamoff'],\n",
    "                                              'signal':Constants.sample_colours['signal']}\n",
    "    if(order==[]): order = [\"beamoff\",\"overlay\",\"dirtoverlay\"] #From bottom to top in stack\n",
    "    if(sys_dict=={} and CalcSys==True): raise Exception(\"Specify systematic errors dict\")\n",
    "    \n",
    "    beamgood=samples[\"beamgood\"].query(query) #I should loop through samples instead, so don't always need data\n",
    "    beamoff=samples[\"beamoff\"].query(query)\n",
    "    overlay=samples[\"overlay\"].query(query)\n",
    "    dirtoverlay=samples[\"dirtoverlay\"].query(query)\n",
    "    signal=samples[\"signal\"].query(query)\n",
    "    \n",
    "    var_Data=beamgood[variable]\n",
    "    var_Offbeam=beamoff[variable]\n",
    "    var_Overlay=overlay[variable]\n",
    "    var_Dirt=dirtoverlay[variable]\n",
    "    var_HNL=signal[variable]\n",
    "    \n",
    "    variable_sample = {'overlay':var_Overlay,\n",
    "                       'dirtoverlay':var_Dirt,\n",
    "                       'beamoff':var_Offbeam,\n",
    "                       'signal':var_HNL}\n",
    "    \n",
    "    weight_Offbeam=np.ones(len(var_Offbeam))*sample_norms[\"beamoff\"]\n",
    "    weight_Overlay=overlay[\"weight\"]*sample_norms[\"overlay\"]\n",
    "    weight_Dirt=dirtoverlay[\"weight\"]*sample_norms[\"dirtoverlay\"]\n",
    "    weight_signal=np.ones(len(var_HNL))*sample_norms[\"signal\"]*HNLplotscale\n",
    "    \n",
    "    if sample_weights_full == []:\n",
    "        weights_sample = {'overlay':weight_Overlay,\n",
    "                          'dirtoverlay':weight_Dirt,\n",
    "                          'beamoff':weight_Offbeam,\n",
    "                          'signal':weight_signal}\n",
    "    else: weights_sample=sample_weights_full\n",
    "    \n",
    "    if xlims[0] == 0 and xlims[1] == 0: xlims = [min(var_Overlay),max(var_Overlay)]\n",
    "    \n",
    "    if(isinstance(bins, int)):\n",
    "        nbins=bins\n",
    "        if centre_bins == True:\n",
    "            bins=np.linspace(xlims[0],xlims[1],nbins+1)-0.5\n",
    "        else:\n",
    "            bins=np.linspace(xlims[0],xlims[1],nbins+1)\n",
    "    else: nbins=len(bins)-1\n",
    "    \n",
    "    #all UNWEIGHTED hists\n",
    "    totbkg=np.histogram(var_Offbeam,bins=bins,range=xlims)[0]+np.histogram(var_Dirt,bins=bins,range=xlims)[0]+np.histogram(var_Overlay,bins=bins,range=xlims)[0]\n",
    "    offbkg=np.histogram(var_Offbeam,bins=bins,range=xlims)[0]\n",
    "    overlaybkg=np.histogram(var_Overlay,bins=bins,range=xlims)[0]\n",
    "    dirtbkg=np.histogram(var_Dirt,bins=bins,range=xlims)[0]\n",
    "    \n",
    "    #weighted hists\n",
    "    offbkg_weighted=np.histogram(var_Offbeam,bins=bins,range=xlims,weights=weight_Offbeam)[0]\n",
    "    overlaybkg_weighted=np.histogram(var_Overlay,bins=bins,range=xlims,weights=weight_Overlay)[0]\n",
    "    dirtbkg_weighted=np.histogram(var_Dirt,bins=bins,range=xlims,weights=weight_Dirt)[0]\n",
    "           \n",
    "    #Testing Owens way, Err = sqrt(N*S.F**2)\n",
    "    mc_w=np.histogram(var_Overlay,bins=bins,range=xlims,weights=weight_Overlay**2)\n",
    "    off_w=np.histogram(var_Offbeam,bins=bins,range=xlims,weights=weight_Offbeam**2)\n",
    "    dirt_w=np.histogram(var_Dirt,bins=bins,range=xlims,weights=weight_Dirt**2)\n",
    "    \n",
    "    off_err=np.sqrt(off_w[0])\n",
    "    mc_err=np.sqrt(mc_w[0])\n",
    "    dirt_err=np.sqrt(dirt_w[0])\n",
    "    \n",
    "    # stat_bkgerr=np.sqrt(offbkg_stat**2+overlaybkg_stat**2+dirtbkg_stat**2) #Adding stat errors in quadrature, my way\n",
    "    stat_bkgerr=np.sqrt(off_err**2+mc_err**2+dirt_err**2) #Adding stat errors in quadrature\n",
    "    tot_mcerr = stat_bkgerr\n",
    "    \n",
    "    if(CalcSys): #Owen's way of calculating systematics for arbitrary variable, using my new function\n",
    "        frac_total = 0\n",
    "        for frac_sys in sys_dict[variable]:\n",
    "            frac_total += frac_sys**2 #Adding systematic sources of bkg in quadrature\n",
    "        \n",
    "        total_frac_sys = np.sqrt(frac_total)\n",
    "        total_sys_err = frac_total*overlaybkg_weighted\n",
    "        \n",
    "        dirt_norm_err_fac = 1.0\n",
    "        dirt_norm_err=dirtbkg_weighted*dirt_norm_err_fac\n",
    "        tot_mcerr=np.sqrt( stat_bkgerr**2+total_sys_err**2+dirt_norm_err**2)\n",
    "    \n",
    "    if(MergeBins): #remove bins with zero bkg prediction\n",
    "        bins_new=[]\n",
    "        for i,bin_bkg in enumerate(totbkg):\n",
    "            if(offbkg[i]>1 or overlaybkg[i]>1):\n",
    "                bins_new.append(bins[i])\n",
    "                \n",
    "        bins_new.append(bins[-1])\n",
    "\n",
    "        bins=bins_new\n",
    "    \n",
    "    # fig,ax = plt.subplots(nrows=1, ncols=1, sharex=True, figsize=figsize,dpi=dpi) #Just variable plot\n",
    "    fig,ax = plt.subplots(nrows=2, ncols=1, sharex=True, gridspec_kw={'height_ratios': [3, 1]}, figsize=figsize,dpi=dpi)\n",
    "    \n",
    "    plt.sca(ax[0])\n",
    "        \n",
    "    if(discrete):\n",
    "        bins = np.arange(xlims[0], xlims[1] + 1.5) - 0.5\n",
    "        xlims[0]=xlims[0]-1\n",
    "        xlims[1]=xlims[1]+1\n",
    "        ax[0].set_xticks(bins + 0.5)\n",
    "        nbins=len(bins)-1\n",
    "        \n",
    "    x,y=np.histogram(var_Data,bins=bins,range=xlims,density=density)\n",
    "    x1,y=np.histogram(var_Data,bins=bins,range=xlims)\n",
    "    bin_center = [(y[i] + y[i+1])/2. for i in range(len(y)-1)]\n",
    "    dat_val=x\n",
    "    # dat_err=np.sqrt(x1)*Functions.safe_div(x,x1) #need to write one for arrays instead of single values.\n",
    "    dat_err=np.sqrt(x1)*np.nan_to_num(x/x1)\n",
    "\n",
    "    Datanum=dat_val.sum()\n",
    "    Offbeamnum=sum(weight_Offbeam)\n",
    "    Dirtnum=sum(weight_Dirt)\n",
    "    Overlaynum=sum(weight_Overlay) \n",
    "    HNL_num=sum(weight_signal)\n",
    "    \n",
    "    if HNL_scale_label==False: HNL_label = f\"{HNL_mass} MeV HNL\"\n",
    "    if HNL_scale_label==True: \n",
    "        theta = 1e-4\n",
    "        theta_2 = theta**2\n",
    "        new_theta_2 = np.sqrt(HNLplotscale)*theta_2\n",
    "        theta_2_label = sci_notation(new_theta_2, decimal_digits=0)\n",
    "        HNL_label = f\"{HNL_mass} MeV HNL \\n\" + r\"$|U_{\\mu4}|^2$ = \" + theta_2_label\n",
    "    \n",
    "    if show_ev_nums==True:\n",
    "        labels_sample = {'overlay':fr\"In-Cryo $\\nu$ ({Overlaynum:.1f})\",\n",
    "                         'dirtoverlay':fr\"Out-Cryo $\\nu$ ({Dirtnum:.1f})\",\n",
    "                         'beamoff':f\"Beam-Off ({Offbeamnum:.1f})\",\n",
    "                         'signal':f\"{HNL_mass} MeV HNL ({HNL_num:.1f})\"}\n",
    "        # labels=[fr\"In-Cryo $\\nu$ ({Overlaynum:.1f})\",fr\"Out-Cryo $\\nu$ ({Dirtnum:.1f})\",f\"Beam-Off ({Offbeamnum:.1f})\"]\n",
    "        sig_label = [f\"{HNL_mass} MeV HNL ({HNL_num:.1f})\"]\n",
    "        data_label = f\"NuMI Data ({Datanum:.0f})\"\n",
    "    else:\n",
    "        labels_sample = {'overlay':fr\"In-Cryo $\\nu$\",\n",
    "                         'dirtoverlay':fr\"Out-Cryo $\\nu$\",\n",
    "                         'beamoff':f\"Beam-Off\",\n",
    "                         'signal':HNL_label}\n",
    "                         #'signal':f\"{HNL_mass} MeV HNL\"}\n",
    "        # labels=[fr\"In-Cryo $\\nu$\",fr\"Out-Cryo $\\nu$\",f\"Beam-Off\"]\n",
    "        sig_label = [HNL_label]\n",
    "        data_label = \"NuMI Data\"\n",
    "    \n",
    "    plt.errorbar(bin_center,dat_val,yerr=dat_err,fmt='.',color='black',lw=5,capsize=5,elinewidth=3,label=data_label) #Plotting data\n",
    "\n",
    "    varis, weights, colors, labels = [], [], [], []\n",
    "    for sample in order:\n",
    "        varis.append(variable_sample[sample])\n",
    "        weights.append(weights_sample[sample])\n",
    "        colors.append(colours_sample[sample])\n",
    "        labels.append(labels_sample[sample])\n",
    "            \n",
    "    plot=plt.hist(varis,\n",
    "              label=labels,\n",
    "              range=xlims,bins=bins,\n",
    "              histtype=\"stepfilled\",\n",
    "              stacked=True,density=density,linewidth=2,edgecolor=\"black\",\n",
    "              weights=weights, color=colors)\n",
    "    \n",
    "    upvals=np.append((plot[0][2]+tot_mcerr),(plot[0][2]+tot_mcerr)[-1])\n",
    "    lowvals=np.append((plot[0][2]-tot_mcerr),(plot[0][2]-tot_mcerr)[-1])\n",
    "    \n",
    "    if hatch == False:\n",
    "        plt.fill_between(y, lowvals, upvals,step=\"post\",color=\"grey\",alpha=0.3,zorder=2)\n",
    "    if hatch == True:\n",
    "        plt.fill_between(y, lowvals, upvals,step=\"post\",hatch='//',alpha=0,zorder=2)\n",
    "\n",
    "    color=colours_sample[\"signal\"]\n",
    "    \n",
    "    bkg_stack=varis\n",
    "    bkg_stack_w=weights\n",
    "    plt.hist(var_HNL,\n",
    "              label=sig_label,\n",
    "              range=xlims,bins=bins,\n",
    "              stacked=True,density=density,\n",
    "              weights= weight_signal,histtype=\"step\",color=color,lw=4)\n",
    "    \n",
    "    if cutline != 0.0:\n",
    "        plt.axvline(x=cutline, lw=3, color='green', linestyle = 'dashed')\n",
    "    if arrow_place != []: #No idea how to fix this.\n",
    "        plt.arrow(arrow_place[0], arrow_place[1], arrow_place[2], arrow_place[3], color='green', shape='full',fill=False, \n",
    "                  length_includes_head=True, overhang=0.0, head_width=-0.1, head_length=0.15, lw=3)\n",
    "    \n",
    "    if(logy == True):\n",
    "        plt.yscale(\"log\")\n",
    "    else:\n",
    "        plt.yscale(\"linear\")\n",
    "        \n",
    "        \n",
    "    plt.ylabel(ylabel)\n",
    "    plt.legend(loc=legloc,frameon=Frame, prop={'size': legsize})\n",
    "    \n",
    "    # plt.xlabel(xlabel)\n",
    "    plt.xlim(xlims)\n",
    "    if ylimit != None: plt.ylim(0,ylimit)\n",
    "    \n",
    "    if title_name != \"\":\n",
    "        plt.title(title_name)\n",
    "    \n",
    "    #---Sub-plot----#\n",
    "    plt.sca(ax[1])\n",
    "    \n",
    "    fracer_data=np.nan_to_num(np.sqrt(x1)/x1)\n",
    "    x_err=fracer_data*x\n",
    "    fracer_mc=np.nan_to_num(tot_mcerr/plot[0][2])\n",
    "    \n",
    "    rat_err_data=x_err*(1/plot[0][2])\n",
    "    \n",
    "    rat_err_mc=fracer_mc\n",
    "    rat_err=np.sqrt(rat_err_data**2)\n",
    "\n",
    "    rat_err_mc=np.nan_to_num(rat_err_mc) #other wise the next doesnt plot pro[erly]\n",
    "\n",
    "    upvals= np.append(1+(rat_err_mc),1+(rat_err_mc)[-1]) #hate this but need to repeat last value to get bar on last bin to work, saw it here https://matplotlib.org/stable/gallery/lines_bars_and_markers/filled_step.html\n",
    "    lowvals=np.append(1-(rat_err_mc),1-(rat_err_mc)[-1])\n",
    "\n",
    "\n",
    "    plt.fill_between(y, lowvals, upvals,step=\"post\",color=\"grey\",alpha=0.3,zorder=2)\n",
    "\n",
    "    rat=np.nan_to_num(x/plot[0][2])\n",
    "    rat[x==0]=1 #dont think this is a good way to deal with this\n",
    "\n",
    "    rat_err=np.nan_to_num(rat*np.sqrt(fracer_mc**2+fracer_data**2))\n",
    "       \n",
    "    # plt.errorbar(bin_center,rat,yerr=rat_err,fmt='.',color='black',lw=3,capsize=3,elinewidth=1,label=\"data\") #Had this before, but wrong I think\n",
    "    plt.errorbar(bin_center,rat,yerr=fracer_data,fmt='.',color='black',lw=3,capsize=3,elinewidth=1,label=\"data\")\n",
    "    plt.ylabel(\"Data/MC\")\n",
    "    plt.axhline(1,ls='-',color='black')\n",
    "    plt.axhline(1.1,ls='--',color='grey')\n",
    "    plt.axhline(0.9,ls='--',color='grey')\n",
    "    ylim = max(abs(np.nan_to_num(rat)))*1.1\n",
    "    plt.ylim(0.7,1.3)\n",
    "    # plt.ylim(0.9,1.1)\n",
    "    plt.xlim(xlims)\n",
    "    if xticks != []:\n",
    "        plt.xticks(xticks)\n",
    "    \n",
    "    plt.xlabel(xlabel)\n",
    "    \n",
    "    plt.tight_layout(rect=[0, 0, 1, 0.92])\n",
    "    \n",
    "    if savefig==True:\n",
    "        plt.savefig(savename+\".pdf\")\n",
    "        plt.savefig(savename+\".png\")\n",
    "    if display == False:\n",
    "        plt.close()"
   ]
  },
  {
   "cell_type": "code",
   "execution_count": 13,
   "id": "9459cd4b-529d-4774-8069-773781311704",
   "metadata": {},
   "outputs": [
    {
     "name": "stdout",
     "output_type": "stream",
     "text": [
      "Arrow place is [[6.55, 19800.0, 8, 19800.0], [16.5, 19800.0, 15, 19800.0]]\n"
     ]
    }
   ],
   "source": [
    "#Calculate sys\n",
    "Calculate_sys = True\n",
    "variable = 'flash_time'\n",
    "\n",
    "reload(PT)\n",
    "reload(Functions)\n",
    "reload(Constants)\n",
    "reload(Sys_unc)\n",
    "reload(Variables_bins)\n",
    "\n",
    "if Params[\"Run\"] == \"run1\": \n",
    "    flat_sys_vars_dict = Sys_unc.run1_Sys_unc\n",
    "    PLOTSCALE = 240000000\n",
    "if Params[\"Run\"] == \"run3\": \n",
    "    flat_sys_vars_dict = Sys_unc.run3_Sys_unc\n",
    "    PLOTSCALE = 240000000\n",
    "    \n",
    "no_swtrig = \"swtrig_post>-99\"\n",
    "swtrig_new = \"swtrig_post>0\"\n",
    "swtrig_old = \"swtrig_pre>0\"\n",
    "\n",
    "if isinstance(Constants.variable_names_dict[variable],str):x_string = Constants.variable_names_dict[variable]\n",
    "else: x_string=variable\n",
    "if variable=='trk_score_v':ylabel = 'Reconstructed objects'\n",
    "else: ylabel='Events'\n",
    "if variable=='nslice':xticks=[0,1]\n",
    "else: xticks=[]\n",
    "\n",
    "BINS = Variables_bins.Presel_bins[variable]\n",
    "XLIMS = [BINS[0],BINS[-1]]\n",
    "\n",
    "Log_var = Variables_bins.Log_vars[variable]\n",
    "cut_line = Variables_bins.cut_lines[variable]\n",
    "arrow_place = Variables_bins.arrow_places[variable]\n",
    "print(\"Arrow place is \" + str(arrow_place))\n",
    "\n",
    "Name = \"\"\n",
    "if Params[\"Load_pi0_signal\"] == True: Name = \"pi0/\"\n",
    "if Calculate_sys==True: Sys_name = \"with_sys\"\n",
    "if Calculate_sys==False: Sys_name = \"no_sys\"\n",
    "if arrow_place != []: end_name = \"_arrow\"\n",
    "else: end_name = \"\"\n"
   ]
  },
  {
   "cell_type": "code",
   "execution_count": 15,
   "id": "e880ae71-5c5c-4612-b3af-5e223db72893",
   "metadata": {},
   "outputs": [],
   "source": [
    "# savefig = False\n",
    "\n",
    "# PT.Plot_preselection_query(variable, samples_plotting, sample_norms, query=\"swtrig_post>-99\", xlabel=x_string, xlims=XLIMS, bins=BINS, HNL_mass=100,\n",
    "#                                 HNLplotscale=PLOTSCALE,cutline=0.0,legloc=\"best\", show_ev_nums=True, CalcSys=Calculate_sys,logy=False, \n",
    "#                                 xticks = [], sys_dict=flat_sys_vars_dict, centre_bins=False, hatch=False, ylabel=\"Events\", arrow_place=[], legsize=16,\n",
    "#                                 title_name=\"No trigger\")\n",
    "\n",
    "# PT.Plot_preselection_query(variable, samples_plotting, sample_norms, query=\"swtrig_pre>0\", xlabel=x_string, xlims=XLIMS, bins=BINS, HNL_mass=100,\n",
    "#                                 HNLplotscale=PLOTSCALE,cutline=0.0,legloc=\"best\", show_ev_nums=True, CalcSys=Calculate_sys,logy=False, \n",
    "#                                 xticks = [], sys_dict=flat_sys_vars_dict, centre_bins=False, hatch=False, ylabel=\"Events\", arrow_place=[], legsize=16,\n",
    "#                                 title_name=\"Old trigger\")\n",
    "\n",
    "# PT.Plot_preselection_query(variable, samples_plotting, sample_norms, query=\"swtrig_post>0\", xlabel=x_string, xlims=XLIMS, bins=BINS, HNL_mass=100,\n",
    "#                                 HNLplotscale=PLOTSCALE,cutline=0.0,legloc=\"best\", show_ev_nums=True, CalcSys=Calculate_sys,logy=False, \n",
    "#                                 xticks = [], sys_dict=flat_sys_vars_dict, centre_bins=False, hatch=False, ylabel=\"Events\", arrow_place=[], legsize=16,\n",
    "#                                 title_name=\"New trigger\")\n",
    "\n",
    "# PT.Plot_preselection_query(variable, samples_plotting, sample_norms, query='nslice==1', xlabel=x_string, xlims=XLIMS, bins=BINS, HNL_mass=100,\n",
    "#                                 HNLplotscale=PLOTSCALE,cutline=0.0,legloc=\"best\", show_ev_nums=True, CalcSys=Calculate_sys,logy=False, \n",
    "#                                 xticks = [], sys_dict=flat_sys_vars_dict, centre_bins=False, hatch=False, ylabel=\"Events\", arrow_place=[], legsize=16,\n",
    "#                                 title_name=\"Neutrino slice\")"
   ]
  },
  {
   "cell_type": "code",
   "execution_count": 16,
   "id": "df597726-7849-4f72-992f-fd15d4ef89c0",
   "metadata": {},
   "outputs": [],
   "source": [
    "# Calculate_sys = True\n",
    "# variable = 'nslice'\n",
    "\n",
    "# reload(PT)\n",
    "# reload(Functions)\n",
    "# reload(Constants)\n",
    "# reload(Sys_unc)\n",
    "# reload(Variables_bins)\n",
    "\n",
    "# if Params[\"Run\"] == \"run1\": \n",
    "#     flat_sys_vars_dict = Sys_unc.run1_Sys_unc\n",
    "#     PLOTSCALE = 240000000\n",
    "# if Params[\"Run\"] == \"run3\": \n",
    "#     flat_sys_vars_dict = Sys_unc.run3_Sys_unc\n",
    "#     PLOTSCALE = 240000000\n",
    "\n",
    "# if isinstance(Constants.variable_names_dict[variable],str):x_string = Constants.variable_names_dict[variable]\n",
    "# else: x_string=variable\n",
    "# BINS = Variables_bins.Presel_bins[variable]\n",
    "# XLIMS = [BINS[0],BINS[-1]]"
   ]
  },
  {
   "cell_type": "code",
   "execution_count": 17,
   "id": "9c12c3cc-acf4-49ca-80c9-4aa6306baa14",
   "metadata": {},
   "outputs": [],
   "source": [
    "# Plot_preselection_variable_data(variable, samples_plotting, sample_norms, query=\"swtrig_post>-99\", xlabel=x_string, xlims=XLIMS, bins=BINS, HNL_mass=100,\n",
    "#                                 HNLplotscale=PLOTSCALE,cutline=0.0,legloc=\"best\", show_ev_nums=True, CalcSys=Calculate_sys,logy=False, \n",
    "#                                 xticks = [0,1], sys_dict=flat_sys_vars_dict, centre_bins=False, hatch=False, ylabel=\"Events\", arrow_place=[], legsize=16,\n",
    "#                                 title_name=\"No trigger\")\n",
    "\n",
    "# Plot_preselection_variable_data(variable, samples_plotting, sample_norms, query=\"swtrig_pre>0\", xlabel=x_string, xlims=XLIMS, bins=BINS, HNL_mass=100,\n",
    "#                                 HNLplotscale=PLOTSCALE,cutline=0.0,legloc=\"best\", show_ev_nums=True, CalcSys=Calculate_sys,logy=False, \n",
    "#                                 xticks = [0,1], sys_dict=flat_sys_vars_dict, centre_bins=False, hatch=False, ylabel=\"Events\", arrow_place=[], legsize=16,\n",
    "#                                 title_name=\"Old trigger\")\n",
    "\n",
    "# Plot_preselection_variable_data(variable, samples_plotting, sample_norms, query=\"swtrig_post>0\", xlabel=x_string, xlims=XLIMS, bins=BINS, HNL_mass=100,\n",
    "#                                 HNLplotscale=PLOTSCALE,cutline=0.0,legloc=\"best\", show_ev_nums=True, CalcSys=Calculate_sys,logy=False, \n",
    "#                                 xticks = [0,1], sys_dict=flat_sys_vars_dict, centre_bins=False, hatch=False, ylabel=\"Events\", arrow_place=[], legsize=16,\n",
    "#                                 title_name=\"New trigger\")"
   ]
  },
  {
   "cell_type": "markdown",
   "id": "8b780dc9-adf5-405d-b35f-e289a0f1577c",
   "metadata": {},
   "source": [
    "## Splitting into post and pre samples"
   ]
  },
  {
   "cell_type": "code",
   "execution_count": 14,
   "id": "10e8bd56-a32b-440a-880b-152e5da8741b",
   "metadata": {},
   "outputs": [],
   "source": [
    "samples_plotting['overlay'].keys()\n",
    "root_dir = 'nuselection'\n",
    "\n",
    "sample_loc = {\"overlay\":f'../NuMI_MC/SLIMMED_neutrinoselection_filt_'+Params[\"Run\"]+'_overlay.root',\n",
    "              \"dirtoverlay\":f'../NuMI_MC/neutrinoselection_filt_'+Params[\"Run\"]+'_dirt_overlay.root',\n",
    "              \"beamoff\":f'../NuMI_data/neutrinoselection_filt_'+Params[\"Run\"]+'_beamoff.root',\n",
    "              \"signal\":f'../NuMI_signal/KDAR_dump/sfnues/sfnues_KDAR_dump_',\n",
    "              \"pi0_signal\":f'../NuMI_signal/KDAR_dump/sfnues/pi0/sfnues_KDAR_dump_',\n",
    "              \"beamgood\":f'../NuMI_data/neutrinoselection_filt_'+Params[\"Run\"]+'_beamon_beamgood.root'}"
   ]
  },
  {
   "cell_type": "code",
   "execution_count": 15,
   "id": "a500a31f-12ce-4a7e-b93e-95a1b2139c26",
   "metadata": {},
   "outputs": [],
   "source": [
    "#Taken from Owen\n",
    "beamgood, beamoff, overlay, dirtoverlay = {}, {}, {}, {}\n",
    "sample_info = {\"beamgood\":beamgood, \"beamoff\":beamoff, \"overlay\":overlay, \"dirtoverlay\":dirtoverlay}\n",
    "runsplit=16880\n",
    "if(Params[\"Run\"]==\"run1\"):\n",
    "    print(\"nope\")\n",
    "else:\n",
    "    sample_info[\"beamgood\"][\"POT_post\"]=9.049e+19\n",
    "    sample_info[\"beamgood\"][\"POT_pre\"]=4.105e+20\n",
    "    sample_info[\"beamgood\"][\"hwtrigs_post\"]=1845342\n",
    "    sample_info[\"beamgood\"][\"hwtrigs_pre\"]=8519685\n",
    "    sample_info[\"beamoff\"][\"hwtrigs_post\"]=14382545.975000\n",
    "    sample_info[\"beamoff\"][\"hwtrigs_pre\"]= 18772346.425000\n",
    "\n",
    "    # i split the MC at 16880 but this is actually somewhat arbitary (the run is just defined by the underlying unbiased event)\n",
    "    # doesnt actually create a very approprieate split. #can also not split MC and just scale all together with updated threshold. (this actually gives best agreement)\n",
    "    #i dont think suprising because we know simualtion vs data light yeild not great especially at low light level.\n",
    "    file=uproot.open(f'../NuMI_MC/SLIMMED_neutrinoselection_filt_'+Params[\"Run\"]+'_overlay.root')[root_dir]\n",
    "    sample_info[\"overlay\"][\"POT_post\"]=sum(file[\"SubRun\"][\"pot\"].array()[file[\"SubRun\"][\"run\"].array()>=runsplit])\n",
    "    sample_info[\"overlay\"][\"POT_pre\"]=sum(file[\"SubRun\"][\"pot\"].array()[file[\"SubRun\"][\"run\"].array()<runsplit])\n",
    "    \n",
    "    file=uproot.open(f'../NuMI_MC/neutrinoselection_filt_'+Params[\"Run\"]+'_dirt_overlay.root')[root_dir]\n",
    "    sample_info[\"dirtoverlay\"][\"POT_post\"]=sum(file[\"SubRun\"][\"pot\"].array()[file[\"SubRun\"][\"run\"].array()>=runsplit])\n",
    "    sample_info[\"dirtoverlay\"][\"POT_pre\"]=sum(file[\"SubRun\"][\"pot\"].array()[file[\"SubRun\"][\"run\"].array()<runsplit])\n",
    "\n",
    "    sample_info[\"dirtoverlay\"][\"NormScale_post\"]=(sample_info[\"beamgood\"][\"POT_post\"]/sample_info[\"dirtoverlay\"][\"POT_post\"])*0.35\n",
    "    sample_info[\"dirtoverlay\"][\"NormScale_pre\"]=(sample_info[\"beamgood\"][\"POT_pre\"]/sample_info[\"dirtoverlay\"][\"POT_pre\"])*0.35\n",
    "\n",
    "    sample_info[\"beamgood\"][\"NormScale\"]=1\n",
    "\n",
    "    sample_info[\"beamoff\"][\"NormScale_pre\"]=(sample_info[\"beamgood\"][\"hwtrigs_pre\"]/sample_info[\"beamoff\"][\"hwtrigs_pre\"])*0.98\n",
    "    sample_info[\"beamoff\"][\"NormScale_post\"]=(sample_info[\"beamgood\"][\"hwtrigs_post\"]/sample_info[\"beamoff\"][\"hwtrigs_post\"])*0.98\n",
    "\n",
    "    sample_info[\"overlay\"][\"NormScale_pre\"]=(sample_info[\"beamgood\"][\"POT_pre\"]/sample_info[\"overlay\"][\"POT_pre\"])\n",
    "    sample_info[\"overlay\"][\"NormScale_post\"]=(sample_info[\"beamgood\"][\"POT_post\"]/sample_info[\"overlay\"][\"POT_post\"])"
   ]
  },
  {
   "cell_type": "code",
   "execution_count": 16,
   "id": "0a6b45fd-6de7-4ff1-89ec-f9f0b4ad3119",
   "metadata": {},
   "outputs": [
    {
     "name": "stdout",
     "output_type": "stream",
     "text": [
      "POTs:\n",
      "overlay pre: 1.536880452623554e+21\n",
      "overlay post: 4.524813975870935e+20\n",
      "dirt pre: 6.014158669098967e+20\n",
      "dirt post: 4.308466313048621e+20\n",
      "\n",
      "Scalings:\n",
      "beamoff pre: 0.4447654603731829\n",
      "beamoff post: 0.12573818037108692\n",
      "overlay pre: 0.26709949970360414\n",
      "overlay post: 0.1999861220429123\n",
      "dirt pre: 0.2388945950797889\n",
      "dirt post: 0.07350991675176778\n"
     ]
    }
   ],
   "source": [
    "print(\"POTs:\")\n",
    "print(\"overlay pre: \" + str(sample_info[\"overlay\"][\"POT_pre\"]))\n",
    "print(\"overlay post: \" + str(sample_info[\"overlay\"][\"POT_post\"]))\n",
    "\n",
    "print(\"dirt pre: \" + str(sample_info[\"dirtoverlay\"][\"POT_pre\"]))\n",
    "print(\"dirt post: \" + str(sample_info[\"dirtoverlay\"][\"POT_post\"]))\n",
    "print()\n",
    "\n",
    "print(\"Scalings:\")\n",
    "print(\"beamoff pre: \" + str(sample_info[\"beamoff\"][\"NormScale_pre\"]))\n",
    "print(\"beamoff post: \" + str(sample_info[\"beamoff\"][\"NormScale_post\"]))\n",
    "\n",
    "print(\"overlay pre: \" + str(sample_info[\"overlay\"][\"NormScale_pre\"]))\n",
    "print(\"overlay post: \" + str(sample_info[\"overlay\"][\"NormScale_post\"]))\n",
    "\n",
    "print(\"dirt pre: \" + str(sample_info[\"dirtoverlay\"][\"NormScale_pre\"]))\n",
    "print(\"dirt post: \" + str(sample_info[\"dirtoverlay\"][\"NormScale_post\"]))"
   ]
  },
  {
   "cell_type": "code",
   "execution_count": 17,
   "id": "27cd11b8-287d-4874-9940-ec7d7707d036",
   "metadata": {},
   "outputs": [],
   "source": [
    "old_trig_samples = {\"overlay\":swtrig[\"overlay\"].query(\"swtrig_pre>0\"),\n",
    "                    \"dirtoverlay\":swtrig[\"dirtoverlay\"].query(\"swtrig_pre>0\"),\n",
    "                    \"beamoff\":swtrig[\"beamoff\"].query(\"swtrig_pre>0\"),\n",
    "                    \"signal\":swtrig[HNL_mass].query(\"swtrig_pre>0\")}\n",
    "\n",
    "new_trig_samples = {\"overlay\":swtrig[\"overlay\"].query(\"swtrig_post>0\"),\n",
    "                    \"dirtoverlay\":swtrig[\"dirtoverlay\"].query(\"swtrig_post>0\"),\n",
    "                    \"beamoff\":swtrig[\"beamoff\"].query(\"swtrig_post>0\"),\n",
    "                    \"signal\":swtrig[HNL_mass].query(\"swtrig_post>0\")}\n",
    "\n",
    "weight_Offbeam=np.ones(len(samples_plotting[\"beamoff\"]['nslice']))*np.where(samples_plotting[\"beamoff\"][\"run\"]<16880, sample_info[\"beamoff\"][\"NormScale_pre\"], sample_info[\"beamoff\"][\"NormScale_post\"])\n",
    "weight_Overlay=samples_plotting[\"overlay\"][\"weight\"]*np.where(samples_plotting[\"overlay\"][\"run\"]<runsplit, sample_info[\"overlay\"][\"NormScale_pre\"], sample_info[\"overlay\"][\"NormScale_post\"])\n",
    "weight_Dirt=samples_plotting[\"dirtoverlay\"][\"weight\"]*np.where(samples_plotting[\"dirtoverlay\"][\"run\"]<runsplit, sample_info[\"dirtoverlay\"][\"NormScale_pre\"], sample_info[\"dirtoverlay\"][\"NormScale_post\"])\n",
    "\n",
    "weight_signal=np.ones(len(samples_plotting[\"signal\"][\"nslice\"]))*sample_norms[\"signal\"]*PLOTSCALE\n",
    "    \n",
    "weights_sample_fixed = {'overlay':weight_Overlay,\n",
    "                      'dirtoverlay':weight_Dirt,\n",
    "                      'beamoff':weight_Offbeam,\n",
    "                      'signal':weight_signal}\n",
    "\n",
    "weight_Offbeam=np.ones(len(old_trig_samples[\"beamoff\"]['nslice']))*np.where(old_trig_samples[\"beamoff\"][\"run\"]<16880, sample_info[\"beamoff\"][\"NormScale_pre\"], sample_info[\"beamoff\"][\"NormScale_post\"])\n",
    "weight_Overlay=old_trig_samples[\"overlay\"][\"weight\"]*np.where(old_trig_samples[\"overlay\"][\"run\"]<runsplit, sample_info[\"overlay\"][\"NormScale_pre\"], sample_info[\"overlay\"][\"NormScale_post\"])\n",
    "weight_Dirt=old_trig_samples[\"dirtoverlay\"][\"weight\"]*np.where(old_trig_samples[\"dirtoverlay\"][\"run\"]<runsplit, sample_info[\"dirtoverlay\"][\"NormScale_pre\"], sample_info[\"dirtoverlay\"][\"NormScale_post\"])\n",
    "\n",
    "weight_signal=np.ones(len(old_trig_samples[\"signal\"][\"nslice\"]))*sample_norms[\"signal\"]*PLOTSCALE\n",
    "    \n",
    "weights_sample_old_trig = {'overlay':weight_Overlay,\n",
    "                      'dirtoverlay':weight_Dirt,\n",
    "                      'beamoff':weight_Offbeam,\n",
    "                      'signal':weight_signal}\n",
    "\n",
    "weight_Offbeam=np.ones(len(new_trig_samples[\"beamoff\"]['nslice']))*np.where(new_trig_samples[\"beamoff\"][\"run\"]<16880, sample_info[\"beamoff\"][\"NormScale_pre\"], sample_info[\"beamoff\"][\"NormScale_post\"])\n",
    "weight_Overlay=new_trig_samples[\"overlay\"][\"weight\"]*np.where(new_trig_samples[\"overlay\"][\"run\"]<runsplit, sample_info[\"overlay\"][\"NormScale_pre\"], sample_info[\"overlay\"][\"NormScale_post\"])\n",
    "weight_Dirt=new_trig_samples[\"dirtoverlay\"][\"weight\"]*np.where(new_trig_samples[\"dirtoverlay\"][\"run\"]<runsplit, sample_info[\"dirtoverlay\"][\"NormScale_pre\"], sample_info[\"dirtoverlay\"][\"NormScale_post\"])\n",
    "\n",
    "weight_signal=np.ones(len(new_trig_samples[\"signal\"][\"nslice\"]))*sample_norms[\"signal\"]*PLOTSCALE\n",
    "    \n",
    "weights_sample_new_trig = {'overlay':weight_Overlay,\n",
    "                      'dirtoverlay':weight_Dirt,\n",
    "                      'beamoff':weight_Offbeam,\n",
    "                      'signal':weight_signal}"
   ]
  },
  {
   "cell_type": "code",
   "execution_count": 18,
   "id": "eee73142-4ba7-4cde-80cd-24c996dedd55",
   "metadata": {},
   "outputs": [
    {
     "name": "stdout",
     "output_type": "stream",
     "text": [
      "Arrow place is [[6.55, 41000.0, 8, 41000.0], [16.5, 41000.0, 15, 41000.0]]\n"
     ]
    }
   ],
   "source": [
    "#Calculate sys\n",
    "Calculate_sys = True\n",
    "variable = 'flash_time'\n",
    "\n",
    "reload(PT)\n",
    "reload(Functions)\n",
    "reload(Constants)\n",
    "reload(Sys_unc)\n",
    "reload(Variables_bins)\n",
    "\n",
    "if Params[\"Run\"] == \"run1\": \n",
    "    flat_sys_vars_dict = Sys_unc.run1_Sys_unc\n",
    "    PLOTSCALE = 240000000\n",
    "if Params[\"Run\"] == \"run3\": \n",
    "    flat_sys_vars_dict = Sys_unc.run3_Sys_unc\n",
    "    PLOTSCALE = 240000000\n",
    "    \n",
    "no_swtrig = \"swtrig_post>-99\"\n",
    "swtrig_new = \"swtrig_post>0\"\n",
    "swtrig_old = \"swtrig_pre>0\"\n",
    "\n",
    "if isinstance(Constants.variable_names_dict[variable],str):x_string = Constants.variable_names_dict[variable]\n",
    "else: x_string=variable\n",
    "if variable=='trk_score_v':ylabel = 'Reconstructed objects'\n",
    "else: ylabel='Events'\n",
    "if variable=='nslice':xticks=[0,1]\n",
    "else: xticks=[]\n",
    "\n",
    "BINS = Variables_bins.Presel_bins[variable]\n",
    "XLIMS = [BINS[0],BINS[-1]]\n",
    "\n",
    "Log_var = Variables_bins.Log_vars[variable]\n",
    "cut_line = Variables_bins.cut_lines[variable]\n",
    "arrow_place = Variables_bins.arrow_places_r3[variable]\n",
    "arrow_place = [[6.55, 4.1e4, 8, 4.1e4], [16.5, 4.1e4, 15, 4.1e4]]\n",
    "print(\"Arrow place is \" + str(arrow_place))\n",
    "\n",
    "Name = \"\"\n",
    "if Params[\"Load_pi0_signal\"] == True: Name = \"pi0/\"\n",
    "if Calculate_sys==True: Sys_name = \"with_sys\"\n",
    "if Calculate_sys==False: Sys_name = \"no_sys\"\n",
    "if arrow_place != []: end_name = \"_arrow\"\n",
    "else: end_name = \"\""
   ]
  },
  {
   "cell_type": "code",
   "execution_count": 19,
   "id": "0bd19833-4882-459e-a660-0384c3a60b04",
   "metadata": {},
   "outputs": [
    {
     "data": {
      "image/png": "[encoded data removed]",
      "text/plain": [
       "<Figure size 1000x1000 with 2 Axes>"
      ]
     },
     "metadata": {},
     "output_type": "display_data"
    }
   ],
   "source": [
    "# PT.Plot_preselection_query(variable, samples_plotting, sample_norms,sample_weights_full=weights_sample_fixed, query=\"swtrig_post>-99\", xlabel=x_string, xlims=XLIMS, bins=BINS, HNL_mass=100,\n",
    "#                                 HNLplotscale=PLOTSCALE,cutline=0.0,legloc=\"best\", show_ev_nums=True, CalcSys=Calculate_sys,logy=False, \n",
    "#                                 xticks = [], sys_dict=flat_sys_vars_dict, centre_bins=False, hatch=False, ylabel=\"Events\", arrow_place=[], legsize=16,\n",
    "#                                 title_name=\"No trigger\")\n",
    "\n",
    "# PT.Plot_preselection_query(variable, samples_plotting, sample_norms,sample_weights_full=weights_sample_old_trig, query=\"swtrig_pre>0\", xlabel=x_string, xlims=XLIMS, bins=BINS, HNL_mass=100,\n",
    "#                                 HNLplotscale=PLOTSCALE,cutline=0.0,legloc=\"best\", show_ev_nums=True, CalcSys=Calculate_sys,logy=False, \n",
    "#                                 xticks = [], sys_dict=flat_sys_vars_dict, centre_bins=False, hatch=False, ylabel=\"Events\", arrow_place=[], legsize=16,\n",
    "#                                 title_name=\"Old trigger\")\n",
    "\n",
    "PT.Plot_preselection_query(variable, samples_plotting, sample_norms, sample_weights_full=weights_sample_new_trig, query=\"swtrig_post>0\",\n",
    "                           xlabel=x_string, xlims=XLIMS, bins=BINS, HNL_mass=100, HNLplotscale=PLOTSCALE, cutline=cut_line,legloc=\"best\",\n",
    "                           show_ev_nums=False, CalcSys=Calculate_sys,logy=Log_var, xticks = [], sys_dict=flat_sys_vars_dict, \n",
    "                           centre_bins=False, hatch=False, ylabel=\"Events\", arrow_place=arrow_place, legsize=16, title_name=\"\")\n",
    "\n",
    "savefig=False\n",
    "\n",
    "Name = \"Split_swtrig_\"\n",
    "if Params[\"Load_pi0_signal\"] == True: Name = \"pi0/\"\n",
    "if Calculate_sys==True: Sys_name = \"with_sys\"\n",
    "if Calculate_sys==False: Sys_name = \"no_sys\"\n",
    "\n",
    "if savefig == True:\n",
    "    plt.savefig(f\"plots/Data_MC_comparison/{Name}Presel_{variable}_\" + Params[\"Run\"] + f\"_{HNL_mass}MeV_{Sys_name}{end_name}.png\")\n",
    "    plt.savefig(f\"plots/Data_MC_comparison/{Name}Presel_{variable}_\" + Params[\"Run\"] + f\"_{HNL_mass}MeV_{Sys_name}{end_name}.pdf\")\n"
   ]
  },
  {
   "cell_type": "code",
   "execution_count": 51,
   "id": "2ad92918-2d79-48e8-baa7-66a261782949",
   "metadata": {},
   "outputs": [
    {
     "name": "stdout",
     "output_type": "stream",
     "text": [
      "Arrow place is []\n"
     ]
    }
   ],
   "source": [
    "#Calculate sys\n",
    "Calculate_sys = True\n",
    "variable = 'n_pfps'\n",
    "\n",
    "reload(PT)\n",
    "reload(Functions)\n",
    "reload(Constants)\n",
    "reload(Sys_unc)\n",
    "reload(Variables_bins)\n",
    "\n",
    "if Params[\"Run\"] == \"run1\": \n",
    "    flat_sys_vars_dict = Sys_unc.run1_Sys_unc\n",
    "    PLOTSCALE = 240000000\n",
    "if Params[\"Run\"] == \"run3\": \n",
    "    flat_sys_vars_dict = Sys_unc.run3_Sys_unc\n",
    "    PLOTSCALE = 240000000\n",
    "    \n",
    "no_swtrig = \"swtrig_post>-99\"\n",
    "swtrig_new = \"swtrig_post>0\"\n",
    "swtrig_old = \"swtrig_pre>0\"\n",
    "\n",
    "if isinstance(Constants.variable_names_dict[variable],str):x_string = Constants.variable_names_dict[variable]\n",
    "else: x_string=variable\n",
    "if variable=='trk_score_v':ylabel = 'Reconstructed objects'\n",
    "else: ylabel='Events'\n",
    "if variable=='nslice':xticks=[0,1]\n",
    "else: xticks=[]\n",
    "\n",
    "BINS = Variables_bins.Presel_bins[variable]\n",
    "XLIMS = [BINS[0],BINS[-1]]\n",
    "\n",
    "Log_var = Variables_bins.Log_vars[variable]\n",
    "cut_line = Variables_bins.cut_lines[variable]\n",
    "cut_line = 0.0\n",
    "arrow_place = Variables_bins.arrow_places_r3[variable]\n",
    "arrow_place = []\n",
    "print(\"Arrow place is \" + str(arrow_place))\n",
    "\n",
    "Name = \"\"\n",
    "if Params[\"Load_pi0_signal\"] == True: Name = \"pi0/\"\n",
    "if Calculate_sys==True: Sys_name = \"with_sys\"\n",
    "if Calculate_sys==False: Sys_name = \"no_sys\"\n",
    "if arrow_place != []: end_name = \"_arrow\"\n",
    "else: end_name = \"\""
   ]
  },
  {
   "cell_type": "code",
   "execution_count": 53,
   "id": "0ff6feae-d800-42a0-8cde-7a73c9412a13",
   "metadata": {},
   "outputs": [
    {
     "data": {
      "image/png": "[encoded data removed]",
      "text/plain": [
       "<Figure size 1000x1000 with 2 Axes>"
      ]
     },
     "metadata": {
      "needs_background": "light"
     },
     "output_type": "display_data"
    }
   ],
   "source": [
    "PT.Plot_preselection_query(variable, samples_plotting, sample_norms, sample_weights_full=weights_sample_new_trig, query=\"swtrig_post>0\",\n",
    "                           xlabel=x_string, xlims=XLIMS, bins=BINS, HNL_mass=100, HNLplotscale=PLOTSCALE, cutline=cut_line,legloc=\"best\",\n",
    "                           show_ev_nums=False, CalcSys=Calculate_sys,logy=Log_var, xticks = [], sys_dict=flat_sys_vars_dict, \n",
    "                           centre_bins=False, hatch=False, ylabel=\"Events\", arrow_place=arrow_place, legsize=16, title_name=\"\")\n",
    "\n",
    "savefig=True\n",
    "\n",
    "Name = \"Split_swtrig_\"\n",
    "if Params[\"Load_pi0_signal\"] == True: Name = \"pi0/\"\n",
    "if Calculate_sys==True: Sys_name = \"with_sys\"\n",
    "if Calculate_sys==False: Sys_name = \"no_sys\"\n",
    "\n",
    "if savefig == True:\n",
    "    plt.savefig(f\"plots/Data_MC_comparison/{Name}Presel_{variable}_\" + Params[\"Run\"] + f\"_{HNL_mass}MeV_{Sys_name}{end_name}.png\")\n",
    "    plt.savefig(f\"plots/Data_MC_comparison/{Name}Presel_{variable}_\" + Params[\"Run\"] + f\"_{HNL_mass}MeV_{Sys_name}{end_name}.pdf\")"
   ]
  },
  {
   "cell_type": "code",
   "execution_count": null,
   "id": "e4abcf85-69e2-4987-bc93-813cd0ec8c38",
   "metadata": {},
   "outputs": [],
   "source": [
    "\n",
    "Plot_preselection_variable_data(variable, samples_plotting, sample_norms,sample_weights_full=weights_sample_fixed, query=\"swtrig_post>-99\", xlabel=x_string, xlims=XLIMS, bins=BINS, HNL_mass=100,\n",
    "                                HNLplotscale=PLOTSCALE,cutline=0.0,legloc=\"best\", show_ev_nums=True, CalcSys=Calculate_sys,logy=False, \n",
    "                                xticks = [0,1], sys_dict=flat_sys_vars_dict, centre_bins=False, hatch=False, ylabel=\"Events\", arrow_place=[], legsize=16,\n",
    "                                title_name=\"No trigger\")\n",
    "\n",
    "Plot_preselection_variable_data(variable, samples_plotting, sample_norms,sample_weights_full=weights_sample_old_trig, query=\"swtrig_pre>0\", xlabel=x_string, xlims=XLIMS, bins=BINS, HNL_mass=100,\n",
    "                                HNLplotscale=PLOTSCALE,cutline=0.0,legloc=\"best\", show_ev_nums=True, CalcSys=Calculate_sys,logy=False, \n",
    "                                xticks = [0,1], sys_dict=flat_sys_vars_dict, centre_bins=False, hatch=False, ylabel=\"Events\", arrow_place=[], legsize=16,\n",
    "                                title_name=\"Old trigger\")\n",
    "\n",
    "Plot_preselection_variable_data(variable, samples_plotting, sample_norms,sample_weights_full=weights_sample_new_trig, query=\"swtrig_post>0\", xlabel=x_string, xlims=XLIMS, bins=BINS, HNL_mass=100,\n",
    "                                HNLplotscale=PLOTSCALE,cutline=0.0,legloc=\"best\", show_ev_nums=False, CalcSys=Calculate_sys,logy=False, \n",
    "                                xticks = [0,1], sys_dict=flat_sys_vars_dict, centre_bins=False, hatch=False, ylabel=\"Events\", arrow_place=[], legsize=16,\n",
    "                                title_name=\"\")\n",
    "\n",
    "Name = \"Split_swtrig_\"\n",
    "if Params[\"Load_pi0_signal\"] == True: Name = \"pi0/\"\n",
    "if Calculate_sys==True: Sys_name = \"with_sys\"\n",
    "if Calculate_sys==False: Sys_name = \"no_sys\"\n",
    "\n",
    "if savefig == True:\n",
    "    plt.savefig(f\"plots/Data_MC_comparison/{Name}Presel_{variable}_\" + Params[\"Run\"] + f\"_{HNL_mass}MeV_{Sys_name}.png\")\n",
    "    plt.savefig(f\"plots/Data_MC_comparison/{Name}Presel_{variable}_\" + Params[\"Run\"] + f\"_{HNL_mass}MeV_{Sys_name}.pdf\")\n"
   ]
  },
  {
   "cell_type": "markdown",
   "id": "b9cefcb2-65f2-4969-bbf8-10de7abfd559",
   "metadata": {},
   "source": [
    "## Plotting just signal"
   ]
  },
  {
   "cell_type": "code",
   "execution_count": null,
   "id": "5a618283-6b9b-4372-ba78-101f7db7c51a",
   "metadata": {},
   "outputs": [],
   "source": [
    "plt.figure(figsize=[10,10])\n",
    "\n",
    "for HNL_mass in Constants.HNL_mass_samples:\n",
    "    plt.plot(np.array(range(1, len(Efficiency_dict[effic])+1)),Efficiency_dict[HNL_mass],label=f\"{HNL_mass} MeV HNL\",lw=4,markersize=15)\n",
    "    \n",
    "plt.ylabel(\"Fraction Selected\")\n",
    "plt.xticks(np.array(range(1, len(Efficiency_dict[effic])+1)),[\"Full sample\"]+list(Preselection_dict.keys()),rotation=80)\n",
    "# plt.yscale(\"log\")\n",
    "plt.legend()\n",
    "\n",
    "plt.savefig(\"plots/Preselection_efficiencies/Signal_only_\"+Params[\"Run\"]+\"_\"+Params[\"Flat_state\"]+\".png\")"
   ]
  },
  {
   "cell_type": "markdown",
   "id": "48699806-e055-4a8d-86cb-b31fb89b838d",
   "metadata": {},
   "source": [
    "# End of code"
   ]
  },
  {
   "cell_type": "code",
   "execution_count": null,
   "id": "be37a71a-b57f-4230-af55-0bfe2fdc5ccf",
   "metadata": {},
   "outputs": [],
   "source": []
  }
 ],
 "metadata": {
  "kernelspec": {
   "display_name": "Python 3 (ipykernel)",
   "language": "python",
   "name": "python3"
  },
  "language_info": {
   "codemirror_mode": {
    "name": "ipython",
    "version": 3
   },
   "file_extension": ".py",
   "mimetype": "text/x-python",
   "name": "python",
   "nbconvert_exporter": "python",
   "pygments_lexer": "ipython3",
   "version": "3.11.3"
  }
 },
 "nbformat": 4,
 "nbformat_minor": 5
}
