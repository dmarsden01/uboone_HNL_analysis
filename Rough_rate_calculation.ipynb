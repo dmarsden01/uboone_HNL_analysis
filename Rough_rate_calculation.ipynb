{
 "cells": [
  {
   "cell_type": "code",
   "execution_count": 3,
   "id": "637345bc-5f34-4570-955e-0c844824e5af",
   "metadata": {},
   "outputs": [
    {
     "name": "stdout",
     "output_type": "stream",
     "text": [
      "Success\n"
     ]
    }
   ],
   "source": [
    "import scipy.special as sp\n",
    "import numpy as np\n",
    "import uproot\n",
    "import csv\n",
    "import matplotlib.pyplot as plt\n",
    "import pandas as pd\n",
    "\n",
    "import Utilities.Constants as Constants\n",
    "import Utilities.Functions as Functions\n",
    "from Utilities.ipython_exit import exit\n",
    "\n",
    "print(\"Success\")"
   ]
  },
  {
   "cell_type": "markdown",
   "id": "d7e6a978-3ac6-4d46-b228-8e3b24633518",
   "metadata": {},
   "source": [
    "## Equation to replicate\n",
    "The first attempt comes from an equation in the HNL to e+e- recast of HPS decays in MicroBooNE paper: https://arxiv.org/abs/2106.06548\n",
    "\n",
    "This has an equation for Majorana HNLs with the HNL mass << muon mass.\n",
    "\n",
    "There are also equations from https://arxiv.org/pdf/0901.3589.pdf on pages 48/49"
   ]
  },
  {
   "cell_type": "code",
   "execution_count": null,
   "id": "b2ffb94d-814d-4c7a-b321-9f0c41b8cb4a",
   "metadata": {},
   "outputs": [],
   "source": [
    "#Constants\n",
    "s_W_squared = 0.231 #sin squared Weinberg, Taken from Wikipedia, rough\n",
    "G_F = 1.1663787e-5 #GeV-2 Fermi couplingconst, Taken from Jinst"
   ]
  },
  {
   "cell_type": "code",
   "execution_count": null,
   "id": "46318975-6829-4b06-9bb6-8f0b2e631f29",
   "metadata": {},
   "outputs": [],
   "source": [
    "# Define a function here, which takes the variables U_mu4 and HNL mass.\n",
    "# Doing all in GeV\n",
    "\n",
    "N_mass = 0.1 #100 MeV\n",
    "U_mu4 = 1e-4\n",
    "Decay_width_2lep = (2*(G_F**2)*(U_mu4**2)*(N_mass**5)/(768*np.pi**3))*(1-4*s_W_squared+8*s_W_squared**2)\n"
   ]
  },
  {
   "cell_type": "code",
   "execution_count": null,
   "id": "cb51e6d1-abbb-4a85-87f2-88a006898a0c",
   "metadata": {},
   "outputs": [],
   "source": [
    "Decay_width_3nu = G_F**2/(96*np.pi**3)*(U_mu4**2)*(N_mass**5) #comes from \"The search for heavy majorana neutrinos\""
   ]
  },
  {
   "cell_type": "markdown",
   "id": "ae0850e2-695d-4b00-a39b-b7f8bc8adfa1",
   "metadata": {},
   "source": [
    "## Genie HNL generator comparison"
   ]
  },
  {
   "cell_type": "code",
   "execution_count": 4,
   "id": "c0bb4998-0e72-4743-9f0e-904f12fa4030",
   "metadata": {},
   "outputs": [],
   "source": [
    "def get_interpolated_vals(x, y, x_vals_wanted):\n",
    "    y_interp = np.interp(x_vals_wanted, x, y)\n",
    "\n",
    "    return y_interp\n",
    "\n",
    "def get_ratio(arr1,arr2):\n",
    "    ratio = np.divide(np.array(arr1), np.array(arr2))\n",
    "    return ratio"
   ]
  },
  {
   "cell_type": "code",
   "execution_count": 49,
   "id": "88558e96-0c5d-4ecb-916f-08feb5f2de2e",
   "metadata": {},
   "outputs": [
    {
     "name": "stdout",
     "output_type": "stream",
     "text": [
      "16000\n",
      "500\n",
      "500\n",
      "500\n",
      "500\n",
      "500\n",
      "500\n",
      "500\n",
      "500\n",
      "500\n",
      "500\n",
      "500\n",
      "500\n",
      "500\n",
      "500\n",
      "500\n",
      "500\n",
      "500\n"
     ]
    }
   ],
   "source": [
    "filename = \"Branching_ratios/new_fixed_factor_feb14/SCAN_again.log\"\n",
    "\n",
    "with open(filename) as f:\n",
    "    lines = f.readlines()\n",
    "\n",
    "nu_channel_majorana, nu_channel_dirac = [], []\n",
    "eplus_eminus_channel, eplus_eminus_channel_dirac = [], []\n",
    "e_mu_channel_majorana, e_mu_channel_dirac = [], []\n",
    "pi0_channel, pi0_channel_dirac = [], []\n",
    "e_pi_channel_majorana, e_pi_channel_dirac = [], []\n",
    "mu_mu_channel_majorana, mu_mu_channel_dirac = [], []\n",
    "mu_pi_channel_majorana, mu_pi_channel_dirac = [], []\n",
    "\n",
    "lifetime_majorana, lifetime_dirac = [], []\n",
    "\n",
    "counter = 0\n",
    "mass_start_point = 0.001 #GeV\n",
    "mass_list = []\n",
    "for line in lines:\n",
    "    if (\"Channel 0\" in line) and ((counter+23) % 32 == 0): #3nu\n",
    "        br_value = float(line.split(\" \")[-1])\n",
    "        width_value = float(line.split(\" \")[-3])\n",
    "        nu_channel_majorana.append(width_value)\n",
    "        mass = mass_start_point*len(nu_channel_majorana)\n",
    "        mass_list.append(mass)\n",
    "    if (\"Channel 1\" in line) and ((counter+22) % 32 == 0): #nuee\n",
    "        br_value = float(line.split(\" \")[-1])\n",
    "        width_value = float(line.split(\" \")[-3])\n",
    "        eplus_eminus_channel.append(width_value)\n",
    "    if (\"Channel 2\" in line) and ((counter+21) % 32 == 0): #numue\n",
    "        br_value = float(line.split(\" \")[-1])\n",
    "        width_value = float(line.split(\" \")[-3])\n",
    "        e_mu_channel_majorana.append(br_value)\n",
    "    if (\"Channel 3\" in line) and ((counter+20) % 32 == 0): #nupi0\n",
    "        br_value = float(line.split(\" \")[-1])\n",
    "        width_value = float(line.split(\" \")[-3])\n",
    "        pi0_channel.append(width_value)\n",
    "    if (\"Channel 4\" in line) and ((counter+19) % 32 == 0): #epi\n",
    "        br_value = float(line.split(\" \")[-1])\n",
    "        width_value = float(line.split(\" \")[-3])\n",
    "        e_pi_channel_majorana.append(width_value)\n",
    "    if (\"Channel 5\" in line) and ((counter+18) % 32 == 0): #numumu\n",
    "        br_value = float(line.split(\" \")[-1])\n",
    "        width_value = float(line.split(\" \")[-3])\n",
    "        mu_mu_channel_majorana.append(width_value)\n",
    "    if (\"Channel 6\" in line) and ((counter+17) % 32 == 0): #mupi\n",
    "        br_value = float(line.split(\" \")[-1])\n",
    "        width_value = float(line.split(\" \")[-3])\n",
    "        mu_pi_channel_majorana.append(width_value)\n",
    "    if (\"lifetime\" in line) and ((counter+24) % 32 == 0):\n",
    "        lifetime_val = float(line.split(\" \")[-1])\n",
    "        lifetime_majorana.append(lifetime_val)\n",
    "        \n",
    "    if (\"Channel 0\" in line) and ((counter+31) % 32 == 0):\n",
    "        br_value = float(line.split(\" \")[-1])\n",
    "        width_value = float(line.split(\" \")[-3])\n",
    "        nu_channel_dirac.append(width_value)\n",
    "    if (\"Channel 1\" in line) and ((counter+30) % 32 == 0):\n",
    "        br_value = float(line.split(\" \")[-1])\n",
    "        width_value = float(line.split(\" \")[-3])\n",
    "        eplus_eminus_channel_dirac.append(width_value) \n",
    "    if (\"Channel 2\" in line) and ((counter+29) % 32 == 0):\n",
    "        br_value = float(line.split(\" \")[-1])\n",
    "        width_value = float(line.split(\" \")[-3])\n",
    "        e_mu_channel_dirac.append(width_value) \n",
    "    if (\"Channel 3\" in line) and ((counter+28) % 32 == 0):\n",
    "        br_value = float(line.split(\" \")[-1])\n",
    "        width_value = float(line.split(\" \")[-3])\n",
    "        pi0_channel_dirac.append(width_value)\n",
    "    if (\"Channel 4\" in line) and ((counter+27) % 32 == 0):\n",
    "        br_value = float(line.split(\" \")[-1])\n",
    "        width_value = float(line.split(\" \")[-3])\n",
    "        e_pi_channel_dirac.append(width_value)\n",
    "    if (\"Channel 5\" in line) and ((counter+26) % 32 == 0):\n",
    "        br_value = float(line.split(\" \")[-1])\n",
    "        width_value = float(line.split(\" \")[-3])\n",
    "        mu_mu_channel_dirac.append(width_value)\n",
    "    if (\"Channel 6\" in line) and ((counter+25) % 32 == 0):\n",
    "        br_value = float(line.split(\" \")[-1])\n",
    "        width_value = float(line.split(\" \")[-3])\n",
    "        mu_pi_channel_dirac.append(width_value)\n",
    "    if (\"lifetime\" in line) and ((counter+32) % 32 == 0):\n",
    "        lifetime_val = float(line.split(\" \")[-1])\n",
    "        lifetime_dirac.append(lifetime_val)\n",
    "    counter += 1\n",
    "    \n",
    "print(counter)\n",
    "print(len(mass_list))\n",
    "print(len(lifetime_majorana))\n",
    "print(len(lifetime_dirac))\n",
    "BR_list_maj = [nu_channel_majorana, eplus_eminus_channel, e_mu_channel_majorana, pi0_channel, e_pi_channel_majorana,\n",
    "               mu_mu_channel_majorana, mu_pi_channel_majorana]\n",
    "BR_list_dir = [nu_channel_dirac, eplus_eminus_channel_dirac, e_mu_channel_dirac, pi0_channel_dirac, \n",
    "               e_pi_channel_dirac, mu_mu_channel_dirac, mu_pi_channel_dirac]\n",
    "\n",
    "for l in BR_list_maj:\n",
    "    print(len(l))\n",
    "for m in BR_list_dir:\n",
    "    print(len(m))"
   ]
  },
  {
   "cell_type": "code",
   "execution_count": 50,
   "id": "91a80668-8292-4923-bed7-f56c3be6777d",
   "metadata": {},
   "outputs": [
    {
     "name": "stdout",
     "output_type": "stream",
     "text": [
      "<class 'numpy.ndarray'>\n"
     ]
    },
    {
     "data": {
      "text/html": [
       "<div>\n",
       "<style scoped>\n",
       "    .dataframe tbody tr th:only-of-type {\n",
       "        vertical-align: middle;\n",
       "    }\n",
       "\n",
       "    .dataframe tbody tr th {\n",
       "        vertical-align: top;\n",
       "    }\n",
       "\n",
       "    .dataframe thead th {\n",
       "        text-align: right;\n",
       "    }\n",
       "</style>\n",
       "<table border=\"1\" class=\"dataframe\">\n",
       "  <thead>\n",
       "    <tr style=\"text-align: right;\">\n",
       "      <th></th>\n",
       "      <th>mass</th>\n",
       "      <th>lifetime</th>\n",
       "      <th>width_3nu</th>\n",
       "      <th>width_e+e-</th>\n",
       "      <th>width_nu_pi0</th>\n",
       "      <th>width_e_mu</th>\n",
       "      <th>width_e_pi</th>\n",
       "      <th>width_mu_mu</th>\n",
       "      <th>width_mu_pi</th>\n",
       "    </tr>\n",
       "  </thead>\n",
       "  <tbody>\n",
       "    <tr>\n",
       "      <th>0</th>\n",
       "      <td>0.001</td>\n",
       "      <td>2.880240e+21</td>\n",
       "      <td>2.285270e-37</td>\n",
       "      <td>0.000000e+00</td>\n",
       "      <td>0.0</td>\n",
       "      <td>0.0</td>\n",
       "      <td>0.0</td>\n",
       "      <td>0.0</td>\n",
       "      <td>0.0</td>\n",
       "    </tr>\n",
       "    <tr>\n",
       "      <th>1</th>\n",
       "      <td>0.002</td>\n",
       "      <td>8.707880e+19</td>\n",
       "      <td>7.312850e-36</td>\n",
       "      <td>2.459550e-37</td>\n",
       "      <td>0.0</td>\n",
       "      <td>0.0</td>\n",
       "      <td>0.0</td>\n",
       "      <td>0.0</td>\n",
       "      <td>0.0</td>\n",
       "    </tr>\n",
       "    <tr>\n",
       "      <th>2</th>\n",
       "      <td>0.003</td>\n",
       "      <td>1.106210e+19</td>\n",
       "      <td>5.553200e-35</td>\n",
       "      <td>3.969360e-36</td>\n",
       "      <td>0.0</td>\n",
       "      <td>0.0</td>\n",
       "      <td>0.0</td>\n",
       "      <td>0.0</td>\n",
       "      <td>0.0</td>\n",
       "    </tr>\n",
       "    <tr>\n",
       "      <th>3</th>\n",
       "      <td>0.004</td>\n",
       "      <td>2.576370e+18</td>\n",
       "      <td>2.340110e-34</td>\n",
       "      <td>2.146940e-35</td>\n",
       "      <td>0.0</td>\n",
       "      <td>0.0</td>\n",
       "      <td>0.0</td>\n",
       "      <td>0.0</td>\n",
       "      <td>0.0</td>\n",
       "    </tr>\n",
       "    <tr>\n",
       "      <th>4</th>\n",
       "      <td>0.005</td>\n",
       "      <td>8.359870e+17</td>\n",
       "      <td>7.141460e-34</td>\n",
       "      <td>7.320110e-35</td>\n",
       "      <td>0.0</td>\n",
       "      <td>0.0</td>\n",
       "      <td>0.0</td>\n",
       "      <td>0.0</td>\n",
       "      <td>0.0</td>\n",
       "    </tr>\n",
       "  </tbody>\n",
       "</table>\n",
       "</div>"
      ],
      "text/plain": [
       "    mass      lifetime     width_3nu    width_e+e-  width_nu_pi0  width_e_mu  \\\n",
       "0  0.001  2.880240e+21  2.285270e-37  0.000000e+00           0.0         0.0   \n",
       "1  0.002  8.707880e+19  7.312850e-36  2.459550e-37           0.0         0.0   \n",
       "2  0.003  1.106210e+19  5.553200e-35  3.969360e-36           0.0         0.0   \n",
       "3  0.004  2.576370e+18  2.340110e-34  2.146940e-35           0.0         0.0   \n",
       "4  0.005  8.359870e+17  7.141460e-34  7.320110e-35           0.0         0.0   \n",
       "\n",
       "   width_e_pi  width_mu_mu  width_mu_pi  \n",
       "0         0.0          0.0          0.0  \n",
       "1         0.0          0.0          0.0  \n",
       "2         0.0          0.0          0.0  \n",
       "3         0.0          0.0          0.0  \n",
       "4         0.0          0.0          0.0  "
      ]
     },
     "execution_count": 50,
     "metadata": {},
     "output_type": "execute_result"
    }
   ],
   "source": [
    "print(type(np.array(mass_list)))\n",
    "mass_for_df = np.array(mass_list)\n",
    "lifetime_for_df = np.array(lifetime_dirac)\n",
    "three_nu_for_df = np.array(nu_channel_dirac)\n",
    "ee_for_df = np.array(eplus_eminus_channel_dirac)\n",
    "e_mu_for_df = np.array(e_mu_channel_dirac)\n",
    "pi0_for_df = np.array(pi0_channel_dirac)\n",
    "e_pi_for_df = np.array(e_pi_channel_dirac)\n",
    "mu_mu_for_df = np.array(mu_mu_channel_dirac)\n",
    "mu_pi_for_df = np.array(mu_pi_channel_dirac)\n",
    "\n",
    "dict_for_dirac = {\"mass\":mass_for_df, \"lifetime\":lifetime_for_df, \"width_3nu\":three_nu_for_df, \"width_e+e-\":ee_for_df, \"width_nu_pi0\":pi0_for_df,\n",
    "                  \"width_e_mu\":e_mu_for_df,\"width_e_pi\":e_pi_for_df, \"width_mu_mu\":mu_mu_for_df, \"width_mu_pi\":mu_pi_for_df}\n",
    "\n",
    "df_dirac = pd.DataFrame(dict_for_dirac)\n",
    "df_dirac.to_csv(\"Branching_ratios/new_fixed_factor_feb14/Genie_Dirac_widths.csv\")\n",
    "df_dirac.head()"
   ]
  },
  {
   "cell_type": "code",
   "execution_count": 55,
   "id": "d9d004c2-f1ea-4d6e-b74b-e46a14c85828",
   "metadata": {},
   "outputs": [
    {
     "name": "stdout",
     "output_type": "stream",
     "text": [
      "388\n",
      "388\n",
      "387\n",
      "254\n",
      "\n",
      "388\n",
      "388\n",
      "388\n",
      "388\n"
     ]
    }
   ],
   "source": [
    "filename = \"Branching_ratios/new_fixed_factor_feb14/Pawel_dirac_mu.log\"\n",
    "\n",
    "with open(filename) as f:\n",
    "    lines = f.readlines()\n",
    "\n",
    "nu_channel_majorana, nu_channel_dirac = [], []\n",
    "eplus_eminus_channel, eplus_eminus_channel_dirac = [], []\n",
    "e_mu_channel_majorana, e_mu_channel_dirac = [], []\n",
    "pi0_channel, pi0_channel_dirac = [], []\n",
    "e_pi_channel_majorana, e_pi_channel_dirac = [], []\n",
    "mu_mu_channel_majorana, mu_mu_channel_dirac = [], []\n",
    "mu_pi_channel_majorana, mu_pi_channel_dirac = [], []\n",
    "\n",
    "lifetime_majorana, lifetime_dirac = [], []\n",
    "\n",
    "counter = 0\n",
    "mass_start_point = 0.001 #GeV\n",
    "mass_list = []\n",
    "\n",
    "for line in lines:\n",
    "    if (\"N -> nu nu nu\" in line): #3nu\n",
    "        width_str = line.split(\" \")[-2]\n",
    "        # print(width_str)\n",
    "        width_value = float(width_str.split(\"=\")[-1])\n",
    "        nu_channel_majorana.append(width_value)\n",
    "        mass = mass_start_point*len(nu_channel_majorana)\n",
    "        mass_list.append(mass)\n",
    "    if (\" N+ -> nu e- e+\" in line): #nu e+e-\n",
    "        width_str = line.split(\" \")[-4]\n",
    "        width_value = float(width_str.split(\"=\")[-1])\n",
    "        eplus_eminus_channel.append(width_value) #Pawel said not to multiply by 2\n",
    "    if (\" N+ -> nu pi0\" in line): #nu pi0\n",
    "        width_str = line.split(\" \")[-2]\n",
    "        width_value = float(width_str.split(\"=\")[-1])\n",
    "        pi0_channel.append(width_value)\n",
    "\n",
    "print(len(mass_list))\n",
    "print(len(nu_channel_majorana))\n",
    "print(len(eplus_eminus_channel))\n",
    "print(len(pi0_channel))\n",
    "\n",
    "#Need to fill the start of the lists with zeros, where there are no entries\n",
    "difference_eplus_eminus = len(nu_channel_majorana) - len(eplus_eminus_channel)\n",
    "for i in range(0,difference_eplus_eminus):\n",
    "    eplus_eminus_channel = [0] + eplus_eminus_channel\n",
    "    \n",
    "difference_pi0 = len(nu_channel_majorana) - len(pi0_channel)\n",
    "for i in range(0,difference_pi0):\n",
    "    pi0_channel = [0] + pi0_channel\n",
    "\n",
    "print()\n",
    "print(len(mass_list))\n",
    "print(len(nu_channel_majorana))\n",
    "print(len(eplus_eminus_channel))\n",
    "print(len(pi0_channel))"
   ]
  },
  {
   "cell_type": "code",
   "execution_count": 56,
   "id": "d09dfe4a-bbaf-486a-a024-9a715c046fd7",
   "metadata": {},
   "outputs": [
    {
     "data": {
      "text/html": [
       "<div>\n",
       "<style scoped>\n",
       "    .dataframe tbody tr th:only-of-type {\n",
       "        vertical-align: middle;\n",
       "    }\n",
       "\n",
       "    .dataframe tbody tr th {\n",
       "        vertical-align: top;\n",
       "    }\n",
       "\n",
       "    .dataframe thead th {\n",
       "        text-align: right;\n",
       "    }\n",
       "</style>\n",
       "<table border=\"1\" class=\"dataframe\">\n",
       "  <thead>\n",
       "    <tr style=\"text-align: right;\">\n",
       "      <th></th>\n",
       "      <th>mass</th>\n",
       "      <th>width_3nu</th>\n",
       "      <th>width_e+e-</th>\n",
       "      <th>width_nu_pi0</th>\n",
       "    </tr>\n",
       "  </thead>\n",
       "  <tbody>\n",
       "    <tr>\n",
       "      <th>0</th>\n",
       "      <td>0.001</td>\n",
       "      <td>2.285220e-37</td>\n",
       "      <td>0.000000e+00</td>\n",
       "      <td>0.0</td>\n",
       "    </tr>\n",
       "    <tr>\n",
       "      <th>1</th>\n",
       "      <td>0.002</td>\n",
       "      <td>7.312710e-36</td>\n",
       "      <td>4.625490e-37</td>\n",
       "      <td>0.0</td>\n",
       "    </tr>\n",
       "    <tr>\n",
       "      <th>2</th>\n",
       "      <td>0.003</td>\n",
       "      <td>5.553090e-35</td>\n",
       "      <td>6.884500e-36</td>\n",
       "      <td>0.0</td>\n",
       "    </tr>\n",
       "    <tr>\n",
       "      <th>3</th>\n",
       "      <td>0.004</td>\n",
       "      <td>2.340070e-34</td>\n",
       "      <td>3.603220e-35</td>\n",
       "      <td>0.0</td>\n",
       "    </tr>\n",
       "    <tr>\n",
       "      <th>4</th>\n",
       "      <td>0.005</td>\n",
       "      <td>7.141320e-34</td>\n",
       "      <td>1.213290e-34</td>\n",
       "      <td>0.0</td>\n",
       "    </tr>\n",
       "  </tbody>\n",
       "</table>\n",
       "</div>"
      ],
      "text/plain": [
       "    mass     width_3nu    width_e+e-  width_nu_pi0\n",
       "0  0.001  2.285220e-37  0.000000e+00           0.0\n",
       "1  0.002  7.312710e-36  4.625490e-37           0.0\n",
       "2  0.003  5.553090e-35  6.884500e-36           0.0\n",
       "3  0.004  2.340070e-34  3.603220e-35           0.0\n",
       "4  0.005  7.141320e-34  1.213290e-34           0.0"
      ]
     },
     "execution_count": 56,
     "metadata": {},
     "output_type": "execute_result"
    }
   ],
   "source": [
    "mass_for_df = np.array(mass_list)\n",
    "three_nu_for_df = np.array(nu_channel_majorana)\n",
    "ee_for_df = np.array(eplus_eminus_channel)\n",
    "pi0_for_df = np.array(pi0_channel)\n",
    "\n",
    "dict_for_df = {\"mass\":mass_for_df, \"width_3nu\":three_nu_for_df, \"width_e+e-\":ee_for_df, \"width_nu_pi0\":pi0_for_df}\n",
    "\n",
    "df_dirac = pd.DataFrame(dict_for_df)\n",
    "df_dirac.to_csv(\"Branching_ratios/new_fixed_factor_feb14/Pawel_Dirac_widths.csv\")\n",
    "df_dirac.head()"
   ]
  },
  {
   "cell_type": "code",
   "execution_count": 57,
   "id": "a8e6c4c7-e8c4-41a5-b8b7-9e426f0044a3",
   "metadata": {},
   "outputs": [],
   "source": [
    "cols = ['Mass','Value']\n",
    "Davide_ee = pd.read_csv(\"Branching_ratios/Davide_ee_mu_like.csv\",names=cols)\n",
    "Davide_pi0 = pd.read_csv(\"Branching_ratios/Davide_pi0_mu_like.csv\",names=cols)\n",
    "\n",
    "cols_Pawel_new = [\"mass\", \"lifetime [ns]\", \"BR 3nu\", \"BR epi\", \"BR mupi\", \"BR nupi0\", \"BR nue+e-\", \n",
    "                  \"BR e+mu-\", \"BR e-mu+\", \"BR mu+mu-\"]\n",
    "cols_Genie = [\"mass\", \"lifetime\",  \"BR e+e-\",  \"BR nu pi0\"]\n",
    "\n",
    "Pawel_new_maj_mu = pd.read_csv(\"Branching_ratios/new_fixed_factor_feb14/br_major_mu.txt\",names=cols_Pawel_new, sep=\" \")\n",
    "Pawel_new_dir_mu = pd.read_csv(\"Branching_ratios/new_fixed_factor_feb14/br_dirac_mu.txt\",names=cols_Pawel_new, sep=\" \")\n",
    "Genie_new_maj_nu = pd.read_csv(\"Branching_ratios/new_fixed_factor_feb14/Genie_Majorana_new.csv\")\n",
    "Genie_new_dir_nu = pd.read_csv(\"Branching_ratios/new_fixed_factor_feb14/Genie_Dirac_new.csv\")\n",
    "\n",
    "Pawel_new_maj_widths = pd.read_csv(\"Branching_ratios/new_fixed_factor_feb14/Pawel_Majorana_widths.csv\")\n",
    "Pawel_new_dir_widths = pd.read_csv(\"Branching_ratios/new_fixed_factor_feb14/Pawel_Dirac_widths.csv\")\n",
    "Genie_new_maj_widths = pd.read_csv(\"Branching_ratios/new_fixed_factor_feb14/Genie_Majorana_widths.csv\")\n",
    "Genie_new_dir_widths = pd.read_csv(\"Branching_ratios/new_fixed_factor_feb14/Genie_Dirac_widths.csv\")\n",
    "\n",
    "# DUNE_ee = pd.read_csv(\"Branching_ratios/DUNE_ND_BR_ee.csv\",names=cols)\n",
    "# DUNE_3nu = pd.read_csv(\"Branching_ratios/DUNE_ND_BR_3nu.csv\",names=cols)\n",
    "# DUNE_nupi = pd.read_csv(\"Branching_ratios/DUNE_ND_BR_nupi.csv\",names=cols)"
   ]
  },
  {
   "cell_type": "code",
   "execution_count": 26,
   "id": "4c7c4c7d-ba54-4439-adf6-c4e7ac9b6576",
   "metadata": {},
   "outputs": [
    {
     "data": {
      "text/plain": [
       "Index(['Unnamed: 0', 'mass', 'width_3nu', 'width_e+e-', 'width_nu_pi0'], dtype='object')"
      ]
     },
     "execution_count": 26,
     "metadata": {},
     "output_type": "execute_result"
    }
   ],
   "source": [
    "Pawel_new_maj_widths.keys()\n"
   ]
  },
  {
   "cell_type": "code",
   "execution_count": 27,
   "id": "80d8d2e6-033e-42df-a9d4-130cffcb5376",
   "metadata": {},
   "outputs": [
    {
     "data": {
      "text/html": [
       "<div>\n",
       "<style scoped>\n",
       "    .dataframe tbody tr th:only-of-type {\n",
       "        vertical-align: middle;\n",
       "    }\n",
       "\n",
       "    .dataframe tbody tr th {\n",
       "        vertical-align: top;\n",
       "    }\n",
       "\n",
       "    .dataframe thead th {\n",
       "        text-align: right;\n",
       "    }\n",
       "</style>\n",
       "<table border=\"1\" class=\"dataframe\">\n",
       "  <thead>\n",
       "    <tr style=\"text-align: right;\">\n",
       "      <th></th>\n",
       "      <th>Unnamed: 0</th>\n",
       "      <th>mass</th>\n",
       "      <th>width_3nu</th>\n",
       "      <th>width_e+e-</th>\n",
       "      <th>width_nu_pi0</th>\n",
       "    </tr>\n",
       "  </thead>\n",
       "  <tbody>\n",
       "    <tr>\n",
       "      <th>0</th>\n",
       "      <td>0</td>\n",
       "      <td>0.001</td>\n",
       "      <td>4.570440e-37</td>\n",
       "      <td>0.000000e+00</td>\n",
       "      <td>0.0</td>\n",
       "    </tr>\n",
       "    <tr>\n",
       "      <th>1</th>\n",
       "      <td>1</td>\n",
       "      <td>0.002</td>\n",
       "      <td>1.462540e-35</td>\n",
       "      <td>1.850196e-36</td>\n",
       "      <td>0.0</td>\n",
       "    </tr>\n",
       "    <tr>\n",
       "      <th>2</th>\n",
       "      <td>2</td>\n",
       "      <td>0.003</td>\n",
       "      <td>1.110620e-34</td>\n",
       "      <td>2.753800e-35</td>\n",
       "      <td>0.0</td>\n",
       "    </tr>\n",
       "    <tr>\n",
       "      <th>3</th>\n",
       "      <td>3</td>\n",
       "      <td>0.004</td>\n",
       "      <td>4.680130e-34</td>\n",
       "      <td>1.441290e-34</td>\n",
       "      <td>0.0</td>\n",
       "    </tr>\n",
       "    <tr>\n",
       "      <th>4</th>\n",
       "      <td>4</td>\n",
       "      <td>0.005</td>\n",
       "      <td>1.428260e-33</td>\n",
       "      <td>4.853160e-34</td>\n",
       "      <td>0.0</td>\n",
       "    </tr>\n",
       "  </tbody>\n",
       "</table>\n",
       "</div>"
      ],
      "text/plain": [
       "   Unnamed: 0   mass     width_3nu    width_e+e-  width_nu_pi0\n",
       "0           0  0.001  4.570440e-37  0.000000e+00           0.0\n",
       "1           1  0.002  1.462540e-35  1.850196e-36           0.0\n",
       "2           2  0.003  1.110620e-34  2.753800e-35           0.0\n",
       "3           3  0.004  4.680130e-34  1.441290e-34           0.0\n",
       "4           4  0.005  1.428260e-33  4.853160e-34           0.0"
      ]
     },
     "execution_count": 27,
     "metadata": {},
     "output_type": "execute_result"
    }
   ],
   "source": [
    "Pawel_new_maj_widths.head()"
   ]
  },
  {
   "cell_type": "code",
   "execution_count": 70,
   "id": "b59c6091-e8c0-48f5-8955-ea816f1f9d47",
   "metadata": {},
   "outputs": [
    {
     "data": {
      "image/png": "[encoded data removed]",
      "text/plain": [
       "<Figure size 720x432 with 1 Axes>"
      ]
     },
     "metadata": {
      "needs_background": "light"
     },
     "output_type": "display_data"
    }
   ],
   "source": [
    "colour_3nu = \"orange\"\n",
    "colour_ee = \"red\"\n",
    "colour_pi0 = \"blue\"\n",
    "plt.rc('font', size=22)\n",
    "plt.figure(figsize=(10,6))\n",
    "# plt.title(\"HNL Generator Branching Ratios (Dirac)\", fontsize=24)\n",
    "# plt.plot(Pawel_new_maj_mu[\"mass\"], Pawel_new_maj_mu[\"BR 3nu\"], label = r\"$N \\rightarrow \\nu \\nu \\nu$\", lw=3, color = colour_3nu)\n",
    "# plt.plot(Pawel_new_maj_mu[\"mass\"], Pawel_new_maj_mu[\"BR nue+e-\"], label = r\"$N \\rightarrow \\nu e^{+}e^{-}$\", lw=3, color = colour_ee)\n",
    "# plt.plot(Pawel_new_maj_mu[\"mass\"], Pawel_new_maj_mu[\"BR nupi0\"], label = r\"$N \\rightarrow \\nu\\pi^{0}$\", lw=3, color = colour_pi0)\n",
    "# # plt.plot(Pawel_new_maj_mu[\"mass\"], Pawel_new_maj_mu[\"BR mupi\"], label = r\"$N \\rightarrow \\mu\\pi$\", lw=3, color = \"green\")\n",
    "\n",
    "# plt.plot(Genie_new_maj_nu[\"mass\"], Genie_new_maj_nu[\"BR_3nu\"], label = r\"Genie $\\nu \\nu \\nu$\", lw=3, color = colour_3nu, linestyle=\"dashed\")\n",
    "# plt.plot(Genie_new_maj_nu[\"mass\"], Genie_new_maj_nu[\"BR_e+e-\"], label = r\"Genie $\\nu e^{+}e^{-}$\", lw=3, color = colour_ee, linestyle=\"dashed\")\n",
    "# plt.plot(Genie_new_maj_nu[\"mass\"], Genie_new_maj_nu[\"BR_nu_pi0\"], label = r\"Genie $\\nu\\pi^0$\", lw=3, color = colour_pi0, linestyle=\"dashed\")\n",
    "\n",
    "#widths\n",
    "plt.plot(Pawel_new_maj_widths[\"mass\"], Pawel_new_maj_widths[\"width_3nu\"], label = r\"$\\Gamma (N \\rightarrow \\nu \\overline{\\nu} \\nu)$\", lw=3, color = colour_3nu)\n",
    "plt.plot(Pawel_new_maj_widths[\"mass\"], Pawel_new_maj_widths[\"width_e+e-\"], label = r\"$\\Gamma (N \\rightarrow \\nu e^{+}e^{-})$\", lw=3, color = colour_ee)\n",
    "plt.plot(Pawel_new_maj_widths[\"mass\"], Pawel_new_maj_widths[\"width_nu_pi0\"], label = r\"$\\Gamma (N \\rightarrow \\nu\\pi^{0})$\", lw=3, color = colour_pi0)\n",
    "\n",
    "# plt.plot(Pawel_new_dir_widths[\"mass\"], Pawel_new_dir_widths[\"width_3nu\"], label = r\"Pawel Dirac $\\Gamma \\nu \\nu \\nu$\", lw=3, color = colour_3nu,linestyle=\"dashed\")\n",
    "# plt.plot(Pawel_new_dir_widths[\"mass\"], Pawel_new_dir_widths[\"width_e+e-\"], label = r\"Pawel Dirac $\\Gamma \\nu e^{+}e^{-}$\", lw=3, color = colour_ee,linestyle=\"dashed\")\n",
    "# plt.plot(Pawel_new_dir_widths[\"mass\"], Pawel_new_dir_widths[\"width_nu_pi0\"], label = r\"Pawel Dirac $\\Gamma \\nu\\pi^{0}$\", lw=3, color = colour_pi0,linestyle=\"dashed\")\n",
    "\n",
    "# plt.plot(Genie_new_maj_widths[\"mass\"], Genie_new_maj_widths[\"width_3nu\"], label = r\"Genie Maj $\\Gamma \\nu \\nu \\nu$\", lw=3, color = colour_3nu,linestyle=\"dashed\")\n",
    "# plt.plot(Genie_new_maj_widths[\"mass\"], Genie_new_maj_widths[\"width_e+e-\"], label = r\"Genie Maj $\\Gamma \\nu e^{+}e^{-}$\", lw=3, color = colour_ee,linestyle=\"dashed\")\n",
    "# plt.plot(Genie_new_maj_widths[\"mass\"], Genie_new_maj_widths[\"width_nu_pi0\"], label = r\"Genie Maj $\\Gamma \\nu\\pi^{0}$\", lw=3, color = colour_pi0,linestyle=\"dashed\")\n",
    "\n",
    "# plt.plot(Genie_new_dir_widths[\"mass\"], Genie_new_dir_widths[\"width_3nu\"], label = r\"Genie Dirac $\\Gamma \\nu \\nu \\nu$\", lw=3, color = colour_3nu)\n",
    "# plt.plot(Genie_new_dir_widths[\"mass\"], Genie_new_dir_widths[\"width_e+e-\"], label = r\"Genie Dirac $\\Gamma \\nu e^{+}e^{-}$\", lw=3, color = colour_ee)\n",
    "# plt.plot(Genie_new_dir_widths[\"mass\"], Genie_new_dir_widths[\"width_nu_pi0\"], label = r\"Genie Dirac $\\Gamma \\nu\\pi^{0}$\", lw=3, color = colour_pi0)\n",
    "\n",
    "# plt.plot(Pawel_new_dir_mu[\"mass\"], Pawel_new_dir_mu[\"BR 3nu\"], label = r\"Gelato $3\\nu$\", lw=3, color = colour_3nu)\n",
    "# plt.plot(Pawel_new_dir_mu[\"mass\"], Pawel_new_dir_mu[\"BR nue+e-\"], label = r\"Gelato $\\nu e^{+}e^{-}$\", lw=3, color = colour_ee)\n",
    "# plt.plot(Pawel_new_dir_mu[\"mass\"], Pawel_new_dir_mu[\"BR nupi0\"], label = r\"Gelato $\\nu\\pi^{0}$\", lw=3, color = colour_pi0)\n",
    "# plt.plot(Genie_new_dir_nu[\"mass\"], Genie_new_dir_nu[\"BR_3nu\"], label = r\"Genie Dirac $3\\nu$\", lw=3, color = colour_3nu, linestyle=\"dashed\")\n",
    "# plt.plot(Genie_new_dir_nu[\"mass\"], Genie_new_dir_nu[\"BR_e+e-\"], label = r\"Genie Dirac $\\nu e^{+}e^{-}$\", lw=3, color = colour_ee, linestyle=\"dashed\")\n",
    "# plt.plot(Genie_new_dir_nu[\"mass\"], Genie_new_dir_nu[\"BR_nu_pi0\"], label = r\"Genie Dirac $\\nu\\pi^0$\", lw=3, color = colour_pi0, linestyle=\"dashed\")\n",
    "\n",
    "# plt.plot(DUNE_ee[\"Mass\"], DUNE_ee['Value'], label = r\"Paper $\\nu e^{+}e^{-}$\", lw=3, color = colour_ee)\n",
    "# plt.plot(DUNE_3nu[\"Mass\"], DUNE_3nu['Value'], label = r\"Paper $3\\nu$\", lw=3, color = colour_3nu)\n",
    "# plt.plot(DUNE_nupi[\"Mass\"], DUNE_nupi['Value'], label = r\"Paper $\\nu\\pi^0$\", lw=3, color = colour_pi0)\n",
    "\n",
    "# plt.ylim(1e-3,1.0)\n",
    "plt.xlim(0,0.3)\n",
    "plt.ylabel(\"Decay widths\", fontsize=24)\n",
    "plt.xlabel(\"Mass [GeV]\", fontsize=24)\n",
    "plt.yscale(\"log\")\n",
    "plt.legend(fontsize=22, loc=\"best\")\n",
    "plt.tight_layout()\n",
    "\n",
    "savename = \"Widths_Majorana\"\n",
    "plt.savefig(\"plots/Generator/\"+savename+\".pdf\")\n",
    "plt.savefig(\"plots/Generator/\"+savename+\".png\")"
   ]
  },
  {
   "cell_type": "markdown",
   "id": "93cdf8a7-6118-4800-b17d-a5216dd4e602",
   "metadata": {},
   "source": [
    "## Lifetimes"
   ]
  },
  {
   "cell_type": "code",
   "execution_count": 5,
   "id": "4a4fa131-526b-4df6-b77c-6399957a6653",
   "metadata": {},
   "outputs": [],
   "source": [
    "x_vals = [0.002,0.010,0.020,0.050,0.100,0.150,0.180,0.200,0.220,0.240,0.245]\n",
    "BR_Genie_interp = get_interpolated_vals(Genie_new_maj_nu[\"mass\"], Genie_new_maj_nu[\"lifetime\"], x_vals)\n",
    "BR_Pawel_interp = get_interpolated_vals(Pawel_new_maj_mu[\"mass\"], Pawel_new_maj_mu[\"lifetime [ns]\"], x_vals) "
   ]
  },
  {
   "cell_type": "code",
   "execution_count": 6,
   "id": "84d2842a-7bde-4d19-8365-058f2f350a61",
   "metadata": {},
   "outputs": [
    {
     "name": "stdout",
     "output_type": "stream",
     "text": [
      "[4.35394e+19 1.28662e+16 4.00357e+14 4.09480e+12 1.27940e+11 6.93121e+09\n",
      " 1.08211e+09 5.26708e+08 3.04858e+08 1.95503e+08 1.76964e+08]\n",
      "[4.23273e+19 1.20658e+16 3.75026e+14 3.83433e+12 1.19796e+11 6.70087e+09\n",
      " 1.05940e+09 5.14409e+08 2.96528e+08 1.88950e+08 1.70740e+08]\n"
     ]
    }
   ],
   "source": [
    "print(BR_Genie_interp)\n",
    "print(BR_Pawel_interp)\n",
    "\n",
    "4.09480e+12 #Genie\n",
    "3.83433e+12 #Pawel"
   ]
  },
  {
   "cell_type": "code",
   "execution_count": 28,
   "id": "28c26855-97f1-467e-bede-1bda721ee0f7",
   "metadata": {},
   "outputs": [
    {
     "data": {
      "image/png": "[encoded data removed]",
      "text/plain": [
       "<Figure size 720x432 with 1 Axes>"
      ]
     },
     "metadata": {
      "needs_background": "light"
     },
     "output_type": "display_data"
    }
   ],
   "source": [
    "plt.rc('font', size=22)\n",
    "plt.figure(figsize=(10,6))\n",
    "# plt.title(\"HNL Generator Branching Ratios (Dirac)\", fontsize=24)\n",
    "# plt.plot(Pawel_new_maj_mu[\"mass\"], Pawel_new_maj_mu[\"lifetime [ns]\"], label = r\"Gelato Maj. lifetime\", lw=3)\n",
    "# plt.plot(Genie_new_maj_nu[\"mass\"], Genie_new_maj_nu[\"lifetime\"], label = r\"Genie Maj. lifetime\", lw=3, linestyle=\"dashed\")\n",
    "plt.plot(Pawel_new_dir_mu[\"mass\"], Pawel_new_dir_mu[\"lifetime [ns]\"], label = r\"Gelato Dir. lifetime\", lw=3)\n",
    "plt.plot(Genie_new_dir_nu[\"mass\"], Genie_new_dir_nu[\"lifetime\"], label = r\"Genie Dir. lifetime\", lw=3, linestyle=\"dashed\")\n",
    "\n",
    "# plt.ylim(1e-4,1.0)\n",
    "plt.xlim(0,0.35)\n",
    "plt.ylabel(\"Lifetime [ns]\", fontsize=24)\n",
    "plt.xlabel(\"Mass [GeV]\", fontsize=24)\n",
    "plt.yscale(\"log\")\n",
    "plt.legend(fontsize=24, loc=\"upper right\")\n",
    "plt.tight_layout()\n",
    "\n",
    "savename = \"New_Dirac_Lifetimes\"\n",
    "plt.savefig(\"plots/Generator/\"+savename+\".pdf\")"
   ]
  },
  {
   "cell_type": "code",
   "execution_count": 11,
   "id": "f270c115-a611-4d2e-a05e-7bb794b5d657",
   "metadata": {},
   "outputs": [
    {
     "data": {
      "text/plain": [
       "<matplotlib.legend.Legend at 0x7fc7b7ee5dd0>"
      ]
     },
     "execution_count": 11,
     "metadata": {},
     "output_type": "execute_result"
    },
    {
     "data": {
      "image/png": "[encoded data removed]",
      "text/plain": [
       "<Figure size 432x288 with 1 Axes>"
      ]
     },
     "metadata": {
      "needs_background": "light"
     },
     "output_type": "display_data"
    }
   ],
   "source": [
    "x_vals = np.linspace(0.01, 0.35, 40)\n",
    "BR_Genie_interp = get_interpolated_vals(Genie_new_maj_nu[\"mass\"], Genie_new_maj_nu[\"BR_e+e-\"], x_vals)\n",
    "BR_Pawel_interp = get_interpolated_vals(Pawel_new_maj_mu[\"mass\"], Pawel_new_maj_mu[\"BR nue+e-\"], x_vals)\n",
    "\n",
    "BR_Genie_interp_3nu = get_interpolated_vals(Genie_new_maj_nu[\"mass\"], Genie_new_maj_nu[\"BR_3nu\"], x_vals)\n",
    "BR_Pawel_interp_3nu = get_interpolated_vals(Pawel_new_maj_mu[\"mass\"], Pawel_new_maj_mu[\"BR 3nu\"], x_vals)\n",
    "ratio_ee = get_ratio(BR_Pawel_interp,BR_Genie_interp)\n",
    "ratio_3nu = get_ratio(BR_Pawel_interp_3nu,BR_Genie_interp_3nu)\n",
    "perc_diff = []\n",
    "for i in ratio_ee:\n",
    "    perc_diff = (1-ratio_ee)*100\n",
    "\n",
    "plt.plot(x_vals,ratio_ee, lw=3, label=\"ee ratio\")\n",
    "plt.plot(x_vals,ratio_3nu, lw=3, label=\"3nu ratio\", linestyle=\"dashed\")\n",
    "\n",
    "# plt.ylim(1.0,2.0)\n",
    "# plt.plot(x_vals,perc_diff, lw=3)\n",
    "plt.xlabel(\"Mass [GeV]\")\n",
    "plt.ylabel(\"Ratio\")\n",
    "plt.legend()\n",
    "# plt.ylabel(\"% difference ee channel\")"
   ]
  },
  {
   "cell_type": "code",
   "execution_count": 11,
   "id": "2513ea94-ca51-4802-a2ec-b844b0443811",
   "metadata": {},
   "outputs": [
    {
     "data": {
      "text/plain": [
       "<matplotlib.legend.Legend at 0x7fae082dc290>"
      ]
     },
     "execution_count": 11,
     "metadata": {},
     "output_type": "execute_result"
    },
    {
     "data": {
      "image/png": "[encoded data removed]",
      "text/plain": [
       "<Figure size 720x432 with 1 Axes>"
      ]
     },
     "metadata": {
      "needs_background": "light"
     },
     "output_type": "display_data"
    }
   ],
   "source": [
    "plt.figure(figsize=(10,6))\n",
    "x_vals = np.linspace(0.01, 0.35, 40)\n",
    "Lifetime_Genie_interp = get_interpolated_vals(Genie_new_maj_nu[\"mass\"], Genie_new_maj_nu[\"lifetime\"], x_vals)\n",
    "Lifetime_Pawel_interp = get_interpolated_vals(Pawel_new_maj_mu[\"mass\"], Pawel_new_maj_mu[\"lifetime [ns]\"], x_vals)\n",
    "\n",
    "# BR_Genie_interp_3nu = get_interpolated_vals(Genie_new_maj_nu[\"mass\"], Genie_new_maj_nu[\"BR_3nu\"], x_vals)\n",
    "# BR_Pawel_interp_3nu = get_interpolated_vals(Pawel_new_maj_mu[\"mass\"], Pawel_new_maj_mu[\"BR 3nu\"], x_vals)\n",
    "ratio_lifetimes = get_ratio(Lifetime_Pawel_interp,Lifetime_Genie_interp)\n",
    "perc_diff = []\n",
    "for i in ratio_lifetimes:\n",
    "    perc_diff = (1-ratio_lifetimes)*100\n",
    "\n",
    "plt.plot(x_vals,ratio_lifetimes, lw=3, label=\"lifetime ratio\")\n",
    "\n",
    "plt.xlim(0,0.2)\n",
    "plt.ylim(0.9,1.1)\n",
    "# plt.ylim(1.0,2.0)\n",
    "# plt.plot(x_vals,perc_diff, lw=3)\n",
    "plt.xlabel(\"Mass [GeV]\")\n",
    "plt.ylabel(\"Ratio\")\n",
    "plt.legend()"
   ]
  },
  {
   "cell_type": "code",
   "execution_count": 64,
   "id": "ddbcf522-9589-4685-abd8-4799cfc97e35",
   "metadata": {},
   "outputs": [
    {
     "name": "stderr",
     "output_type": "stream",
     "text": [
      "/home/david/jupyter/envs/ana/lib/python3.7/site-packages/ipykernel_launcher.py:7: RuntimeWarning: invalid value encountered in true_divide\n",
      "  import sys\n"
     ]
    },
    {
     "name": "stdout",
     "output_type": "stream",
     "text": [
      "[1.62256684 1.61210682 1.61055973 1.61016068 1.6097139  1.60945446\n",
      " 1.60950336 1.60941856 1.60929913 1.60910802 1.60926409 1.60908292\n",
      " 1.60917378 1.60924562 1.60900718 1.60906256 1.60909897 1.60913649\n",
      " 1.60916863 1.60899054 1.60901152 1.60902678 1.60904937 1.60906048\n",
      " 1.6090708  1.6090888  1.60909605 1.60910597 1.60911292 1.60901363\n",
      " 1.60902035 1.60902686 1.60903266 1.6090387  1.60904004 1.60904917\n",
      " 1.60905054 1.60904935 1.60905542 1.60905849]\n"
     ]
    },
    {
     "data": {
      "image/png": "[encoded data removed]",
      "text/plain": [
       "<Figure size 720x432 with 1 Axes>"
      ]
     },
     "metadata": {
      "needs_background": "light"
     },
     "output_type": "display_data"
    }
   ],
   "source": [
    "plt.figure(figsize=(10,6))\n",
    "x_vals = np.linspace(0.01, 0.35, 40)\n",
    "x_vals_pi0 = np.linspace(0.14, 0.35, 40)\n",
    "\n",
    "nu_Genie_interp = get_interpolated_vals(Genie_new_dir_widths[\"mass\"], Genie_new_dir_widths[\"width_3nu\"], x_vals)\n",
    "nu_Pawel_interp = get_interpolated_vals(Pawel_new_dir_widths[\"mass\"], Pawel_new_dir_widths[\"width_3nu\"], x_vals)\n",
    "\n",
    "nu_ee_Genie_interp = get_interpolated_vals(Genie_new_dir_widths[\"mass\"], Genie_new_dir_widths[\"width_e+e-\"], x_vals)\n",
    "nu_ee_Pawel_interp = get_interpolated_vals(Pawel_new_dir_widths[\"mass\"], Pawel_new_dir_widths[\"width_e+e-\"], x_vals)\n",
    "\n",
    "nu_pi0_Genie_interp = get_interpolated_vals(Genie_new_dir_widths[\"mass\"], Genie_new_dir_widths[\"width_nu_pi0\"], x_vals)\n",
    "nu_pi0_Pawel_interp = get_interpolated_vals(Pawel_new_dir_widths[\"mass\"], Pawel_new_dir_widths[\"width_nu_pi0\"], x_vals)\n",
    "\n",
    "ratio_3nu = get_ratio(nu_Pawel_interp,nu_Genie_interp)\n",
    "ratio_ee = get_ratio(nu_ee_Pawel_interp,nu_ee_Genie_interp)\n",
    "ratio_nu_pi0 = get_ratio(nu_pi0_Pawel_interp,nu_pi0_Genie_interp)\n",
    "perc_diff = []\n",
    "for i in ratio_lifetimes:\n",
    "    perc_diff = (1-ratio_3nu)*100\n",
    "\n",
    "plt.plot(x_vals,ratio_3nu, lw=3, label=\"width 3nu ratio\")\n",
    "plt.plot(x_vals,ratio_ee, lw=3, label=\"width e+e- ratio\")\n",
    "plt.plot(x_vals,ratio_nu_pi0, lw=3, label=\"width nupi0 ratio\")\n",
    "\n",
    "plt.xlim(0,0.2)\n",
    "# plt.ylim(0.9,1.1)\n",
    "# plt.ylim(1.0,2.0)\n",
    "# plt.plot(x_vals,perc_diff, lw=3)\n",
    "plt.xlabel(\"Mass [GeV]\")\n",
    "plt.ylabel(\"Ratio\")\n",
    "plt.legend()\n",
    "\n",
    "print(ratio_ee)"
   ]
  },
  {
   "cell_type": "markdown",
   "id": "d326c20a-d089-4bf2-8933-17e5eef31153",
   "metadata": {},
   "source": [
    "## Make sure BRs add up to 1.0"
   ]
  },
  {
   "cell_type": "code",
   "execution_count": 25,
   "id": "354dd732-24f6-422a-8cb2-8135d6dba5b5",
   "metadata": {},
   "outputs": [
    {
     "data": {
      "text/plain": [
       "<matplotlib.legend.Legend at 0x7fc7c0c7dd50>"
      ]
     },
     "execution_count": 25,
     "metadata": {},
     "output_type": "execute_result"
    },
    {
     "data": {
      "image/png": "[encoded data removed]",
      "text/plain": [
       "<Figure size 576x360 with 1 Axes>"
      ]
     },
     "metadata": {
      "needs_background": "light"
     },
     "output_type": "display_data"
    }
   ],
   "source": [
    "trimmed_Pawel = Pawel_new_maj_mu.head(200).copy()\n",
    "trimmed_Genie = Genie_new_maj_nu.head(200).copy()\n",
    "\n",
    "trimmed_Pawel[\"sum_BRs\"] = trimmed_Pawel[\"BR nue+e-\"]+trimmed_Pawel[\"BR 3nu\"]\n",
    "trimmed_Genie[\"sum_BRs\"] = trimmed_Genie[\"BR_e+e-\"]+trimmed_Genie[\"BR_3nu\"]\n",
    "\n",
    "plt.figure(figsize=(8,5))\n",
    "plt.plot(trimmed_Pawel[\"sum_BRs\"], lw=3, label = \"Gelato sum BRs\")\n",
    "plt.plot(trimmed_Genie[\"sum_BRs\"], lw=3, linestyle=\"dashed\", label = \"Genie sum BRs\")\n",
    "plt.legend()\n",
    "# for "
   ]
  },
  {
   "cell_type": "code",
   "execution_count": null,
   "id": "4fc649d0-3f9d-4520-9f7e-bac4c9f0f183",
   "metadata": {},
   "outputs": [],
   "source": [
    "#Dirac BRs etc.\n",
    "cols_pawel = [\"mass\",  \"BR e+e-\",  \"BR nu pi0\"]\n",
    "Pawel_BRs = pd.read_csv(\"Branching_ratios/brs_dirac_um4.Pawel.csv\",names=cols_pawel, sep=\" \")\n",
    "\n",
    "filename = \"Branching_ratios/brs_dirac_mu.GENIE.txt\"\n",
    "\n",
    "with open(filename) as f:\n",
    "    lines = f.readlines()\n",
    "\n",
    "eplus_eminus_channel_dirac = []\n",
    "pi0_channel_dirac = []\n",
    "\n",
    "counter = 0\n",
    "mass_start_point = 0.001 #GeV\n",
    "mass_list_dirac = []\n",
    "for line in lines:\n",
    "    if (\"Channel 1 BR\" in line) and ((counter+3) % 4 == 0):\n",
    "        br_value = float(line.split(\" \")[-1])\n",
    "        eplus_eminus_channel_dirac.append(br_value)\n",
    "        mass = mass_start_point*len(eplus_eminus_channel_dirac)\n",
    "        mass_list_dirac.append(mass) \n",
    "    if (\"Channel 3 BR\" in line) and ((counter+2) % 4 == 0):\n",
    "        br_value = float(line.split(\" \")[-1])\n",
    "        pi0_channel_dirac.append(br_value)\n",
    "\n",
    "    counter += 1\n",
    "        # print(br_value)\n",
    "print(counter)\n",
    "print(len(eplus_eminus_channel_dirac))\n",
    "print(len(pi0_channel_dirac))"
   ]
  },
  {
   "cell_type": "code",
   "execution_count": null,
   "id": "290474bc-15fb-437e-b038-c58c36149647",
   "metadata": {},
   "outputs": [],
   "source": [
    "# print(type(np.array(eplus_eminus_channel_dirac)))\n",
    "# mass_for_df = np.array(Pawel_BRs[\"mass\"])\n",
    "# ee_for_df = np.array(Pawel_BRs[\"BR e+e-\"])\n",
    "# pi0_for_df = np.array(Pawel_BRs[\"BR nu pi0\"])\n",
    "# dict_for_dirac = {\"mass\":mass_for_df, \"BR_e+e-\":ee_for_df, \"BR_nu_pi0\":pi0_for_df}\n",
    "# # dirac_cols = [\"mass\",  \"BR_e+e-\",  \"BR_nu_pi0\"]\n",
    "# df_dirac = pd.DataFrame(dict_for_dirac)\n",
    "# df_dirac.to_csv(\"Branching_ratios/Pawel_Dirac_BRs.csv\")\n",
    "# df_dirac.head()"
   ]
  },
  {
   "cell_type": "code",
   "execution_count": null,
   "id": "8f9533ab-c322-477c-9b88-7941b36cc384",
   "metadata": {},
   "outputs": [],
   "source": [
    "colour_ee = \"red\"\n",
    "colour_pi0 = \"blue\"\n",
    "plt.rc('font', size=22)\n",
    "plt.figure(figsize=(10,6))\n",
    "# plt.title(\"HNL Generator Branching Ratios (Dirac)\", fontsize=24)\n",
    "plt.plot(Pawel_BRs[\"mass\"], Pawel_BRs[\"BR e+e-\"], label = r\"$N \\rightarrow \\nu e^{+}e^{-}$\", lw=3, color = colour_ee)\n",
    "plt.plot(Pawel_BRs[\"mass\"], Pawel_BRs[\"BR nu pi0\"], label = r\"$N \\rightarrow \\nu\\pi^{0}$\", lw=3, color = colour_pi0)\n",
    "# plt.plot(mass_list_dirac, eplus_eminus_channel_dirac, label = r\"Genie $\\nu e^+e^-$\", lw=3, color = colour_ee, linestyle=\"dashed\")\n",
    "# plt.plot(mass_list_dirac, pi0_channel_dirac, label = r\"Genie $\\nu\\pi^0$\", lw=3, color = colour_pi0, linestyle=\"dashed\")\n",
    "plt.ylim(1e-4,1.0)\n",
    "# plt.xlim(0,0.35)\n",
    "plt.ylabel(\"Branching Ratio\", fontsize=24)\n",
    "plt.xlabel(\"Mass [GeV]\", fontsize=24)\n",
    "plt.yscale(\"log\")\n",
    "plt.legend(fontsize=24, loc=\"lower right\")\n",
    "plt.tight_layout()\n",
    "\n",
    "savename = \"Dirac_HNL_Pawel_Gen_BRs\"\n",
    "plt.savefig(\"plots/Generator/\"+savename+\".pdf\")"
   ]
  },
  {
   "cell_type": "code",
   "execution_count": null,
   "id": "784697f1-885a-4748-9d52-e01172bc2f08",
   "metadata": {},
   "outputs": [],
   "source": [
    "# 6000 lines in this file from Pawel \n",
    "filename = \"../Genie_HNLGen/SCAN.log\"\n",
    "\n",
    "with open(filename) as f:\n",
    "    lines = f.readlines()\n",
    "\n",
    "eplus_eminus_channel = []\n",
    "pi0_channel = []\n",
    "\n",
    "lifetimes = []\n",
    "\n",
    "counter = 0\n",
    "mass_start_point = 0.001 #GeV\n",
    "mass_list = []\n",
    "for line in lines:\n",
    "    if (\"Channel 1 BR\" in line) and ((counter+8) % 12 == 0):\n",
    "        br_value = float(line.split(\" \")[-1])\n",
    "        eplus_eminus_channel.append(br_value)\n",
    "        mass = mass_start_point*len(eplus_eminus_channel)\n",
    "        mass_list.append(mass) \n",
    "    if (\"Channel 3 BR\" in line) and ((counter+7) % 12 == 0):\n",
    "        br_value = float(line.split(\" \")[-1])\n",
    "        pi0_channel.append(br_value)\n",
    "    if (\"lifetime\" in line) and ((counter+9) % 12 == 0):\n",
    "        lifetime_val = float(line.split(\" \")[-1])\n",
    "        lifetimes.append(lifetime_val)\n",
    "    counter += 1\n",
    "        # print(br_value)\n"
   ]
  },
  {
   "cell_type": "code",
   "execution_count": null,
   "id": "7ba8d57b-25fb-4c31-bd05-b37de0282518",
   "metadata": {},
   "outputs": [],
   "source": [
    "# mass_for_df = np.array(mass_list)\n",
    "# ee_for_df = np.array(eplus_eminus_channel)\n",
    "# pi0_for_df = np.array(pi0_channel)\n",
    "# dict_for_dirac = {\"mass\":mass_for_df, \"BR_e+e-\":ee_for_df, \"BR_nu_pi0\":pi0_for_df}\n",
    "# # dirac_cols = [\"mass\",  \"BR_e+e-\",  \"BR_nu_pi0\"]\n",
    "# df_dirac = pd.DataFrame(dict_for_dirac)\n",
    "# df_dirac.to_csv(\"Branching_ratios/Genie_Majorana_BRs.csv\")"
   ]
  },
  {
   "cell_type": "markdown",
   "id": "931e0e26-9d90-4a65-943c-c1d876be1c64",
   "metadata": {},
   "source": [
    "## Plotting the Branching ratios"
   ]
  },
  {
   "cell_type": "code",
   "execution_count": null,
   "id": "1998a1b0-6b62-4d16-804e-bc54e1d3b292",
   "metadata": {},
   "outputs": [],
   "source": [
    "colour_ee = \"red\"\n",
    "colour_pi0 = \"blue\"\n",
    "plt.rc('font', size=22)\n",
    "plt.figure(figsize=(10,6))\n",
    "plt.title(\"HNL Generator Branching Ratios (Majorana)\", fontsize=24)\n",
    "plt.plot(mass_list, eplus_eminus_channel, label = r\"Genie $\\nu e^+e^-$\", lw=3, color = colour_ee)\n",
    "plt.plot(mass_list, pi0_channel, label = r\"Genie $\\nu\\pi^0$\", lw=3, color = colour_pi0)\n",
    "plt.plot(Davide_ee['Mass'], Davide_ee['Value'], label = r\"Davide $\\nu e^+e^-$\", lw=3, color = colour_ee, linestyle=\"dashed\")\n",
    "plt.plot(Davide_pi0['Mass'], Davide_pi0['Value'], label = r\"Davide $\\nu\\pi^0$\", lw=3, color = colour_pi0, linestyle=\"dashed\")\n",
    "plt.ylim(1e-4,1.0)\n",
    "plt.ylabel(\"BR\", fontsize=24)\n",
    "plt.xlabel(\"Mass [GeV]\", fontsize=24)\n",
    "plt.yscale(\"log\")\n",
    "plt.legend(fontsize=20, loc=\"lower right\")\n",
    "plt.tight_layout()\n",
    "\n",
    "savename = \"Majorana_HNL_Gen_BRs\"\n",
    "plt.savefig(\"plots/Generator/\"+savename+\".pdf\")"
   ]
  },
  {
   "cell_type": "markdown",
   "id": "69ba24d9-615e-4134-8fdb-3af651c234f5",
   "metadata": {},
   "source": [
    "## Make ratio of BRs"
   ]
  },
  {
   "cell_type": "code",
   "execution_count": null,
   "id": "36179a09-28b6-4135-af4d-9b27b7487bdd",
   "metadata": {},
   "outputs": [],
   "source": [
    "x_vals = np.linspace(0.01, 0.35, 20)\n",
    "BR_Genie_interp = get_interpolated_vals(mass_list_dirac, eplus_eminus_channel_dirac, x_vals)\n",
    "BR_Pawel_interp = get_interpolated_vals(Pawel_BRs['mass'], Pawel_BRs[\"BR e+e-\"], x_vals)\n",
    "ratio = get_ratio(BR_Pawel_interp,BR_Genie_interp)\n",
    "perc_diff = []\n",
    "for i in ratio:\n",
    "    perc_diff = (1-ratio)*100\n",
    "\n",
    "# plt.plot(x_vals,ratio)\n",
    "plt.plot(x_vals,perc_diff, lw=3)\n",
    "plt.xlabel(\"Mass [GeV]\")\n",
    "plt.ylabel(\"% difference ee channel\")\n",
    "# plt.xlim(0,0.1)\n",
    "# plt.ylim(1.8,2.2)"
   ]
  },
  {
   "cell_type": "code",
   "execution_count": null,
   "id": "739c76d7-02f1-41f3-8f42-72163e3b5a14",
   "metadata": {},
   "outputs": [],
   "source": [
    "x_vals = np.linspace(0.01, 0.5, 40)\n",
    "BR_Genie_interp = get_interpolated_vals(mass_list, eplus_eminus_channel, x_vals)\n",
    "BR_Davide_interp = get_interpolated_vals(Davide_ee['Mass'], Davide_ee['Value'], x_vals)\n",
    "ratio = get_ratio(BR_Davide_interp,BR_Genie_interp)\n",
    "\n",
    "plt.plot(x_vals,ratio)\n",
    "plt.xlabel(\"Mass [GeV]\")\n",
    "plt.ylabel(\"Ratio\")\n",
    "plt.xlim(0,0.1)\n",
    "plt.ylim(1.8,2.2)"
   ]
  },
  {
   "cell_type": "markdown",
   "id": "6683501a-5785-428a-8960-692ebac79dee",
   "metadata": {},
   "source": [
    "## Lifetime plot"
   ]
  },
  {
   "cell_type": "code",
   "execution_count": null,
   "id": "f86189e0-731f-4ac5-97cf-d607807e6f66",
   "metadata": {},
   "outputs": [],
   "source": [
    "plt.rc('font', size=22)\n",
    "plt.figure(figsize=(10,6))\n",
    "plt.title(\"HNL Generator Lifetimes\", fontsize=24)\n",
    "plt.plot(mass_list, lifetimes, label = r\"Lifetime\", lw=3)\n",
    "# plt.ylim(1e-3,1.0)\n",
    "plt.ylabel(\"Lifetime\", fontsize=24)\n",
    "plt.xlabel(\"Mass [GeV]\", fontsize=24)\n",
    "plt.yscale(\"log\")\n",
    "plt.legend(fontsize=22)\n",
    "plt.tight_layout()\n",
    "\n",
    "savename = \"Genie_HNL_Gen_lifetime\"\n",
    "plt.savefig(\"plots/Generator/\"+savename+\".pdf\")"
   ]
  },
  {
   "cell_type": "code",
   "execution_count": null,
   "id": "b1d2ec36-1979-43c8-ad3d-ec880bafbb27",
   "metadata": {},
   "outputs": [],
   "source": []
  }
 ],
 "metadata": {
  "kernelspec": {
   "display_name": "Python 3 (ipykernel)",
   "language": "python",
   "name": "python3"
  },
  "language_info": {
   "codemirror_mode": {
    "name": "ipython",
    "version": 3
   },
   "file_extension": ".py",
   "mimetype": "text/x-python",
   "name": "python",
   "nbconvert_exporter": "python",
   "pygments_lexer": "ipython3",
   "version": "3.7.12"
  }
 },
 "nbformat": 4,
 "nbformat_minor": 5
}
