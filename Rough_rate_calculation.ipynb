{
 "cells": [
  {
   "cell_type": "code",
   "execution_count": 1,
   "id": "637345bc-5f34-4570-955e-0c844824e5af",
   "metadata": {},
   "outputs": [
    {
     "name": "stdout",
     "output_type": "stream",
     "text": [
      "Success\n"
     ]
    }
   ],
   "source": [
    "import scipy.special as sp\n",
    "import numpy as np\n",
    "import uproot\n",
    "import csv\n",
    "\n",
    "import Utilities.Constants as Constants\n",
    "import Utilities.Functions as Functions\n",
    "from Utilities.ipython_exit import exit\n",
    "\n",
    "print(\"Success\")"
   ]
  },
  {
   "cell_type": "markdown",
   "id": "d7e6a978-3ac6-4d46-b228-8e3b24633518",
   "metadata": {},
   "source": [
    "## Equation to replicate\n",
    "The first attempt comes from an equation in the HNL to e+e- recast of HPS decays in MicroBooNE paper: https://arxiv.org/abs/2106.06548\n",
    "\n",
    "This has an equation for Majorana HNLs with the HNL mass << muon mass."
   ]
  },
  {
   "cell_type": "code",
   "execution_count": 2,
   "id": "b2ffb94d-814d-4c7a-b321-9f0c41b8cb4a",
   "metadata": {},
   "outputs": [],
   "source": [
    "s_W_squared = 0.231 #sin squared Weinberg, Taken from Wikipedia, rough\n",
    "G_F = 1.1663787e-5 #GeV-2 Fermi couplingconst, Taken from Jinst"
   ]
  },
  {
   "cell_type": "code",
   "execution_count": 5,
   "id": "46318975-6829-4b06-9bb6-8f0b2e631f29",
   "metadata": {},
   "outputs": [
    {
     "name": "stdout",
     "output_type": "stream",
     "text": [
      "5.746052508123807e-28\n"
     ]
    }
   ],
   "source": [
    "# Define a function here, which takes the variables U_mu4 and HNL mass.\n",
    "# Doing all in GeV\n",
    "\n",
    "N_mass = 0.1 #100 MeV\n",
    "U_mu4 = 1e-4\n",
    "Decay_width = (2*(G_F**2)*(U_mu4**2)*(N_mass**5)/(768*np.pi**3))*(1-4*s_W_squared+8*s_W_squared**2)\n",
    "\n",
    "print(Decay_width)"
   ]
  },
  {
   "cell_type": "code",
   "execution_count": null,
   "id": "cb51e6d1-abbb-4a85-87f2-88a006898a0c",
   "metadata": {},
   "outputs": [],
   "source": []
  }
 ],
 "metadata": {
  "kernelspec": {
   "display_name": "Python 3 (ipykernel)",
   "language": "python",
   "name": "python3"
  },
  "language_info": {
   "codemirror_mode": {
    "name": "ipython",
    "version": 3
   },
   "file_extension": ".py",
   "mimetype": "text/x-python",
   "name": "python",
   "nbconvert_exporter": "python",
   "pygments_lexer": "ipython3",
   "version": "3.7.12"
  }
 },
 "nbformat": 4,
 "nbformat_minor": 5
}
