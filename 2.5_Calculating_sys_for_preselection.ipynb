{
 "cells": [
  {
   "cell_type": "code",
   "execution_count": 1,
   "id": "8ab81f70",
   "metadata": {},
   "outputs": [
    {
     "name": "stdout",
     "output_type": "stream",
     "text": [
      "Welcome to JupyROOT 6.24/06\n",
      "Success\n"
     ]
    }
   ],
   "source": [
    "import os,sys,string, time\n",
    "import ROOT\n",
    "from math import *\n",
    "from ROOT import gPad, TTree, TObject, TFile, gDirectory, TH1D, TH2D, TH3D, TCanvas, gROOT, TGaxis, gStyle, TColor, TLegend, THStack, TChain, TLatex, TText, TCollection, kRed, kBlue\n",
    "from array import array\n",
    "import matplotlib.pyplot as plt\n",
    "import numpy as np\n",
    "import uproot\n",
    "import pandas as pd\n",
    "from root_pandas import read_root\n",
    "from platform import python_version\n",
    "import scipy\n",
    "from scipy import stats\n",
    "import uproot3\n",
    "import math\n",
    "from matplotlib.patches import Rectangle\n",
    "from importlib import reload\n",
    "\n",
    "import Utilities.Plotter as PT\n",
    "import Utilities.Constants as Constants\n",
    "import Utilities.Variables_list as Variables\n",
    "import Utilities.Functions as Functions\n",
    "from Utilities.ipython_exit import exit\n",
    "\n",
    "print ('Success')"
   ]
  },
  {
   "cell_type": "markdown",
   "id": "775a3504-392d-4b23-a225-0db439fcb0f5",
   "metadata": {},
   "source": [
    "# Reading in .pkl files"
   ]
  },
  {
   "cell_type": "code",
   "execution_count": 2,
   "id": "fd6a5c09-f380-4529-bc11-c0eb39e8efe3",
   "metadata": {},
   "outputs": [
    {
     "name": "stdout",
     "output_type": "stream",
     "text": [
      "Loading these run3 samples: \n",
      "['overlay']\n"
     ]
    }
   ],
   "source": [
    "Params = {\"Run\":\"run3\", #The run number, so far either \"run1\" or \"run3\"\n",
    "          \"Load_single_file\":True, #This will override everything else, put the desired file in the \"single_file\" line\n",
    "          \"single_file\":\"overlay\",\n",
    "          \"Load_standard_bkgs\":True,\n",
    "          \"Load_DetVars\":False,\n",
    "          \"Only_keep_common_DetVar_evs\":True,\n",
    "          \"Load_Signal_DetVars\":False,\n",
    "          \"Load_data\":True,\n",
    "          \"FLATTEN\":False, #Have one row per reconstructed object in the analysis dataframe\n",
    "          \"only_presel\":True, #Create small files containing only variables necessary for pre-selection, for making pre-selection plots\n",
    "          \"Load_truth_vars\":False,\n",
    "          \"Load_lepton_signal\":True,\n",
    "          \"Load_pi0_signal\":False}\n",
    "\n",
    "Params, samples = Functions.create_sample_list(Params)\n",
    "loc_pkls = \"pkl_files/\"+Params[\"Run\"]+\"/current_files/\"+Params[\"variables_string\"]+\"/\""
   ]
  },
  {
   "cell_type": "code",
   "execution_count": 3,
   "id": "40dc9a80-d4eb-4f3d-935b-53d259a8dc0c",
   "metadata": {},
   "outputs": [
    {
     "name": "stdout",
     "output_type": "stream",
     "text": [
      "dict_keys(['overlay'])\n"
     ]
    }
   ],
   "source": [
    "samples_dict = {}\n",
    "\n",
    "for sample in samples:\n",
    "    if sample in Constants.Detector_variations:\n",
    "        file = pd.read_pickle(loc_pkls+\"DetVars/overlay_\"+Params[\"Run\"]+\"_\"+Params[\"variables_string\"]+f\"_{sample}_\"+Params[\"Flat_state\"]+\"_\"+Params[\"Reduced_state\"]+\".pkl\")\n",
    "        samples_dict[sample] = file\n",
    "    if Params[\"Load_Signal_DetVars\"] == True:\n",
    "        file = pd.read_pickle(loc_pkls+\"Signal_DetVars/\"+Params[\"Run\"]+f\"_{sample}_\"+Params[\"Reduced_state\"]+\".pkl\")\n",
    "        samples_dict[sample] = file\n",
    "    else:\n",
    "        if sample == 'signal':\n",
    "            for HNL_mass in Constants.HNL_mass_samples:\n",
    "                file = pd.read_pickle(loc_pkls+f\"signal_{HNL_mass}MeV_\"+Params[\"Run\"]+\"_\"+Params[\"variables_string\"]+\"_\"+Params[\"Flat_state\"]+\"_New_gen.pkl\")\n",
    "                samples_dict[HNL_mass] = file\n",
    "        elif sample == 'pi0_signal':\n",
    "            for HNL_mass in Constants.HNL_mass_pi0_samples:\n",
    "                file = pd.read_pickle(loc_pkls+f\"{sample}_{HNL_mass}MeV_\"+Params[\"Run\"]+\"_\"+Params[\"variables_string\"]+\"_\"+Params[\"Flat_state\"]+\"_New_gen.pkl\")\n",
    "                samples_dict[str(HNL_mass)+\"_pi0\"] = file\n",
    "        elif (Params[\"Load_single_file\"] == True) and (isinstance(sample,int)):\n",
    "            HNL_mass = sample\n",
    "            file = pd.read_pickle(loc_pkls+f\"signal_{HNL_mass}MeV_\"+Params[\"Run\"]+\"_\"+Params[\"variables_string\"]+\"_\"+Params[\"Flat_state\"]+\"_New_gen.pkl\")\n",
    "            samples_dict[HNL_mass] = file\n",
    "        else: \n",
    "            file = pd.read_pickle(loc_pkls+f\"{sample}_\"+Params[\"Run\"]+\"_\"+Params[\"variables_string\"]+\"_\"+Params[\"Flat_state\"]+\"_FINAL.pkl\")\n",
    "            samples_dict[sample] = file\n",
    "\n",
    "print(samples_dict.keys())"
   ]
  },
  {
   "cell_type": "code",
   "execution_count": 4,
   "id": "cea7fe80-4e54-46c0-9e46-09664e0c1ce3",
   "metadata": {},
   "outputs": [
    {
     "name": "stdout",
     "output_type": "stream",
     "text": [
      "Made nslice cut\n"
     ]
    }
   ],
   "source": [
    "def Apply_swtrig(df):\n",
    "    query=\"swtrig_pre>0\"\n",
    "    df.query(query)\n",
    "\n",
    "def Apply_flash_shift(df, sample_type):\n",
    "    #Only required for beam off, overlay, dirtoverlay and signal (i.e all except beamon data)\n",
    "    if(sample_type==\"beamoff\"): df[\"flash_time\"]=df[\"flash_time\"] -0.359\n",
    "    else: df[\"flash_time\"]=df[\"flash_time\"] - 0.304\n",
    "    \n",
    "Pre_swtrig_dict = {}\n",
    "swtrig = {}\n",
    "apply_swtrig = True\n",
    "\n",
    "for sample in samples_dict:\n",
    "    Pre_swtrig_dict[sample] = len(samples_dict[sample]) #Should weight this properly, i.e take sum of weights for the total number.\n",
    "    if(apply_swtrig):\n",
    "        swtrig[sample] = samples_dict[sample].query(\"swtrig_pre>0\")\n",
    "    if sample != \"beamgood\":\n",
    "        Apply_flash_shift(samples_dict[sample], sample)\n",
    "        \n",
    "cut_dict = Constants.Preselection_dict_for_plot\n",
    "        \n",
    "samples_dict[\"overlay\"]=samples_dict[\"overlay\"].query(cut_dict['nslice'])\n",
    "print(\"Made nslice cut\")"
   ]
  },
  {
   "cell_type": "markdown",
   "id": "ae68e46a-54a4-4216-8b78-6b55f7c886fc",
   "metadata": {},
   "source": [
    "## Calculate systematic error"
   ]
  },
  {
   "cell_type": "code",
   "execution_count": 5,
   "id": "9459cd4b-529d-4774-8069-773781311704",
   "metadata": {},
   "outputs": [],
   "source": [
    "#Calculate sys\n",
    "variable = 'flash_time'\n",
    "\n",
    "# Norm = sample_norms[\"overlay\"]\n",
    "if Params[\"Run\"] == \"run1\":Norm = Constants.SF_overlay_run1\n",
    "if Params[\"Run\"] == \"run3\":Norm = Constants.SF_overlay_run3\n",
    "\n",
    "xlims = [0,25]\n",
    "nbins = 40\n",
    "BINS = np.linspace(xlims[0],xlims[1], nbins)\n"
   ]
  },
  {
   "cell_type": "code",
   "execution_count": 6,
   "id": "874bd24c-b5bf-4d0d-9134-4c29988bda83",
   "metadata": {},
   "outputs": [
    {
     "name": "stdout",
     "output_type": "stream",
     "text": [
      "Calculated ppfx uncertainty\n"
     ]
    }
   ],
   "source": [
    "results_dict_ppfx=Functions.All_reweight_err(samples_dict[\"overlay\"],\"weightsPPFX\",variable,BINS,xlims,Norm)\n",
    "\n",
    "print(f\"Calculated ppfx uncertainty\")"
   ]
  },
  {
   "cell_type": "code",
   "execution_count": 7,
   "id": "c7154fb3-e994-4ecc-b890-317da52bd5c0",
   "metadata": {},
   "outputs": [
    {
     "name": "stdout",
     "output_type": "stream",
     "text": [
      "Calculated genie uncertainty\n"
     ]
    }
   ],
   "source": [
    "results_dict_genie=Functions.All_reweight_err(samples_dict[\"overlay\"],\"weightsGenie\",variable,BINS,xlims,Norm)\n",
    "\n",
    "print(f\"Calculated genie uncertainty\")"
   ]
  },
  {
   "cell_type": "code",
   "execution_count": 8,
   "id": "651c4aff-52b8-4786-8533-be67d6e0efb5",
   "metadata": {},
   "outputs": [
    {
     "name": "stdout",
     "output_type": "stream",
     "text": [
      "[ 30.77183112  14.1596379   13.60903112   9.51035634   8.78555178\n",
      "   8.98045232   9.16499423   9.46117214   5.93993304 827.78172297\n",
      " 856.40426836 870.79776988 850.7338938  861.51696199 860.76086068\n",
      " 858.79827799 870.56147301 872.4708457  853.74680753 862.10731962\n",
      " 898.86774842 884.37553466 860.50888159 871.79770485  26.69716023\n",
      "   7.14859056   7.97841916   7.09244458   9.34325219   9.33634685\n",
      "  12.83310114  11.93670575  12.78765724  16.44143514  16.74917244\n",
      "  14.6611604    7.13497716   0.           0.        ]\n",
      "[ 7.621753   4.9360666  5.180112   4.1072373  3.7784696  4.494261\n",
      "  5.093512   4.013489   3.1973271 40.79592   42.42383   43.557583\n",
      " 40.64203   42.07786   41.954857  43.67147   42.813354  43.375698\n",
      " 43.10467   41.9184    43.29175   43.00236   42.47644   42.80342\n",
      "  6.6406064  4.0063424  4.3100085  3.3514805  3.810963   4.0807285\n",
      "  5.784712   5.3040376  4.6749835  6.497746   6.0121946  5.5788035\n",
      "  3.888585   0.         0.       ]\n"
     ]
    }
   ],
   "source": [
    "cov_ppfx = results_dict_ppfx[\"weightsPPFX\"][0]\n",
    "cov_genie = results_dict_genie[\"weightsGenie\"][0]\n",
    "var_Overlay = samples_dict[\"overlay\"][variable]\n",
    "# print(cov_PPFX)\n",
    "overlaybkg=np.histogram(var_Overlay,bins=BINS,range=xlims)[0]\n",
    "\n",
    "weight_Overlay=samples_dict[\"overlay\"][\"weight\"]*Norm\n",
    "#weighted hists\n",
    "overlaybkg_weighted=np.histogram(var_Overlay,bins=BINS,range=xlims,weights=weight_Overlay)[0]\n",
    "\n",
    "mc_w=np.histogram(var_Overlay,bins=BINS,range=xlims,weights=weight_Overlay**2)\n",
    "\n",
    "mc_err=np.sqrt(mc_w[0])\n",
    "\n",
    "# stat_bkgerr=np.sqrt(offbkg_stat**2+overlaybkg_stat**2+dirtbkg_stat**2) #Adding stat errors in quadrature, my way\n",
    "stat_bkgerr=mc_err #Adding stat errors in quadrature\n",
    "\n",
    "cov_mc_stat   = np.zeros([len(stat_bkgerr), len(stat_bkgerr)])\n",
    "cov_mc_stat[np.diag_indices_from(cov_mc_stat)]=stat_bkgerr**2 #Don't actually need here\n",
    "\n",
    "tot_ppfx_err=np.sqrt(np.diag(cov_ppfx))\n",
    "tot_genie_err=np.sqrt(np.diag(cov_genie))\n",
    "tot_mcerr = np.sqrt(np.diag(cov_ppfx+cov_genie))\n",
    "\n",
    "print(tot_mcerr)\n",
    "print(stat_bkgerr)"
   ]
  },
  {
   "cell_type": "code",
   "execution_count": 9,
   "id": "2465edb4-ee11-48d0-8a66-8a7895db9b4e",
   "metadata": {},
   "outputs": [
    {
     "data": {
      "text/plain": [
       "<matplotlib.collections.PolyCollection at 0x7fdff70d2b10>"
      ]
     },
     "execution_count": 9,
     "metadata": {},
     "output_type": "execute_result"
    },
    {
     "data": {
      "image/png": "[encoded data removed]",
      "text/plain": [
       "<Figure size 1080x360 with 1 Axes>"
      ]
     },
     "metadata": {
      "needs_background": "light"
     },
     "output_type": "display_data"
    }
   ],
   "source": [
    "varis=[var_Overlay]\n",
    "weights=[weight_Overlay]\n",
    "colors=['peru']\n",
    "labels=[fr\"In-Cryo $\\nu$\"]\n",
    "\n",
    "x,y=np.histogram(var_Overlay,bins=BINS,range=xlims,density=False)\n",
    "x1,y=np.histogram(var_Overlay,bins=BINS,range=xlims)\n",
    "\n",
    "plot=plt.hist(varis,\n",
    "          label=labels,\n",
    "          range=xlims,bins=BINS,\n",
    "          histtype=\"stepfilled\",\n",
    "          stacked=True,density=False,linewidth=2,edgecolor=\"black\",\n",
    "          weights=weights, color=colors)\n",
    "\n",
    "upvals=np.append((plot[0]+tot_mcerr),(plot[0]+tot_mcerr)[-1])\n",
    "lowvals=np.append((plot[0]-tot_mcerr),(plot[0]-tot_mcerr)[-1])\n",
    "\n",
    "plt.fill_between(y, lowvals, upvals,step=\"post\",color=\"grey\",alpha=0.3,zorder=2)"
   ]
  },
  {
   "cell_type": "markdown",
   "id": "2a1632a0-70c0-40de-9ea9-9e6c3b98a5dc",
   "metadata": {},
   "source": [
    "## Check fraction is flat across distribution"
   ]
  },
  {
   "cell_type": "code",
   "execution_count": 10,
   "id": "dd6185ef-0158-4754-a6ea-5063e5332121",
   "metadata": {},
   "outputs": [
    {
     "name": "stderr",
     "output_type": "stream",
     "text": [
      "/home/david/jupyter/envs/ana/lib/python3.7/site-packages/ipykernel_launcher.py:1: RuntimeWarning: invalid value encountered in true_divide\n",
      "  \"\"\"Entry point for launching an IPython kernel.\n",
      "/home/david/jupyter/envs/ana/lib/python3.7/site-packages/ipykernel_launcher.py:2: RuntimeWarning: invalid value encountered in true_divide\n",
      "  \n",
      "/home/david/jupyter/envs/ana/lib/python3.7/site-packages/ipykernel_launcher.py:3: RuntimeWarning: invalid value encountered in true_divide\n",
      "  This is separate from the ipykernel package so we can avoid doing imports until\n"
     ]
    },
    {
     "name": "stdout",
     "output_type": "stream",
     "text": [
      "[0.17038676 0.1878176  0.18301334 0.15996846 0.17142152 0.16830891\n",
      " 0.18143504 0.22366844 0.17004122 0.17433747 0.17306773 0.17236447\n",
      " 0.17219574 0.17201983 0.17334425 0.17233807 0.17204374 0.17286652\n",
      " 0.17072055 0.17345188 0.1765416  0.17446786 0.17098397 0.17314885\n",
      " 0.17708641 0.20900402 0.20107061 0.19839006 0.1760024  0.16554265\n",
      " 0.1861345  0.17797302 0.18824843 0.17927453 0.19830673 0.17996054\n",
      " 0.17346193        nan        nan]\n"
     ]
    },
    {
     "data": {
      "image/png": "[encoded data removed]",
      "text/plain": [
       "<Figure size 1080x360 with 1 Axes>"
      ]
     },
     "metadata": {
      "needs_background": "light"
     },
     "output_type": "display_data"
    }
   ],
   "source": [
    "frac = np.divide(tot_mcerr, plot[0])\n",
    "frac_ppfx = np.divide(tot_ppfx_err, plot[0])\n",
    "frac_genie = np.divide(tot_genie_err, plot[0])\n",
    "print(frac)\n",
    "\n",
    "bins_cent=(BINS[:-1]+BINS[1:])/2\n",
    "plt.hist(bins_cent,weights=np.nan_to_num(frac_ppfx),bins=BINS,range=xlims,density=False, label=\"ppfx\", histtype=\"step\", lw=4)\n",
    "plt.hist(bins_cent,weights=np.nan_to_num(frac_genie),bins=BINS,range=xlims,density=False, label=\"genie\",  histtype=\"step\", lw=4)\n",
    "plt.legend()\n",
    "\n",
    "plt.xlabel(variable)\n",
    "plt.ylabel(f\"Fractional error\")\n",
    "plt.savefig(\"plots/Data_MC_comparison/Overlay_sys_unc/\" + Params[\"Run\"] + f\"_{variable}_ppfx_and_genie_frac_err.png\")"
   ]
  },
  {
   "cell_type": "code",
   "execution_count": 11,
   "id": "612c5228-ca96-441b-8530-2eccd1c44cb6",
   "metadata": {},
   "outputs": [
    {
     "name": "stdout",
     "output_type": "stream",
     "text": [
      "run3\n",
      "mean ppfx is 0.1120298176212023\n",
      "mean genie is 0.12710881709997293\n"
     ]
    }
   ],
   "source": [
    "#Calculate average\n",
    "length = len(frac)\n",
    "total = sum(np.nan_to_num(frac))\n",
    "total_ppfx = sum(np.nan_to_num(frac_ppfx))\n",
    "total_genie = sum(np.nan_to_num(frac_genie))\n",
    "\n",
    "mean = total/length\n",
    "mean_ppfx = total_ppfx/length \n",
    "mean_genie = total_genie/length \n",
    "\n",
    "print(Params[\"Run\"])\n",
    "\n",
    "print(f\"mean ppfx is {mean_ppfx}\")\n",
    "print(f\"mean genie is {mean_genie}\")"
   ]
  },
  {
   "cell_type": "code",
   "execution_count": null,
   "id": "886df5b1-f6ce-4c82-8c9b-e7b6649daae9",
   "metadata": {},
   "outputs": [],
   "source": []
  }
 ],
 "metadata": {
  "kernelspec": {
   "display_name": "Python 3 (ipykernel)",
   "language": "python",
   "name": "python3"
  },
  "language_info": {
   "codemirror_mode": {
    "name": "ipython",
    "version": 3
   },
   "file_extension": ".py",
   "mimetype": "text/x-python",
   "name": "python",
   "nbconvert_exporter": "python",
   "pygments_lexer": "ipython3",
   "version": "3.7.12"
  }
 },
 "nbformat": 4,
 "nbformat_minor": 5
}
