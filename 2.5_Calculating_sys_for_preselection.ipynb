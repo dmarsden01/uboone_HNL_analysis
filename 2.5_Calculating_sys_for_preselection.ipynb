{
 "cells": [
  {
   "cell_type": "code",
   "execution_count": 1,
   "id": "8ab81f70",
   "metadata": {},
   "outputs": [
    {
     "name": "stdout",
     "output_type": "stream",
     "text": [
      "Success\n"
     ]
    }
   ],
   "source": [
    "import os,sys,string, time\n",
    "import matplotlib.pyplot as plt\n",
    "import numpy as np\n",
    "import uproot\n",
    "import pandas as pd\n",
    "from platform import python_version\n",
    "import scipy\n",
    "from scipy import stats\n",
    "import uproot3\n",
    "import math\n",
    "from matplotlib.patches import Rectangle\n",
    "from importlib import reload\n",
    "\n",
    "import Utilities.Plotter as PT\n",
    "import Utilities.Constants as Constants\n",
    "import Utilities.Variables_list as Variables\n",
    "import Utilities.Functions as Functions\n",
    "from Utilities.ipython_exit import exit\n",
    "\n",
    "print ('Success')"
   ]
  },
  {
   "cell_type": "markdown",
   "id": "775a3504-392d-4b23-a225-0db439fcb0f5",
   "metadata": {},
   "source": [
    "# Reading in .pkl files"
   ]
  },
  {
   "cell_type": "code",
   "execution_count": 4,
   "id": "fd6a5c09-f380-4529-bc11-c0eb39e8efe3",
   "metadata": {},
   "outputs": [
    {
     "name": "stdout",
     "output_type": "stream",
     "text": [
      "Loading these run3 samples: \n",
      "['overlay']\n"
     ]
    }
   ],
   "source": [
    "Params = {\"Run\":\"run3\", #The run number, so far either \"run1\" or \"run3\"\n",
    "          \"Load_single_file\":True, #This will override everything else, put the desired file in the \"single_file\" line\n",
    "          \"single_file\":\"overlay\",\n",
    "          \"Load_standard_bkgs\":True,\n",
    "          \"Load_DetVars\":False,\n",
    "          \"Only_keep_common_DetVar_evs\":True,\n",
    "          \"Load_Signal_DetVars\":False,\n",
    "          \"Load_pi0_signal_DetVars\":False,\n",
    "          \"Load_lepton_dirac\":False,\n",
    "          \"Load_pi0_dirac\":False,\n",
    "          \"Load_data\":True,\n",
    "          \"FLATTEN\":False, #Have one row per reconstructed object in the analysis dataframe\n",
    "          \"only_presel\":True, #Create small files containing only variables necessary for pre-selection, for making pre-selection plots\n",
    "          \"Load_truth_vars\":False,\n",
    "          \"Load_lepton_signal\":True,\n",
    "          \"Load_pi0_signal\":False}\n",
    "\n",
    "Params, samples = Functions.create_sample_list(Params)\n",
    "loc_pkls = \"pkl_files/\"+Params[\"Run\"]+\"/current_files/\"+Params[\"variables_string\"]+\"/\""
   ]
  },
  {
   "cell_type": "code",
   "execution_count": 5,
   "id": "40dc9a80-d4eb-4f3d-935b-53d259a8dc0c",
   "metadata": {},
   "outputs": [
    {
     "name": "stdout",
     "output_type": "stream",
     "text": [
      "dict_keys(['overlay'])\n"
     ]
    }
   ],
   "source": [
    "samples_dict = {}\n",
    "\n",
    "for sample in samples:\n",
    "    if sample in Constants.Detector_variations:\n",
    "        file = pd.read_pickle(loc_pkls+\"DetVars/overlay_\"+Params[\"Run\"]+\"_\"+Params[\"variables_string\"]+f\"_{sample}_\"+Params[\"Flat_state\"]+\"_\"+Params[\"Reduced_state\"]+\".pkl\")\n",
    "        samples_dict[sample] = file\n",
    "    if Params[\"Load_Signal_DetVars\"] == True:\n",
    "        file = pd.read_pickle(loc_pkls+\"Signal_DetVars/\"+Params[\"Run\"]+f\"_{sample}_\"+Params[\"Reduced_state\"]+\".pkl\")\n",
    "        samples_dict[sample] = file\n",
    "    else:\n",
    "        if sample == 'signal':\n",
    "            for HNL_mass in Constants.HNL_mass_samples:\n",
    "                file = pd.read_pickle(loc_pkls+f\"signal_{HNL_mass}MeV_\"+Params[\"Run\"]+\"_\"+Params[\"variables_string\"]+\"_\"+Params[\"Flat_state\"]+\"_New_gen.pkl\")\n",
    "                samples_dict[HNL_mass] = file\n",
    "        elif sample == 'pi0_signal':\n",
    "            for HNL_mass in Constants.HNL_mass_pi0_samples:\n",
    "                file = pd.read_pickle(loc_pkls+f\"{sample}_{HNL_mass}MeV_\"+Params[\"Run\"]+\"_\"+Params[\"variables_string\"]+\"_\"+Params[\"Flat_state\"]+\"_New_gen.pkl\")\n",
    "                samples_dict[str(HNL_mass)+\"_pi0\"] = file\n",
    "        elif (Params[\"Load_single_file\"] == True) and (isinstance(sample,int)):\n",
    "            HNL_mass = sample\n",
    "            file = pd.read_pickle(loc_pkls+f\"signal_{HNL_mass}MeV_\"+Params[\"Run\"]+\"_\"+Params[\"variables_string\"]+\"_\"+Params[\"Flat_state\"]+\"_New_gen.pkl\")\n",
    "            samples_dict[HNL_mass] = file\n",
    "        else: \n",
    "            file = pd.read_pickle(loc_pkls+f\"{sample}_\"+Params[\"Run\"]+\"_\"+Params[\"variables_string\"]+\"_\"+Params[\"Flat_state\"]+\"_FINAL.pkl\")\n",
    "            samples_dict[sample] = file\n",
    "\n",
    "print(samples_dict.keys())"
   ]
  },
  {
   "cell_type": "markdown",
   "id": "c30f29b6-9df6-440f-8b29-17b58e8a5a00",
   "metadata": {},
   "source": [
    "## Reading in overlay .root file with the reweight branches"
   ]
  },
  {
   "cell_type": "code",
   "execution_count": 7,
   "id": "b400aec1-3c18-4215-a1de-eb83c2963517",
   "metadata": {},
   "outputs": [],
   "source": [
    "Run = Params[\"Run\"]\n",
    "sys_variables = Variables.sys_vars + Variables.event_vars + Variables.weight_related\n",
    "\n",
    "if Run == \"run1\":\n",
    "    NuMI_MC_overlay = uproot3.open('../NuMI_MC/SLIMMED_neutrinoselection_filt_run1_overlay.root')['nuselection/NeutrinoSelectionFilter']\n",
    "    Norm = Constants.SF_overlay_run1\n",
    "elif Run == \"run3\":\n",
    "    NuMI_MC_overlay = uproot3.open('../NuMI_MC/SLIMMED_neutrinoselection_filt_run3_overlay.root')['nuselection/NeutrinoSelectionFilter']\n",
    "    Norm = Constants.SF_overlay_run3\n",
    "\n",
    "df_overlay_weights = NuMI_MC_overlay.pandas.df(sys_variables, flatten=False) #Perhaps I can do this in a more clever way than just making a dataframe\n"
   ]
  },
  {
   "cell_type": "code",
   "execution_count": 8,
   "id": "cea7fe80-4e54-46c0-9e46-09664e0c1ce3",
   "metadata": {},
   "outputs": [
    {
     "name": "stdout",
     "output_type": "stream",
     "text": [
      "Made nslice cut\n"
     ]
    }
   ],
   "source": [
    "def Apply_swtrig(df):\n",
    "    query=\"swtrig_pre>0\"\n",
    "    df.query(query)\n",
    "\n",
    "def Apply_flash_shift(df, sample_type):\n",
    "    #Only required for beam off, overlay, dirtoverlay and signal (i.e all except beamon data)\n",
    "    if(sample_type==\"beamoff\"): df[\"flash_time\"]=df[\"flash_time\"] -0.359\n",
    "    else: df[\"flash_time\"]=df[\"flash_time\"] - 0.304\n",
    "    \n",
    "Pre_swtrig_dict = {}\n",
    "swtrig = {}\n",
    "apply_swtrig = True\n",
    "\n",
    "for sample in samples_dict:\n",
    "    Pre_swtrig_dict[sample] = len(samples_dict[sample]) #Should weight this properly, i.e take sum of weights for the total number.\n",
    "    if(apply_swtrig):\n",
    "        swtrig[sample] = samples_dict[sample].query(\"swtrig_pre>0\")\n",
    "    if sample != \"beamgood\":\n",
    "        Apply_flash_shift(samples_dict[sample], sample)\n",
    "        \n",
    "cut_dict = Constants.Preselection_dict_for_plot\n",
    "        \n",
    "samples_dict[\"overlay\"]=samples_dict[\"overlay\"].query(cut_dict['nslice'])\n",
    "print(\"Made nslice cut\")"
   ]
  },
  {
   "cell_type": "markdown",
   "id": "ae68e46a-54a4-4216-8b78-6b55f7c886fc",
   "metadata": {},
   "source": [
    "## Calculate systematic error"
   ]
  },
  {
   "cell_type": "code",
   "execution_count": 9,
   "id": "1f3648bc-d769-406f-a5b3-8d96ad534c06",
   "metadata": {},
   "outputs": [
    {
     "name": "stdout",
     "output_type": "stream",
     "text": [
      "Index(['nslice', 'flash_time', 'nu_flashmatch_score', 'NeutrinoEnergy2',\n",
      "       'contained_fraction', 'trk_score', 'trk_score_v', 'n_pfps',\n",
      "       'swtrig_pre', 'swtrig_post', 'crtveto', 'weightSplineTimesTune',\n",
      "       'ppfx_cv', 'npi0', 'run', 'sub', 'evt', 'weight'],\n",
      "      dtype='object')\n"
     ]
    }
   ],
   "source": [
    "print(samples_dict['overlay'].keys())"
   ]
  },
  {
   "cell_type": "code",
   "execution_count": 10,
   "id": "b70edd4f-f709-48d1-8336-0f0c9f2edf96",
   "metadata": {},
   "outputs": [
    {
     "data": {
      "text/html": [
       "<div>\n",
       "<style scoped>\n",
       "    .dataframe tbody tr th:only-of-type {\n",
       "        vertical-align: middle;\n",
       "    }\n",
       "\n",
       "    .dataframe tbody tr th {\n",
       "        vertical-align: top;\n",
       "    }\n",
       "\n",
       "    .dataframe thead th {\n",
       "        text-align: right;\n",
       "    }\n",
       "</style>\n",
       "<table border=\"1\" class=\"dataframe\">\n",
       "  <thead>\n",
       "    <tr style=\"text-align: right;\">\n",
       "      <th></th>\n",
       "      <th>nslice</th>\n",
       "      <th>flash_time</th>\n",
       "      <th>nu_flashmatch_score</th>\n",
       "      <th>NeutrinoEnergy2</th>\n",
       "      <th>contained_fraction</th>\n",
       "      <th>trk_score</th>\n",
       "      <th>trk_score_v</th>\n",
       "      <th>n_pfps</th>\n",
       "      <th>swtrig_pre</th>\n",
       "      <th>swtrig_post</th>\n",
       "      <th>crtveto</th>\n",
       "      <th>weightSplineTimesTune</th>\n",
       "      <th>ppfx_cv</th>\n",
       "      <th>npi0</th>\n",
       "      <th>run</th>\n",
       "      <th>sub</th>\n",
       "      <th>evt</th>\n",
       "      <th>weight</th>\n",
       "    </tr>\n",
       "    <tr>\n",
       "      <th>entry</th>\n",
       "      <th></th>\n",
       "      <th></th>\n",
       "      <th></th>\n",
       "      <th></th>\n",
       "      <th></th>\n",
       "      <th></th>\n",
       "      <th></th>\n",
       "      <th></th>\n",
       "      <th></th>\n",
       "      <th></th>\n",
       "      <th></th>\n",
       "      <th></th>\n",
       "      <th></th>\n",
       "      <th></th>\n",
       "      <th></th>\n",
       "      <th></th>\n",
       "      <th></th>\n",
       "      <th></th>\n",
       "    </tr>\n",
       "  </thead>\n",
       "  <tbody>\n",
       "    <tr>\n",
       "      <th>0</th>\n",
       "      <td>1</td>\n",
       "      <td>10.332250</td>\n",
       "      <td>6.991224</td>\n",
       "      <td>132.850189</td>\n",
       "      <td>0.0</td>\n",
       "      <td>-3.402823e+38</td>\n",
       "      <td>[0.9768751]</td>\n",
       "      <td>1</td>\n",
       "      <td>1</td>\n",
       "      <td>1</td>\n",
       "      <td>0</td>\n",
       "      <td>0.001616</td>\n",
       "      <td>0.841061</td>\n",
       "      <td>0</td>\n",
       "      <td>17080</td>\n",
       "      <td>27</td>\n",
       "      <td>1373</td>\n",
       "      <td>0.001359</td>\n",
       "    </tr>\n",
       "    <tr>\n",
       "      <th>3</th>\n",
       "      <td>1</td>\n",
       "      <td>7.872251</td>\n",
       "      <td>1.371310</td>\n",
       "      <td>451.179077</td>\n",
       "      <td>0.0</td>\n",
       "      <td>-3.402823e+38</td>\n",
       "      <td>[0.99995583, 0.96434164]</td>\n",
       "      <td>2</td>\n",
       "      <td>1</td>\n",
       "      <td>1</td>\n",
       "      <td>1</td>\n",
       "      <td>1.000000</td>\n",
       "      <td>0.614260</td>\n",
       "      <td>0</td>\n",
       "      <td>17080</td>\n",
       "      <td>27</td>\n",
       "      <td>1381</td>\n",
       "      <td>0.614260</td>\n",
       "    </tr>\n",
       "    <tr>\n",
       "      <th>4</th>\n",
       "      <td>1</td>\n",
       "      <td>11.866000</td>\n",
       "      <td>3.029482</td>\n",
       "      <td>270.353119</td>\n",
       "      <td>0.0</td>\n",
       "      <td>-3.402823e+38</td>\n",
       "      <td>[0.30477512, 0.97554344]</td>\n",
       "      <td>2</td>\n",
       "      <td>1</td>\n",
       "      <td>1</td>\n",
       "      <td>0</td>\n",
       "      <td>1.164057</td>\n",
       "      <td>0.808461</td>\n",
       "      <td>0</td>\n",
       "      <td>17080</td>\n",
       "      <td>27</td>\n",
       "      <td>1382</td>\n",
       "      <td>0.941095</td>\n",
       "    </tr>\n",
       "    <tr>\n",
       "      <th>5</th>\n",
       "      <td>1</td>\n",
       "      <td>12.852250</td>\n",
       "      <td>1.448333</td>\n",
       "      <td>291.633942</td>\n",
       "      <td>0.0</td>\n",
       "      <td>-3.402823e+38</td>\n",
       "      <td>[0.9997782]</td>\n",
       "      <td>1</td>\n",
       "      <td>1</td>\n",
       "      <td>1</td>\n",
       "      <td>0</td>\n",
       "      <td>1.089981</td>\n",
       "      <td>1.099046</td>\n",
       "      <td>0</td>\n",
       "      <td>17080</td>\n",
       "      <td>27</td>\n",
       "      <td>1387</td>\n",
       "      <td>1.197940</td>\n",
       "    </tr>\n",
       "    <tr>\n",
       "      <th>7</th>\n",
       "      <td>1</td>\n",
       "      <td>8.562250</td>\n",
       "      <td>5.066216</td>\n",
       "      <td>113.655708</td>\n",
       "      <td>1.0</td>\n",
       "      <td>9.714050e-01</td>\n",
       "      <td>[0.971405]</td>\n",
       "      <td>1</td>\n",
       "      <td>1</td>\n",
       "      <td>1</td>\n",
       "      <td>0</td>\n",
       "      <td>1.154199</td>\n",
       "      <td>1.084669</td>\n",
       "      <td>0</td>\n",
       "      <td>17080</td>\n",
       "      <td>27</td>\n",
       "      <td>1400</td>\n",
       "      <td>1.251924</td>\n",
       "    </tr>\n",
       "  </tbody>\n",
       "</table>\n",
       "</div>"
      ],
      "text/plain": [
       "       nslice  flash_time  nu_flashmatch_score  NeutrinoEnergy2   \n",
       "entry                                                             \n",
       "0           1   10.332250             6.991224       132.850189  \\\n",
       "3           1    7.872251             1.371310       451.179077   \n",
       "4           1   11.866000             3.029482       270.353119   \n",
       "5           1   12.852250             1.448333       291.633942   \n",
       "7           1    8.562250             5.066216       113.655708   \n",
       "\n",
       "       contained_fraction     trk_score               trk_score_v  n_pfps   \n",
       "entry                                                                       \n",
       "0                     0.0 -3.402823e+38               [0.9768751]       1  \\\n",
       "3                     0.0 -3.402823e+38  [0.99995583, 0.96434164]       2   \n",
       "4                     0.0 -3.402823e+38  [0.30477512, 0.97554344]       2   \n",
       "5                     0.0 -3.402823e+38               [0.9997782]       1   \n",
       "7                     1.0  9.714050e-01                [0.971405]       1   \n",
       "\n",
       "       swtrig_pre  swtrig_post  crtveto  weightSplineTimesTune   ppfx_cv   \n",
       "entry                                                                      \n",
       "0               1            1        0               0.001616  0.841061  \\\n",
       "3               1            1        1               1.000000  0.614260   \n",
       "4               1            1        0               1.164057  0.808461   \n",
       "5               1            1        0               1.089981  1.099046   \n",
       "7               1            1        0               1.154199  1.084669   \n",
       "\n",
       "       npi0    run  sub   evt    weight  \n",
       "entry                                    \n",
       "0         0  17080   27  1373  0.001359  \n",
       "3         0  17080   27  1381  0.614260  \n",
       "4         0  17080   27  1382  0.941095  \n",
       "5         0  17080   27  1387  1.197940  \n",
       "7         0  17080   27  1400  1.251924  "
      ]
     },
     "execution_count": 10,
     "metadata": {},
     "output_type": "execute_result"
    }
   ],
   "source": [
    "samples_dict['overlay'].head()"
   ]
  },
  {
   "cell_type": "code",
   "execution_count": 11,
   "id": "9459cd4b-529d-4774-8069-773781311704",
   "metadata": {},
   "outputs": [],
   "source": [
    "#Calculate sys\n",
    "variable = 'nslice'\n",
    "\n",
    "# Norm = sample_norms[\"overlay\"]\n",
    "if Params[\"Run\"] == \"run1\":Norm = Constants.SF_overlay_run1\n",
    "if Params[\"Run\"] == \"run3\":Norm = Constants.SF_overlay_run3\n",
    "\n",
    "xlims = [-0.5,1.5]\n",
    "nbins = 2\n",
    "BINS = np.linspace(xlims[0],xlims[1], nbins)\n"
   ]
  },
  {
   "cell_type": "code",
   "execution_count": 12,
   "id": "874bd24c-b5bf-4d0d-9134-4c29988bda83",
   "metadata": {},
   "outputs": [
    {
     "ename": "KeyError",
     "evalue": "'weightsPPFX'",
     "output_type": "error",
     "traceback": [
      "\u001b[0;31m---------------------------------------------------------------------------\u001b[0m",
      "\u001b[0;31mKeyError\u001b[0m                                  Traceback (most recent call last)",
      "File \u001b[0;32m~/Virtual_envs/HNL_ana/lib/python3.11/site-packages/pandas/core/indexes/base.py:3652\u001b[0m, in \u001b[0;36mIndex.get_loc\u001b[0;34m(self, key)\u001b[0m\n\u001b[1;32m   3651\u001b[0m \u001b[38;5;28;01mtry\u001b[39;00m:\n\u001b[0;32m-> 3652\u001b[0m     \u001b[38;5;28;01mreturn\u001b[39;00m \u001b[38;5;28;43mself\u001b[39;49m\u001b[38;5;241;43m.\u001b[39;49m\u001b[43m_engine\u001b[49m\u001b[38;5;241;43m.\u001b[39;49m\u001b[43mget_loc\u001b[49m\u001b[43m(\u001b[49m\u001b[43mcasted_key\u001b[49m\u001b[43m)\u001b[49m\n\u001b[1;32m   3653\u001b[0m \u001b[38;5;28;01mexcept\u001b[39;00m \u001b[38;5;167;01mKeyError\u001b[39;00m \u001b[38;5;28;01mas\u001b[39;00m err:\n",
      "File \u001b[0;32m~/Virtual_envs/HNL_ana/lib/python3.11/site-packages/pandas/_libs/index.pyx:147\u001b[0m, in \u001b[0;36mpandas._libs.index.IndexEngine.get_loc\u001b[0;34m()\u001b[0m\n",
      "File \u001b[0;32m~/Virtual_envs/HNL_ana/lib/python3.11/site-packages/pandas/_libs/index.pyx:176\u001b[0m, in \u001b[0;36mpandas._libs.index.IndexEngine.get_loc\u001b[0;34m()\u001b[0m\n",
      "File \u001b[0;32mpandas/_libs/hashtable_class_helper.pxi:7080\u001b[0m, in \u001b[0;36mpandas._libs.hashtable.PyObjectHashTable.get_item\u001b[0;34m()\u001b[0m\n",
      "File \u001b[0;32mpandas/_libs/hashtable_class_helper.pxi:7088\u001b[0m, in \u001b[0;36mpandas._libs.hashtable.PyObjectHashTable.get_item\u001b[0;34m()\u001b[0m\n",
      "\u001b[0;31mKeyError\u001b[0m: 'weightsPPFX'",
      "\nThe above exception was the direct cause of the following exception:\n",
      "\u001b[0;31mKeyError\u001b[0m                                  Traceback (most recent call last)",
      "Cell \u001b[0;32mIn[12], line 1\u001b[0m\n\u001b[0;32m----> 1\u001b[0m results_dict_ppfx\u001b[38;5;241m=\u001b[39m\u001b[43mFunctions\u001b[49m\u001b[38;5;241;43m.\u001b[39;49m\u001b[43mAll_reweight_err\u001b[49m\u001b[43m(\u001b[49m\u001b[43msamples_dict\u001b[49m\u001b[43m[\u001b[49m\u001b[38;5;124;43m\"\u001b[39;49m\u001b[38;5;124;43moverlay\u001b[39;49m\u001b[38;5;124;43m\"\u001b[39;49m\u001b[43m]\u001b[49m\u001b[43m,\u001b[49m\u001b[38;5;124;43m\"\u001b[39;49m\u001b[38;5;124;43mweightsPPFX\u001b[39;49m\u001b[38;5;124;43m\"\u001b[39;49m\u001b[43m,\u001b[49m\u001b[43mvariable\u001b[49m\u001b[43m,\u001b[49m\u001b[43mBINS\u001b[49m\u001b[43m,\u001b[49m\u001b[43mxlims\u001b[49m\u001b[43m,\u001b[49m\u001b[43mNorm\u001b[49m\u001b[43m)\u001b[49m\n\u001b[1;32m      3\u001b[0m \u001b[38;5;28mprint\u001b[39m(\u001b[38;5;124mf\u001b[39m\u001b[38;5;124m\"\u001b[39m\u001b[38;5;124mCalculated ppfx uncertainty\u001b[39m\u001b[38;5;124m\"\u001b[39m)\n",
      "File \u001b[0;32m~/HNL/ee_decays/Utilities/Functions.py:730\u001b[0m, in \u001b[0;36mAll_reweight_err\u001b[0;34m(df, Multisim, var_name, BINS, x_range, Norm)\u001b[0m\n\u001b[1;32m    727\u001b[0m n_cv_tot\u001b[38;5;241m.\u001b[39mfill(\u001b[38;5;241m0\u001b[39m)\n\u001b[1;32m    729\u001b[0m variable \u001b[38;5;241m=\u001b[39m df[var_name] \u001b[38;5;66;03m#The BDT output score\u001b[39;00m\n\u001b[0;32m--> 730\u001b[0m syst_weights \u001b[38;5;241m=\u001b[39m \u001b[43mdf\u001b[49m\u001b[43m[\u001b[49m\u001b[43mMultisim\u001b[49m\u001b[43m]\u001b[49m \u001b[38;5;66;03m#An array of length of the number of events, each entry is an array of length Nunivs\u001b[39;00m\n\u001b[1;32m    731\u001b[0m spline_fix_cv  \u001b[38;5;241m=\u001b[39m df[\u001b[38;5;124m\"\u001b[39m\u001b[38;5;124mweight\u001b[39m\u001b[38;5;124m\"\u001b[39m]\u001b[38;5;241m*\u001b[39mNorm\n\u001b[1;32m    732\u001b[0m spline_fix_var \u001b[38;5;241m=\u001b[39m df[\u001b[38;5;124m\"\u001b[39m\u001b[38;5;124mweight\u001b[39m\u001b[38;5;124m\"\u001b[39m]\u001b[38;5;241m*\u001b[39mNorm\n",
      "File \u001b[0;32m~/Virtual_envs/HNL_ana/lib/python3.11/site-packages/pandas/core/frame.py:3761\u001b[0m, in \u001b[0;36mDataFrame.__getitem__\u001b[0;34m(self, key)\u001b[0m\n\u001b[1;32m   3759\u001b[0m \u001b[38;5;28;01mif\u001b[39;00m \u001b[38;5;28mself\u001b[39m\u001b[38;5;241m.\u001b[39mcolumns\u001b[38;5;241m.\u001b[39mnlevels \u001b[38;5;241m>\u001b[39m \u001b[38;5;241m1\u001b[39m:\n\u001b[1;32m   3760\u001b[0m     \u001b[38;5;28;01mreturn\u001b[39;00m \u001b[38;5;28mself\u001b[39m\u001b[38;5;241m.\u001b[39m_getitem_multilevel(key)\n\u001b[0;32m-> 3761\u001b[0m indexer \u001b[38;5;241m=\u001b[39m \u001b[38;5;28;43mself\u001b[39;49m\u001b[38;5;241;43m.\u001b[39;49m\u001b[43mcolumns\u001b[49m\u001b[38;5;241;43m.\u001b[39;49m\u001b[43mget_loc\u001b[49m\u001b[43m(\u001b[49m\u001b[43mkey\u001b[49m\u001b[43m)\u001b[49m\n\u001b[1;32m   3762\u001b[0m \u001b[38;5;28;01mif\u001b[39;00m is_integer(indexer):\n\u001b[1;32m   3763\u001b[0m     indexer \u001b[38;5;241m=\u001b[39m [indexer]\n",
      "File \u001b[0;32m~/Virtual_envs/HNL_ana/lib/python3.11/site-packages/pandas/core/indexes/base.py:3654\u001b[0m, in \u001b[0;36mIndex.get_loc\u001b[0;34m(self, key)\u001b[0m\n\u001b[1;32m   3652\u001b[0m     \u001b[38;5;28;01mreturn\u001b[39;00m \u001b[38;5;28mself\u001b[39m\u001b[38;5;241m.\u001b[39m_engine\u001b[38;5;241m.\u001b[39mget_loc(casted_key)\n\u001b[1;32m   3653\u001b[0m \u001b[38;5;28;01mexcept\u001b[39;00m \u001b[38;5;167;01mKeyError\u001b[39;00m \u001b[38;5;28;01mas\u001b[39;00m err:\n\u001b[0;32m-> 3654\u001b[0m     \u001b[38;5;28;01mraise\u001b[39;00m \u001b[38;5;167;01mKeyError\u001b[39;00m(key) \u001b[38;5;28;01mfrom\u001b[39;00m \u001b[38;5;21;01merr\u001b[39;00m\n\u001b[1;32m   3655\u001b[0m \u001b[38;5;28;01mexcept\u001b[39;00m \u001b[38;5;167;01mTypeError\u001b[39;00m:\n\u001b[1;32m   3656\u001b[0m     \u001b[38;5;66;03m# If we have a listlike key, _check_indexing_error will raise\u001b[39;00m\n\u001b[1;32m   3657\u001b[0m     \u001b[38;5;66;03m#  InvalidIndexError. Otherwise we fall through and re-raise\u001b[39;00m\n\u001b[1;32m   3658\u001b[0m     \u001b[38;5;66;03m#  the TypeError.\u001b[39;00m\n\u001b[1;32m   3659\u001b[0m     \u001b[38;5;28mself\u001b[39m\u001b[38;5;241m.\u001b[39m_check_indexing_error(key)\n",
      "\u001b[0;31mKeyError\u001b[0m: 'weightsPPFX'"
     ]
    }
   ],
   "source": [
    "results_dict_ppfx=Functions.All_reweight_err(samples_dict[\"overlay\"],\"weightsPPFX\",variable,BINS,xlims,Norm)\n",
    "\n",
    "print(f\"Calculated ppfx uncertainty\")"
   ]
  },
  {
   "cell_type": "code",
   "execution_count": 13,
   "id": "c7154fb3-e994-4ecc-b890-317da52bd5c0",
   "metadata": {},
   "outputs": [
    {
     "ename": "KeyError",
     "evalue": "'weightsGenie'",
     "output_type": "error",
     "traceback": [
      "\u001b[0;31m---------------------------------------------------------------------------\u001b[0m",
      "\u001b[0;31mKeyError\u001b[0m                                  Traceback (most recent call last)",
      "File \u001b[0;32m~/Virtual_envs/HNL_ana/lib/python3.11/site-packages/pandas/core/indexes/base.py:3652\u001b[0m, in \u001b[0;36mIndex.get_loc\u001b[0;34m(self, key)\u001b[0m\n\u001b[1;32m   3651\u001b[0m \u001b[38;5;28;01mtry\u001b[39;00m:\n\u001b[0;32m-> 3652\u001b[0m     \u001b[38;5;28;01mreturn\u001b[39;00m \u001b[38;5;28;43mself\u001b[39;49m\u001b[38;5;241;43m.\u001b[39;49m\u001b[43m_engine\u001b[49m\u001b[38;5;241;43m.\u001b[39;49m\u001b[43mget_loc\u001b[49m\u001b[43m(\u001b[49m\u001b[43mcasted_key\u001b[49m\u001b[43m)\u001b[49m\n\u001b[1;32m   3653\u001b[0m \u001b[38;5;28;01mexcept\u001b[39;00m \u001b[38;5;167;01mKeyError\u001b[39;00m \u001b[38;5;28;01mas\u001b[39;00m err:\n",
      "File \u001b[0;32m~/Virtual_envs/HNL_ana/lib/python3.11/site-packages/pandas/_libs/index.pyx:147\u001b[0m, in \u001b[0;36mpandas._libs.index.IndexEngine.get_loc\u001b[0;34m()\u001b[0m\n",
      "File \u001b[0;32m~/Virtual_envs/HNL_ana/lib/python3.11/site-packages/pandas/_libs/index.pyx:176\u001b[0m, in \u001b[0;36mpandas._libs.index.IndexEngine.get_loc\u001b[0;34m()\u001b[0m\n",
      "File \u001b[0;32mpandas/_libs/hashtable_class_helper.pxi:7080\u001b[0m, in \u001b[0;36mpandas._libs.hashtable.PyObjectHashTable.get_item\u001b[0;34m()\u001b[0m\n",
      "File \u001b[0;32mpandas/_libs/hashtable_class_helper.pxi:7088\u001b[0m, in \u001b[0;36mpandas._libs.hashtable.PyObjectHashTable.get_item\u001b[0;34m()\u001b[0m\n",
      "\u001b[0;31mKeyError\u001b[0m: 'weightsGenie'",
      "\nThe above exception was the direct cause of the following exception:\n",
      "\u001b[0;31mKeyError\u001b[0m                                  Traceback (most recent call last)",
      "Cell \u001b[0;32mIn[13], line 1\u001b[0m\n\u001b[0;32m----> 1\u001b[0m results_dict_genie\u001b[38;5;241m=\u001b[39m\u001b[43mFunctions\u001b[49m\u001b[38;5;241;43m.\u001b[39;49m\u001b[43mAll_reweight_err\u001b[49m\u001b[43m(\u001b[49m\u001b[43msamples_dict\u001b[49m\u001b[43m[\u001b[49m\u001b[38;5;124;43m\"\u001b[39;49m\u001b[38;5;124;43moverlay\u001b[39;49m\u001b[38;5;124;43m\"\u001b[39;49m\u001b[43m]\u001b[49m\u001b[43m,\u001b[49m\u001b[38;5;124;43m\"\u001b[39;49m\u001b[38;5;124;43mweightsGenie\u001b[39;49m\u001b[38;5;124;43m\"\u001b[39;49m\u001b[43m,\u001b[49m\u001b[43mvariable\u001b[49m\u001b[43m,\u001b[49m\u001b[43mBINS\u001b[49m\u001b[43m,\u001b[49m\u001b[43mxlims\u001b[49m\u001b[43m,\u001b[49m\u001b[43mNorm\u001b[49m\u001b[43m)\u001b[49m\n\u001b[1;32m      3\u001b[0m \u001b[38;5;28mprint\u001b[39m(\u001b[38;5;124mf\u001b[39m\u001b[38;5;124m\"\u001b[39m\u001b[38;5;124mCalculated genie uncertainty\u001b[39m\u001b[38;5;124m\"\u001b[39m)\n",
      "File \u001b[0;32m~/HNL/ee_decays/Utilities/Functions.py:730\u001b[0m, in \u001b[0;36mAll_reweight_err\u001b[0;34m(df, Multisim, var_name, BINS, x_range, Norm)\u001b[0m\n\u001b[1;32m    727\u001b[0m n_cv_tot\u001b[38;5;241m.\u001b[39mfill(\u001b[38;5;241m0\u001b[39m)\n\u001b[1;32m    729\u001b[0m variable \u001b[38;5;241m=\u001b[39m df[var_name] \u001b[38;5;66;03m#The BDT output score\u001b[39;00m\n\u001b[0;32m--> 730\u001b[0m syst_weights \u001b[38;5;241m=\u001b[39m \u001b[43mdf\u001b[49m\u001b[43m[\u001b[49m\u001b[43mMultisim\u001b[49m\u001b[43m]\u001b[49m \u001b[38;5;66;03m#An array of length of the number of events, each entry is an array of length Nunivs\u001b[39;00m\n\u001b[1;32m    731\u001b[0m spline_fix_cv  \u001b[38;5;241m=\u001b[39m df[\u001b[38;5;124m\"\u001b[39m\u001b[38;5;124mweight\u001b[39m\u001b[38;5;124m\"\u001b[39m]\u001b[38;5;241m*\u001b[39mNorm\n\u001b[1;32m    732\u001b[0m spline_fix_var \u001b[38;5;241m=\u001b[39m df[\u001b[38;5;124m\"\u001b[39m\u001b[38;5;124mweight\u001b[39m\u001b[38;5;124m\"\u001b[39m]\u001b[38;5;241m*\u001b[39mNorm\n",
      "File \u001b[0;32m~/Virtual_envs/HNL_ana/lib/python3.11/site-packages/pandas/core/frame.py:3761\u001b[0m, in \u001b[0;36mDataFrame.__getitem__\u001b[0;34m(self, key)\u001b[0m\n\u001b[1;32m   3759\u001b[0m \u001b[38;5;28;01mif\u001b[39;00m \u001b[38;5;28mself\u001b[39m\u001b[38;5;241m.\u001b[39mcolumns\u001b[38;5;241m.\u001b[39mnlevels \u001b[38;5;241m>\u001b[39m \u001b[38;5;241m1\u001b[39m:\n\u001b[1;32m   3760\u001b[0m     \u001b[38;5;28;01mreturn\u001b[39;00m \u001b[38;5;28mself\u001b[39m\u001b[38;5;241m.\u001b[39m_getitem_multilevel(key)\n\u001b[0;32m-> 3761\u001b[0m indexer \u001b[38;5;241m=\u001b[39m \u001b[38;5;28;43mself\u001b[39;49m\u001b[38;5;241;43m.\u001b[39;49m\u001b[43mcolumns\u001b[49m\u001b[38;5;241;43m.\u001b[39;49m\u001b[43mget_loc\u001b[49m\u001b[43m(\u001b[49m\u001b[43mkey\u001b[49m\u001b[43m)\u001b[49m\n\u001b[1;32m   3762\u001b[0m \u001b[38;5;28;01mif\u001b[39;00m is_integer(indexer):\n\u001b[1;32m   3763\u001b[0m     indexer \u001b[38;5;241m=\u001b[39m [indexer]\n",
      "File \u001b[0;32m~/Virtual_envs/HNL_ana/lib/python3.11/site-packages/pandas/core/indexes/base.py:3654\u001b[0m, in \u001b[0;36mIndex.get_loc\u001b[0;34m(self, key)\u001b[0m\n\u001b[1;32m   3652\u001b[0m     \u001b[38;5;28;01mreturn\u001b[39;00m \u001b[38;5;28mself\u001b[39m\u001b[38;5;241m.\u001b[39m_engine\u001b[38;5;241m.\u001b[39mget_loc(casted_key)\n\u001b[1;32m   3653\u001b[0m \u001b[38;5;28;01mexcept\u001b[39;00m \u001b[38;5;167;01mKeyError\u001b[39;00m \u001b[38;5;28;01mas\u001b[39;00m err:\n\u001b[0;32m-> 3654\u001b[0m     \u001b[38;5;28;01mraise\u001b[39;00m \u001b[38;5;167;01mKeyError\u001b[39;00m(key) \u001b[38;5;28;01mfrom\u001b[39;00m \u001b[38;5;21;01merr\u001b[39;00m\n\u001b[1;32m   3655\u001b[0m \u001b[38;5;28;01mexcept\u001b[39;00m \u001b[38;5;167;01mTypeError\u001b[39;00m:\n\u001b[1;32m   3656\u001b[0m     \u001b[38;5;66;03m# If we have a listlike key, _check_indexing_error will raise\u001b[39;00m\n\u001b[1;32m   3657\u001b[0m     \u001b[38;5;66;03m#  InvalidIndexError. Otherwise we fall through and re-raise\u001b[39;00m\n\u001b[1;32m   3658\u001b[0m     \u001b[38;5;66;03m#  the TypeError.\u001b[39;00m\n\u001b[1;32m   3659\u001b[0m     \u001b[38;5;28mself\u001b[39m\u001b[38;5;241m.\u001b[39m_check_indexing_error(key)\n",
      "\u001b[0;31mKeyError\u001b[0m: 'weightsGenie'"
     ]
    }
   ],
   "source": [
    "results_dict_genie=Functions.All_reweight_err(samples_dict[\"overlay\"],\"weightsGenie\",variable,BINS,xlims,Norm)\n",
    "\n",
    "print(f\"Calculated genie uncertainty\")"
   ]
  },
  {
   "cell_type": "code",
   "execution_count": 9,
   "id": "651c4aff-52b8-4786-8533-be67d6e0efb5",
   "metadata": {},
   "outputs": [
    {
     "name": "stdout",
     "output_type": "stream",
     "text": [
      "[13214.35622166]\n",
      "[166.38098]\n"
     ]
    }
   ],
   "source": [
    "cov_ppfx = results_dict_ppfx[\"weightsPPFX\"][0]\n",
    "cov_genie = results_dict_genie[\"weightsGenie\"][0]\n",
    "var_Overlay = samples_dict[\"overlay\"][variable]\n",
    "# print(cov_PPFX)\n",
    "overlaybkg=np.histogram(var_Overlay,bins=BINS,range=xlims)[0]\n",
    "\n",
    "weight_Overlay=samples_dict[\"overlay\"][\"weight\"]*Norm\n",
    "#weighted hists\n",
    "overlaybkg_weighted=np.histogram(var_Overlay,bins=BINS,range=xlims,weights=weight_Overlay)[0]\n",
    "\n",
    "mc_w=np.histogram(var_Overlay,bins=BINS,range=xlims,weights=weight_Overlay**2)\n",
    "\n",
    "mc_err=np.sqrt(mc_w[0])\n",
    "\n",
    "# stat_bkgerr=np.sqrt(offbkg_stat**2+overlaybkg_stat**2+dirtbkg_stat**2) #Adding stat errors in quadrature, my way\n",
    "stat_bkgerr=mc_err #Adding stat errors in quadrature\n",
    "\n",
    "cov_mc_stat   = np.zeros([len(stat_bkgerr), len(stat_bkgerr)])\n",
    "cov_mc_stat[np.diag_indices_from(cov_mc_stat)]=stat_bkgerr**2 #Don't actually need here\n",
    "\n",
    "tot_ppfx_err=np.sqrt(np.diag(cov_ppfx))\n",
    "tot_genie_err=np.sqrt(np.diag(cov_genie))\n",
    "tot_mcerr = np.sqrt(np.diag(cov_ppfx+cov_genie))\n",
    "\n",
    "print(tot_mcerr)\n",
    "print(stat_bkgerr)"
   ]
  },
  {
   "cell_type": "code",
   "execution_count": 10,
   "id": "2465edb4-ee11-48d0-8a66-8a7895db9b4e",
   "metadata": {},
   "outputs": [
    {
     "data": {
      "text/plain": [
       "<matplotlib.collections.PolyCollection at 0x7f3968de5b10>"
      ]
     },
     "execution_count": 10,
     "metadata": {},
     "output_type": "execute_result"
    },
    {
     "data": {
      "image/png": "[encoded data removed]",
      "text/plain": [
       "<Figure size 1080x360 with 1 Axes>"
      ]
     },
     "metadata": {
      "needs_background": "light"
     },
     "output_type": "display_data"
    }
   ],
   "source": [
    "varis=[var_Overlay]\n",
    "weights=[weight_Overlay]\n",
    "colors=['peru']\n",
    "labels=[fr\"In-Cryo $\\nu$\"]\n",
    "\n",
    "x,y=np.histogram(var_Overlay,bins=BINS,range=xlims,density=False)\n",
    "x1,y=np.histogram(var_Overlay,bins=BINS,range=xlims)\n",
    "\n",
    "plot=plt.hist(varis,\n",
    "          label=labels,\n",
    "          range=xlims,bins=BINS,\n",
    "          histtype=\"stepfilled\",\n",
    "          stacked=True,density=False,linewidth=2,edgecolor=\"black\",\n",
    "          weights=weights, color=colors)\n",
    "\n",
    "upvals=np.append((plot[0]+tot_mcerr),(plot[0]+tot_mcerr)[-1])\n",
    "lowvals=np.append((plot[0]-tot_mcerr),(plot[0]-tot_mcerr)[-1])\n",
    "\n",
    "plt.fill_between(y, lowvals, upvals,step=\"post\",color=\"grey\",alpha=0.3,zorder=2)"
   ]
  },
  {
   "cell_type": "markdown",
   "id": "2a1632a0-70c0-40de-9ea9-9e6c3b98a5dc",
   "metadata": {},
   "source": [
    "## Check fraction is flat across distribution"
   ]
  },
  {
   "cell_type": "code",
   "execution_count": 11,
   "id": "dd6185ef-0158-4754-a6ea-5063e5332121",
   "metadata": {},
   "outputs": [
    {
     "name": "stdout",
     "output_type": "stream",
     "text": [
      "[0.1728543]\n"
     ]
    },
    {
     "data": {
      "image/png": "[encoded data removed]",
      "text/plain": [
       "<Figure size 1080x360 with 1 Axes>"
      ]
     },
     "metadata": {
      "needs_background": "light"
     },
     "output_type": "display_data"
    }
   ],
   "source": [
    "frac = np.divide(tot_mcerr, plot[0])\n",
    "frac_ppfx = np.divide(tot_ppfx_err, plot[0])\n",
    "frac_genie = np.divide(tot_genie_err, plot[0])\n",
    "print(frac)\n",
    "\n",
    "bins_cent=(BINS[:-1]+BINS[1:])/2\n",
    "plt.hist(bins_cent,weights=np.nan_to_num(frac_ppfx),bins=BINS,range=xlims,density=False, label=\"ppfx\", histtype=\"step\", lw=4)\n",
    "plt.hist(bins_cent,weights=np.nan_to_num(frac_genie),bins=BINS,range=xlims,density=False, label=\"genie\",  histtype=\"step\", lw=4)\n",
    "plt.legend()\n",
    "\n",
    "plt.xlabel(variable)\n",
    "plt.ylabel(f\"Fractional error\")\n",
    "plt.savefig(\"plots/Data_MC_comparison/Overlay_sys_unc/\" + Params[\"Run\"] + f\"_{variable}_ppfx_and_genie_frac_err.png\")"
   ]
  },
  {
   "cell_type": "code",
   "execution_count": 12,
   "id": "612c5228-ca96-441b-8530-2eccd1c44cb6",
   "metadata": {},
   "outputs": [
    {
     "name": "stdout",
     "output_type": "stream",
     "text": [
      "run3\n",
      "mean ppfx is 0.11114184119926775\n",
      "mean genie is 0.13238618067476998\n"
     ]
    }
   ],
   "source": [
    "#Calculate average\n",
    "length = len(frac)\n",
    "total = sum(np.nan_to_num(frac))\n",
    "total_ppfx = sum(np.nan_to_num(frac_ppfx))\n",
    "total_genie = sum(np.nan_to_num(frac_genie))\n",
    "\n",
    "mean = total/length\n",
    "mean_ppfx = total_ppfx/length \n",
    "mean_genie = total_genie/length \n",
    "\n",
    "print(Params[\"Run\"])\n",
    "\n",
    "print(f\"mean ppfx is {mean_ppfx}\")\n",
    "print(f\"mean genie is {mean_genie}\")"
   ]
  },
  {
   "cell_type": "code",
   "execution_count": null,
   "id": "886df5b1-f6ce-4c82-8c9b-e7b6649daae9",
   "metadata": {},
   "outputs": [],
   "source": []
  }
 ],
 "metadata": {
  "kernelspec": {
   "display_name": "Python 3 (ipykernel)",
   "language": "python",
   "name": "python3"
  },
  "language_info": {
   "codemirror_mode": {
    "name": "ipython",
    "version": 3
   },
   "file_extension": ".py",
   "mimetype": "text/x-python",
   "name": "python",
   "nbconvert_exporter": "python",
   "pygments_lexer": "ipython3",
   "version": "3.11.3"
  }
 },
 "nbformat": 4,
 "nbformat_minor": 5
}
