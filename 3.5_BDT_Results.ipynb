{
 "cells": [
  {
   "cell_type": "code",
   "execution_count": 1,
   "id": "8ab81f70",
   "metadata": {},
   "outputs": [
    {
     "name": "stdout",
     "output_type": "stream",
     "text": [
      "Welcome to JupyROOT 6.24/06\n",
      "Success\n"
     ]
    }
   ],
   "source": [
    "import os,sys,string, time\n",
    "import ROOT\n",
    "from math import *\n",
    "from ROOT import gPad, TTree, TObject, TFile, gDirectory, TH1D, TH2D, TH3D, TCanvas, gROOT, TGaxis, gStyle, TColor, TLegend, THStack, TChain, TLatex, TText, TCollection, kRed, kBlue\n",
    "from array import array\n",
    "import matplotlib.pyplot as plt\n",
    "import numpy as np\n",
    "import uproot\n",
    "import pandas as pd\n",
    "from root_pandas import read_root\n",
    "from platform import python_version\n",
    "import scipy\n",
    "from scipy import stats\n",
    "import uproot3\n",
    "import math\n",
    "from matplotlib.patches import Rectangle\n",
    "import xgboost\n",
    "from xgboost import XGBClassifier\n",
    "import joblib\n",
    "import seaborn as sns\n",
    "import pickle\n",
    "from importlib import reload\n",
    "\n",
    "import Utilities.Plotter as PT\n",
    "import Utilities.Constants as Constants\n",
    "import Utilities.Variables_list as Variables\n",
    "import Utilities.Functions as Functions\n",
    "\n",
    "print ('Success')\n"
   ]
  },
  {
   "cell_type": "markdown",
   "id": "775a3504-392d-4b23-a225-0db439fcb0f5",
   "metadata": {},
   "source": [
    "## Reading in files"
   ]
  },
  {
   "cell_type": "code",
   "execution_count": 2,
   "id": "de87920a-3a93-4217-93ab-1963f9066403",
   "metadata": {},
   "outputs": [
    {
     "name": "stdout",
     "output_type": "stream",
     "text": [
      "Loading these run1 samples: \n",
      "['overlay', 'dirtoverlay', 'beamoff', '150_pi0']\n"
     ]
    }
   ],
   "source": [
    "Params = {\"Run\":\"run1\", #The run number, so far either \"run1\" or \"run3\"\n",
    "          \"Load_standard\":True, #bkgs\n",
    "          \"Load_lepton_signal\":False,\n",
    "          \"Load_pi0_signal\":True,\n",
    "          \"Load_DetVars\":False, #This is for overlay\n",
    "          \"Only_keep_common_DetVar_evs\":True,\n",
    "          \"Load_Signal_DetVars\":False, #Don't do here, but in seperate script\n",
    "          \"Load_data\":False,\n",
    "          \"FLATTEN\":True, #Have one row per reconstructed object in the analysis dataframe\n",
    "          \"only_presel\":False, #Create small files containing only variables necessary for pre-selection, for making pre-selection plots\n",
    "          \"EXT_in_training\":False,\n",
    "          \"Use_logit\":True,\n",
    "          \"nbins\":5} \n",
    "\n",
    "feature_names = Variables.First_pass_vars_for_BDT #All variables\n",
    "feature_names_MC = feature_names + [\"weight\"]\n",
    "loc_pkls = \"pkl_files/\"+Params[\"Run\"]+\"/current_files/my_vars/\"\n",
    "\n",
    "samples = Functions.create_test_samples_list(Params)\n",
    "\n",
    "pi0_sample_strings = [] #Unfortunately need to make, to discriminate lepton final states from pi0 final states for signal\n",
    "for pi0_point in Constants.HNL_mass_pi0_samples:\n",
    "    pi0_sample_strings += [str(pi0_point)+\"_pi0\"]"
   ]
  },
  {
   "cell_type": "code",
   "execution_count": 4,
   "id": "f4eb5e4d-8063-408a-b273-0db95562cb85",
   "metadata": {},
   "outputs": [],
   "source": [
    "sample_test_dict = {}\n",
    "for sample in samples:\n",
    "    if sample in Constants.Detector_variations: #Reading in an overlay DetVar sample\n",
    "        loc=loc_pkls+\"DetVars/\"+\"Preselected_overlay_\"+Params[\"Run\"]+\"_my_vars\"+f\"_{sample}_flattened_reduced_evs.pkl\"\n",
    "        sample_test_dict[sample] = pd.read_pickle(loc)\n",
    "    elif Params[\"Load_Signal_DetVars\"] == True:\n",
    "        loc=loc_pkls+\"Signal_DetVars/\"+\"Preselected_\"+Params[\"Run\"]+f\"_{sample}_reduced_evs.pkl\"\n",
    "        sample_test_dict[sample] = pd.read_pickle(loc)\n",
    "    #elif sample in Constants.Signal_DetVars: #For signal DetVar samples, now doing in another script\n",
    "    elif Params[\"Load_pi0_signal\"] == True:\n",
    "        if sample == 'overlay':\n",
    "            sample_test_dict[sample] = pd.read_pickle(loc_pkls+\"BDT_Test_dfs/pi0_selection/Test_overlay_\"+Params[\"Run\"]+\".pkl\")\n",
    "        elif sample in pi0_sample_strings:\n",
    "            sample_test_dict[sample] = pd.read_pickle(loc_pkls+f\"BDT_Test_dfs/pi0_selection/Test_signal_{sample}_\"+Params[\"Run\"]+\".pkl\")\n",
    "        elif (sample == 'beamoff') and (Params[\"EXT_in_training\"] == True): #EXT only if extra EXT has been added\n",
    "            sample_test_dict[sample] = pd.read_pickle(loc_pkls+\"BDT_Test_dfs/pi0_selection/Test_beamoff_\"+Params[\"Run\"]+\".pkl\")\n",
    "        else: \n",
    "            sample_test_dict[sample] = pd.read_pickle(loc_pkls+f\"pi0_selection/Preselected_\"+Params[\"Run\"]+f\"_{sample}.pkl\")\n",
    "    else: #Standard sample types\n",
    "        if sample == 'overlay':\n",
    "            sample_test_dict[sample] = pd.read_pickle(loc_pkls+\"BDT_Test_dfs/Test_overlay_\"+Params[\"Run\"]+\"_my_vars_flattened.pkl\")\n",
    "        elif sample in Constants.HNL_mass_samples:\n",
    "            sample_test_dict[sample] = pd.read_pickle(loc_pkls+f\"BDT_Test_dfs/Test_signal_{sample}_\"+Params[\"Run\"]+\"_my_vars_flattened.pkl\")\n",
    "        elif (sample == 'beamoff') and (Params[\"EXT_in_training\"] == True): #EXT only if extra EXT has been added\n",
    "            sample_test_dict[sample] = pd.read_pickle(loc_pkls+\"BDT_Test_dfs/Test_beamoff_\"+Params[\"Run\"]+\"_my_vars_flattened.pkl\")\n",
    "        else: \n",
    "            sample_test_dict[sample] = pd.read_pickle(loc_pkls+f\"Preselected_{sample}_\"+Params[\"Run\"]+\"_my_vars_flattened.pkl\")\n"
   ]
  },
  {
   "cell_type": "code",
   "execution_count": 5,
   "id": "d492c66c-a88d-4a48-89af-94e21859745e",
   "metadata": {},
   "outputs": [],
   "source": [
    "bdt_vars = feature_names\n",
    "xgb_test_dict = {}\n",
    "for sample in sample_test_dict:\n",
    "    xgb_test_dict[sample] = xgboost.DMatrix(sample_test_dict[sample][bdt_vars])\n",
    "    # print(\"Done \" + str(sample))\n",
    "    \n",
    "if Params[\"Load_pi0_signal\"] == False:\n",
    "    for HNL_mass in Constants.HNL_mass_samples:\n",
    "        bdt = xgboost.Booster()\n",
    "        bdt.load_model(f\"bdts/\"+Params[\"Run\"]+f\"_{HNL_mass}_MeV_My_variables_flattened_highest_E_1.json\")\n",
    "        for sample in xgb_test_dict:\n",
    "            results = bdt.predict(xgb_test_dict[sample])\n",
    "            sample_test_dict[sample][f\"BDT_output_{HNL_mass}MeV\"] = results\n",
    "            \n",
    "if Params[\"Load_pi0_signal\"] == True:\n",
    "    for HNL_mass in Constants.HNL_mass_pi0_samples:\n",
    "        bdt = xgboost.Booster()\n",
    "        bdt.load_model(f\"bdts/pi0_selection/\"+Params[\"Run\"]+f\"_{HNL_mass}_MeV_pi0.json\")\n",
    "        for sample in xgb_test_dict:\n",
    "            results = bdt.predict(xgb_test_dict[sample])\n",
    "            sample_test_dict[sample][f\"BDT_output_{HNL_mass}MeV\"] = results"
   ]
  },
  {
   "cell_type": "markdown",
   "id": "533ebca0-be3e-4a28-97c9-86fb959899cd",
   "metadata": {},
   "source": [
    "## Saving BDT output for reweighting systematics plots"
   ]
  },
  {
   "cell_type": "code",
   "execution_count": 14,
   "id": "ee823212-6e51-4aaf-bc9d-dcb8b03a66c4",
   "metadata": {},
   "outputs": [
    {
     "name": "stdin",
     "output_type": "stream",
     "text": [
      "Do you want to save the new BDT scores to .pkl files? y/n  n\n"
     ]
    }
   ],
   "source": [
    "pkl_results_loc = \"pkl_files/\"+Params[\"Run\"]+\"/current_files/Results/\"\n",
    "\n",
    "# print(sample_test_dict['overlay'].keys())\n",
    "\n",
    "print_vals = input(\"Do you want to save the new BDT scores to .pkl files? y/n \")\n",
    "if print_vals == \"y\":\n",
    "    \n",
    "    columns = Variables.event_vars + Variables.weight_related + [\"weight\"]\n",
    "    for HNL_mass in Constants.HNL_mass_samples:\n",
    "        columns.append(f'BDT_output_{HNL_mass}MeV')\n",
    "    print(columns)\n",
    "    \n",
    "    overlay_to_save = sample_test_dict['overlay'][columns].copy()\n",
    "\n",
    "    #df2 = overlay_merged_to_save.loc[:,~overlay_merged_to_save.columns.duplicated()] #Getting rid of duplicate \"weight\" column\n",
    "    #df2.to_pickle(pkl_results_loc + \"overlay_results.pkl\")\n",
    "    overlay_to_save.to_pickle(pkl_results_loc + \"overlay_results.pkl\")\n",
    "    \n",
    "    print(overlay_to_save.keys())"
   ]
  },
  {
   "cell_type": "markdown",
   "id": "0e9fbe06-875c-4ef8-8d36-638646360096",
   "metadata": {},
   "source": [
    "## Saving only high BDT Score events for variable study"
   ]
  },
  {
   "cell_type": "code",
   "execution_count": 8,
   "id": "695497be-be6d-45c3-9125-351686a4dcb5",
   "metadata": {},
   "outputs": [
    {
     "name": "stdout",
     "output_type": "stream",
     "text": [
      "{20: 0.599705304518664, 50: 0.5728995057660626, 100: 0.46100065545116886, 150: 0.47742831630122035, 180: 0.31082020389249304, 200: 0.22048054919908466}\n"
     ]
    }
   ],
   "source": [
    "cutoff = 0.95\n",
    "signal_like = {}\n",
    "frac_retained = {}\n",
    "pkl_variable_tests_loc = \"pkl_files/\"+Params[\"Run\"]+\"/current_files/Variable_tests/\"\n",
    "for HNL_mass in Constants.HNL_mass_samples:\n",
    "    signal_like[HNL_mass] = sample_test_dict[HNL_mass].query(f\"BDT_output_{HNL_mass}MeV > {cutoff}\")\n",
    "    frac_retained[HNL_mass] = len(signal_like[HNL_mass])/len(sample_test_dict[HNL_mass])\n",
    "    \n",
    "    signal_like[HNL_mass].to_pickle(pkl_variable_tests_loc + f\"signal_like_{HNL_mass}_MeV.pkl\")\n",
    "    \n",
    "print(frac_retained)"
   ]
  },
  {
   "cell_type": "markdown",
   "id": "306655e8-a2bf-47ce-ab6c-6044b43baa4d",
   "metadata": {},
   "source": [
    "## Plotting BDT outputs"
   ]
  },
  {
   "cell_type": "code",
   "execution_count": 9,
   "id": "912923d0-818e-4422-b043-a1fe0644e27e",
   "metadata": {},
   "outputs": [
    {
     "name": "stdout",
     "output_type": "stream",
     "text": [
      "Creating the sample and normalisation dictionaries\n",
      "Adding signal samples to sample plot dictionary\n"
     ]
    }
   ],
   "source": [
    "#Needs to be rewritten, perhaps made into a function\n",
    "train_vs_test_fraction = 0.7 #This was set in 3_BDT_training, need to change if I have changed this there.\n",
    "SF_test = 1.0/(1-train_vs_test_fraction)\n",
    "    \n",
    "if Params[\"Run\"] == \"run1\":\n",
    "    overlay_scale = Constants.SF_overlay_run1*SF_test\n",
    "    EXT_scale_list = np.ones(len(sample_test_dict['beamoff'][f'BDT_output_{HNL_mass}MeV']))*Constants.SF_EXT_run1\n",
    "    dirt_scale = Constants.SF_dirt_run1\n",
    "        \n",
    "elif Params[\"Run\"] == \"run3\":\n",
    "    overlay_scale = Constants.SF_overlay_run3*SF_test\n",
    "    EXT_scale_list = np.ones(len(sample_test_dict['beamoff'][f'BDT_output_{HNL_mass}MeV']))*Constants.SF_EXT_run3\n",
    "    dirt_scale = Constants.SF_dirt_run3\n",
    "\n",
    "print(\"Creating the sample and normalisation dictionaries\")    \n",
    "samples_plot={'overlay_test':sample_test_dict['overlay'],\n",
    "         'dirtoverlay':sample_test_dict['dirtoverlay'],\n",
    "         'beamoff':sample_test_dict['beamoff']}\n",
    "\n",
    "sample_norms={'overlay_test':np.array(sample_test_dict['overlay'][\"weight\"]*overlay_scale),\n",
    "         'dirtoverlay':np.array(sample_test_dict['dirtoverlay'][\"weight\"]*dirt_scale),\n",
    "         'beamoff':EXT_scale_list}\n",
    "\n",
    "print(\"Adding signal samples to sample plot dictionary\")\n",
    "if Params[\"Load_pi0_signal\"] == False:\n",
    "    for HNL_mass in Constants.HNL_mass_samples:\n",
    "        signal_scale_list = np.ones(len(sample_test_dict[HNL_mass][f'BDT_output_{HNL_mass}MeV']))*SF_test\n",
    "        samples_plot[HNL_mass]=sample_test_dict[HNL_mass]\n",
    "        sample_norms[HNL_mass]=signal_scale_list\n",
    "if Params[\"Load_pi0_signal\"] == True:\n",
    "    for HNL_mass in Constants.HNL_mass_pi0_samples:\n",
    "        signal_scale_list = np.ones(len(sample_test_dict[str(HNL_mass)+\"_pi0\"][f'BDT_output_{HNL_mass}MeV']))*SF_test\n",
    "        samples_plot[HNL_mass]=sample_test_dict[str(HNL_mass)+\"_pi0\"]\n",
    "        sample_norms[HNL_mass]=signal_scale_list"
   ]
  },
  {
   "cell_type": "code",
   "execution_count": 10,
   "id": "56b235c8-35d8-486b-a77f-94c0be052bfb",
   "metadata": {},
   "outputs": [
    {
     "data": {
      "image/png": "[encoded data removed]",
      "text/plain": [
       "<Figure size 864x576 with 1 Axes>"
      ]
     },
     "metadata": {},
     "output_type": "display_data"
    }
   ],
   "source": [
    "if Params[\"Load_pi0_signal\"] == False:\n",
    "    HNL_masses = Constants.HNL_mass_samples\n",
    "if Params[\"Load_pi0_signal\"] == True:\n",
    "    HNL_masses = Constants.HNL_mass_pi0_samples\n",
    "    \n",
    "PT.Plot_BDT_output(HNL_masses=HNL_masses, samples=samples_plot, sample_norms=sample_norms, colours={}, xlims=[0,5.0],\n",
    "                   bins=Params[\"nbins\"],figsize=[12,8], MergeBins=False, density=False, legloc=\"upper center\",logy=False, savefig=False, \n",
    "                   Run=Params[\"Run\"], logit = Params[\"Use_logit\"], HNL_scale=0.05)"
   ]
  },
  {
   "cell_type": "markdown",
   "id": "182892b1-a7d6-49ef-a240-af6af11c90c0",
   "metadata": {},
   "source": [
    "## Plotting Detector Variations histograms"
   ]
  },
  {
   "cell_type": "code",
   "execution_count": 8,
   "id": "64caa5cc-5ff3-47ae-9997-ef273e668100",
   "metadata": {},
   "outputs": [],
   "source": [
    "if Params[\"Load_DetVars\"] == True:\n",
    "    if Params[\"Use_logit\"] == False:\n",
    "        max_y, bin_edges = np.histogram(sample_test_dict[\"CV\"][f'BDT_output_{HNL_mass}MeV'], weights=sample_test_dict[\"CV\"][\"weight\"], \n",
    "                                    bins=Params[\"nbins\"],range=[0,1.0])\n",
    "    if Params[\"Use_logit\"] == True:\n",
    "        max_y, bin_edges = np.histogram(Functions.logit(sample_test_dict[\"CV\"][f'BDT_output_{HNL_mass}MeV']), \n",
    "                                    weights=sample_test_dict[\"CV\"][\"weight\"], bins=Params[\"nbins\"],range=[-5.0,5.0])\n",
    "    maxium = max(max_y)\n",
    "    max_x = max(bin_edges)\n",
    "    min_x = min(bin_edges)\n",
    "    print(maxium)\n",
    "    print(max_x)\n",
    "    print(min_x)\n",
    "    print(\"Max minus min is \" + str(max_x - min_x))\n",
    "#plt.ylim(0, maxium*1.3)"
   ]
  },
  {
   "cell_type": "code",
   "execution_count": 16,
   "id": "eff31a9b-93ce-48f4-9918-c6be8599eeaf",
   "metadata": {},
   "outputs": [
    {
     "data": {
      "image/png": "[encoded data removed]",
      "text/plain": [
       "<Figure size 1080x360 with 1 Axes>"
      ]
     },
     "metadata": {
      "needs_background": "light"
     },
     "output_type": "display_data"
    }
   ],
   "source": [
    "#Plotting the histograms for detector variations\n",
    "HNL_mass = 200 # - Plot just one\n",
    "if Params[\"Load_DetVars\"] == True:\n",
    "    for DetVar in Constants.Detector_variations:\n",
    "        linewidth = 1\n",
    "        if DetVar == \"CV\":\n",
    "            linewidth = 3\n",
    "        if Params[\"Use_logit\"] == False:\n",
    "            plt.hist(sample_test_dict[DetVar][f'BDT_output_{HNL_mass}MeV'], weights=sample_test_dict[DetVar][\"weight\"], \n",
    "                     bins=Params[\"nbins\"],range=[0,1.0],label=f'{DetVar}',lw=linewidth,histtype=\"step\")\n",
    "        if Params[\"Use_logit\"] == True:\n",
    "            plt.hist(Functions.logit(sample_test_dict[DetVar][f'BDT_output_{HNL_mass}MeV']), weights=sample_test_dict[DetVar][\"weight\"], \n",
    "                     bins=5,range=[0.0,5.0],label=f'{DetVar}',lw=linewidth,histtype=\"step\")\n",
    "            \n",
    "    plt.xlabel(f'BDT_output_{HNL_mass}MeV')\n",
    "    #plt.legend()\n",
    "    #plt.yscale(\"log\")\n",
    "    plt.yscale(\"linear\")\n",
    "    # plt.ylim(1, maxium*1.3)"
   ]
  },
  {
   "cell_type": "code",
   "execution_count": 19,
   "id": "0db5372e-65bd-4bd7-9e19-bd14654b23d8",
   "metadata": {},
   "outputs": [
    {
     "data": {
      "image/png": "[encoded data removed]",
      "text/plain": [
       "<Figure size 1080x360 with 1 Axes>"
      ]
     },
     "metadata": {
      "needs_background": "light"
     },
     "output_type": "display_data"
    }
   ],
   "source": [
    "DetVar_percentages_dict = {}\n",
    "if Params[\"Load_DetVars\"] == True:\n",
    "    if Params[\"Use_logit\"] == False:\n",
    "        cv_hist, cv_bins = np.histogram(sample_test_dict[\"CV\"][f'BDT_output_{HNL_mass}MeV'],\n",
    "        range=[0,1.0],\n",
    "        bins=20,\n",
    "        weights=sample_test_dict[\"CV\"][\"weight\"])\n",
    "    if Params[\"Use_logit\"] == True:\n",
    "        cv_hist, cv_bins = np.histogram(Functions.logit(sample_test_dict[\"CV\"][f'BDT_output_{HNL_mass}MeV']),\n",
    "        range=[0,5.0],\n",
    "        bins=5,\n",
    "        weights=sample_test_dict[\"CV\"][\"weight\"])\n",
    "    bins_cent=(cv_bins[:-1]+cv_bins[1:])/2\n",
    "    for DetVar in Constants.Detector_variations:\n",
    "        if DetVar == \"CV\":\n",
    "            continue\n",
    "        perc_list = []\n",
    "        if Params[\"Use_logit\"] == False:\n",
    "            detvar_hist, bins = np.histogram(sample_test_dict[DetVar][f'BDT_output_{HNL_mass}MeV'],\n",
    "            range=[0,1.0],\n",
    "            bins=20,\n",
    "            weights=sample_test_dict[DetVar][\"weight\"])\n",
    "        if Params[\"Use_logit\"] == True:\n",
    "            detvar_hist, bins = np.histogram(Functions.logit(sample_test_dict[DetVar][f'BDT_output_{HNL_mass}MeV']),\n",
    "            range=[0,5.0],\n",
    "            bins=5,\n",
    "            weights=sample_test_dict[DetVar][\"weight\"])\n",
    "        for i in range(len(detvar_hist)):\n",
    "            frac = detvar_hist[i]/cv_hist[i]\n",
    "            frac_diff = frac - 1.0\n",
    "            perc_list.append(frac_diff*100)\n",
    "        DetVar_percentages_dict[DetVar] = perc_list\n",
    "        plt.hist(bins_cent,weights=DetVar_percentages_dict[DetVar], bins=5,range=[0,5.0],label=f'{DetVar}',\n",
    "                lw=linewidth,histtype=\"step\") #just 1 entry for each bin, then \"weight\" becomes what the percentage is (hacky way, could do something nicer)\n",
    "    #plt.legend(loc='upper left',frameon=True)\n",
    "    plt.ylim([-150,100])\n",
    "    plt.xlabel(f'BDT Score {HNL_mass} MeV', fontsize=30)\n",
    "    plt.ylabel('% Difference', fontsize=30)\n",
    "    #plt.yscale()"
   ]
  },
  {
   "cell_type": "markdown",
   "id": "70862c0a-eb3f-49db-bf68-d323d2ae6190",
   "metadata": {},
   "source": [
    "## Saving output to .root files"
   ]
  },
  {
   "cell_type": "code",
   "execution_count": 17,
   "id": "265d31dc-fc06-4287-81ce-719371104775",
   "metadata": {},
   "outputs": [],
   "source": [
    "def Save_one_hist(hist,name,nbins,xlims):\n",
    "    tData = ROOT.TH1F(name,name,nbins,xlims[0],xlims[1])\n",
    "    for i in range(nbins):\n",
    "        tData.SetBinContent(i+1,hist['hist'][i])\n",
    "        tData.SetBinError(i+1,hist['err'][i])\n",
    "    return tData\n",
    "    \n",
    "def SaveToRoot_new(nbins,xlims,hist_samples,fileName='test.root'): \n",
    "    rFile = ROOT.TFile(f'bdt_output/{fileName}','RECREATE')\n",
    "    for name in hist_samples:\n",
    "        tData = Save_one_hist(hist_samples[name],name,nbins,xlims)\n",
    "        rFile.Write()\n",
    "    #rFile.Write()\n",
    "    rFile.Close()\n",
    "\n",
    "def make_stat_err(hist, SF):\n",
    "    stat_err = []\n",
    "    for i in range(0,len(hist[0])):\n",
    "        error = np.sqrt(hist[0][i])*np.sqrt(SF)\n",
    "        stat_err.append(error)\n",
    "    return stat_err"
   ]
  },
  {
   "cell_type": "code",
   "execution_count": 18,
   "id": "797887d5-1b1f-4c0f-a297-b5146ac5d28a",
   "metadata": {},
   "outputs": [],
   "source": [
    "original_theta = Constants.theta_mu_4\n",
    "\n",
    "SCALE_UP_dict = {20:200,50:50,100:10,150:5,180:5,200:2} #Doing this because the scale factor used in pyhf is bounded\n",
    "\n",
    "new_theta_dict = {}\n",
    "\n",
    "train_vs_test_fraction = 0.7 #This was set in 3_BDT_training, need to change if I have changed this there.\n",
    "SF_test = 1.0/(1-train_vs_test_fraction)\n",
    "\n",
    "nbins = 20\n",
    "\n",
    "for HNL_mass in Constants.HNL_mass_samples:\n",
    "    new_theta_dict[HNL_mass] = original_theta*SCALE_UP_dict[HNL_mass]\n",
    "    SCALE_EVENTS = SCALE_UP_dict[HNL_mass]**4 #The Number of events is proportional to theta^4\n",
    "    \n",
    "    if Params[\"Run\"] == \"run1\":\n",
    "        SF_signal_list = np.ones(len(sample_test_dict[HNL_mass][f'BDT_output_{HNL_mass}MeV']))*Constants.run1_POT_scaling_dict[HNL_mass]*SF_test*SCALE_EVENTS\n",
    "        SF_overlay_list = sample_test_dict['overlay']['weight']*Constants.SF_overlay_run1*SF_test\n",
    "        SF_dirt_list = sample_test_dict['dirtoverlay']['weight']*Constants.SF_dirt_run1\n",
    "        SF_EXT_list = np.ones(len(sample_test_dict['beamoff'][f'BDT_output_{HNL_mass}MeV']))*Constants.SF_EXT_run1\n",
    "    if Params[\"Run\"] == \"run3\":\n",
    "        SF_signal_list = np.ones(len(sample_test_dict[HNL_mass][f'BDT_output_{HNL_mass}MeV']))*Constants.run3_POT_scaling_dict[HNL_mass]*SF_test*SCALE_EVENTS\n",
    "        SF_overlay_list = sample_test_dict['overlay']['weight']*Constants.SF_overlay_run3*SF_test\n",
    "        SF_dirt_list = sample_test_dict['dirtoverlay']['weight']*Constants.SF_dirt_run3\n",
    "        SF_EXT_list = np.ones(len(sample_test_dict['beamoff'][f'BDT_output_{HNL_mass}MeV']))*Constants.SF_EXT_run3\n",
    "    \n",
    "    if Params[\"Use_logit\"] == False:\n",
    "        xlims_standard = (0.0,1.0)\n",
    "        xlims = [0.0,1.0]\n",
    "        signal_bdt_hist = np.histogram(sample_test_dict[HNL_mass][f'BDT_output_{HNL_mass}MeV'], \n",
    "                                   bins=nbins, weights=SF_signal_list, range = xlims_standard)\n",
    "        overlay_bdt_hist = np.histogram(sample_test_dict['overlay'][f'BDT_output_{HNL_mass}MeV'], \n",
    "                                    bins=nbins, weights=SF_overlay_list, range = xlims_standard)\n",
    "        dirt_bdt_hist = np.histogram(sample_test_dict['dirtoverlay'][f'BDT_output_{HNL_mass}MeV'], \n",
    "                                 bins=nbins, weights=SF_dirt_list, range = xlims_standard)\n",
    "        EXT_bdt_hist = np.histogram(sample_test_dict['beamoff'][f'BDT_output_{HNL_mass}MeV'], \n",
    "                                bins=nbins, weights=SF_EXT_list, range = xlims_standard)\n",
    "    if Params[\"Use_logit\"] == True:\n",
    "        xlims_logit = (-5.0,5.0)\n",
    "        xlims = [-5.0,5.0] #This could be changed to [0,1.0] and root would just rescale the axis, could be useful to do this. \n",
    "        signal_bdt_hist = np.histogram(Functions.logit(sample_test_dict[HNL_mass][f'BDT_output_{HNL_mass}MeV']), \n",
    "                                   bins=nbins, weights=SF_signal_list, range = xlims_logit)\n",
    "        overlay_bdt_hist = np.histogram(Functions.logit(sample_test_dict['overlay'][f'BDT_output_{HNL_mass}MeV']), \n",
    "                                    bins=nbins, weights=SF_overlay_list, range = xlims_logit)\n",
    "        dirt_bdt_hist = np.histogram(Functions.logit(sample_test_dict['dirtoverlay'][f'BDT_output_{HNL_mass}MeV']), \n",
    "                                 bins=nbins, weights=SF_dirt_list, range = xlims_logit)\n",
    "        EXT_bdt_hist = np.histogram(Functions.logit(sample_test_dict['beamoff'][f'BDT_output_{HNL_mass}MeV']), \n",
    "                                bins=nbins, weights=SF_EXT_list, range = xlims_logit)\n",
    "    \n",
    "    signal_bdt_err = make_stat_err(signal_bdt_hist, Constants.run1_POT_scaling_dict[HNL_mass]*SF_test*SCALE_EVENTS)\n",
    "    overlay_bdt_err = make_stat_err(overlay_bdt_hist, Constants.SF_overlay_run1*SF_test)\n",
    "    dirt_bdt_err = make_stat_err(dirt_bdt_hist, Constants.SF_dirt_run1)\n",
    "    EXT_bdt_err = make_stat_err(EXT_bdt_hist, Constants.SF_EXT_run1)\n",
    "    \n",
    "    data_h = overlay_bdt_hist[0]+dirt_bdt_hist[0]+EXT_bdt_hist[0]\n",
    "    \n",
    "    bkg_overlay = {'bins': np.array(overlay_bdt_hist[1]), 'hist': np.array(overlay_bdt_hist[0]), 'err': np.array(overlay_bdt_err)}\n",
    "    bkg_dirt = {'bins': np.array(dirt_bdt_hist[1]), 'hist': np.array(dirt_bdt_hist[0]), 'err': np.array(dirt_bdt_err)}\n",
    "    bkg_EXT = {'bins': np.array(EXT_bdt_hist[1]), 'hist': np.array(EXT_bdt_hist[0]), 'err': np.array(EXT_bdt_err)}\n",
    "    sig = {'bins': np.array(signal_bdt_hist[1]), 'hist': np.array(signal_bdt_hist[0]), 'err': np.array(signal_bdt_err)}\n",
    "    data = {'bins': np.array(overlay_bdt_hist[1]), 'hist': np.array(data_h), 'err': np.array(overlay_bdt_err)}\n",
    "    \n",
    "    hist_samples = {\"bkg_overlay\":bkg_overlay,\"bkg_dirt\":bkg_dirt,\"bkg_EXT\":bkg_EXT,\"signal\":sig,\"data\":data}\n",
    "    \n",
    "    if Params[\"Use_logit\"] == False:\n",
    "        save_name = Params[\"Run\"]+f\"_{HNL_mass}MeV_test4.root\"\n",
    "    if Params[\"Use_logit\"] == True:\n",
    "        save_name = Params[\"Run\"]+f\"_{HNL_mass}MeV_logit_test5.root\"\n",
    "    \n",
    "    SaveToRoot_new(nbins,xlims,hist_samples,fileName=save_name)\n",
    "\n",
    "with open('bdt_output/new_theta_dict.pkl', 'wb') as handle: #Saving the scaled thetas dictionary\n",
    "    pickle.dump(new_theta_dict, handle, protocol=pickle.HIGHEST_PROTOCOL)"
   ]
  },
  {
   "cell_type": "markdown",
   "id": "7275803f-0b98-43c4-9871-b8f16419b88f",
   "metadata": {},
   "source": [
    "# End of code"
   ]
  }
 ],
 "metadata": {
  "kernelspec": {
   "display_name": "Python 3 (ipykernel)",
   "language": "python",
   "name": "python3"
  },
  "language_info": {
   "codemirror_mode": {
    "name": "ipython",
    "version": 3
   },
   "file_extension": ".py",
   "mimetype": "text/x-python",
   "name": "python",
   "nbconvert_exporter": "python",
   "pygments_lexer": "ipython3",
   "version": "3.7.12"
  }
 },
 "nbformat": 4,
 "nbformat_minor": 5
}
